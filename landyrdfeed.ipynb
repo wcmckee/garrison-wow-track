{
 "cells": [
  {
   "cell_type": "code",
   "execution_count": 14,
   "metadata": {
    "collapsed": true
   },
   "outputs": [],
   "source": [
    "fecon = 'http://lanyrd.com/topics/web-development/feed/'"
   ]
  },
  {
   "cell_type": "code",
   "execution_count": null,
   "metadata": {
    "collapsed": true
   },
   "outputs": [],
   "source": []
  },
  {
   "cell_type": "markdown",
   "metadata": {},
   "source": [
    "Script to loop at upcoming conferences and add their hashtag to script that then tweets/rt/fav the hashtag"
   ]
  },
  {
   "cell_type": "code",
   "execution_count": null,
   "metadata": {
    "collapsed": true
   },
   "outputs": [],
   "source": []
  },
  {
   "cell_type": "code",
   "execution_count": 15,
   "metadata": {
    "collapsed": true
   },
   "outputs": [],
   "source": [
    "from TwitterFollowBot import TwitterBot"
   ]
  },
  {
   "cell_type": "code",
   "execution_count": null,
   "metadata": {
    "collapsed": true
   },
   "outputs": [],
   "source": []
  },
  {
   "cell_type": "code",
   "execution_count": 16,
   "metadata": {
    "collapsed": true
   },
   "outputs": [],
   "source": [
    "import requests"
   ]
  },
  {
   "cell_type": "code",
   "execution_count": 17,
   "metadata": {
    "collapsed": false
   },
   "outputs": [],
   "source": [
    "import json\n",
    "\n",
    "import xmltodict"
   ]
  },
  {
   "cell_type": "code",
   "execution_count": 30,
   "metadata": {
    "collapsed": false
   },
   "outputs": [],
   "source": [
    "wcm_bot = TwitterBot('/home/wcmckee/github/config.txt')"
   ]
  },
  {
   "cell_type": "code",
   "execution_count": null,
   "metadata": {
    "collapsed": true
   },
   "outputs": [],
   "source": []
  },
  {
   "cell_type": "code",
   "execution_count": null,
   "metadata": {
    "collapsed": true
   },
   "outputs": [],
   "source": []
  },
  {
   "cell_type": "code",
   "execution_count": null,
   "metadata": {
    "collapsed": true
   },
   "outputs": [],
   "source": []
  },
  {
   "cell_type": "code",
   "execution_count": null,
   "metadata": {
    "collapsed": true
   },
   "outputs": [],
   "source": []
  },
  {
   "cell_type": "code",
   "execution_count": 31,
   "metadata": {
    "collapsed": false
   },
   "outputs": [],
   "source": [
    "refecon = requests.get(fecon)"
   ]
  },
  {
   "cell_type": "code",
   "execution_count": 32,
   "metadata": {
    "collapsed": false
   },
   "outputs": [],
   "source": [
    "rexml = xmltodict.parse(refecon.text)"
   ]
  },
  {
   "cell_type": "code",
   "execution_count": 34,
   "metadata": {
    "collapsed": false
   },
   "outputs": [
    {
     "data": {
      "text/plain": [
       "'DjangoCon US 2015, 6th-11th September 2015'"
      ]
     },
     "execution_count": 34,
     "metadata": {},
     "output_type": "execute_result"
    }
   ],
   "source": [
    "rexml['feed']['entry'][0]['title']"
   ]
  },
  {
   "cell_type": "code",
   "execution_count": 41,
   "metadata": {
    "collapsed": false
   },
   "outputs": [],
   "source": [
    "lenran = len(rexml['feed']['entry'])"
   ]
  },
  {
   "cell_type": "code",
   "execution_count": 50,
   "metadata": {
    "collapsed": true
   },
   "outputs": [],
   "source": [
    "fedict = dict()"
   ]
  },
  {
   "cell_type": "code",
   "execution_count": 79,
   "metadata": {
    "collapsed": false
   },
   "outputs": [],
   "source": [
    "import pandas\n",
    "import bs4\n"
   ]
  },
  {
   "cell_type": "code",
   "execution_count": null,
   "metadata": {
    "collapsed": true
   },
   "outputs": [],
   "source": [
    "bs4.BeautifulSoup()"
   ]
  },
  {
   "cell_type": "code",
   "execution_count": 113,
   "metadata": {
    "collapsed": true
   },
   "outputs": [],
   "source": [
    "bsstrin = list()"
   ]
  },
  {
   "cell_type": "code",
   "execution_count": null,
   "metadata": {
    "collapsed": true
   },
   "outputs": [],
   "source": []
  },
  {
   "cell_type": "code",
   "execution_count": 114,
   "metadata": {
    "collapsed": false
   },
   "outputs": [
    {
     "name": "stdout",
     "output_type": "stream",
     "text": [
      "http://lanyrd.com/2015/djangocon-us/\n",
      "<a class=\"url summary\" href=\"http://lanyrd.com/2015/djangocon-us/\">DjangoCon US 2015</a>\n",
      "<a class=\"flag-mini\" href=\"http://lanyrd.com/places/usa/\">\n",
      "<img alt=\"United States\" src=\"https://d3brtmsfoeeao4.cloudfront.net/img/icons/flags/16/us.8f49bcb0.png\"/>\n",
      "</a>\n",
      "<a href=\"http://lanyrd.com/places/usa/\">\n",
      "\t\t\tUnited States</a>\n",
      "<a href=\"http://lanyrd.com/places/austin/\">\n",
      "\t\t\t\tAustin\n",
      "\t\t\t</a>\n",
      "<a href=\"http://lanyrd.com/topics/django/\" rel=\"tag\">Django</a>\n",
      "<a href=\"http://lanyrd.com/topics/open-source/\" rel=\"tag\">Open Source</a>\n",
      "<a href=\"http://lanyrd.com/topics/web-development/\" rel=\"tag\">Web Development</a>\n",
      "http://lanyrd.com/2015/nmfka-september/\n",
      "<a class=\"url summary\" href=\"http://lanyrd.com/2015/nmfka-september/\">Meating – #nmfka</a>\n",
      "<a class=\"flag-mini\" href=\"http://lanyrd.com/places/germany/\">\n",
      "<img alt=\"Germany\" src=\"https://d3brtmsfoeeao4.cloudfront.net/img/icons/flags/16/de.e1c3be22.png\"/>\n",
      "</a>\n",
      "<a href=\"http://lanyrd.com/places/germany/\">\n",
      "\t\t\tGermany</a>\n",
      "<a href=\"http://lanyrd.com/places/664942/\">\n",
      "\t\t\t\tKarlsruhe\n",
      "\t\t\t</a>\n",
      "<a href=\"http://lanyrd.com/topics/meetup/\" rel=\"tag\">Meetup</a>\n",
      "<a href=\"http://lanyrd.com/topics/online-marketing/\" rel=\"tag\">Online Marketing</a>\n",
      "<a href=\"http://lanyrd.com/topics/society/\" rel=\"tag\">Society</a>\n",
      "<a href=\"http://lanyrd.com/topics/tax/\" rel=\"tag\">Tax</a>\n",
      "<a href=\"http://lanyrd.com/topics/web-development/\" rel=\"tag\">Web Development</a>\n",
      "http://lanyrd.com/2015/emberfest/\n",
      "<a class=\"url summary\" href=\"http://lanyrd.com/2015/emberfest/\">Ember Fest 2015</a>\n",
      "<a class=\"flag-mini\" href=\"http://lanyrd.com/places/england/\">\n",
      "<img alt=\"England\" src=\"https://d3brtmsfoeeao4.cloudfront.net/img/icons/flags/16/uk.43d4481a.png\"/>\n",
      "</a>\n",
      "<a href=\"http://lanyrd.com/places/england/\">\n",
      "\t\t\tEngland</a>\n",
      "<a href=\"http://lanyrd.com/places/cambridge/\">\n",
      "\t\t\t\tCambridge\n",
      "\t\t\t</a>\n",
      "<a href=\"http://lanyrd.com/topics/emberjs-1/\" rel=\"tag\">emberjs</a>\n",
      "<a href=\"http://lanyrd.com/topics/frontend/\" rel=\"tag\">frontend</a>\n",
      "<a href=\"http://lanyrd.com/topics/frontend-development/\" rel=\"tag\">Frontend Development</a>\n",
      "<a href=\"http://lanyrd.com/topics/javascript/\" rel=\"tag\">JavaScript</a>\n",
      "<a href=\"http://lanyrd.com/topics/javascript-mvc/\" rel=\"tag\">JavaScript MVC</a>\n",
      "<a href=\"http://lanyrd.com/topics/webapps/\" rel=\"tag\">webapps</a>\n",
      "<a href=\"http://lanyrd.com/topics/web-development/\" rel=\"tag\">Web Development</a>\n",
      "http://lanyrd.com/2015/abbdevday/\n",
      "<a class=\"url summary\" href=\"http://lanyrd.com/2015/abbdevday/\">DevDay 2015</a>\n",
      "<a class=\"flag-mini\" href=\"http://lanyrd.com/places/poland/\">\n",
      "<img alt=\"Poland\" src=\"https://d3brtmsfoeeao4.cloudfront.net/img/icons/flags/16/pl.5cb81c12.png\"/>\n",
      "</a>\n",
      "<a href=\"http://lanyrd.com/places/poland/\">\n",
      "\t\t\tPoland</a>\n",
      "<a href=\"http://lanyrd.com/places/krakow/\">\n",
      "\t\t\t\tKrakow\n",
      "\t\t\t</a>\n",
      "<a href=\"http://lanyrd.com/topics/aspnet/\" rel=\"tag\">ASP.NET</a>\n",
      "<a href=\"http://lanyrd.com/topics/functional-programming/\" rel=\"tag\">Functional Programming</a>\n",
      "<a href=\"http://lanyrd.com/topics/javascript/\" rel=\"tag\">JavaScript</a>\n",
      "<a href=\"http://lanyrd.com/topics/.NET/\" rel=\"tag\">.NET</a>\n",
      "<a href=\"http://lanyrd.com/topics/Programming Languages/\" rel=\"tag\"> Programming Languages</a>\n",
      "<a href=\"http://lanyrd.com/topics/testing/\" rel=\"tag\">Testing</a>\n",
      "<a href=\"http://lanyrd.com/topics/web-development/\" rel=\"tag\">Web Development</a>\n",
      "http://lanyrd.com/2015/fromthefront/\n",
      "<a class=\"url summary\" href=\"http://lanyrd.com/2015/fromthefront/\">From The Front</a>\n",
      "<a class=\"flag-mini\" href=\"http://lanyrd.com/places/italy/\">\n",
      "<img alt=\"Italy\" src=\"https://d3brtmsfoeeao4.cloudfront.net/img/icons/flags/16/it.b87a5e76.png\"/>\n",
      "</a>\n",
      "<a href=\"http://lanyrd.com/places/italy/\">\n",
      "\t\t\tItaly</a>\n",
      "<a href=\"http://lanyrd.com/places/bologna/\">\n",
      "\t\t\t\tBologna\n",
      "\t\t\t</a>\n",
      "<a href=\"http://lanyrd.com/topics/css/\" rel=\"tag\">CSS</a>\n",
      "<a href=\"http://lanyrd.com/topics/frontend-development/\" rel=\"tag\">Frontend Development</a>\n",
      "<a href=\"http://lanyrd.com/topics/web-development/\" rel=\"tag\">Web Development</a>\n",
      "http://lanyrd.com/2015/generate-london/\n",
      "<a class=\"url summary\" href=\"http://lanyrd.com/2015/generate-london/\">Generate London 2015</a>\n",
      "<a class=\"flag-mini\" href=\"http://lanyrd.com/places/england/\">\n",
      "<img alt=\"England\" src=\"https://d3brtmsfoeeao4.cloudfront.net/img/icons/flags/16/uk.43d4481a.png\"/>\n",
      "</a>\n",
      "<a href=\"http://lanyrd.com/places/england/\">\n",
      "\t\t\tEngland</a>\n",
      "<a href=\"http://lanyrd.com/places/london/\">\n",
      "\t\t\t\tLondon\n",
      "\t\t\t</a>\n",
      "<a href=\"http://lanyrd.com/topics/css/\" rel=\"tag\">CSS</a>\n",
      "<a href=\"http://lanyrd.com/topics/responsive-web-design/\" rel=\"tag\">Responsive Web Design</a>\n",
      "<a href=\"http://lanyrd.com/topics/svg/\" rel=\"tag\">SVG</a>\n",
      "<a href=\"http://lanyrd.com/topics/user-experience/\" rel=\"tag\">User Experience</a>\n",
      "<a href=\"http://lanyrd.com/topics/web-design/\" rel=\"tag\">Web Design</a>\n",
      "<a href=\"http://lanyrd.com/topics/web-development/\" rel=\"tag\">Web Development</a>\n",
      "<a href=\"http://lanyrd.com/topics/web-performance/\" rel=\"tag\">Web Performance</a>\n",
      "http://lanyrd.com/2015/webexpo-prague/\n",
      "<a class=\"url summary\" href=\"http://lanyrd.com/2015/webexpo-prague/\">WebExpo Prague 2015</a>\n",
      "<a class=\"flag-mini\" href=\"http://lanyrd.com/places/czech-republic/\">\n",
      "<img alt=\"Czech Republic\" src=\"https://d3brtmsfoeeao4.cloudfront.net/img/icons/flags/16/cz.7be4b7de.png\"/>\n",
      "</a>\n",
      "<a href=\"http://lanyrd.com/places/czech-republic/\">\n",
      "\t\t\tCzech Republic</a>\n",
      "<a href=\"http://lanyrd.com/places/12607749/\">\n",
      "\t\t\t\tPrague\n",
      "\t\t\t</a>\n",
      "<a href=\"http://lanyrd.com/topics/online-marketing/\" rel=\"tag\">Online Marketing</a>\n",
      "<a href=\"http://lanyrd.com/topics/software-engineering/\" rel=\"tag\">Software Engineering</a>\n",
      "<a href=\"http://lanyrd.com/topics/user-experience/\" rel=\"tag\">User Experience</a>\n",
      "<a href=\"http://lanyrd.com/topics/web-architecture/\" rel=\"tag\">Web Architecture</a>\n",
      "<a href=\"http://lanyrd.com/topics/web-design/\" rel=\"tag\">Web Design</a>\n",
      "<a href=\"http://lanyrd.com/topics/web-development/\" rel=\"tag\">Web Development</a>\n",
      "http://lanyrd.com/2015/phpasia/\n",
      "<a class=\"url summary\" href=\"http://lanyrd.com/2015/phpasia/\">PHPConf.Asia</a>\n",
      "<a class=\"flag-mini\" href=\"http://lanyrd.com/places/singapore/\">\n",
      "<img alt=\"Singapore\" src=\"https://d3brtmsfoeeao4.cloudfront.net/img/icons/flags/16/sg.fce19b19.png\"/>\n",
      "</a>\n",
      "<a href=\"http://lanyrd.com/places/singapore/\">\n",
      "\t\t\tSingapore</a>\n",
      "<a href=\"http://lanyrd.com/topics/php/\" rel=\"tag\">PHP</a>\n",
      "<a href=\"http://lanyrd.com/topics/web-development/\" rel=\"tag\">Web Development</a>\n",
      "http://lanyrd.com/2015/smartwebconf/\n",
      "<a class=\"url summary\" href=\"http://lanyrd.com/2015/smartwebconf/\">SmartWeb Conference 2015</a>\n",
      "<a class=\"flag-mini\" href=\"http://lanyrd.com/places/romania/\">\n",
      "<img alt=\"Romania\" src=\"https://d3brtmsfoeeao4.cloudfront.net/img/icons/flags/16/ro.46adbc3d.png\"/>\n",
      "</a>\n",
      "<a href=\"http://lanyrd.com/places/romania/\">\n",
      "\t\t\tRomania</a>\n",
      "<a href=\"http://lanyrd.com/places/bucharest/\">\n",
      "\t\t\t\tBucharest\n",
      "\t\t\t</a>\n",
      "<a href=\"http://lanyrd.com/topics/css/\" rel=\"tag\">CSS</a>\n",
      "<a href=\"http://lanyrd.com/topics/javascript/\" rel=\"tag\">JavaScript</a>\n",
      "<a href=\"http://lanyrd.com/topics/responsive-web-design/\" rel=\"tag\">Responsive Web Design</a>\n",
      "<a href=\"http://lanyrd.com/topics/web-design/\" rel=\"tag\">Web Design</a>\n",
      "<a href=\"http://lanyrd.com/topics/web-development/\" rel=\"tag\">Web Development</a>\n",
      "http://lanyrd.com/2015/wxg/\n",
      "<a class=\"url summary\" href=\"http://lanyrd.com/2015/wxg/\">WXG 2015 </a>\n",
      "<a class=\"flag-mini\" href=\"http://lanyrd.com/places/england/\">\n",
      "<img alt=\"England\" src=\"https://d3brtmsfoeeao4.cloudfront.net/img/icons/flags/16/uk.43d4481a.png\"/>\n",
      "</a>\n",
      "<a href=\"http://lanyrd.com/places/england/\">\n",
      "\t\t\tEngland</a>\n",
      "<a href=\"http://lanyrd.com/places/guildford/\">\n",
      "\t\t\t\tGuildford\n",
      "\t\t\t</a>\n",
      "<a href=\"http://lanyrd.com/topics/creativity/\" rel=\"tag\">Creativity</a>\n",
      "<a href=\"http://lanyrd.com/topics/inspiration/\" rel=\"tag\">Inspiration</a>\n",
      "<a href=\"http://lanyrd.com/topics/web-design/\" rel=\"tag\">Web Design</a>\n",
      "<a href=\"http://lanyrd.com/topics/web-development/\" rel=\"tag\">Web Development</a>\n",
      "http://lanyrd.com/2015/a-tag15/\n",
      "<a class=\"url summary\" href=\"http://lanyrd.com/2015/a-tag15/\">A-Tag'15</a>\n",
      "<a class=\"flag-mini\" href=\"http://lanyrd.com/places/austria/\">\n",
      "<img alt=\"Austria\" src=\"https://d3brtmsfoeeao4.cloudfront.net/img/icons/flags/16/at.ceece582.png\"/>\n",
      "</a>\n",
      "<a href=\"http://lanyrd.com/places/austria/\">\n",
      "\t\t\tAustria</a>\n",
      "<a href=\"http://lanyrd.com/places/vienna/\">\n",
      "\t\t\t\tVienna\n",
      "\t\t\t</a>\n",
      "<a href=\"http://lanyrd.com/topics/accessibility/\" rel=\"tag\">Accessibility</a>\n",
      "<a href=\"http://lanyrd.com/topics/mobile/\" rel=\"tag\">Mobile</a>\n",
      "<a href=\"http://lanyrd.com/topics/wai-aria/\" rel=\"tag\">WAI-ARIA</a>\n",
      "<a href=\"http://lanyrd.com/topics/web/\" rel=\"tag\">Web</a>\n",
      "<a href=\"http://lanyrd.com/topics/web-accessibility/\" rel=\"tag\">Web Accessibility</a>\n",
      "<a href=\"http://lanyrd.com/topics/web-development/\" rel=\"tag\">Web Development</a>\n",
      "http://lanyrd.com/2015/whiteoctevents-node-workshop/\n",
      "<a class=\"url summary\" href=\"http://lanyrd.com/2015/whiteoctevents-node-workshop/\">Workshop: Building RESTful and real-time APIs with Node</a>\n",
      "<a class=\"flag-mini\" href=\"http://lanyrd.com/places/england/\">\n",
      "<img alt=\"England\" src=\"https://d3brtmsfoeeao4.cloudfront.net/img/icons/flags/16/uk.43d4481a.png\"/>\n",
      "</a>\n",
      "<a href=\"http://lanyrd.com/places/england/\">\n",
      "\t\t\tEngland</a>\n",
      "<a href=\"http://lanyrd.com/places/london/\">\n",
      "\t\t\t\tLondon\n",
      "\t\t\t</a>\n",
      "<a href=\"http://lanyrd.com/topics/apis/\" rel=\"tag\">APIs</a>\n",
      "<a href=\"http://lanyrd.com/topics/asynchronous/\" rel=\"tag\">Asynchronous</a>\n",
      "<a href=\"http://lanyrd.com/topics/nodejs/\" rel=\"tag\">Node.js</a>\n",
      "<a href=\"http://lanyrd.com/topics/node-package-manager/\" rel=\"tag\">Node Package Manager</a>\n",
      "<a href=\"http://lanyrd.com/topics/programming/\" rel=\"tag\">Programming</a>\n",
      "<a href=\"http://lanyrd.com/topics/software/\" rel=\"tag\">Software</a>\n",
      "<a href=\"http://lanyrd.com/topics/web-development/\" rel=\"tag\">Web Development</a>\n",
      "http://lanyrd.com/2015/cssconf/\n",
      "<a class=\"url summary\" href=\"http://lanyrd.com/2015/cssconf/\">CSSconf EU 2015</a>\n",
      "<a class=\"flag-mini\" href=\"http://lanyrd.com/places/germany/\">\n",
      "<img alt=\"Germany\" src=\"https://d3brtmsfoeeao4.cloudfront.net/img/icons/flags/16/de.e1c3be22.png\"/>\n",
      "</a>\n",
      "<a href=\"http://lanyrd.com/places/germany/\">\n",
      "\t\t\tGermany</a>\n",
      "<a href=\"http://lanyrd.com/places/638242/\">\n",
      "\t\t\t\tBerlin\n",
      "\t\t\t</a>\n",
      "<a href=\"http://lanyrd.com/topics/community/\" rel=\"tag\">Community</a>\n",
      "<a href=\"http://lanyrd.com/topics/css/\" rel=\"tag\">CSS</a>\n",
      "<a href=\"http://lanyrd.com/topics/front-end-1/\" rel=\"tag\">Front End</a>\n",
      "<a href=\"http://lanyrd.com/topics/mobile/\" rel=\"tag\">Mobile</a>\n",
      "<a href=\"http://lanyrd.com/topics/ux-design/\" rel=\"tag\">UX Design</a>\n",
      "<a href=\"http://lanyrd.com/topics/web-design/\" rel=\"tag\">Web Design</a>\n",
      "<a href=\"http://lanyrd.com/topics/web-development/\" rel=\"tag\">Web Development</a>\n",
      "http://lanyrd.com/2015/voxxedbelgreade/\n",
      "<a class=\"url summary\" href=\"http://lanyrd.com/2015/voxxedbelgreade/\">Voxxed Days Belgrade</a>\n",
      "<a class=\"flag-mini\" href=\"http://lanyrd.com/places/serbia/\">\n",
      "<img alt=\"Serbia\" src=\"https://d3brtmsfoeeao4.cloudfront.net/img/icons/flags/16/rs.26ef97f3.png\"/>\n",
      "</a>\n",
      "<a href=\"http://lanyrd.com/places/serbia/\">\n",
      "\t\t\tSerbia</a>\n",
      "<a href=\"http://lanyrd.com/places/532697/\">\n",
      "\t\t\t\tBelgrade\n",
      "\t\t\t</a>\n",
      "<a href=\"http://lanyrd.com/topics/big-data/\" rel=\"tag\">Big Data</a>\n",
      "<a href=\"http://lanyrd.com/topics/embedded/\" rel=\"tag\">Embedded</a>\n",
      "<a href=\"http://lanyrd.com/topics/iot/\" rel=\"tag\">IOT</a>\n",
      "<a href=\"http://lanyrd.com/topics/mobile/\" rel=\"tag\">Mobile</a>\n",
      "<a href=\"http://lanyrd.com/topics/nosql/\" rel=\"tag\">NoSQL</a>\n",
      "<a href=\"http://lanyrd.com/topics/software-engineering/\" rel=\"tag\">Software Engineering</a>\n",
      "<a href=\"http://lanyrd.com/topics/web-development/\" rel=\"tag\">Web Development</a>\n",
      "http://lanyrd.com/2015/parisweb/\n",
      "<a class=\"url summary\" href=\"http://lanyrd.com/2015/parisweb/\">Paris Web 2015</a>\n",
      "<a class=\"flag-mini\" href=\"http://lanyrd.com/places/france/\">\n",
      "<img alt=\"France\" src=\"https://d3brtmsfoeeao4.cloudfront.net/img/icons/flags/16/fr.b3469b66.png\"/>\n",
      "</a>\n",
      "<a href=\"http://lanyrd.com/places/france/\">\n",
      "\t\t\tFrance</a>\n",
      "<a href=\"http://lanyrd.com/places/paris/\">\n",
      "\t\t\t\tParis\n",
      "\t\t\t</a>\n",
      "<a href=\"http://lanyrd.com/topics/accessibility/\" rel=\"tag\">Accessibility</a>\n",
      "<a href=\"http://lanyrd.com/topics/open-web/\" rel=\"tag\">Open Web</a>\n",
      "<a href=\"http://lanyrd.com/topics/user-experience/\" rel=\"tag\">User Experience</a>\n",
      "<a href=\"http://lanyrd.com/topics/web-design/\" rel=\"tag\">Web Design</a>\n",
      "<a href=\"http://lanyrd.com/topics/web-development/\" rel=\"tag\">Web Development</a>\n",
      "<a href=\"http://lanyrd.com/topics/web-performance/\" rel=\"tag\">Web Performance</a>\n",
      "<a href=\"http://lanyrd.com/topics/web-standards/\" rel=\"tag\">Web Standards</a>\n",
      "http://lanyrd.com/2015/hewebtech/\n",
      "<a class=\"url summary\" href=\"http://lanyrd.com/2015/hewebtech/\">HighEdWeb 2015 Technical Academy</a>\n",
      "<a class=\"flag-mini\" href=\"http://lanyrd.com/places/usa/\">\n",
      "<img alt=\"United States\" src=\"https://d3brtmsfoeeao4.cloudfront.net/img/icons/flags/16/us.8f49bcb0.png\"/>\n",
      "</a>\n",
      "<a href=\"http://lanyrd.com/places/usa/\">\n",
      "\t\t\tUnited States</a>\n",
      "<a href=\"http://lanyrd.com/places/milwaukee/\">\n",
      "\t\t\t\tMilwaukee\n",
      "\t\t\t</a>\n",
      "<a href=\"http://lanyrd.com/topics/accessibility/\" rel=\"tag\">Accessibility</a>\n",
      "<a href=\"http://lanyrd.com/topics/automation/\" rel=\"tag\">Automation</a>\n",
      "<a href=\"http://lanyrd.com/topics/higher-education/\" rel=\"tag\">Higher Education</a>\n",
      "<a href=\"http://lanyrd.com/topics/javascript/\" rel=\"tag\">JavaScript</a>\n",
      "<a href=\"http://lanyrd.com/topics/operations/\" rel=\"tag\">Operations</a>\n",
      "<a href=\"http://lanyrd.com/topics/web-development/\" rel=\"tag\">Web Development</a>\n",
      "<a href=\"http://lanyrd.com/topics/web-performance/\" rel=\"tag\">Web Performance</a>\n",
      "http://lanyrd.com/2015/wczg/\n",
      "<a class=\"url summary\" href=\"http://lanyrd.com/2015/wczg/\">WebCamp Zagreb 2015</a>\n",
      "<a class=\"flag-mini\" href=\"http://lanyrd.com/places/croatia/\">\n",
      "<img alt=\"Croatia\" src=\"https://d3brtmsfoeeao4.cloudfront.net/img/icons/flags/16/hr.dfa98592.png\"/>\n",
      "</a>\n",
      "<a href=\"http://lanyrd.com/places/croatia/\">\n",
      "\t\t\tCroatia</a>\n",
      "<a href=\"http://lanyrd.com/places/15022257/\">\n",
      "\t\t\t\tZagreb\n",
      "\t\t\t</a>\n",
      "<a href=\"http://lanyrd.com/topics/javascript/\" rel=\"tag\">JavaScript</a>\n",
      "<a href=\"http://lanyrd.com/topics/nosql/\" rel=\"tag\">NoSQL</a>\n",
      "<a href=\"http://lanyrd.com/topics/software-engineering/\" rel=\"tag\">Software Engineering</a>\n",
      "<a href=\"http://lanyrd.com/topics/software-quality/\" rel=\"tag\">Software Quality</a>\n",
      "<a href=\"http://lanyrd.com/topics/user-experience/\" rel=\"tag\">User Experience</a>\n",
      "<a href=\"http://lanyrd.com/topics/web-design/\" rel=\"tag\">Web Design</a>\n",
      "<a href=\"http://lanyrd.com/topics/web-development/\" rel=\"tag\">Web Development</a>\n",
      "http://lanyrd.com/2015/fowa/\n",
      "<a class=\"url summary\" href=\"http://lanyrd.com/2015/fowa/\">Future of Web Apps London</a>\n",
      "<a class=\"flag-mini\" href=\"http://lanyrd.com/places/england/\">\n",
      "<img alt=\"England\" src=\"https://d3brtmsfoeeao4.cloudfront.net/img/icons/flags/16/uk.43d4481a.png\"/>\n",
      "</a>\n",
      "<a href=\"http://lanyrd.com/places/england/\">\n",
      "\t\t\tEngland</a>\n",
      "<a href=\"http://lanyrd.com/places/london/\">\n",
      "\t\t\t\tLondon\n",
      "\t\t\t</a>\n",
      "<a href=\"http://lanyrd.com/topics/api/\" rel=\"tag\">API</a>\n",
      "<a href=\"http://lanyrd.com/topics/css/\" rel=\"tag\">CSS</a>\n",
      "<a href=\"http://lanyrd.com/topics/google/\" rel=\"tag\">Google</a>\n",
      "<a href=\"http://lanyrd.com/topics/javascript/\" rel=\"tag\">JavaScript</a>\n",
      "<a href=\"http://lanyrd.com/topics/real-time/\" rel=\"tag\">Real Time</a>\n",
      "<a href=\"http://lanyrd.com/topics/toolkits/\" rel=\"tag\">Toolkits</a>\n",
      "<a href=\"http://lanyrd.com/topics/web-development/\" rel=\"tag\">Web Development</a>\n",
      "http://lanyrd.com/2015/jfn15/\n",
      "<a class=\"url summary\" href=\"http://lanyrd.com/2015/jfn15/\">Java Forum Nord</a>\n",
      "<a class=\"flag-mini\" href=\"http://lanyrd.com/places/germany/\">\n",
      "<img alt=\"Germany\" src=\"https://d3brtmsfoeeao4.cloudfront.net/img/icons/flags/16/de.e1c3be22.png\"/>\n",
      "</a>\n",
      "<a href=\"http://lanyrd.com/places/germany/\">\n",
      "\t\t\tGermany</a>\n",
      "<a href=\"http://lanyrd.com/places/657169/\">\n",
      "\t\t\t\tHanover\n",
      "\t\t\t</a>\n",
      "<a href=\"http://lanyrd.com/topics/java/\" rel=\"tag\">Java</a>\n",
      "<a href=\"http://lanyrd.com/topics/javaee/\" rel=\"tag\">Java EE</a>\n",
      "<a href=\"http://lanyrd.com/topics/programming/\" rel=\"tag\">Programming</a>\n",
      "<a href=\"http://lanyrd.com/topics/software-architecture/\" rel=\"tag\">Software Architecture</a>\n",
      "<a href=\"http://lanyrd.com/topics/software-engineering/\" rel=\"tag\">Software Engineering</a>\n",
      "<a href=\"http://lanyrd.com/topics/web-development/\" rel=\"tag\">Web Development</a>\n",
      "http://lanyrd.com/2015/upfrontmini/\n",
      "<a class=\"url summary\" href=\"http://lanyrd.com/2015/upfrontmini/\">UpFront Mini</a>\n",
      "<a class=\"flag-mini\" href=\"http://lanyrd.com/places/england/\">\n",
      "<img alt=\"England\" src=\"https://d3brtmsfoeeao4.cloudfront.net/img/icons/flags/16/uk.43d4481a.png\"/>\n",
      "</a>\n",
      "<a href=\"http://lanyrd.com/places/england/\">\n",
      "\t\t\tEngland</a>\n",
      "<a href=\"http://lanyrd.com/places/12695841/\">\n",
      "\t\t\t\tManchester City\n",
      "\t\t\t</a>\n",
      "<a href=\"http://lanyrd.com/topics/front-end/\" rel=\"tag\">front-end</a>\n",
      "<a href=\"http://lanyrd.com/topics/front-end-development/\" rel=\"tag\">Front-end development</a>\n",
      "<a href=\"http://lanyrd.com/topics/frontend-development/\" rel=\"tag\">Frontend Development</a>\n",
      "<a href=\"http://lanyrd.com/topics/javascript/\" rel=\"tag\">JavaScript</a>\n",
      "<a href=\"http://lanyrd.com/topics/web-design/\" rel=\"tag\">Web Design</a>\n",
      "<a href=\"http://lanyrd.com/topics/web-development/\" rel=\"tag\">Web Development</a>\n"
     ]
    },
    {
     "name": "stderr",
     "output_type": "stream",
     "text": [
      "/usr/local/lib/python3.4/dist-packages/bs4/__init__.py:166: UserWarning: No parser was explicitly specified, so I'm using the best available HTML parser for this system (\"lxml\"). This usually isn't a problem, but if you run this code on another system, or in a different virtual environment, it may use a different parser and behave differently.\n",
      "\n",
      "To get rid of this warning, change this:\n",
      "\n",
      " BeautifulSoup([your markup])\n",
      "\n",
      "to this:\n",
      "\n",
      " BeautifulSoup([your markup], \"lxml\")\n",
      "\n",
      "  markup_type=markup_type))\n"
     ]
    }
   ],
   "source": [
    "for feran in range(lenran):\n",
    "    fedict.update({feran : (rexml['feed']['entry'][feran]['title'])})\n",
    "    #newdict = ({fedict : (rexml['feed']['entry'][feran]['link']['@href'])})\n",
    "    #nedict = dict()\n",
    "    #nedict.update({fedict : str(rexml['feed']['entry'][feran]['link']['@href'])})\n",
    "    print (rexml['feed']['entry'][feran]['link']['@href'])\n",
    "    \n",
    "    bstex = bs4.BeautifulSoup((rexml['feed']['entry'][feran]['summary']['#text']))\n",
    "    \n",
    "    #print (bstex.find('img'))\n",
    "    bsfa =  (bstex.findAll('a'))\n",
    "    for bsf in bsfa:\n",
    "        print (bsf)\n",
    "        bsstrin.append(bsf)\n",
    "    #bsfq\n",
    "    #bstxa = (bstex.text)\n",
    "    #print(bstxa.replace('  ', ''))\n",
    "    #print (bstxa.upper())"
   ]
  },
  {
   "cell_type": "code",
   "execution_count": 130,
   "metadata": {
    "collapsed": true
   },
   "outputs": [],
   "source": [
    "chit = list()"
   ]
  },
  {
   "cell_type": "code",
   "execution_count": 162,
   "metadata": {
    "collapsed": true
   },
   "outputs": [],
   "source": [
    "fulltwe = chit[0] + ' ' + chit[2] + chit[3]"
   ]
  },
  {
   "cell_type": "code",
   "execution_count": 163,
   "metadata": {
    "collapsed": false
   },
   "outputs": [
    {
     "data": {
      "text/plain": [
       "'DjangoCon US 2015 \\n\\t\\t\\tUnited States\\n\\t\\t\\t\\tAustin\\n\\t\\t\\t'"
      ]
     },
     "execution_count": 163,
     "metadata": {},
     "output_type": "execute_result"
    }
   ],
   "source": [
    "fulltwe"
   ]
  },
  {
   "cell_type": "code",
   "execution_count": 161,
   "metadata": {
    "collapsed": false
   },
   "outputs": [
    {
     "name": "stdout",
     "output_type": "stream",
     "text": [
      "#DjangoConUS2015\n",
      "#\n",
      "#UnitedStates\n",
      "#Austin\n",
      "#Django\n",
      "#OpenSource\n",
      "#WebDevelopment\n"
     ]
    }
   ],
   "source": [
    "for chz in range(7):\n",
    "    stach = (chit[chz])\n",
    "    sez = stach.replace('\\n', '')\n",
    "    sert = sez.replace('\\t', '')\n",
    "    serb = sert.replace(' ', '')\n",
    "    print('#' + serb)\n",
    "    "
   ]
  },
  {
   "cell_type": "code",
   "execution_count": null,
   "metadata": {
    "collapsed": true
   },
   "outputs": [],
   "source": []
  },
  {
   "cell_type": "code",
   "execution_count": null,
   "metadata": {
    "collapsed": true
   },
   "outputs": [],
   "source": []
  },
  {
   "cell_type": "code",
   "execution_count": null,
   "metadata": {
    "collapsed": true
   },
   "outputs": [],
   "source": []
  },
  {
   "cell_type": "code",
   "execution_count": null,
   "metadata": {
    "collapsed": true
   },
   "outputs": [],
   "source": []
  },
  {
   "cell_type": "code",
   "execution_count": 143,
   "metadata": {
    "collapsed": false
   },
   "outputs": [
    {
     "data": {
      "text/plain": [
       "'DjangoCon US 2015'"
      ]
     },
     "execution_count": 143,
     "metadata": {},
     "output_type": "execute_result"
    }
   ],
   "source": [
    "chit[0]"
   ]
  },
  {
   "cell_type": "code",
   "execution_count": 146,
   "metadata": {
    "collapsed": false
   },
   "outputs": [
    {
     "data": {
      "text/plain": [
       "'\\n\\t\\t\\tUnited States'"
      ]
     },
     "execution_count": 146,
     "metadata": {},
     "output_type": "execute_result"
    }
   ],
   "source": [
    "chit[2]"
   ]
  },
  {
   "cell_type": "code",
   "execution_count": 148,
   "metadata": {
    "collapsed": false
   },
   "outputs": [
    {
     "data": {
      "text/plain": [
       "'\\n\\t\\t\\t\\tAustin\\n\\t\\t\\t'"
      ]
     },
     "execution_count": 148,
     "metadata": {},
     "output_type": "execute_result"
    }
   ],
   "source": [
    "chit[3]"
   ]
  },
  {
   "cell_type": "code",
   "execution_count": 149,
   "metadata": {
    "collapsed": false
   },
   "outputs": [
    {
     "data": {
      "text/plain": [
       "'Django'"
      ]
     },
     "execution_count": 149,
     "metadata": {},
     "output_type": "execute_result"
    }
   ],
   "source": [
    "chit[4]"
   ]
  },
  {
   "cell_type": "code",
   "execution_count": 150,
   "metadata": {
    "collapsed": false
   },
   "outputs": [
    {
     "data": {
      "text/plain": [
       "'Open Source'"
      ]
     },
     "execution_count": 150,
     "metadata": {},
     "output_type": "execute_result"
    }
   ],
   "source": [
    "chit[5]"
   ]
  },
  {
   "cell_type": "code",
   "execution_count": 152,
   "metadata": {
    "collapsed": false
   },
   "outputs": [
    {
     "data": {
      "text/plain": [
       "'Web Development'"
      ]
     },
     "execution_count": 152,
     "metadata": {},
     "output_type": "execute_result"
    }
   ],
   "source": [
    "chit[6]"
   ]
  },
  {
   "cell_type": "code",
   "execution_count": 153,
   "metadata": {
    "collapsed": false
   },
   "outputs": [
    {
     "data": {
      "text/plain": [
       "'Meating – #nmfka'"
      ]
     },
     "execution_count": 153,
     "metadata": {},
     "output_type": "execute_result"
    }
   ],
   "source": [
    "chit[7]"
   ]
  },
  {
   "cell_type": "code",
   "execution_count": 141,
   "metadata": {
    "collapsed": false
   },
   "outputs": [
    {
     "name": "stdout",
     "output_type": "stream",
     "text": [
      "#DjangoCon US 2015\n",
      "D\n",
      "#\n",
      "\n",
      "\n",
      "#United States\n",
      "\n",
      "\n",
      "#Austin\n",
      "\n",
      "\n",
      "#Django\n",
      "D\n",
      "#Open Source\n",
      "O\n",
      "#Web Development\n",
      "W\n",
      "#Meating – #nmfka\n",
      "M\n",
      "#\n",
      "\n",
      "\n",
      "#Germany\n",
      "\n",
      "\n",
      "#Karlsruhe\n",
      "\n",
      "\n",
      "#Meetup\n",
      "M\n",
      "#Online Marketing\n",
      "O\n",
      "#Society\n",
      "S\n",
      "#Tax\n",
      "T\n",
      "#Web Development\n",
      "W\n",
      "#Ember Fest 2015\n",
      "E\n",
      "#\n",
      "\n",
      "\n",
      "#England\n",
      "\n",
      "\n",
      "#Cambridge\n",
      "\n",
      "\n",
      "#emberjs\n",
      "e\n",
      "#frontend\n",
      "f\n",
      "#Frontend Development\n",
      "F\n",
      "#JavaScript\n",
      "J\n",
      "#JavaScript MVC\n",
      "J\n",
      "#webapps\n",
      "w\n",
      "#Web Development\n",
      "W\n",
      "#DevDay 2015\n",
      "D\n",
      "#\n",
      "\n",
      "\n",
      "#Poland\n",
      "\n",
      "\n",
      "#Krakow\n",
      "\n",
      "\n",
      "#ASP.NET\n",
      "A\n",
      "#Functional Programming\n",
      "F\n",
      "#JavaScript\n",
      "J\n",
      "#.NET\n",
      ".\n",
      "# Programming Languages\n",
      " \n",
      "#Testing\n",
      "T\n",
      "#Web Development\n",
      "W\n",
      "#From The Front\n",
      "F\n",
      "#\n",
      "\n",
      "\n",
      "#Italy\n",
      "\n",
      "\n",
      "#Bologna\n",
      "\n",
      "\n",
      "#CSS\n",
      "C\n",
      "#Frontend Development\n",
      "F\n",
      "#Web Development\n",
      "W\n",
      "#Generate London 2015\n",
      "G\n",
      "#\n",
      "\n",
      "\n",
      "#England\n",
      "\n",
      "\n",
      "#London\n",
      "\n",
      "\n",
      "#CSS\n",
      "C\n",
      "#Responsive Web Design\n",
      "R\n",
      "#SVG\n",
      "S\n",
      "#User Experience\n",
      "U\n",
      "#Web Design\n",
      "W\n",
      "#Web Development\n",
      "W\n",
      "#Web Performance\n",
      "W\n",
      "#WebExpo Prague 2015\n",
      "W\n",
      "#\n",
      "\n",
      "\n",
      "#Czech Republic\n",
      "\n",
      "\n",
      "#Prague\n",
      "\n",
      "\n",
      "#Online Marketing\n",
      "O\n",
      "#Software Engineering\n",
      "S\n",
      "#User Experience\n",
      "U\n",
      "#Web Architecture\n",
      "W\n",
      "#Web Design\n",
      "W\n",
      "#Web Development\n",
      "W\n",
      "#PHPConf.Asia\n",
      "P\n",
      "#\n",
      "\n",
      "\n",
      "#Singapore\n",
      "\n",
      "\n",
      "#PHP\n",
      "P\n",
      "#Web Development\n",
      "W\n",
      "#SmartWeb Conference 2015\n",
      "S\n",
      "#\n",
      "\n",
      "\n",
      "#Romania\n",
      "\n",
      "\n",
      "#Bucharest\n",
      "\n",
      "\n",
      "#CSS\n",
      "C\n",
      "#JavaScript\n",
      "J\n",
      "#Responsive Web Design\n",
      "R\n",
      "#Web Design\n",
      "W\n",
      "#Web Development\n",
      "W\n",
      "#WXG 2015 \n",
      "W\n",
      "#\n",
      "\n",
      "\n",
      "#England\n",
      "\n",
      "\n",
      "#Guildford\n",
      "\n",
      "\n",
      "#Creativity\n",
      "C\n",
      "#Inspiration\n",
      "I\n",
      "#Web Design\n",
      "W\n",
      "#Web Development\n",
      "W\n",
      "#A-Tag'15\n",
      "A\n",
      "#\n",
      "\n",
      "\n",
      "#Austria\n",
      "\n",
      "\n",
      "#Vienna\n",
      "\n",
      "\n",
      "#Accessibility\n",
      "A\n",
      "#Mobile\n",
      "M\n",
      "#WAI-ARIA\n",
      "W\n",
      "#Web\n",
      "W\n",
      "#Web Accessibility\n",
      "W\n",
      "#Web Development\n",
      "W\n",
      "#Workshop: Building RESTful and real-time APIs with Node\n",
      "W\n",
      "#\n",
      "\n",
      "\n",
      "#England\n",
      "\n",
      "\n",
      "#London\n",
      "\n",
      "\n",
      "#APIs\n",
      "A\n",
      "#Asynchronous\n",
      "A\n",
      "#Node.js\n",
      "N\n",
      "#Node Package Manager\n",
      "N\n",
      "#Programming\n",
      "P\n",
      "#Software\n",
      "S\n",
      "#Web Development\n",
      "W\n",
      "#CSSconf EU 2015\n",
      "C\n",
      "#\n",
      "\n",
      "\n",
      "#Germany\n",
      "\n",
      "\n",
      "#Berlin\n",
      "\n",
      "\n",
      "#Community\n",
      "C\n",
      "#CSS\n",
      "C\n",
      "#Front End\n",
      "F\n",
      "#Mobile\n",
      "M\n",
      "#UX Design\n",
      "U\n",
      "#Web Design\n",
      "W\n",
      "#Web Development\n",
      "W\n",
      "#Voxxed Days Belgrade\n",
      "V\n",
      "#\n",
      "\n",
      "\n",
      "#Serbia\n",
      "\n",
      "\n",
      "#Belgrade\n",
      "\n",
      "\n",
      "#Big Data\n",
      "B\n",
      "#Embedded\n",
      "E\n",
      "#IOT\n",
      "I\n",
      "#Mobile\n",
      "M\n",
      "#NoSQL\n",
      "N\n",
      "#Software Engineering\n",
      "S\n",
      "#Web Development\n",
      "W\n",
      "#Paris Web 2015\n",
      "P\n",
      "#\n",
      "\n",
      "\n",
      "#France\n",
      "\n",
      "\n",
      "#Paris\n",
      "\n",
      "\n",
      "#Accessibility\n",
      "A\n",
      "#Open Web\n",
      "O\n",
      "#User Experience\n",
      "U\n",
      "#Web Design\n",
      "W\n",
      "#Web Development\n",
      "W\n",
      "#Web Performance\n",
      "W\n",
      "#Web Standards\n",
      "W\n",
      "#HighEdWeb 2015 Technical Academy\n",
      "H\n",
      "#\n",
      "\n",
      "\n",
      "#United States\n",
      "\n",
      "\n",
      "#Milwaukee\n",
      "\n",
      "\n",
      "#Accessibility\n",
      "A\n",
      "#Automation\n",
      "A\n",
      "#Higher Education\n",
      "H\n",
      "#JavaScript\n",
      "J\n",
      "#Operations\n",
      "O\n",
      "#Web Development\n",
      "W\n",
      "#Web Performance\n",
      "W\n",
      "#WebCamp Zagreb 2015\n",
      "W\n",
      "#\n",
      "\n",
      "\n",
      "#Croatia\n",
      "\n",
      "\n",
      "#Zagreb\n",
      "\n",
      "\n",
      "#JavaScript\n",
      "J\n",
      "#NoSQL\n",
      "N\n",
      "#Software Engineering\n",
      "S\n",
      "#Software Quality\n",
      "S\n",
      "#User Experience\n",
      "U\n",
      "#Web Design\n",
      "W\n",
      "#Web Development\n",
      "W\n",
      "#Future of Web Apps London\n",
      "F\n",
      "#\n",
      "\n",
      "\n",
      "#England\n",
      "\n",
      "\n",
      "#London\n",
      "\n",
      "\n",
      "#API\n",
      "A\n",
      "#CSS\n",
      "C\n",
      "#Google\n",
      "G\n",
      "#JavaScript\n",
      "J\n",
      "#Real Time\n",
      "R\n",
      "#Toolkits\n",
      "T\n",
      "#Web Development\n",
      "W\n",
      "#Java Forum Nord\n",
      "J\n",
      "#\n",
      "\n",
      "\n",
      "#Germany\n",
      "\n",
      "\n",
      "#Hanover\n",
      "\n",
      "\n",
      "#Java\n",
      "J\n",
      "#Java EE\n",
      "J\n",
      "#Programming\n",
      "P\n",
      "#Software Architecture\n",
      "S\n",
      "#Software Engineering\n",
      "S\n",
      "#Web Development\n",
      "W\n",
      "#UpFront Mini\n",
      "U\n",
      "#\n",
      "\n",
      "\n",
      "#England\n",
      "\n",
      "\n",
      "#Manchester City\n",
      "\n",
      "\n",
      "#front-end\n",
      "f\n",
      "#Front-end development\n",
      "F\n",
      "#Frontend Development\n",
      "F\n",
      "#JavaScript\n",
      "J\n",
      "#Web Design\n",
      "W\n",
      "#Web Development\n",
      "W\n"
     ]
    }
   ],
   "source": [
    "for ch in chit:\n",
    "    rechn = (ch.replace('\\n', ''))\n",
    "    othchz = (rechn.replace('\\t', ''))\n",
    "    print ('#' + (othchz))"
   ]
  },
  {
   "cell_type": "code",
   "execution_count": null,
   "metadata": {
    "collapsed": true
   },
   "outputs": [],
   "source": []
  },
  {
   "cell_type": "code",
   "execution_count": null,
   "metadata": {
    "collapsed": true
   },
   "outputs": [],
   "source": []
  },
  {
   "cell_type": "code",
   "execution_count": null,
   "metadata": {
    "collapsed": true
   },
   "outputs": [],
   "source": []
  },
  {
   "cell_type": "code",
   "execution_count": null,
   "metadata": {
    "collapsed": true
   },
   "outputs": [],
   "source": []
  },
  {
   "cell_type": "code",
   "execution_count": null,
   "metadata": {
    "collapsed": true
   },
   "outputs": [],
   "source": []
  },
  {
   "cell_type": "code",
   "execution_count": null,
   "metadata": {
    "collapsed": true
   },
   "outputs": [],
   "source": []
  },
  {
   "cell_type": "code",
   "execution_count": null,
   "metadata": {
    "collapsed": true
   },
   "outputs": [],
   "source": []
  },
  {
   "cell_type": "code",
   "execution_count": null,
   "metadata": {
    "collapsed": true
   },
   "outputs": [],
   "source": []
  },
  {
   "cell_type": "code",
   "execution_count": 131,
   "metadata": {
    "collapsed": false
   },
   "outputs": [
    {
     "name": "stdout",
     "output_type": "stream",
     "text": [
      "DjangoCon US 2015\n",
      "\n",
      "\n",
      "\n",
      "\n",
      "\t\t\tUnited States\n",
      "\n",
      "\t\t\t\tAustin\n",
      "\t\t\t\n",
      "Django\n",
      "Open Source\n",
      "Web Development\n",
      "Meating – #nmfka\n",
      "\n",
      "\n",
      "\n",
      "\n",
      "\t\t\tGermany\n",
      "\n",
      "\t\t\t\tKarlsruhe\n",
      "\t\t\t\n",
      "Meetup\n",
      "Online Marketing\n",
      "Society\n",
      "Tax\n",
      "Web Development\n",
      "Ember Fest 2015\n",
      "\n",
      "\n",
      "\n",
      "\n",
      "\t\t\tEngland\n",
      "\n",
      "\t\t\t\tCambridge\n",
      "\t\t\t\n",
      "emberjs\n",
      "frontend\n",
      "Frontend Development\n",
      "JavaScript\n",
      "JavaScript MVC\n",
      "webapps\n",
      "Web Development\n",
      "DevDay 2015\n",
      "\n",
      "\n",
      "\n",
      "\n",
      "\t\t\tPoland\n",
      "\n",
      "\t\t\t\tKrakow\n",
      "\t\t\t\n",
      "ASP.NET\n",
      "Functional Programming\n",
      "JavaScript\n",
      ".NET\n",
      " Programming Languages\n",
      "Testing\n",
      "Web Development\n",
      "From The Front\n",
      "\n",
      "\n",
      "\n",
      "\n",
      "\t\t\tItaly\n",
      "\n",
      "\t\t\t\tBologna\n",
      "\t\t\t\n",
      "CSS\n",
      "Frontend Development\n",
      "Web Development\n",
      "Generate London 2015\n",
      "\n",
      "\n",
      "\n",
      "\n",
      "\t\t\tEngland\n",
      "\n",
      "\t\t\t\tLondon\n",
      "\t\t\t\n",
      "CSS\n",
      "Responsive Web Design\n",
      "SVG\n",
      "User Experience\n",
      "Web Design\n",
      "Web Development\n",
      "Web Performance\n",
      "WebExpo Prague 2015\n",
      "\n",
      "\n",
      "\n",
      "\n",
      "\t\t\tCzech Republic\n",
      "\n",
      "\t\t\t\tPrague\n",
      "\t\t\t\n",
      "Online Marketing\n",
      "Software Engineering\n",
      "User Experience\n",
      "Web Architecture\n",
      "Web Design\n",
      "Web Development\n",
      "PHPConf.Asia\n",
      "\n",
      "\n",
      "\n",
      "\n",
      "\t\t\tSingapore\n",
      "PHP\n",
      "Web Development\n",
      "SmartWeb Conference 2015\n",
      "\n",
      "\n",
      "\n",
      "\n",
      "\t\t\tRomania\n",
      "\n",
      "\t\t\t\tBucharest\n",
      "\t\t\t\n",
      "CSS\n",
      "JavaScript\n",
      "Responsive Web Design\n",
      "Web Design\n",
      "Web Development\n",
      "WXG 2015 \n",
      "\n",
      "\n",
      "\n",
      "\n",
      "\t\t\tEngland\n",
      "\n",
      "\t\t\t\tGuildford\n",
      "\t\t\t\n",
      "Creativity\n",
      "Inspiration\n",
      "Web Design\n",
      "Web Development\n",
      "A-Tag'15\n",
      "\n",
      "\n",
      "\n",
      "\n",
      "\t\t\tAustria\n",
      "\n",
      "\t\t\t\tVienna\n",
      "\t\t\t\n",
      "Accessibility\n",
      "Mobile\n",
      "WAI-ARIA\n",
      "Web\n",
      "Web Accessibility\n",
      "Web Development\n",
      "Workshop: Building RESTful and real-time APIs with Node\n",
      "\n",
      "\n",
      "\n",
      "\n",
      "\t\t\tEngland\n",
      "\n",
      "\t\t\t\tLondon\n",
      "\t\t\t\n",
      "APIs\n",
      "Asynchronous\n",
      "Node.js\n",
      "Node Package Manager\n",
      "Programming\n",
      "Software\n",
      "Web Development\n",
      "CSSconf EU 2015\n",
      "\n",
      "\n",
      "\n",
      "\n",
      "\t\t\tGermany\n",
      "\n",
      "\t\t\t\tBerlin\n",
      "\t\t\t\n",
      "Community\n",
      "CSS\n",
      "Front End\n",
      "Mobile\n",
      "UX Design\n",
      "Web Design\n",
      "Web Development\n",
      "Voxxed Days Belgrade\n",
      "\n",
      "\n",
      "\n",
      "\n",
      "\t\t\tSerbia\n",
      "\n",
      "\t\t\t\tBelgrade\n",
      "\t\t\t\n",
      "Big Data\n",
      "Embedded\n",
      "IOT\n",
      "Mobile\n",
      "NoSQL\n",
      "Software Engineering\n",
      "Web Development\n",
      "Paris Web 2015\n",
      "\n",
      "\n",
      "\n",
      "\n",
      "\t\t\tFrance\n",
      "\n",
      "\t\t\t\tParis\n",
      "\t\t\t\n",
      "Accessibility\n",
      "Open Web\n",
      "User Experience\n",
      "Web Design\n",
      "Web Development\n",
      "Web Performance\n",
      "Web Standards\n",
      "HighEdWeb 2015 Technical Academy\n",
      "\n",
      "\n",
      "\n",
      "\n",
      "\t\t\tUnited States\n",
      "\n",
      "\t\t\t\tMilwaukee\n",
      "\t\t\t\n",
      "Accessibility\n",
      "Automation\n",
      "Higher Education\n",
      "JavaScript\n",
      "Operations\n",
      "Web Development\n",
      "Web Performance\n",
      "WebCamp Zagreb 2015\n",
      "\n",
      "\n",
      "\n",
      "\n",
      "\t\t\tCroatia\n",
      "\n",
      "\t\t\t\tZagreb\n",
      "\t\t\t\n",
      "JavaScript\n",
      "NoSQL\n",
      "Software Engineering\n",
      "Software Quality\n",
      "User Experience\n",
      "Web Design\n",
      "Web Development\n",
      "Future of Web Apps London\n",
      "\n",
      "\n",
      "\n",
      "\n",
      "\t\t\tEngland\n",
      "\n",
      "\t\t\t\tLondon\n",
      "\t\t\t\n",
      "API\n",
      "CSS\n",
      "Google\n",
      "JavaScript\n",
      "Real Time\n",
      "Toolkits\n",
      "Web Development\n",
      "Java Forum Nord\n",
      "\n",
      "\n",
      "\n",
      "\n",
      "\t\t\tGermany\n",
      "\n",
      "\t\t\t\tHanover\n",
      "\t\t\t\n",
      "Java\n",
      "Java EE\n",
      "Programming\n",
      "Software Architecture\n",
      "Software Engineering\n",
      "Web Development\n",
      "UpFront Mini\n",
      "\n",
      "\n",
      "\n",
      "\n",
      "\t\t\tEngland\n",
      "\n",
      "\t\t\t\tManchester City\n",
      "\t\t\t\n",
      "front-end\n",
      "Front-end development\n",
      "Frontend Development\n",
      "JavaScript\n",
      "Web Design\n",
      "Web Development\n"
     ]
    }
   ],
   "source": [
    "for bstr in bsstrin:\n",
    "    bstx = (bstr.text)\n",
    "    rmst = bstx.replace('  ', '')\n",
    "    chit.append(rmst)\n",
    "    print (rmst)\n",
    "    for rma in rmst:\n",
    "        #print(rma)\n",
    "        fixde = rma.replace(' ', '')\n",
    "        #print(fixde)\n"
   ]
  },
  {
   "cell_type": "code",
   "execution_count": null,
   "metadata": {
    "collapsed": true
   },
   "outputs": [],
   "source": []
  },
  {
   "cell_type": "code",
   "execution_count": null,
   "metadata": {
    "collapsed": true
   },
   "outputs": [],
   "source": []
  },
  {
   "cell_type": "code",
   "execution_count": null,
   "metadata": {
    "collapsed": true
   },
   "outputs": [],
   "source": []
  },
  {
   "cell_type": "code",
   "execution_count": 122,
   "metadata": {
    "collapsed": false
   },
   "outputs": [
    {
     "data": {
      "text/plain": [
       "'Web Development'"
      ]
     },
     "execution_count": 122,
     "metadata": {},
     "output_type": "execute_result"
    }
   ],
   "source": [
    "rmst"
   ]
  },
  {
   "cell_type": "code",
   "execution_count": null,
   "metadata": {
    "collapsed": true
   },
   "outputs": [],
   "source": []
  },
  {
   "cell_type": "code",
   "execution_count": null,
   "metadata": {
    "collapsed": true
   },
   "outputs": [],
   "source": []
  },
  {
   "cell_type": "code",
   "execution_count": null,
   "metadata": {
    "collapsed": true
   },
   "outputs": [],
   "source": []
  },
  {
   "cell_type": "code",
   "execution_count": null,
   "metadata": {
    "collapsed": true
   },
   "outputs": [],
   "source": []
  },
  {
   "cell_type": "code",
   "execution_count": null,
   "metadata": {
    "collapsed": true
   },
   "outputs": [],
   "source": []
  },
  {
   "cell_type": "code",
   "execution_count": null,
   "metadata": {
    "collapsed": true
   },
   "outputs": [],
   "source": []
  },
  {
   "cell_type": "code",
   "execution_count": null,
   "metadata": {
    "collapsed": true
   },
   "outputs": [],
   "source": []
  },
  {
   "cell_type": "code",
   "execution_count": null,
   "metadata": {
    "collapsed": true
   },
   "outputs": [],
   "source": []
  },
  {
   "cell_type": "code",
   "execution_count": null,
   "metadata": {
    "collapsed": true
   },
   "outputs": [],
   "source": []
  },
  {
   "cell_type": "code",
   "execution_count": null,
   "metadata": {
    "collapsed": true
   },
   "outputs": [],
   "source": []
  },
  {
   "cell_type": "code",
   "execution_count": null,
   "metadata": {
    "collapsed": true
   },
   "outputs": [],
   "source": []
  },
  {
   "cell_type": "code",
   "execution_count": null,
   "metadata": {
    "collapsed": true
   },
   "outputs": [],
   "source": []
  },
  {
   "cell_type": "code",
   "execution_count": null,
   "metadata": {
    "collapsed": true
   },
   "outputs": [],
   "source": []
  },
  {
   "cell_type": "code",
   "execution_count": null,
   "metadata": {
    "collapsed": true
   },
   "outputs": [],
   "source": []
  },
  {
   "cell_type": "code",
   "execution_count": 74,
   "metadata": {
    "collapsed": true
   },
   "outputs": [],
   "source": [
    "import arrow"
   ]
  },
  {
   "cell_type": "code",
   "execution_count": 77,
   "metadata": {
    "collapsed": false
   },
   "outputs": [
    {
     "name": "stdout",
     "output_type": "stream",
     "text": [
      "2006-09-11 20:15:00\n",
      "2015-09-08 00:00:00\n",
      "2008-09-10 20:15:00\n",
      "2016-09-18 20:15:00\n",
      "2017-09-18 20:15:00\n",
      "2017-09-18 20:15:00\n",
      "2019-09-20 20:15:00\n",
      "2022-09-23 20:15:00\n",
      "2015-09-22 00:00:00\n",
      "2015-09-25 00:00:00\n",
      "2015-09-25 00:00:00\n",
      "2015-09-25 00:00:00\n",
      "2015-09-26 00:00:00\n",
      "2001-10-02 20:15:00\n",
      "2001-10-03 20:15:00\n",
      "2003-10-04 20:15:00\n",
      "2003-10-04 20:15:00\n",
      "2005-10-07 20:15:00\n",
      "2015-10-06 00:00:00\n",
      "2015-10-06 00:00:00\n",
      "2015-10-06 00:00:00\n"
     ]
    }
   ],
   "source": [
    "for fedi in fedict.values():\n",
    "    fedsi = (fedi.split(',')[1])\n",
    "    pantim = pandas.to_datetime(fedi.split(',')[1])\n",
    "    print (pantim)"
   ]
  },
  {
   "cell_type": "code",
   "execution_count": null,
   "metadata": {
    "collapsed": true
   },
   "outputs": [],
   "source": []
  },
  {
   "cell_type": "code",
   "execution_count": null,
   "metadata": {
    "collapsed": true
   },
   "outputs": [],
   "source": []
  },
  {
   "cell_type": "code",
   "execution_count": null,
   "metadata": {
    "collapsed": true
   },
   "outputs": [],
   "source": []
  },
  {
   "cell_type": "code",
   "execution_count": null,
   "metadata": {
    "collapsed": true
   },
   "outputs": [],
   "source": []
  },
  {
   "cell_type": "code",
   "execution_count": null,
   "metadata": {
    "collapsed": true
   },
   "outputs": [],
   "source": []
  },
  {
   "cell_type": "code",
   "execution_count": null,
   "metadata": {
    "collapsed": true
   },
   "outputs": [],
   "source": []
  },
  {
   "cell_type": "code",
   "execution_count": 40,
   "metadata": {
    "collapsed": false
   },
   "outputs": [
    {
     "ename": "TypeError",
     "evalue": "list indices must be integers, not str",
     "output_type": "error",
     "traceback": [
      "\u001b[1;31m---------------------------------------------------------------------------\u001b[0m",
      "\u001b[1;31mTypeError\u001b[0m                                 Traceback (most recent call last)",
      "\u001b[1;32m<ipython-input-40-eddf29a62d5e>\u001b[0m in \u001b[0;36m<module>\u001b[1;34m()\u001b[0m\n\u001b[1;32m----> 1\u001b[1;33m \u001b[0mrexml\u001b[0m\u001b[1;33m[\u001b[0m\u001b[1;34m'feed'\u001b[0m\u001b[1;33m]\u001b[0m\u001b[1;33m[\u001b[0m\u001b[1;34m'entry'\u001b[0m\u001b[1;33m]\u001b[0m\u001b[1;33m[\u001b[0m\u001b[1;34m'summary'\u001b[0m\u001b[1;33m]\u001b[0m\u001b[1;33m\u001b[0m\u001b[0m\n\u001b[0m",
      "\u001b[1;31mTypeError\u001b[0m: list indices must be integers, not str"
     ]
    }
   ],
   "source": [
    "rexml['feed']['entry']"
   ]
  },
  {
   "cell_type": "code",
   "execution_count": null,
   "metadata": {
    "collapsed": true
   },
   "outputs": [],
   "source": []
  },
  {
   "cell_type": "code",
   "execution_count": null,
   "metadata": {
    "collapsed": true
   },
   "outputs": [],
   "source": []
  },
  {
   "cell_type": "code",
   "execution_count": 35,
   "metadata": {
    "collapsed": false
   },
   "outputs": [
    {
     "data": {
      "text/plain": [
       "OrderedDict([('title', 'DjangoCon US 2015, 6th-11th September 2015'),\n",
       "             ('link',\n",
       "              OrderedDict([('@href', 'http://lanyrd.com/2015/djangocon-us/'),\n",
       "                           ('@rel', 'alternate')])),\n",
       "             ('updated', '2015-03-17T05:16:27+00:00'),\n",
       "             ('id', 'http://lanyrd.com/2015/djangocon-us/'),\n",
       "             ('summary',\n",
       "              OrderedDict([('@type', 'html'),\n",
       "                           ('#text',\n",
       "                            '<p><strong><a href=\"http://lanyrd.com/2015/djangocon-us/\" class=\"url summary\">DjangoCon US 2015</a> - 6th-11th September 2015</strong></p>\\n\\n\\n\\n\\t<p><a href=\"http://lanyrd.com/places/usa/\" class=\"flag-mini\">\\n\\t\\t\\t<img src=\"https://d3brtmsfoeeao4.cloudfront.net/img/icons/flags/16/us.8f49bcb0.png\" alt=\"United States\">\\n\\t\\t</a>\\n\\t\\t<a href=\"http://lanyrd.com/places/usa/\">\\n\\t\\t\\tUnited States</a>\\n\\t\\t\\n\\t\\t\\t/\\n\\t\\t\\t<a href=\"http://lanyrd.com/places/austin/\">\\n\\t\\t\\t\\tAustin\\n\\t\\t\\t</a>\\n\\t\\t\\n\\t</p>\\n\\n\\n\\n\\t\\n\\t\\t<p>Topics: \\n\\t\\t\\t\\n\\t\\t\\t\\t<a href=\"http://lanyrd.com/topics/django/\" rel=\"tag\">Django</a>, \\n\\t\\t\\t\\n\\t\\t\\t\\t<a href=\"http://lanyrd.com/topics/open-source/\" rel=\"tag\">Open Source</a>, \\n\\t\\t\\t\\n\\t\\t\\t\\t<a href=\"http://lanyrd.com/topics/web-development/\" rel=\"tag\">Web Development</a>\\n\\t\\t\\t\\n\\t\\t</p>')])),\n",
       "             ('georss:point', '30.28192183 -97.7403831482')])"
      ]
     },
     "execution_count": 35,
     "metadata": {},
     "output_type": "execute_result"
    }
   ],
   "source": [
    "rexml['feed']['entry'][0]"
   ]
  },
  {
   "cell_type": "code",
   "execution_count": null,
   "metadata": {
    "collapsed": true
   },
   "outputs": [],
   "source": []
  },
  {
   "cell_type": "code",
   "execution_count": null,
   "metadata": {
    "collapsed": true
   },
   "outputs": [],
   "source": []
  },
  {
   "cell_type": "code",
   "execution_count": null,
   "metadata": {
    "collapsed": true
   },
   "outputs": [],
   "source": []
  },
  {
   "cell_type": "code",
   "execution_count": null,
   "metadata": {
    "collapsed": true
   },
   "outputs": [],
   "source": []
  }
 ],
 "metadata": {
  "kernelspec": {
   "display_name": "Python 3",
   "language": "python",
   "name": "python3"
  },
  "language_info": {
   "codemirror_mode": {
    "name": "ipython",
    "version": 3
   },
   "file_extension": ".py",
   "mimetype": "text/x-python",
   "name": "python",
   "nbconvert_exporter": "python",
   "pygments_lexer": "ipython3",
   "version": "3.4.2"
  }
 },
 "nbformat": 4,
 "nbformat_minor": 0
}
