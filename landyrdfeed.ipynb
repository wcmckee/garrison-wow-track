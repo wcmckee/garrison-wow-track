{
 "cells": [
  {
   "cell_type": "code",
   "execution_count": 14,
   "metadata": {
    "collapsed": true
   },
   "outputs": [],
   "source": [
    "fecon = 'http://lanyrd.com/topics/web-development/feed/'"
   ]
  },
  {
   "cell_type": "code",
   "execution_count": null,
   "metadata": {
    "collapsed": true
   },
   "outputs": [],
   "source": []
  },
  {
   "cell_type": "markdown",
   "metadata": {},
   "source": [
    "Script to loop at upcoming conferences and add their hashtag to script that then tweets/rt/fav the hashtag"
   ]
  },
  {
   "cell_type": "code",
   "execution_count": null,
   "metadata": {
    "collapsed": true
   },
   "outputs": [],
   "source": []
  },
  {
   "cell_type": "code",
   "execution_count": 15,
   "metadata": {
    "collapsed": true
   },
   "outputs": [],
   "source": [
    "from TwitterFollowBot import TwitterBot"
   ]
  },
  {
   "cell_type": "code",
   "execution_count": null,
   "metadata": {
    "collapsed": true
   },
   "outputs": [],
   "source": []
  },
  {
   "cell_type": "code",
   "execution_count": 16,
   "metadata": {
    "collapsed": true
   },
   "outputs": [],
   "source": [
    "import requests"
   ]
  },
  {
   "cell_type": "code",
   "execution_count": 17,
   "metadata": {
    "collapsed": false
   },
   "outputs": [],
   "source": [
    "import json\n",
    "\n",
    "import xmltodict"
   ]
  },
  {
   "cell_type": "code",
   "execution_count": 30,
   "metadata": {
    "collapsed": false
   },
   "outputs": [],
   "source": [
    "wcm_bot = TwitterBot('/home/wcmckee/github/config.txt')"
   ]
  },
  {
   "cell_type": "code",
   "execution_count": null,
   "metadata": {
    "collapsed": true
   },
   "outputs": [],
   "source": []
  },
  {
   "cell_type": "code",
   "execution_count": null,
   "metadata": {
    "collapsed": true
   },
   "outputs": [],
   "source": []
  },
  {
   "cell_type": "code",
   "execution_count": null,
   "metadata": {
    "collapsed": true
   },
   "outputs": [],
   "source": []
  },
  {
   "cell_type": "code",
   "execution_count": null,
   "metadata": {
    "collapsed": true
   },
   "outputs": [],
   "source": []
  },
  {
   "cell_type": "code",
   "execution_count": 31,
   "metadata": {
    "collapsed": false
   },
   "outputs": [],
   "source": [
    "refecon = requests.get(fecon)"
   ]
  },
  {
   "cell_type": "code",
   "execution_count": 32,
   "metadata": {
    "collapsed": false
   },
   "outputs": [],
   "source": [
    "rexml = xmltodict.parse(refecon.text)"
   ]
  },
  {
   "cell_type": "code",
   "execution_count": 34,
   "metadata": {
    "collapsed": false
   },
   "outputs": [
    {
     "data": {
      "text/plain": [
       "'DjangoCon US 2015, 6th-11th September 2015'"
      ]
     },
     "execution_count": 34,
     "metadata": {},
     "output_type": "execute_result"
    }
   ],
   "source": [
    "rexml['feed']['entry'][0]['title']"
   ]
  },
  {
   "cell_type": "code",
   "execution_count": 36,
   "metadata": {
    "collapsed": false
   },
   "outputs": [
    {
     "data": {
      "text/plain": [
       "20"
      ]
     },
     "execution_count": 36,
     "metadata": {},
     "output_type": "execute_result"
    }
   ],
   "source": [
    "len(rexml['feed']['entry'])"
   ]
  },
  {
   "cell_type": "code",
   "execution_count": 38,
   "metadata": {
    "collapsed": false
   },
   "outputs": [
    {
     "data": {
      "text/plain": [
       "OrderedDict([('@xmlns', 'http://www.w3.org/2005/Atom'),\n",
       "             ('@xmlns:georss', 'http://www.georss.org/georss'),\n",
       "             ('@xml:lang', 'en-gb'),\n",
       "             ('title', 'Lanyrd: Web Development conferences'),\n",
       "             ('link',\n",
       "              [OrderedDict([('@href',\n",
       "                             'http://lanyrd.com/topics/web-development/'),\n",
       "                            ('@rel', 'alternate')]),\n",
       "               OrderedDict([('@href',\n",
       "                             'http://lanyrd.com/topics/web-development/feed/'),\n",
       "                            ('@rel', 'self')])]),\n",
       "             ('id', 'http://lanyrd.com/topics/web-development/'),\n",
       "             ('updated', '2015-08-23T16:49:07+00:00'),\n",
       "             ('author', OrderedDict([('name', 'Lanyrd.com')])),\n",
       "             ('entry',\n",
       "              [OrderedDict([('title',\n",
       "                             'DjangoCon US 2015, 6th-11th September 2015'),\n",
       "                            ('link',\n",
       "                             OrderedDict([('@href',\n",
       "                                           'http://lanyrd.com/2015/djangocon-us/'),\n",
       "                                          ('@rel', 'alternate')])),\n",
       "                            ('updated', '2015-03-17T05:16:27+00:00'),\n",
       "                            ('id', 'http://lanyrd.com/2015/djangocon-us/'),\n",
       "                            ('summary',\n",
       "                             OrderedDict([('@type', 'html'),\n",
       "                                          ('#text',\n",
       "                                           '<p><strong><a href=\"http://lanyrd.com/2015/djangocon-us/\" class=\"url summary\">DjangoCon US 2015</a> - 6th-11th September 2015</strong></p>\\n\\n\\n\\n\\t<p><a href=\"http://lanyrd.com/places/usa/\" class=\"flag-mini\">\\n\\t\\t\\t<img src=\"https://d3brtmsfoeeao4.cloudfront.net/img/icons/flags/16/us.8f49bcb0.png\" alt=\"United States\">\\n\\t\\t</a>\\n\\t\\t<a href=\"http://lanyrd.com/places/usa/\">\\n\\t\\t\\tUnited States</a>\\n\\t\\t\\n\\t\\t\\t/\\n\\t\\t\\t<a href=\"http://lanyrd.com/places/austin/\">\\n\\t\\t\\t\\tAustin\\n\\t\\t\\t</a>\\n\\t\\t\\n\\t</p>\\n\\n\\n\\n\\t\\n\\t\\t<p>Topics: \\n\\t\\t\\t\\n\\t\\t\\t\\t<a href=\"http://lanyrd.com/topics/django/\" rel=\"tag\">Django</a>, \\n\\t\\t\\t\\n\\t\\t\\t\\t<a href=\"http://lanyrd.com/topics/open-source/\" rel=\"tag\">Open Source</a>, \\n\\t\\t\\t\\n\\t\\t\\t\\t<a href=\"http://lanyrd.com/topics/web-development/\" rel=\"tag\">Web Development</a>\\n\\t\\t\\t\\n\\t\\t</p>')])),\n",
       "                            ('georss:point', '30.28192183 -97.7403831482')]),\n",
       "               OrderedDict([('title', 'Meating – #nmfka, 8th September 2015'),\n",
       "                            ('link',\n",
       "                             OrderedDict([('@href',\n",
       "                                           'http://lanyrd.com/2015/nmfka-september/'),\n",
       "                                          ('@rel', 'alternate')])),\n",
       "                            ('updated', '2015-08-23T16:49:07+00:00'),\n",
       "                            ('id', 'http://lanyrd.com/2015/nmfka-september/'),\n",
       "                            ('summary',\n",
       "                             OrderedDict([('@type', 'html'),\n",
       "                                          ('#text',\n",
       "                                           '<p><strong><a href=\"http://lanyrd.com/2015/nmfka-september/\" class=\"url summary\">Meating – #nmfka</a> - 8th September 2015</strong></p>\\n<p><small>netzstrategen/machen/feierabend</small></p>\\n\\n\\n\\t<p><a href=\"http://lanyrd.com/places/germany/\" class=\"flag-mini\">\\n\\t\\t\\t<img src=\"https://d3brtmsfoeeao4.cloudfront.net/img/icons/flags/16/de.e1c3be22.png\" alt=\"Germany\">\\n\\t\\t</a>\\n\\t\\t<a href=\"http://lanyrd.com/places/germany/\">\\n\\t\\t\\tGermany</a>\\n\\t\\t\\n\\t\\t\\t/\\n\\t\\t\\t<a href=\"http://lanyrd.com/places/664942/\">\\n\\t\\t\\t\\tKarlsruhe\\n\\t\\t\\t</a>\\n\\t\\t\\n\\t</p>\\n\\n\\n\\n\\t\\n\\t\\t<p>Topics: \\n\\t\\t\\t\\n\\t\\t\\t\\t<a href=\"http://lanyrd.com/topics/meetup/\" rel=\"tag\">Meetup</a>, \\n\\t\\t\\t\\n\\t\\t\\t\\t<a href=\"http://lanyrd.com/topics/online-marketing/\" rel=\"tag\">Online Marketing</a>, \\n\\t\\t\\t\\n\\t\\t\\t\\t<a href=\"http://lanyrd.com/topics/society/\" rel=\"tag\">Society</a>, \\n\\t\\t\\t\\n\\t\\t\\t\\t<a href=\"http://lanyrd.com/topics/tax/\" rel=\"tag\">Tax</a>, \\n\\t\\t\\t\\n\\t\\t\\t\\t<a href=\"http://lanyrd.com/topics/web-development/\" rel=\"tag\">Web Development</a>\\n\\t\\t\\t\\n\\t\\t</p>')])),\n",
       "                            ('georss:point', '49.0054034193 8.43102406291')]),\n",
       "               OrderedDict([('title',\n",
       "                             'Ember Fest 2015, 8th-10th September 2015'),\n",
       "                            ('link',\n",
       "                             OrderedDict([('@href',\n",
       "                                           'http://lanyrd.com/2015/emberfest/'),\n",
       "                                          ('@rel', 'alternate')])),\n",
       "                            ('updated', '2015-06-12T09:56:40+00:00'),\n",
       "                            ('id', 'http://lanyrd.com/2015/emberfest/'),\n",
       "                            ('summary',\n",
       "                             OrderedDict([('@type', 'html'),\n",
       "                                          ('#text',\n",
       "                                           '<p><strong><a href=\"http://lanyrd.com/2015/emberfest/\" class=\"url summary\">Ember Fest 2015</a> - 8th-10th September 2015</strong></p>\\n<p><small>Europes Ember.js Conference!</small></p>\\n\\n\\n\\t<p><a href=\"http://lanyrd.com/places/england/\" class=\"flag-mini\">\\n\\t\\t\\t<img src=\"https://d3brtmsfoeeao4.cloudfront.net/img/icons/flags/16/uk.43d4481a.png\" alt=\"England\">\\n\\t\\t</a>\\n\\t\\t<a href=\"http://lanyrd.com/places/england/\">\\n\\t\\t\\tEngland</a>\\n\\t\\t\\n\\t\\t\\t/\\n\\t\\t\\t<a href=\"http://lanyrd.com/places/cambridge/\">\\n\\t\\t\\t\\tCambridge\\n\\t\\t\\t</a>\\n\\t\\t\\n\\t</p>\\n\\n\\n\\n\\t\\n\\t\\t<p>Topics: \\n\\t\\t\\t\\n\\t\\t\\t\\t<a href=\"http://lanyrd.com/topics/emberjs-1/\" rel=\"tag\">emberjs</a>, \\n\\t\\t\\t\\n\\t\\t\\t\\t<a href=\"http://lanyrd.com/topics/frontend/\" rel=\"tag\">frontend</a>, \\n\\t\\t\\t\\n\\t\\t\\t\\t<a href=\"http://lanyrd.com/topics/frontend-development/\" rel=\"tag\">Frontend Development</a>, \\n\\t\\t\\t\\n\\t\\t\\t\\t<a href=\"http://lanyrd.com/topics/javascript/\" rel=\"tag\">JavaScript</a>, \\n\\t\\t\\t\\n\\t\\t\\t\\t<a href=\"http://lanyrd.com/topics/javascript-mvc/\" rel=\"tag\">JavaScript MVC</a>, \\n\\t\\t\\t\\n\\t\\t\\t\\t<a href=\"http://lanyrd.com/topics/webapps/\" rel=\"tag\">webapps</a>, \\n\\t\\t\\t\\n\\t\\t\\t\\t<a href=\"http://lanyrd.com/topics/web-development/\" rel=\"tag\">Web Development</a>\\n\\t\\t\\t\\n\\t\\t</p>')]))]),\n",
       "               OrderedDict([('title', 'DevDay 2015, 16th-18th September 2015'),\n",
       "                            ('link',\n",
       "                             OrderedDict([('@href',\n",
       "                                           'http://lanyrd.com/2015/abbdevday/'),\n",
       "                                          ('@rel', 'alternate')])),\n",
       "                            ('updated', '2015-05-13T04:32:33+00:00'),\n",
       "                            ('id', 'http://lanyrd.com/2015/abbdevday/'),\n",
       "                            ('summary',\n",
       "                             OrderedDict([('@type', 'html'),\n",
       "                                          ('#text',\n",
       "                                           '<p><strong><a href=\"http://lanyrd.com/2015/abbdevday/\" class=\"url summary\">DevDay 2015</a> - 16th-18th September 2015</strong></p>\\n\\n\\n\\n\\t<p><a href=\"http://lanyrd.com/places/poland/\" class=\"flag-mini\">\\n\\t\\t\\t<img src=\"https://d3brtmsfoeeao4.cloudfront.net/img/icons/flags/16/pl.5cb81c12.png\" alt=\"Poland\">\\n\\t\\t</a>\\n\\t\\t<a href=\"http://lanyrd.com/places/poland/\">\\n\\t\\t\\tPoland</a>\\n\\t\\t\\n\\t\\t\\t/\\n\\t\\t\\t<a href=\"http://lanyrd.com/places/krakow/\">\\n\\t\\t\\t\\tKrakow\\n\\t\\t\\t</a>\\n\\t\\t\\n\\t</p>\\n\\n\\n\\n\\t\\n\\t\\t<p>Topics: \\n\\t\\t\\t\\n\\t\\t\\t\\t<a href=\"http://lanyrd.com/topics/aspnet/\" rel=\"tag\">ASP.NET</a>, \\n\\t\\t\\t\\n\\t\\t\\t\\t<a href=\"http://lanyrd.com/topics/functional-programming/\" rel=\"tag\">Functional Programming</a>, \\n\\t\\t\\t\\n\\t\\t\\t\\t<a href=\"http://lanyrd.com/topics/javascript/\" rel=\"tag\">JavaScript</a>, \\n\\t\\t\\t\\n\\t\\t\\t\\t<a href=\"http://lanyrd.com/topics/.NET/\" rel=\"tag\">.NET</a>, \\n\\t\\t\\t\\n\\t\\t\\t\\t<a href=\"http://lanyrd.com/topics/Programming Languages/\" rel=\"tag\"> Programming Languages</a>, \\n\\t\\t\\t\\n\\t\\t\\t\\t<a href=\"http://lanyrd.com/topics/testing/\" rel=\"tag\">Testing</a>, \\n\\t\\t\\t\\n\\t\\t\\t\\t<a href=\"http://lanyrd.com/topics/web-development/\" rel=\"tag\">Web Development</a>\\n\\t\\t\\t\\n\\t\\t</p>')])),\n",
       "                            ('georss:point', '50.06039 19.950957')]),\n",
       "               OrderedDict([('title',\n",
       "                             'From The Front, 17th-18th September 2015'),\n",
       "                            ('link',\n",
       "                             OrderedDict([('@href',\n",
       "                                           'http://lanyrd.com/2015/fromthefront/'),\n",
       "                                          ('@rel', 'alternate')])),\n",
       "                            ('updated', '2014-10-06T08:15:47+00:00'),\n",
       "                            ('id', 'http://lanyrd.com/2015/fromthefront/'),\n",
       "                            ('summary',\n",
       "                             OrderedDict([('@type', 'html'),\n",
       "                                          ('#text',\n",
       "                                           '<p><strong><a href=\"http://lanyrd.com/2015/fromthefront/\" class=\"url summary\">From The Front</a> - 17th-18th September 2015</strong></p>\\n\\n\\n\\n\\t<p><a href=\"http://lanyrd.com/places/italy/\" class=\"flag-mini\">\\n\\t\\t\\t<img src=\"https://d3brtmsfoeeao4.cloudfront.net/img/icons/flags/16/it.b87a5e76.png\" alt=\"Italy\">\\n\\t\\t</a>\\n\\t\\t<a href=\"http://lanyrd.com/places/italy/\">\\n\\t\\t\\tItaly</a>\\n\\t\\t\\n\\t\\t\\t/\\n\\t\\t\\t<a href=\"http://lanyrd.com/places/bologna/\">\\n\\t\\t\\t\\tBologna\\n\\t\\t\\t</a>\\n\\t\\t\\n\\t</p>\\n\\n\\n\\n\\t\\n\\t\\t<p>Topics: \\n\\t\\t\\t\\n\\t\\t\\t\\t<a href=\"http://lanyrd.com/topics/css/\" rel=\"tag\">CSS</a>, \\n\\t\\t\\t\\n\\t\\t\\t\\t<a href=\"http://lanyrd.com/topics/frontend-development/\" rel=\"tag\">Frontend Development</a>, \\n\\t\\t\\t\\n\\t\\t\\t\\t<a href=\"http://lanyrd.com/topics/web-development/\" rel=\"tag\">Web Development</a>\\n\\t\\t\\t\\n\\t\\t</p>')])),\n",
       "                            ('georss:point', '44.4885736151 11.3478974678')]),\n",
       "               OrderedDict([('title',\n",
       "                             'Generate London 2015, 17th-18th September 2015'),\n",
       "                            ('link',\n",
       "                             OrderedDict([('@href',\n",
       "                                           'http://lanyrd.com/2015/generate-london/'),\n",
       "                                          ('@rel', 'alternate')])),\n",
       "                            ('updated', '2014-11-19T14:41:49+00:00'),\n",
       "                            ('id', 'http://lanyrd.com/2015/generate-london/'),\n",
       "                            ('summary',\n",
       "                             OrderedDict([('@type', 'html'),\n",
       "                                          ('#text',\n",
       "                                           '<p><strong><a href=\"http://lanyrd.com/2015/generate-london/\" class=\"url summary\">Generate London 2015</a> - 17th-18th September 2015</strong></p>\\n<p><small>The conference for web designers brought to you by net magazine and Creative Bloq</small></p>\\n\\n\\n\\t<p><a href=\"http://lanyrd.com/places/england/\" class=\"flag-mini\">\\n\\t\\t\\t<img src=\"https://d3brtmsfoeeao4.cloudfront.net/img/icons/flags/16/uk.43d4481a.png\" alt=\"England\">\\n\\t\\t</a>\\n\\t\\t<a href=\"http://lanyrd.com/places/england/\">\\n\\t\\t\\tEngland</a>\\n\\t\\t\\n\\t\\t\\t/\\n\\t\\t\\t<a href=\"http://lanyrd.com/places/london/\">\\n\\t\\t\\t\\tLondon\\n\\t\\t\\t</a>\\n\\t\\t\\n\\t</p>\\n\\n\\n\\n\\t\\n\\t\\t<p>Topics: \\n\\t\\t\\t\\n\\t\\t\\t\\t<a href=\"http://lanyrd.com/topics/css/\" rel=\"tag\">CSS</a>, \\n\\t\\t\\t\\n\\t\\t\\t\\t<a href=\"http://lanyrd.com/topics/responsive-web-design/\" rel=\"tag\">Responsive Web Design</a>, \\n\\t\\t\\t\\n\\t\\t\\t\\t<a href=\"http://lanyrd.com/topics/svg/\" rel=\"tag\">SVG</a>, \\n\\t\\t\\t\\n\\t\\t\\t\\t<a href=\"http://lanyrd.com/topics/user-experience/\" rel=\"tag\">User Experience</a>, \\n\\t\\t\\t\\n\\t\\t\\t\\t<a href=\"http://lanyrd.com/topics/web-design/\" rel=\"tag\">Web Design</a>, \\n\\t\\t\\t\\n\\t\\t\\t\\t<a href=\"http://lanyrd.com/topics/web-development/\" rel=\"tag\">Web Development</a>, \\n\\t\\t\\t\\n\\t\\t\\t\\t<a href=\"http://lanyrd.com/topics/web-performance/\" rel=\"tag\">Web Performance</a>\\n\\t\\t\\t\\n\\t\\t</p>')])),\n",
       "                            ('georss:point',\n",
       "                             '51.5153957793 -0.121014369312')]),\n",
       "               OrderedDict([('title',\n",
       "                             'WebExpo Prague 2015, 19th-20th September 2015'),\n",
       "                            ('link',\n",
       "                             OrderedDict([('@href',\n",
       "                                           'http://lanyrd.com/2015/webexpo-prague/'),\n",
       "                                          ('@rel', 'alternate')])),\n",
       "                            ('updated', '2015-06-06T18:43:38+00:00'),\n",
       "                            ('id', 'http://lanyrd.com/2015/webexpo-prague/'),\n",
       "                            ('summary',\n",
       "                             OrderedDict([('@type', 'html'),\n",
       "                                          ('#text',\n",
       "                                           '<p><strong><a href=\"http://lanyrd.com/2015/webexpo-prague/\" class=\"url summary\">WebExpo Prague 2015</a> - 19th-20th September 2015</strong></p>\\n<p><small>The largest gathering of web developers, web designers and Internet businesses in Central Europe</small></p>\\n\\n\\n\\t<p><a href=\"http://lanyrd.com/places/czech-republic/\" class=\"flag-mini\">\\n\\t\\t\\t<img src=\"https://d3brtmsfoeeao4.cloudfront.net/img/icons/flags/16/cz.7be4b7de.png\" alt=\"Czech Republic\">\\n\\t\\t</a>\\n\\t\\t<a href=\"http://lanyrd.com/places/czech-republic/\">\\n\\t\\t\\tCzech Republic</a>\\n\\t\\t\\n\\t\\t\\t/\\n\\t\\t\\t<a href=\"http://lanyrd.com/places/12607749/\">\\n\\t\\t\\t\\tPrague\\n\\t\\t\\t</a>\\n\\t\\t\\n\\t</p>\\n\\n\\n\\n\\t\\n\\t\\t<p>Topics: \\n\\t\\t\\t\\n\\t\\t\\t\\t<a href=\"http://lanyrd.com/topics/online-marketing/\" rel=\"tag\">Online Marketing</a>, \\n\\t\\t\\t\\n\\t\\t\\t\\t<a href=\"http://lanyrd.com/topics/software-engineering/\" rel=\"tag\">Software Engineering</a>, \\n\\t\\t\\t\\n\\t\\t\\t\\t<a href=\"http://lanyrd.com/topics/user-experience/\" rel=\"tag\">User Experience</a>, \\n\\t\\t\\t\\n\\t\\t\\t\\t<a href=\"http://lanyrd.com/topics/web-architecture/\" rel=\"tag\">Web Architecture</a>, \\n\\t\\t\\t\\n\\t\\t\\t\\t<a href=\"http://lanyrd.com/topics/web-design/\" rel=\"tag\">Web Design</a>, \\n\\t\\t\\t\\n\\t\\t\\t\\t<a href=\"http://lanyrd.com/topics/web-development/\" rel=\"tag\">Web Development</a>\\n\\t\\t\\t\\n\\t\\t</p>')]))]),\n",
       "               OrderedDict([('title',\n",
       "                             'PHPConf.Asia, 22nd-23rd September 2015'),\n",
       "                            ('link',\n",
       "                             OrderedDict([('@href',\n",
       "                                           'http://lanyrd.com/2015/phpasia/'),\n",
       "                                          ('@rel', 'alternate')])),\n",
       "                            ('updated', '2015-03-31T03:01:16+00:00'),\n",
       "                            ('id', 'http://lanyrd.com/2015/phpasia/'),\n",
       "                            ('summary',\n",
       "                             OrderedDict([('@type', 'html'),\n",
       "                                          ('#text',\n",
       "                                           '<p><strong><a href=\"http://lanyrd.com/2015/phpasia/\" class=\"url summary\">PHPConf.Asia</a> - 22nd-23rd September 2015</strong></p>\\n<p><small>Inaugural pan-Asian PHP conference happening in Singapore this September. CFP opens in May 2015. Tickets to go on sale in July 2015! Register for email updates today!</small></p>\\n\\n\\n\\t<p><a href=\"http://lanyrd.com/places/singapore/\" class=\"flag-mini\">\\n\\t\\t\\t<img src=\"https://d3brtmsfoeeao4.cloudfront.net/img/icons/flags/16/sg.fce19b19.png\" alt=\"Singapore\">\\n\\t\\t</a>\\n\\t\\t<a href=\"http://lanyrd.com/places/singapore/\">\\n\\t\\t\\tSingapore</a>\\n\\t\\t\\n\\t</p>\\n\\n\\n\\n\\t\\n\\t\\t<p>Topics: \\n\\t\\t\\t\\n\\t\\t\\t\\t<a href=\"http://lanyrd.com/topics/php/\" rel=\"tag\">PHP</a>, \\n\\t\\t\\t\\n\\t\\t\\t\\t<a href=\"http://lanyrd.com/topics/web-development/\" rel=\"tag\">Web Development</a>\\n\\t\\t\\t\\n\\t\\t</p>')]))]),\n",
       "               OrderedDict([('title',\n",
       "                             'SmartWeb Conference 2015, 22nd September 2015'),\n",
       "                            ('link',\n",
       "                             OrderedDict([('@href',\n",
       "                                           'http://lanyrd.com/2015/smartwebconf/'),\n",
       "                                          ('@rel', 'alternate')])),\n",
       "                            ('updated', '2015-03-23T08:53:14+00:00'),\n",
       "                            ('id', 'http://lanyrd.com/2015/smartwebconf/'),\n",
       "                            ('summary',\n",
       "                             OrderedDict([('@type', 'html'),\n",
       "                                          ('#text',\n",
       "                                           '<p><strong><a href=\"http://lanyrd.com/2015/smartwebconf/\" class=\"url summary\">SmartWeb Conference 2015</a> - 22nd September 2015</strong></p>\\n<p><small>A conference for East-European web designers and developers, bringing you an exquisite lineup of speakers.</small></p>\\n\\n\\n\\t<p><a href=\"http://lanyrd.com/places/romania/\" class=\"flag-mini\">\\n\\t\\t\\t<img src=\"https://d3brtmsfoeeao4.cloudfront.net/img/icons/flags/16/ro.46adbc3d.png\" alt=\"Romania\">\\n\\t\\t</a>\\n\\t\\t<a href=\"http://lanyrd.com/places/romania/\">\\n\\t\\t\\tRomania</a>\\n\\t\\t\\n\\t\\t\\t/\\n\\t\\t\\t<a href=\"http://lanyrd.com/places/bucharest/\">\\n\\t\\t\\t\\tBucharest\\n\\t\\t\\t</a>\\n\\t\\t\\n\\t</p>\\n\\n\\n\\n\\t\\n\\t\\t<p>Topics: \\n\\t\\t\\t\\n\\t\\t\\t\\t<a href=\"http://lanyrd.com/topics/css/\" rel=\"tag\">CSS</a>, \\n\\t\\t\\t\\n\\t\\t\\t\\t<a href=\"http://lanyrd.com/topics/javascript/\" rel=\"tag\">JavaScript</a>, \\n\\t\\t\\t\\n\\t\\t\\t\\t<a href=\"http://lanyrd.com/topics/responsive-web-design/\" rel=\"tag\">Responsive Web Design</a>, \\n\\t\\t\\t\\n\\t\\t\\t\\t<a href=\"http://lanyrd.com/topics/web-design/\" rel=\"tag\">Web Design</a>, \\n\\t\\t\\t\\n\\t\\t\\t\\t<a href=\"http://lanyrd.com/topics/web-development/\" rel=\"tag\">Web Development</a>\\n\\t\\t\\t\\n\\t\\t</p>')]))]),\n",
       "               OrderedDict([('title', 'WXG 2015 , 25th September 2015'),\n",
       "                            ('link',\n",
       "                             OrderedDict([('@href',\n",
       "                                           'http://lanyrd.com/2015/wxg/'),\n",
       "                                          ('@rel', 'alternate')])),\n",
       "                            ('updated', '2014-10-06T10:40:13+00:00'),\n",
       "                            ('id', 'http://lanyrd.com/2015/wxg/'),\n",
       "                            ('summary',\n",
       "                             OrderedDict([('@type', 'html'),\n",
       "                                          ('#text',\n",
       "                                           '<p><strong><a href=\"http://lanyrd.com/2015/wxg/\" class=\"url summary\">WXG 2015 </a> - 25th September 2015</strong></p>\\n<p><small>A one-day event dedicated to web design, code and creativity</small></p>\\n\\n\\n\\t<p><a href=\"http://lanyrd.com/places/england/\" class=\"flag-mini\">\\n\\t\\t\\t<img src=\"https://d3brtmsfoeeao4.cloudfront.net/img/icons/flags/16/uk.43d4481a.png\" alt=\"England\">\\n\\t\\t</a>\\n\\t\\t<a href=\"http://lanyrd.com/places/england/\">\\n\\t\\t\\tEngland</a>\\n\\t\\t\\n\\t\\t\\t/\\n\\t\\t\\t<a href=\"http://lanyrd.com/places/guildford/\">\\n\\t\\t\\t\\tGuildford\\n\\t\\t\\t</a>\\n\\t\\t\\n\\t</p>\\n\\n\\n\\n\\t\\n\\t\\t<p>Topics: \\n\\t\\t\\t\\n\\t\\t\\t\\t<a href=\"http://lanyrd.com/topics/creativity/\" rel=\"tag\">Creativity</a>, \\n\\t\\t\\t\\n\\t\\t\\t\\t<a href=\"http://lanyrd.com/topics/inspiration/\" rel=\"tag\">Inspiration</a>, \\n\\t\\t\\t\\n\\t\\t\\t\\t<a href=\"http://lanyrd.com/topics/web-design/\" rel=\"tag\">Web Design</a>, \\n\\t\\t\\t\\n\\t\\t\\t\\t<a href=\"http://lanyrd.com/topics/web-development/\" rel=\"tag\">Web Development</a>\\n\\t\\t\\t\\n\\t\\t</p>')])),\n",
       "                            ('georss:point', '51.238586563 -0.566324843903')]),\n",
       "               OrderedDict([('title', \"A-Tag'15, 25th September 2015\"),\n",
       "                            ('link',\n",
       "                             OrderedDict([('@href',\n",
       "                                           'http://lanyrd.com/2015/a-tag15/'),\n",
       "                                          ('@rel', 'alternate')])),\n",
       "                            ('updated', '2015-05-11T16:36:39+00:00'),\n",
       "                            ('id', 'http://lanyrd.com/2015/a-tag15/'),\n",
       "                            ('summary',\n",
       "                             OrderedDict([('@type', 'html'),\n",
       "                                          ('#text',\n",
       "                                           '<p><strong><a href=\"http://lanyrd.com/2015/a-tag15/\" class=\"url summary\">A-Tag&#39;15</a> - 25th September 2015</strong></p>\\n<p><small>All Accessibility</small></p>\\n\\n\\n\\t<p><a href=\"http://lanyrd.com/places/austria/\" class=\"flag-mini\">\\n\\t\\t\\t<img src=\"https://d3brtmsfoeeao4.cloudfront.net/img/icons/flags/16/at.ceece582.png\" alt=\"Austria\">\\n\\t\\t</a>\\n\\t\\t<a href=\"http://lanyrd.com/places/austria/\">\\n\\t\\t\\tAustria</a>\\n\\t\\t\\n\\t\\t\\t/\\n\\t\\t\\t<a href=\"http://lanyrd.com/places/vienna/\">\\n\\t\\t\\t\\tVienna\\n\\t\\t\\t</a>\\n\\t\\t\\n\\t</p>\\n\\n\\n\\n\\t\\n\\t\\t<p>Topics: \\n\\t\\t\\t\\n\\t\\t\\t\\t<a href=\"http://lanyrd.com/topics/accessibility/\" rel=\"tag\">Accessibility</a>, \\n\\t\\t\\t\\n\\t\\t\\t\\t<a href=\"http://lanyrd.com/topics/mobile/\" rel=\"tag\">Mobile</a>, \\n\\t\\t\\t\\n\\t\\t\\t\\t<a href=\"http://lanyrd.com/topics/wai-aria/\" rel=\"tag\">WAI-ARIA</a>, \\n\\t\\t\\t\\n\\t\\t\\t\\t<a href=\"http://lanyrd.com/topics/web/\" rel=\"tag\">Web</a>, \\n\\t\\t\\t\\n\\t\\t\\t\\t<a href=\"http://lanyrd.com/topics/web-accessibility/\" rel=\"tag\">Web Accessibility</a>, \\n\\t\\t\\t\\n\\t\\t\\t\\t<a href=\"http://lanyrd.com/topics/web-development/\" rel=\"tag\">Web Development</a>\\n\\t\\t\\t\\n\\t\\t</p>')])),\n",
       "                            ('georss:point', '48.2326103 16.4137729')]),\n",
       "               OrderedDict([('title',\n",
       "                             'Workshop: Building RESTful and real-time APIs with Node, 25th September 2015'),\n",
       "                            ('link',\n",
       "                             OrderedDict([('@href',\n",
       "                                           'http://lanyrd.com/2015/whiteoctevents-node-workshop/'),\n",
       "                                          ('@rel', 'alternate')])),\n",
       "                            ('updated', '2015-08-03T10:27:37+00:00'),\n",
       "                            ('id',\n",
       "                             'http://lanyrd.com/2015/whiteoctevents-node-workshop/'),\n",
       "                            ('summary',\n",
       "                             OrderedDict([('@type', 'html'),\n",
       "                                          ('#text',\n",
       "                                           '<p><strong><a href=\"http://lanyrd.com/2015/whiteoctevents-node-workshop/\" class=\"url summary\">Workshop: Building RESTful and real-time APIs with Node</a> - 25th September 2015</strong></p>\\n<p><small>Learn how to build rock-solid, fast node servers in 1 day</small></p>\\n\\n\\n\\t<p><a href=\"http://lanyrd.com/places/england/\" class=\"flag-mini\">\\n\\t\\t\\t<img src=\"https://d3brtmsfoeeao4.cloudfront.net/img/icons/flags/16/uk.43d4481a.png\" alt=\"England\">\\n\\t\\t</a>\\n\\t\\t<a href=\"http://lanyrd.com/places/england/\">\\n\\t\\t\\tEngland</a>\\n\\t\\t\\n\\t\\t\\t/\\n\\t\\t\\t<a href=\"http://lanyrd.com/places/london/\">\\n\\t\\t\\t\\tLondon\\n\\t\\t\\t</a>\\n\\t\\t\\n\\t</p>\\n\\n\\n\\n\\t\\n\\t\\t<p>Topics: \\n\\t\\t\\t\\n\\t\\t\\t\\t<a href=\"http://lanyrd.com/topics/apis/\" rel=\"tag\">APIs</a>, \\n\\t\\t\\t\\n\\t\\t\\t\\t<a href=\"http://lanyrd.com/topics/asynchronous/\" rel=\"tag\">Asynchronous</a>, \\n\\t\\t\\t\\n\\t\\t\\t\\t<a href=\"http://lanyrd.com/topics/nodejs/\" rel=\"tag\">Node.js</a>, \\n\\t\\t\\t\\n\\t\\t\\t\\t<a href=\"http://lanyrd.com/topics/node-package-manager/\" rel=\"tag\">Node Package Manager</a>, \\n\\t\\t\\t\\n\\t\\t\\t\\t<a href=\"http://lanyrd.com/topics/programming/\" rel=\"tag\">Programming</a>, \\n\\t\\t\\t\\n\\t\\t\\t\\t<a href=\"http://lanyrd.com/topics/software/\" rel=\"tag\">Software</a>, \\n\\t\\t\\t\\n\\t\\t\\t\\t<a href=\"http://lanyrd.com/topics/web-development/\" rel=\"tag\">Web Development</a>\\n\\t\\t\\t\\n\\t\\t</p>')])),\n",
       "                            ('georss:point',\n",
       "                             '51.4978854032 -0.097562419639')]),\n",
       "               OrderedDict([('title', 'CSSconf EU 2015, 26th September 2015'),\n",
       "                            ('link',\n",
       "                             OrderedDict([('@href',\n",
       "                                           'http://lanyrd.com/2015/cssconf/'),\n",
       "                                          ('@rel', 'alternate')])),\n",
       "                            ('updated', '2014-12-17T11:23:27+00:00'),\n",
       "                            ('id', 'http://lanyrd.com/2015/cssconf/'),\n",
       "                            ('summary',\n",
       "                             OrderedDict([('@type', 'html'),\n",
       "                                          ('#text',\n",
       "                                           '<p><strong><a href=\"http://lanyrd.com/2015/cssconf/\" class=\"url summary\">CSSconf EU 2015</a> - 26th September 2015</strong></p>\\n\\n\\n\\n\\t<p><a href=\"http://lanyrd.com/places/germany/\" class=\"flag-mini\">\\n\\t\\t\\t<img src=\"https://d3brtmsfoeeao4.cloudfront.net/img/icons/flags/16/de.e1c3be22.png\" alt=\"Germany\">\\n\\t\\t</a>\\n\\t\\t<a href=\"http://lanyrd.com/places/germany/\">\\n\\t\\t\\tGermany</a>\\n\\t\\t\\n\\t\\t\\t/\\n\\t\\t\\t<a href=\"http://lanyrd.com/places/638242/\">\\n\\t\\t\\t\\tBerlin\\n\\t\\t\\t</a>\\n\\t\\t\\n\\t</p>\\n\\n\\n\\n\\t\\n\\t\\t<p>Topics: \\n\\t\\t\\t\\n\\t\\t\\t\\t<a href=\"http://lanyrd.com/topics/community/\" rel=\"tag\">Community</a>, \\n\\t\\t\\t\\n\\t\\t\\t\\t<a href=\"http://lanyrd.com/topics/css/\" rel=\"tag\">CSS</a>, \\n\\t\\t\\t\\n\\t\\t\\t\\t<a href=\"http://lanyrd.com/topics/front-end-1/\" rel=\"tag\">Front End</a>, \\n\\t\\t\\t\\n\\t\\t\\t\\t<a href=\"http://lanyrd.com/topics/mobile/\" rel=\"tag\">Mobile</a>, \\n\\t\\t\\t\\n\\t\\t\\t\\t<a href=\"http://lanyrd.com/topics/ux-design/\" rel=\"tag\">UX Design</a>, \\n\\t\\t\\t\\n\\t\\t\\t\\t<a href=\"http://lanyrd.com/topics/web-design/\" rel=\"tag\">Web Design</a>, \\n\\t\\t\\t\\n\\t\\t\\t\\t<a href=\"http://lanyrd.com/topics/web-development/\" rel=\"tag\">Web Development</a>\\n\\t\\t\\t\\n\\t\\t</p>')])),\n",
       "                            ('georss:point', '52.510612489 13.4286500745')]),\n",
       "               OrderedDict([('title',\n",
       "                             'Voxxed Days Belgrade, 1st-2nd October 2015'),\n",
       "                            ('link',\n",
       "                             OrderedDict([('@href',\n",
       "                                           'http://lanyrd.com/2015/voxxedbelgreade/'),\n",
       "                                          ('@rel', 'alternate')])),\n",
       "                            ('updated', '2015-05-04T22:05:56+00:00'),\n",
       "                            ('id', 'http://lanyrd.com/2015/voxxedbelgreade/'),\n",
       "                            ('summary',\n",
       "                             OrderedDict([('@type', 'html'),\n",
       "                                          ('#text',\n",
       "                                           '<p><strong><a href=\"http://lanyrd.com/2015/voxxedbelgreade/\" class=\"url summary\">Voxxed Days Belgrade</a> - 1st-2nd October 2015</strong></p>\\n<p><small>Biggest Tech Event in the Balkan region</small></p>\\n\\n\\n\\t<p><a href=\"http://lanyrd.com/places/serbia/\" class=\"flag-mini\">\\n\\t\\t\\t<img src=\"https://d3brtmsfoeeao4.cloudfront.net/img/icons/flags/16/rs.26ef97f3.png\" alt=\"Serbia\">\\n\\t\\t</a>\\n\\t\\t<a href=\"http://lanyrd.com/places/serbia/\">\\n\\t\\t\\tSerbia</a>\\n\\t\\t\\n\\t\\t\\t/\\n\\t\\t\\t<a href=\"http://lanyrd.com/places/532697/\">\\n\\t\\t\\t\\tBelgrade\\n\\t\\t\\t</a>\\n\\t\\t\\n\\t</p>\\n\\n\\n\\n\\t\\n\\t\\t<p>Topics: \\n\\t\\t\\t\\n\\t\\t\\t\\t<a href=\"http://lanyrd.com/topics/big-data/\" rel=\"tag\">Big Data</a>, \\n\\t\\t\\t\\n\\t\\t\\t\\t<a href=\"http://lanyrd.com/topics/embedded/\" rel=\"tag\">Embedded</a>, \\n\\t\\t\\t\\n\\t\\t\\t\\t<a href=\"http://lanyrd.com/topics/iot/\" rel=\"tag\">IOT</a>, \\n\\t\\t\\t\\n\\t\\t\\t\\t<a href=\"http://lanyrd.com/topics/mobile/\" rel=\"tag\">Mobile</a>, \\n\\t\\t\\t\\n\\t\\t\\t\\t<a href=\"http://lanyrd.com/topics/nosql/\" rel=\"tag\">NoSQL</a>, \\n\\t\\t\\t\\n\\t\\t\\t\\t<a href=\"http://lanyrd.com/topics/software-engineering/\" rel=\"tag\">Software Engineering</a>, \\n\\t\\t\\t\\n\\t\\t\\t\\t<a href=\"http://lanyrd.com/topics/web-development/\" rel=\"tag\">Web Development</a>\\n\\t\\t\\t\\n\\t\\t</p>')])),\n",
       "                            ('georss:point', '44.8206540872 20.4546260341')]),\n",
       "               OrderedDict([('title', 'Paris Web 2015, 1st-3rd October 2015'),\n",
       "                            ('link',\n",
       "                             OrderedDict([('@href',\n",
       "                                           'http://lanyrd.com/2015/parisweb/'),\n",
       "                                          ('@rel', 'alternate')])),\n",
       "                            ('updated', '2015-04-10T12:33:39+00:00'),\n",
       "                            ('id', 'http://lanyrd.com/2015/parisweb/'),\n",
       "                            ('summary',\n",
       "                             OrderedDict([('@type', 'html'),\n",
       "                                          ('#text',\n",
       "                                           '<p><strong><a href=\"http://lanyrd.com/2015/parisweb/\" class=\"url summary\">Paris Web 2015</a> - 1st-3rd October 2015</strong></p>\\n<p><small>Webdesign, qualité et accessibilité.</small></p>\\n<p>(online conference)</p>\\n\\n\\t<p><a href=\"http://lanyrd.com/places/france/\" class=\"flag-mini\">\\n\\t\\t\\t<img src=\"https://d3brtmsfoeeao4.cloudfront.net/img/icons/flags/16/fr.b3469b66.png\" alt=\"France\">\\n\\t\\t</a>\\n\\t\\t<a href=\"http://lanyrd.com/places/france/\">\\n\\t\\t\\tFrance</a>\\n\\t\\t\\n\\t\\t\\t/\\n\\t\\t\\t<a href=\"http://lanyrd.com/places/paris/\">\\n\\t\\t\\t\\tParis\\n\\t\\t\\t</a>\\n\\t\\t\\n\\t</p>\\n\\n\\n\\n\\t\\n\\t\\t<p>Topics: \\n\\t\\t\\t\\n\\t\\t\\t\\t<a href=\"http://lanyrd.com/topics/accessibility/\" rel=\"tag\">Accessibility</a>, \\n\\t\\t\\t\\n\\t\\t\\t\\t<a href=\"http://lanyrd.com/topics/open-web/\" rel=\"tag\">Open Web</a>, \\n\\t\\t\\t\\n\\t\\t\\t\\t<a href=\"http://lanyrd.com/topics/user-experience/\" rel=\"tag\">User Experience</a>, \\n\\t\\t\\t\\n\\t\\t\\t\\t<a href=\"http://lanyrd.com/topics/web-design/\" rel=\"tag\">Web Design</a>, \\n\\t\\t\\t\\n\\t\\t\\t\\t<a href=\"http://lanyrd.com/topics/web-development/\" rel=\"tag\">Web Development</a>, \\n\\t\\t\\t\\n\\t\\t\\t\\t<a href=\"http://lanyrd.com/topics/web-performance/\" rel=\"tag\">Web Performance</a>, \\n\\t\\t\\t\\n\\t\\t\\t\\t<a href=\"http://lanyrd.com/topics/web-standards/\" rel=\"tag\">Web Standards</a>\\n\\t\\t\\t\\n\\t\\t</p>')])),\n",
       "                            ('georss:point', '48.8191530804 2.31956989233')]),\n",
       "               OrderedDict([('title',\n",
       "                             'HighEdWeb 2015 Technical Academy, 3rd-4th October 2015'),\n",
       "                            ('link',\n",
       "                             OrderedDict([('@href',\n",
       "                                           'http://lanyrd.com/2015/hewebtech/'),\n",
       "                                          ('@rel', 'alternate')])),\n",
       "                            ('updated', '2015-05-22T14:53:16+00:00'),\n",
       "                            ('id', 'http://lanyrd.com/2015/hewebtech/'),\n",
       "                            ('summary',\n",
       "                             OrderedDict([('@type', 'html'),\n",
       "                                          ('#text',\n",
       "                                           '<p><strong><a href=\"http://lanyrd.com/2015/hewebtech/\" class=\"url summary\">HighEdWeb 2015 Technical Academy</a> - 3rd-4th October 2015</strong></p>\\n<p><small>Sharpen your technical Web skills</small></p>\\n\\n\\n\\t<p><a href=\"http://lanyrd.com/places/usa/\" class=\"flag-mini\">\\n\\t\\t\\t<img src=\"https://d3brtmsfoeeao4.cloudfront.net/img/icons/flags/16/us.8f49bcb0.png\" alt=\"United States\">\\n\\t\\t</a>\\n\\t\\t<a href=\"http://lanyrd.com/places/usa/\">\\n\\t\\t\\tUnited States</a>\\n\\t\\t\\n\\t\\t\\t/\\n\\t\\t\\t<a href=\"http://lanyrd.com/places/milwaukee/\">\\n\\t\\t\\t\\tMilwaukee\\n\\t\\t\\t</a>\\n\\t\\t\\n\\t</p>\\n\\n\\n\\n\\t\\n\\t\\t<p>Topics: \\n\\t\\t\\t\\n\\t\\t\\t\\t<a href=\"http://lanyrd.com/topics/accessibility/\" rel=\"tag\">Accessibility</a>, \\n\\t\\t\\t\\n\\t\\t\\t\\t<a href=\"http://lanyrd.com/topics/automation/\" rel=\"tag\">Automation</a>, \\n\\t\\t\\t\\n\\t\\t\\t\\t<a href=\"http://lanyrd.com/topics/higher-education/\" rel=\"tag\">Higher Education</a>, \\n\\t\\t\\t\\n\\t\\t\\t\\t<a href=\"http://lanyrd.com/topics/javascript/\" rel=\"tag\">JavaScript</a>, \\n\\t\\t\\t\\n\\t\\t\\t\\t<a href=\"http://lanyrd.com/topics/operations/\" rel=\"tag\">Operations</a>, \\n\\t\\t\\t\\n\\t\\t\\t\\t<a href=\"http://lanyrd.com/topics/web-development/\" rel=\"tag\">Web Development</a>, \\n\\t\\t\\t\\n\\t\\t\\t\\t<a href=\"http://lanyrd.com/topics/web-performance/\" rel=\"tag\">Web Performance</a>\\n\\t\\t\\t\\n\\t\\t</p>')])),\n",
       "                            ('georss:point', '43.0387664 -87.9175721')]),\n",
       "               OrderedDict([('title',\n",
       "                             'WebCamp Zagreb 2015, 3rd-4th October 2015'),\n",
       "                            ('link',\n",
       "                             OrderedDict([('@href',\n",
       "                                           'http://lanyrd.com/2015/wczg/'),\n",
       "                                          ('@rel', 'alternate')])),\n",
       "                            ('updated', '2015-03-31T13:43:45+00:00'),\n",
       "                            ('id', 'http://lanyrd.com/2015/wczg/'),\n",
       "                            ('summary',\n",
       "                             OrderedDict([('@type', 'html'),\n",
       "                                          ('#text',\n",
       "                                           '<p><strong><a href=\"http://lanyrd.com/2015/wczg/\" class=\"url summary\">WebCamp Zagreb 2015</a> - 3rd-4th October 2015</strong></p>\\n<p><small>Largest tech conference for web developers &amp; designers in South East Europe</small></p>\\n\\n\\n\\t<p><a href=\"http://lanyrd.com/places/croatia/\" class=\"flag-mini\">\\n\\t\\t\\t<img src=\"https://d3brtmsfoeeao4.cloudfront.net/img/icons/flags/16/hr.dfa98592.png\" alt=\"Croatia\">\\n\\t\\t</a>\\n\\t\\t<a href=\"http://lanyrd.com/places/croatia/\">\\n\\t\\t\\tCroatia</a>\\n\\t\\t\\n\\t\\t\\t/\\n\\t\\t\\t<a href=\"http://lanyrd.com/places/15022257/\">\\n\\t\\t\\t\\tZagreb\\n\\t\\t\\t</a>\\n\\t\\t\\n\\t</p>\\n\\n\\n\\n\\t\\n\\t\\t<p>Topics: \\n\\t\\t\\t\\n\\t\\t\\t\\t<a href=\"http://lanyrd.com/topics/javascript/\" rel=\"tag\">JavaScript</a>, \\n\\t\\t\\t\\n\\t\\t\\t\\t<a href=\"http://lanyrd.com/topics/nosql/\" rel=\"tag\">NoSQL</a>, \\n\\t\\t\\t\\n\\t\\t\\t\\t<a href=\"http://lanyrd.com/topics/software-engineering/\" rel=\"tag\">Software Engineering</a>, \\n\\t\\t\\t\\n\\t\\t\\t\\t<a href=\"http://lanyrd.com/topics/software-quality/\" rel=\"tag\">Software Quality</a>, \\n\\t\\t\\t\\n\\t\\t\\t\\t<a href=\"http://lanyrd.com/topics/user-experience/\" rel=\"tag\">User Experience</a>, \\n\\t\\t\\t\\n\\t\\t\\t\\t<a href=\"http://lanyrd.com/topics/web-design/\" rel=\"tag\">Web Design</a>, \\n\\t\\t\\t\\n\\t\\t\\t\\t<a href=\"http://lanyrd.com/topics/web-development/\" rel=\"tag\">Web Development</a>\\n\\t\\t\\t\\n\\t\\t</p>')])),\n",
       "                            ('georss:point', '45.7935352306 15.969867038')]),\n",
       "               OrderedDict([('title',\n",
       "                             'Future of Web Apps London, 5th-7th October 2015'),\n",
       "                            ('link',\n",
       "                             OrderedDict([('@href',\n",
       "                                           'http://lanyrd.com/2015/fowa/'),\n",
       "                                          ('@rel', 'alternate')])),\n",
       "                            ('updated', '2015-02-05T11:04:44+00:00'),\n",
       "                            ('id', 'http://lanyrd.com/2015/fowa/'),\n",
       "                            ('summary',\n",
       "                             OrderedDict([('@type', 'html'),\n",
       "                                          ('#text',\n",
       "                                           '<p><strong><a href=\"http://lanyrd.com/2015/fowa/\" class=\"url summary\">Future of Web Apps London</a> - 5th-7th October 2015</strong></p>\\n<p><small>A conference focusing on APIs and Toolkits with numerous sessions tailored to help you become the best developer you can be!</small></p>\\n\\n\\n\\t<p><a href=\"http://lanyrd.com/places/england/\" class=\"flag-mini\">\\n\\t\\t\\t<img src=\"https://d3brtmsfoeeao4.cloudfront.net/img/icons/flags/16/uk.43d4481a.png\" alt=\"England\">\\n\\t\\t</a>\\n\\t\\t<a href=\"http://lanyrd.com/places/england/\">\\n\\t\\t\\tEngland</a>\\n\\t\\t\\n\\t\\t\\t/\\n\\t\\t\\t<a href=\"http://lanyrd.com/places/london/\">\\n\\t\\t\\t\\tLondon\\n\\t\\t\\t</a>\\n\\t\\t\\n\\t</p>\\n\\n\\n\\n\\t\\n\\t\\t<p>Topics: \\n\\t\\t\\t\\n\\t\\t\\t\\t<a href=\"http://lanyrd.com/topics/api/\" rel=\"tag\">API</a>, \\n\\t\\t\\t\\n\\t\\t\\t\\t<a href=\"http://lanyrd.com/topics/css/\" rel=\"tag\">CSS</a>, \\n\\t\\t\\t\\n\\t\\t\\t\\t<a href=\"http://lanyrd.com/topics/google/\" rel=\"tag\">Google</a>, \\n\\t\\t\\t\\n\\t\\t\\t\\t<a href=\"http://lanyrd.com/topics/javascript/\" rel=\"tag\">JavaScript</a>, \\n\\t\\t\\t\\n\\t\\t\\t\\t<a href=\"http://lanyrd.com/topics/real-time/\" rel=\"tag\">Real Time</a>, \\n\\t\\t\\t\\n\\t\\t\\t\\t<a href=\"http://lanyrd.com/topics/toolkits/\" rel=\"tag\">Toolkits</a>, \\n\\t\\t\\t\\n\\t\\t\\t\\t<a href=\"http://lanyrd.com/topics/web-development/\" rel=\"tag\">Web Development</a>\\n\\t\\t\\t\\n\\t\\t</p>')]))]),\n",
       "               OrderedDict([('title', 'Java Forum Nord, 6th October 2015'),\n",
       "                            ('link',\n",
       "                             OrderedDict([('@href',\n",
       "                                           'http://lanyrd.com/2015/jfn15/'),\n",
       "                                          ('@rel', 'alternate')])),\n",
       "                            ('updated', '2015-03-07T14:41:34+00:00'),\n",
       "                            ('id', 'http://lanyrd.com/2015/jfn15/'),\n",
       "                            ('summary',\n",
       "                             OrderedDict([('@type', 'html'),\n",
       "                                          ('#text',\n",
       "                                           '<p><strong><a href=\"http://lanyrd.com/2015/jfn15/\" class=\"url summary\">Java Forum Nord</a> - 6th October 2015</strong></p>\\n<p><small>Die Konferenz der Java-Community in Norddeutschland.</small></p>\\n\\n\\n\\t<p><a href=\"http://lanyrd.com/places/germany/\" class=\"flag-mini\">\\n\\t\\t\\t<img src=\"https://d3brtmsfoeeao4.cloudfront.net/img/icons/flags/16/de.e1c3be22.png\" alt=\"Germany\">\\n\\t\\t</a>\\n\\t\\t<a href=\"http://lanyrd.com/places/germany/\">\\n\\t\\t\\tGermany</a>\\n\\t\\t\\n\\t\\t\\t/\\n\\t\\t\\t<a href=\"http://lanyrd.com/places/657169/\">\\n\\t\\t\\t\\tHanover\\n\\t\\t\\t</a>\\n\\t\\t\\n\\t</p>\\n\\n\\n\\n\\t\\n\\t\\t<p>Topics: \\n\\t\\t\\t\\n\\t\\t\\t\\t<a href=\"http://lanyrd.com/topics/java/\" rel=\"tag\">Java</a>, \\n\\t\\t\\t\\n\\t\\t\\t\\t<a href=\"http://lanyrd.com/topics/javaee/\" rel=\"tag\">Java EE</a>, \\n\\t\\t\\t\\n\\t\\t\\t\\t<a href=\"http://lanyrd.com/topics/programming/\" rel=\"tag\">Programming</a>, \\n\\t\\t\\t\\n\\t\\t\\t\\t<a href=\"http://lanyrd.com/topics/software-architecture/\" rel=\"tag\">Software Architecture</a>, \\n\\t\\t\\t\\n\\t\\t\\t\\t<a href=\"http://lanyrd.com/topics/software-engineering/\" rel=\"tag\">Software Engineering</a>, \\n\\t\\t\\t\\n\\t\\t\\t\\t<a href=\"http://lanyrd.com/topics/web-development/\" rel=\"tag\">Web Development</a>\\n\\t\\t\\t\\n\\t\\t</p>')])),\n",
       "                            ('georss:point', '52.3784870295 9.74501116568')]),\n",
       "               OrderedDict([('title', 'UpFront Mini, 6th October 2015'),\n",
       "                            ('link',\n",
       "                             OrderedDict([('@href',\n",
       "                                           'http://lanyrd.com/2015/upfrontmini/'),\n",
       "                                          ('@rel', 'alternate')])),\n",
       "                            ('updated', '2015-07-30T16:10:14+00:00'),\n",
       "                            ('id', 'http://lanyrd.com/2015/upfrontmini/'),\n",
       "                            ('summary',\n",
       "                             OrderedDict([('@type', 'html'),\n",
       "                                          ('#text',\n",
       "                                           '<p><strong><a href=\"http://lanyrd.com/2015/upfrontmini/\" class=\"url summary\">UpFront Mini</a> - 6th October 2015</strong></p>\\n<p><small>UpFront Conf&#39;s younger sibling</small></p>\\n\\n\\n\\t<p><a href=\"http://lanyrd.com/places/england/\" class=\"flag-mini\">\\n\\t\\t\\t<img src=\"https://d3brtmsfoeeao4.cloudfront.net/img/icons/flags/16/uk.43d4481a.png\" alt=\"England\">\\n\\t\\t</a>\\n\\t\\t<a href=\"http://lanyrd.com/places/england/\">\\n\\t\\t\\tEngland</a>\\n\\t\\t\\n\\t\\t\\t/\\n\\t\\t\\t<a href=\"http://lanyrd.com/places/12695841/\">\\n\\t\\t\\t\\tManchester City\\n\\t\\t\\t</a>\\n\\t\\t\\n\\t</p>\\n\\n\\n\\n\\t\\n\\t\\t<p>Topics: \\n\\t\\t\\t\\n\\t\\t\\t\\t<a href=\"http://lanyrd.com/topics/front-end/\" rel=\"tag\">front-end</a>, \\n\\t\\t\\t\\n\\t\\t\\t\\t<a href=\"http://lanyrd.com/topics/front-end-development/\" rel=\"tag\">Front-end development</a>, \\n\\t\\t\\t\\n\\t\\t\\t\\t<a href=\"http://lanyrd.com/topics/frontend-development/\" rel=\"tag\">Frontend Development</a>, \\n\\t\\t\\t\\n\\t\\t\\t\\t<a href=\"http://lanyrd.com/topics/javascript/\" rel=\"tag\">JavaScript</a>, \\n\\t\\t\\t\\n\\t\\t\\t\\t<a href=\"http://lanyrd.com/topics/web-design/\" rel=\"tag\">Web Design</a>, \\n\\t\\t\\t\\n\\t\\t\\t\\t<a href=\"http://lanyrd.com/topics/web-development/\" rel=\"tag\">Web Development</a>\\n\\t\\t\\t\\n\\t\\t</p>')])),\n",
       "                            ('georss:point', '53.4689271 -2.2361253')])])])"
      ]
     },
     "execution_count": 38,
     "metadata": {},
     "output_type": "execute_result"
    }
   ],
   "source": [
    "rexml['feed']"
   ]
  },
  {
   "cell_type": "code",
   "execution_count": 35,
   "metadata": {
    "collapsed": false
   },
   "outputs": [
    {
     "data": {
      "text/plain": [
       "OrderedDict([('title', 'DjangoCon US 2015, 6th-11th September 2015'),\n",
       "             ('link',\n",
       "              OrderedDict([('@href', 'http://lanyrd.com/2015/djangocon-us/'),\n",
       "                           ('@rel', 'alternate')])),\n",
       "             ('updated', '2015-03-17T05:16:27+00:00'),\n",
       "             ('id', 'http://lanyrd.com/2015/djangocon-us/'),\n",
       "             ('summary',\n",
       "              OrderedDict([('@type', 'html'),\n",
       "                           ('#text',\n",
       "                            '<p><strong><a href=\"http://lanyrd.com/2015/djangocon-us/\" class=\"url summary\">DjangoCon US 2015</a> - 6th-11th September 2015</strong></p>\\n\\n\\n\\n\\t<p><a href=\"http://lanyrd.com/places/usa/\" class=\"flag-mini\">\\n\\t\\t\\t<img src=\"https://d3brtmsfoeeao4.cloudfront.net/img/icons/flags/16/us.8f49bcb0.png\" alt=\"United States\">\\n\\t\\t</a>\\n\\t\\t<a href=\"http://lanyrd.com/places/usa/\">\\n\\t\\t\\tUnited States</a>\\n\\t\\t\\n\\t\\t\\t/\\n\\t\\t\\t<a href=\"http://lanyrd.com/places/austin/\">\\n\\t\\t\\t\\tAustin\\n\\t\\t\\t</a>\\n\\t\\t\\n\\t</p>\\n\\n\\n\\n\\t\\n\\t\\t<p>Topics: \\n\\t\\t\\t\\n\\t\\t\\t\\t<a href=\"http://lanyrd.com/topics/django/\" rel=\"tag\">Django</a>, \\n\\t\\t\\t\\n\\t\\t\\t\\t<a href=\"http://lanyrd.com/topics/open-source/\" rel=\"tag\">Open Source</a>, \\n\\t\\t\\t\\n\\t\\t\\t\\t<a href=\"http://lanyrd.com/topics/web-development/\" rel=\"tag\">Web Development</a>\\n\\t\\t\\t\\n\\t\\t</p>')])),\n",
       "             ('georss:point', '30.28192183 -97.7403831482')])"
      ]
     },
     "execution_count": 35,
     "metadata": {},
     "output_type": "execute_result"
    }
   ],
   "source": [
    "rexml['feed']['entry'][0]"
   ]
  },
  {
   "cell_type": "code",
   "execution_count": null,
   "metadata": {
    "collapsed": true
   },
   "outputs": [],
   "source": []
  },
  {
   "cell_type": "code",
   "execution_count": null,
   "metadata": {
    "collapsed": true
   },
   "outputs": [],
   "source": []
  },
  {
   "cell_type": "code",
   "execution_count": null,
   "metadata": {
    "collapsed": true
   },
   "outputs": [],
   "source": []
  },
  {
   "cell_type": "code",
   "execution_count": null,
   "metadata": {
    "collapsed": true
   },
   "outputs": [],
   "source": []
  }
 ],
 "metadata": {
  "kernelspec": {
   "display_name": "Python 3",
   "language": "python",
   "name": "python3"
  },
  "language_info": {
   "codemirror_mode": {
    "name": "ipython",
    "version": 3
   },
   "file_extension": ".py",
   "mimetype": "text/x-python",
   "name": "python",
   "nbconvert_exporter": "python",
   "pygments_lexer": "ipython3",
   "version": "3.4.2"
  }
 },
 "nbformat": 4,
 "nbformat_minor": 0
}
