{
 "cells": [
  {
   "cell_type": "code",
   "execution_count": 14,
   "metadata": {
    "collapsed": true
   },
   "outputs": [],
   "source": [
    "fecon = 'http://lanyrd.com/topics/web-development/feed/'"
   ]
  },
  {
   "cell_type": "code",
   "execution_count": null,
   "metadata": {
    "collapsed": true
   },
   "outputs": [],
   "source": []
  },
  {
   "cell_type": "markdown",
   "metadata": {},
   "source": [
    "Script to loop at upcoming conferences and add their hashtag to script that then tweets/rt/fav the hashtag"
   ]
  },
  {
   "cell_type": "code",
   "execution_count": null,
   "metadata": {
    "collapsed": true
   },
   "outputs": [],
   "source": []
  },
  {
   "cell_type": "code",
   "execution_count": 15,
   "metadata": {
    "collapsed": true
   },
   "outputs": [],
   "source": [
    "from TwitterFollowBot import TwitterBot"
   ]
  },
  {
   "cell_type": "code",
   "execution_count": null,
   "metadata": {
    "collapsed": true
   },
   "outputs": [],
   "source": []
  },
  {
   "cell_type": "code",
   "execution_count": 16,
   "metadata": {
    "collapsed": true
   },
   "outputs": [],
   "source": [
    "import requests"
   ]
  },
  {
   "cell_type": "code",
   "execution_count": 17,
   "metadata": {
    "collapsed": false
   },
   "outputs": [],
   "source": [
    "import json\n",
    "\n",
    "import xmltodict"
   ]
  },
  {
   "cell_type": "code",
   "execution_count": 30,
   "metadata": {
    "collapsed": false
   },
   "outputs": [],
   "source": [
    "wcm_bot = TwitterBot('/home/wcmckee/github/config.txt')"
   ]
  },
  {
   "cell_type": "code",
   "execution_count": null,
   "metadata": {
    "collapsed": true
   },
   "outputs": [],
   "source": []
  },
  {
   "cell_type": "code",
   "execution_count": null,
   "metadata": {
    "collapsed": true
   },
   "outputs": [],
   "source": []
  },
  {
   "cell_type": "code",
   "execution_count": null,
   "metadata": {
    "collapsed": true
   },
   "outputs": [],
   "source": []
  },
  {
   "cell_type": "code",
   "execution_count": null,
   "metadata": {
    "collapsed": true
   },
   "outputs": [],
   "source": []
  },
  {
   "cell_type": "code",
   "execution_count": 31,
   "metadata": {
    "collapsed": false
   },
   "outputs": [],
   "source": [
    "refecon = requests.get(fecon)"
   ]
  },
  {
   "cell_type": "code",
   "execution_count": 32,
   "metadata": {
    "collapsed": false
   },
   "outputs": [],
   "source": [
    "rexml = xmltodict.parse(refecon.text)"
   ]
  },
  {
   "cell_type": "code",
   "execution_count": 34,
   "metadata": {
    "collapsed": false
   },
   "outputs": [
    {
     "data": {
      "text/plain": [
       "'DjangoCon US 2015, 6th-11th September 2015'"
      ]
     },
     "execution_count": 34,
     "metadata": {},
     "output_type": "execute_result"
    }
   ],
   "source": [
    "rexml['feed']['entry'][0]['title']"
   ]
  },
  {
   "cell_type": "code",
   "execution_count": 41,
   "metadata": {
    "collapsed": false
   },
   "outputs": [],
   "source": [
    "lenran = len(rexml['feed']['entry'])"
   ]
  },
  {
   "cell_type": "code",
   "execution_count": 50,
   "metadata": {
    "collapsed": true
   },
   "outputs": [],
   "source": [
    "fedict = dict()"
   ]
  },
  {
   "cell_type": "code",
   "execution_count": 79,
   "metadata": {
    "collapsed": false
   },
   "outputs": [],
   "source": [
    "import pandas\n",
    "import bs4\n"
   ]
  },
  {
   "cell_type": "code",
   "execution_count": null,
   "metadata": {
    "collapsed": true
   },
   "outputs": [],
   "source": [
    "bs4.BeautifulSoup()"
   ]
  },
  {
   "cell_type": "code",
   "execution_count": null,
   "metadata": {
    "collapsed": true
   },
   "outputs": [],
   "source": []
  },
  {
   "cell_type": "code",
   "execution_count": 82,
   "metadata": {
    "collapsed": false
   },
   "outputs": [
    {
     "name": "stdout",
     "output_type": "stream",
     "text": [
      "http://lanyrd.com/2015/djangocon-us/\n",
      "<img alt=\"United States\" src=\"https://d3brtmsfoeeao4.cloudfront.net/img/icons/flags/16/us.8f49bcb0.png\"/>\n",
      "http://lanyrd.com/2015/nmfka-september/\n",
      "<img alt=\"Germany\" src=\"https://d3brtmsfoeeao4.cloudfront.net/img/icons/flags/16/de.e1c3be22.png\"/>\n",
      "http://lanyrd.com/2015/emberfest/\n",
      "<img alt=\"England\" src=\"https://d3brtmsfoeeao4.cloudfront.net/img/icons/flags/16/uk.43d4481a.png\"/>\n",
      "http://lanyrd.com/2015/abbdevday/\n",
      "<img alt=\"Poland\" src=\"https://d3brtmsfoeeao4.cloudfront.net/img/icons/flags/16/pl.5cb81c12.png\"/>\n",
      "http://lanyrd.com/2015/fromthefront/\n",
      "<img alt=\"Italy\" src=\"https://d3brtmsfoeeao4.cloudfront.net/img/icons/flags/16/it.b87a5e76.png\"/>\n",
      "http://lanyrd.com/2015/generate-london/\n",
      "<img alt=\"England\" src=\"https://d3brtmsfoeeao4.cloudfront.net/img/icons/flags/16/uk.43d4481a.png\"/>\n",
      "http://lanyrd.com/2015/webexpo-prague/\n",
      "<img alt=\"Czech Republic\" src=\"https://d3brtmsfoeeao4.cloudfront.net/img/icons/flags/16/cz.7be4b7de.png\"/>\n",
      "http://lanyrd.com/2015/phpasia/\n",
      "<img alt=\"Singapore\" src=\"https://d3brtmsfoeeao4.cloudfront.net/img/icons/flags/16/sg.fce19b19.png\"/>\n",
      "http://lanyrd.com/2015/smartwebconf/\n",
      "<img alt=\"Romania\" src=\"https://d3brtmsfoeeao4.cloudfront.net/img/icons/flags/16/ro.46adbc3d.png\"/>\n",
      "http://lanyrd.com/2015/wxg/\n",
      "<img alt=\"England\" src=\"https://d3brtmsfoeeao4.cloudfront.net/img/icons/flags/16/uk.43d4481a.png\"/>\n",
      "http://lanyrd.com/2015/a-tag15/\n",
      "<img alt=\"Austria\" src=\"https://d3brtmsfoeeao4.cloudfront.net/img/icons/flags/16/at.ceece582.png\"/>\n",
      "http://lanyrd.com/2015/whiteoctevents-node-workshop/\n",
      "<img alt=\"England\" src=\"https://d3brtmsfoeeao4.cloudfront.net/img/icons/flags/16/uk.43d4481a.png\"/>\n",
      "http://lanyrd.com/2015/cssconf/\n",
      "<img alt=\"Germany\" src=\"https://d3brtmsfoeeao4.cloudfront.net/img/icons/flags/16/de.e1c3be22.png\"/>\n",
      "http://lanyrd.com/2015/voxxedbelgreade/\n",
      "<img alt=\"Serbia\" src=\"https://d3brtmsfoeeao4.cloudfront.net/img/icons/flags/16/rs.26ef97f3.png\"/>\n",
      "http://lanyrd.com/2015/parisweb/\n",
      "<img alt=\"France\" src=\"https://d3brtmsfoeeao4.cloudfront.net/img/icons/flags/16/fr.b3469b66.png\"/>\n",
      "http://lanyrd.com/2015/hewebtech/\n",
      "<img alt=\"United States\" src=\"https://d3brtmsfoeeao4.cloudfront.net/img/icons/flags/16/us.8f49bcb0.png\"/>\n",
      "http://lanyrd.com/2015/wczg/\n",
      "<img alt=\"Croatia\" src=\"https://d3brtmsfoeeao4.cloudfront.net/img/icons/flags/16/hr.dfa98592.png\"/>\n",
      "http://lanyrd.com/2015/fowa/\n",
      "<img alt=\"England\" src=\"https://d3brtmsfoeeao4.cloudfront.net/img/icons/flags/16/uk.43d4481a.png\"/>\n",
      "http://lanyrd.com/2015/jfn15/\n",
      "<img alt=\"Germany\" src=\"https://d3brtmsfoeeao4.cloudfront.net/img/icons/flags/16/de.e1c3be22.png\"/>\n",
      "http://lanyrd.com/2015/upfrontmini/\n",
      "<img alt=\"England\" src=\"https://d3brtmsfoeeao4.cloudfront.net/img/icons/flags/16/uk.43d4481a.png\"/>\n"
     ]
    },
    {
     "name": "stderr",
     "output_type": "stream",
     "text": [
      "/usr/local/lib/python3.4/dist-packages/bs4/__init__.py:166: UserWarning: No parser was explicitly specified, so I'm using the best available HTML parser for this system (\"lxml\"). This usually isn't a problem, but if you run this code on another system, or in a different virtual environment, it may use a different parser and behave differently.\n",
      "\n",
      "To get rid of this warning, change this:\n",
      "\n",
      " BeautifulSoup([your markup])\n",
      "\n",
      "to this:\n",
      "\n",
      " BeautifulSoup([your markup], \"lxml\")\n",
      "\n",
      "  markup_type=markup_type))\n"
     ]
    }
   ],
   "source": [
    "for feran in range(lenran):\n",
    "    fedict.update({feran : (rexml['feed']['entry'][feran]['title'])})\n",
    "    #newdict = ({fedict : (rexml['feed']['entry'][feran]['link']['@href'])})\n",
    "    #nedict = dict()\n",
    "    #nedict.update({fedict : str(rexml['feed']['entry'][feran]['link']['@href'])})\n",
    "    print (rexml['feed']['entry'][feran]['link']['@href'])\n",
    "    \n",
    "    bstex = bs4.BeautifulSoup((rexml['feed']['entry'][feran]['summary']['#text']))\n",
    "    \n",
    "    print (bstex.find('img'))\n"
   ]
  },
  {
   "cell_type": "code",
   "execution_count": null,
   "metadata": {
    "collapsed": true
   },
   "outputs": [],
   "source": []
  },
  {
   "cell_type": "code",
   "execution_count": null,
   "metadata": {
    "collapsed": true
   },
   "outputs": [],
   "source": []
  },
  {
   "cell_type": "code",
   "execution_count": null,
   "metadata": {
    "collapsed": true
   },
   "outputs": [],
   "source": []
  },
  {
   "cell_type": "code",
   "execution_count": null,
   "metadata": {
    "collapsed": true
   },
   "outputs": [],
   "source": []
  },
  {
   "cell_type": "code",
   "execution_count": null,
   "metadata": {
    "collapsed": true
   },
   "outputs": [],
   "source": []
  },
  {
   "cell_type": "code",
   "execution_count": null,
   "metadata": {
    "collapsed": true
   },
   "outputs": [],
   "source": []
  },
  {
   "cell_type": "code",
   "execution_count": null,
   "metadata": {
    "collapsed": true
   },
   "outputs": [],
   "source": []
  },
  {
   "cell_type": "code",
   "execution_count": 74,
   "metadata": {
    "collapsed": true
   },
   "outputs": [],
   "source": [
    "import arrow"
   ]
  },
  {
   "cell_type": "code",
   "execution_count": 77,
   "metadata": {
    "collapsed": false
   },
   "outputs": [
    {
     "name": "stdout",
     "output_type": "stream",
     "text": [
      "2006-09-11 20:15:00\n",
      "2015-09-08 00:00:00\n",
      "2008-09-10 20:15:00\n",
      "2016-09-18 20:15:00\n",
      "2017-09-18 20:15:00\n",
      "2017-09-18 20:15:00\n",
      "2019-09-20 20:15:00\n",
      "2022-09-23 20:15:00\n",
      "2015-09-22 00:00:00\n",
      "2015-09-25 00:00:00\n",
      "2015-09-25 00:00:00\n",
      "2015-09-25 00:00:00\n",
      "2015-09-26 00:00:00\n",
      "2001-10-02 20:15:00\n",
      "2001-10-03 20:15:00\n",
      "2003-10-04 20:15:00\n",
      "2003-10-04 20:15:00\n",
      "2005-10-07 20:15:00\n",
      "2015-10-06 00:00:00\n",
      "2015-10-06 00:00:00\n",
      "2015-10-06 00:00:00\n"
     ]
    }
   ],
   "source": [
    "for fedi in fedict.values():\n",
    "    fedsi = (fedi.split(',')[1])\n",
    "    pantim = pandas.to_datetime(fedi.split(',')[1])\n",
    "    print (pantim)"
   ]
  },
  {
   "cell_type": "code",
   "execution_count": null,
   "metadata": {
    "collapsed": true
   },
   "outputs": [],
   "source": []
  },
  {
   "cell_type": "code",
   "execution_count": null,
   "metadata": {
    "collapsed": true
   },
   "outputs": [],
   "source": []
  },
  {
   "cell_type": "code",
   "execution_count": null,
   "metadata": {
    "collapsed": true
   },
   "outputs": [],
   "source": []
  },
  {
   "cell_type": "code",
   "execution_count": null,
   "metadata": {
    "collapsed": true
   },
   "outputs": [],
   "source": []
  },
  {
   "cell_type": "code",
   "execution_count": null,
   "metadata": {
    "collapsed": true
   },
   "outputs": [],
   "source": []
  },
  {
   "cell_type": "code",
   "execution_count": null,
   "metadata": {
    "collapsed": true
   },
   "outputs": [],
   "source": []
  },
  {
   "cell_type": "code",
   "execution_count": 40,
   "metadata": {
    "collapsed": false
   },
   "outputs": [
    {
     "ename": "TypeError",
     "evalue": "list indices must be integers, not str",
     "output_type": "error",
     "traceback": [
      "\u001b[1;31m---------------------------------------------------------------------------\u001b[0m",
      "\u001b[1;31mTypeError\u001b[0m                                 Traceback (most recent call last)",
      "\u001b[1;32m<ipython-input-40-eddf29a62d5e>\u001b[0m in \u001b[0;36m<module>\u001b[1;34m()\u001b[0m\n\u001b[1;32m----> 1\u001b[1;33m \u001b[0mrexml\u001b[0m\u001b[1;33m[\u001b[0m\u001b[1;34m'feed'\u001b[0m\u001b[1;33m]\u001b[0m\u001b[1;33m[\u001b[0m\u001b[1;34m'entry'\u001b[0m\u001b[1;33m]\u001b[0m\u001b[1;33m[\u001b[0m\u001b[1;34m'summary'\u001b[0m\u001b[1;33m]\u001b[0m\u001b[1;33m\u001b[0m\u001b[0m\n\u001b[0m",
      "\u001b[1;31mTypeError\u001b[0m: list indices must be integers, not str"
     ]
    }
   ],
   "source": [
    "rexml['feed']['entry']"
   ]
  },
  {
   "cell_type": "code",
   "execution_count": null,
   "metadata": {
    "collapsed": true
   },
   "outputs": [],
   "source": []
  },
  {
   "cell_type": "code",
   "execution_count": null,
   "metadata": {
    "collapsed": true
   },
   "outputs": [],
   "source": []
  },
  {
   "cell_type": "code",
   "execution_count": 35,
   "metadata": {
    "collapsed": false
   },
   "outputs": [
    {
     "data": {
      "text/plain": [
       "OrderedDict([('title', 'DjangoCon US 2015, 6th-11th September 2015'),\n",
       "             ('link',\n",
       "              OrderedDict([('@href', 'http://lanyrd.com/2015/djangocon-us/'),\n",
       "                           ('@rel', 'alternate')])),\n",
       "             ('updated', '2015-03-17T05:16:27+00:00'),\n",
       "             ('id', 'http://lanyrd.com/2015/djangocon-us/'),\n",
       "             ('summary',\n",
       "              OrderedDict([('@type', 'html'),\n",
       "                           ('#text',\n",
       "                            '<p><strong><a href=\"http://lanyrd.com/2015/djangocon-us/\" class=\"url summary\">DjangoCon US 2015</a> - 6th-11th September 2015</strong></p>\\n\\n\\n\\n\\t<p><a href=\"http://lanyrd.com/places/usa/\" class=\"flag-mini\">\\n\\t\\t\\t<img src=\"https://d3brtmsfoeeao4.cloudfront.net/img/icons/flags/16/us.8f49bcb0.png\" alt=\"United States\">\\n\\t\\t</a>\\n\\t\\t<a href=\"http://lanyrd.com/places/usa/\">\\n\\t\\t\\tUnited States</a>\\n\\t\\t\\n\\t\\t\\t/\\n\\t\\t\\t<a href=\"http://lanyrd.com/places/austin/\">\\n\\t\\t\\t\\tAustin\\n\\t\\t\\t</a>\\n\\t\\t\\n\\t</p>\\n\\n\\n\\n\\t\\n\\t\\t<p>Topics: \\n\\t\\t\\t\\n\\t\\t\\t\\t<a href=\"http://lanyrd.com/topics/django/\" rel=\"tag\">Django</a>, \\n\\t\\t\\t\\n\\t\\t\\t\\t<a href=\"http://lanyrd.com/topics/open-source/\" rel=\"tag\">Open Source</a>, \\n\\t\\t\\t\\n\\t\\t\\t\\t<a href=\"http://lanyrd.com/topics/web-development/\" rel=\"tag\">Web Development</a>\\n\\t\\t\\t\\n\\t\\t</p>')])),\n",
       "             ('georss:point', '30.28192183 -97.7403831482')])"
      ]
     },
     "execution_count": 35,
     "metadata": {},
     "output_type": "execute_result"
    }
   ],
   "source": [
    "rexml['feed']['entry'][0]"
   ]
  },
  {
   "cell_type": "code",
   "execution_count": null,
   "metadata": {
    "collapsed": true
   },
   "outputs": [],
   "source": []
  },
  {
   "cell_type": "code",
   "execution_count": null,
   "metadata": {
    "collapsed": true
   },
   "outputs": [],
   "source": []
  },
  {
   "cell_type": "code",
   "execution_count": null,
   "metadata": {
    "collapsed": true
   },
   "outputs": [],
   "source": []
  },
  {
   "cell_type": "code",
   "execution_count": null,
   "metadata": {
    "collapsed": true
   },
   "outputs": [],
   "source": []
  }
 ],
 "metadata": {
  "kernelspec": {
   "display_name": "Python 3",
   "language": "python",
   "name": "python3"
  },
  "language_info": {
   "codemirror_mode": {
    "name": "ipython",
    "version": 3
   },
   "file_extension": ".py",
   "mimetype": "text/x-python",
   "name": "python",
   "nbconvert_exporter": "python",
   "pygments_lexer": "ipython3",
   "version": "3.4.2"
  }
 },
 "nbformat": 4,
 "nbformat_minor": 0
}
