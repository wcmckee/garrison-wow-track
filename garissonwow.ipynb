{
 "cells": [
  {
   "cell_type": "markdown",
   "metadata": {},
   "source": [
    "<h1>GarrissonWow</h1>\n",
    "\n",
    "Script to get world of warcraft data and display it in a website."
   ]
  },
  {
   "cell_type": "code",
   "execution_count": 1,
   "metadata": {
    "collapsed": true
   },
   "outputs": [],
   "source": [
    "import battlenet\n",
    "import dominate\n",
    "from dominate.tags import * "
   ]
  },
  {
   "cell_type": "code",
   "execution_count": 2,
   "metadata": {
    "collapsed": true
   },
   "outputs": [],
   "source": [
    "from battlenet import Realm"
   ]
  },
  {
   "cell_type": "code",
   "execution_count": 3,
   "metadata": {
    "collapsed": false
   },
   "outputs": [],
   "source": [
    "realm = Realm(battlenet.UNITED_STATES, \"jubei'thos\")"
   ]
  },
  {
   "cell_type": "code",
   "execution_count": 4,
   "metadata": {
    "collapsed": false
   },
   "outputs": [
    {
     "data": {
      "text/plain": [
       "<Realm: Jubei'Thos(US)>"
      ]
     },
     "execution_count": 4,
     "metadata": {},
     "output_type": "execute_result"
    }
   ],
   "source": [
    "realm"
   ]
  },
  {
   "cell_type": "code",
   "execution_count": 5,
   "metadata": {
    "collapsed": false
   },
   "outputs": [
    {
     "name": "stdout",
     "output_type": "stream",
     "text": [
      "True\n"
     ]
    }
   ],
   "source": [
    "print realm.is_online()"
   ]
  },
  {
   "cell_type": "code",
   "execution_count": 7,
   "metadata": {
    "collapsed": false
   },
   "outputs": [],
   "source": [
    "#charget = battlenet."
   ]
  },
  {
   "cell_type": "code",
   "execution_count": 8,
   "metadata": {
    "collapsed": true
   },
   "outputs": [],
   "source": [
    "from battlenet import Character\n"
   ]
  },
  {
   "cell_type": "markdown",
   "metadata": {},
   "source": [
    "inpd character name input ut realm an."
   ]
  },
  {
   "cell_type": "code",
   "execution_count": 112,
   "metadata": {
    "collapsed": false
   },
   "outputs": [
    {
     "name": "stdout",
     "output_type": "stream",
     "text": [
      "Enter US realm name: saurfang\n",
      "Enter character: portishead\n"
     ]
    }
   ],
   "source": [
    "lookuprealm = raw_input(\"Enter US realm name: \")\n",
    "\n",
    "lookupchar = raw_input(\"Enter character: \")"
   ]
  },
  {
   "cell_type": "code",
   "execution_count": 113,
   "metadata": {
    "collapsed": true
   },
   "outputs": [],
   "source": [
    "bookchar = Character(battlenet.UNITED_STATES, lookuprealm, lookupchar)"
   ]
  },
  {
   "cell_type": "code",
   "execution_count": 170,
   "metadata": {
    "collapsed": false
   },
   "outputs": [
    {
     "data": {
      "text/plain": [
       "<bound method Character.get_spec_name of <Character: Portishead@Saurfang>>"
      ]
     },
     "execution_count": 170,
     "metadata": {},
     "output_type": "execute_result"
    }
   ],
   "source": [
    "bookchar.get_spec_name"
   ]
  },
  {
   "cell_type": "code",
   "execution_count": 193,
   "metadata": {
    "collapsed": false
   },
   "outputs": [
    {
     "data": {
      "text/plain": [
       "'http://us.battle.net/static-render/us/internal-record-3695/237/158282221-avatar.jpg'"
      ]
     },
     "execution_count": 193,
     "metadata": {},
     "output_type": "execute_result"
    }
   ],
   "source": [
    "bookchar.get_thumbnail_url()"
   ]
  },
  {
   "cell_type": "code",
   "execution_count": 195,
   "metadata": {
    "collapsed": false
   },
   "outputs": [
    {
     "data": {
      "text/plain": [
       "13"
      ]
     },
     "execution_count": 195,
     "metadata": {},
     "output_type": "execute_result"
    }
   ],
   "source": [
    "bookchar.last_modified.day"
   ]
  },
  {
   "cell_type": "code",
   "execution_count": 198,
   "metadata": {
    "collapsed": false
   },
   "outputs": [],
   "source": [
    "racnum = bookchar.race"
   ]
  },
  {
   "cell_type": "code",
   "execution_count": 197,
   "metadata": {
    "collapsed": false
   },
   "outputs": [
    {
     "data": {
      "text/plain": [
       "{1: 'Human',\n",
       " 2: 'Orc',\n",
       " 3: 'Dwarf',\n",
       " 4: 'Night Elf',\n",
       " 5: 'Undead',\n",
       " 6: 'Tauren',\n",
       " 7: 'Gnome',\n",
       " 8: 'Troll',\n",
       " 9: 'Goblin',\n",
       " 10: 'Blood Elf',\n",
       " 11: 'Draenei',\n",
       " 22: 'Worgen'}"
      ]
     },
     "execution_count": 197,
     "metadata": {},
     "output_type": "execute_result"
    }
   ],
   "source": [
    "battlenet.RACE"
   ]
  },
  {
   "cell_type": "code",
   "execution_count": 200,
   "metadata": {
    "collapsed": false
   },
   "outputs": [
    {
     "name": "stdout",
     "output_type": "stream",
     "text": [
      "Gnome\n"
     ]
    }
   ],
   "source": [
    "print battlenet.RACE[racnum]"
   ]
  },
  {
   "cell_type": "code",
   "execution_count": 201,
   "metadata": {
    "collapsed": false
   },
   "outputs": [
    {
     "data": {
      "text/plain": [
       "{1: 'Alliance',\n",
       " 2: 'Horde',\n",
       " 3: 'Alliance',\n",
       " 4: 'Alliance',\n",
       " 5: 'Horde',\n",
       " 6: 'Horde',\n",
       " 7: 'Alliance',\n",
       " 8: 'Horde',\n",
       " 9: 'Horde',\n",
       " 10: 'Horde',\n",
       " 11: 'Alliance',\n",
       " 22: 'Alliance'}"
      ]
     },
     "execution_count": 201,
     "metadata": {},
     "output_type": "execute_result"
    }
   ],
   "source": [
    "battlenet.RACE_TO_FACTION"
   ]
  },
  {
   "cell_type": "code",
   "execution_count": 202,
   "metadata": {
    "collapsed": false
   },
   "outputs": [
    {
     "name": "stdout",
     "output_type": "stream",
     "text": [
      "Alliance\n"
     ]
    }
   ],
   "source": [
    "print battlenet.RACE_TO_FACTION[racnum]"
   ]
  },
  {
   "cell_type": "code",
   "execution_count": 205,
   "metadata": {
    "collapsed": false
   },
   "outputs": [
    {
     "name": "stdout",
     "output_type": "stream",
     "text": [
      "<function quote at 0xb4711cb0>\n"
     ]
    }
   ],
   "source": [
    "print battlenet.quote"
   ]
  },
  {
   "cell_type": "code",
   "execution_count": 206,
   "metadata": {
    "collapsed": false
   },
   "outputs": [
    {
     "name": "stdout",
     "output_type": "stream",
     "text": [
      "{1: 'Warrior', 2: 'Paladin', 3: 'Hunter', 4: 'Rogue', 5: 'Priest', 6: 'Death Knight', 7: 'Shaman', 8: 'Mage', 9: 'Warlock', 11: 'Druid'}\n"
     ]
    }
   ],
   "source": [
    "print battlenet.enums.CLASS"
   ]
  },
  {
   "cell_type": "code",
   "execution_count": 207,
   "metadata": {
    "collapsed": false
   },
   "outputs": [
    {
     "name": "stdout",
     "output_type": "stream",
     "text": [
      "6\n"
     ]
    }
   ],
   "source": [
    "print bookchar.class_"
   ]
  },
  {
   "cell_type": "code",
   "execution_count": 212,
   "metadata": {
    "collapsed": false
   },
   "outputs": [
    {
     "name": "stdout",
     "output_type": "stream",
     "text": [
      "Shaman\n"
     ]
    }
   ],
   "source": [
    "print battlenet.enums.CLASS[racnum]"
   ]
  },
  {
   "cell_type": "code",
   "execution_count": 220,
   "metadata": {
    "collapsed": false
   },
   "outputs": [
    {
     "ename": "KeyError",
     "evalue": "'expertiseRating'",
     "output_type": "error",
     "traceback": [
      "\u001b[1;31m---------------------------------------------------------------------------\u001b[0m",
      "\u001b[1;31mKeyError\u001b[0m                                  Traceback (most recent call last)",
      "\u001b[1;32m<ipython-input-220-ab7fceb0be38>\u001b[0m in \u001b[0;36m<module>\u001b[1;34m()\u001b[0m\n\u001b[1;32m----> 1\u001b[1;33m \u001b[0mbookchar\u001b[0m\u001b[1;33m.\u001b[0m\u001b[0mstats\u001b[0m\u001b[1;33m\u001b[0m\u001b[0m\n\u001b[0m",
      "\u001b[1;32m/usr/local/lib/python2.7/dist-packages/battlenet/things.pyc\u001b[0m in \u001b[0;36mstats\u001b[1;34m(self)\u001b[0m\n\u001b[0;32m    260\u001b[0m     \u001b[1;32mdef\u001b[0m \u001b[0mstats\u001b[0m\u001b[1;33m(\u001b[0m\u001b[0mself\u001b[0m\u001b[1;33m)\u001b[0m\u001b[1;33m:\u001b[0m\u001b[1;33m\u001b[0m\u001b[0m\n\u001b[0;32m    261\u001b[0m         \u001b[1;32mif\u001b[0m \u001b[0mself\u001b[0m\u001b[1;33m.\u001b[0m\u001b[0m_refresh_if_not_present\u001b[0m\u001b[1;33m(\u001b[0m\u001b[0mCharacter\u001b[0m\u001b[1;33m.\u001b[0m\u001b[0mSTATS\u001b[0m\u001b[1;33m)\u001b[0m\u001b[1;33m:\u001b[0m\u001b[1;33m\u001b[0m\u001b[0m\n\u001b[1;32m--> 262\u001b[1;33m             \u001b[0mself\u001b[0m\u001b[1;33m.\u001b[0m\u001b[0m_stats\u001b[0m \u001b[1;33m=\u001b[0m \u001b[0mStats\u001b[0m\u001b[1;33m(\u001b[0m\u001b[0mself\u001b[0m\u001b[1;33m,\u001b[0m \u001b[0mself\u001b[0m\u001b[1;33m.\u001b[0m\u001b[0m_data\u001b[0m\u001b[1;33m[\u001b[0m\u001b[0mCharacter\u001b[0m\u001b[1;33m.\u001b[0m\u001b[0mSTATS\u001b[0m\u001b[1;33m]\u001b[0m\u001b[1;33m)\u001b[0m\u001b[1;33m\u001b[0m\u001b[0m\n\u001b[0m\u001b[0;32m    263\u001b[0m \u001b[1;33m\u001b[0m\u001b[0m\n\u001b[0;32m    264\u001b[0m         \u001b[1;32mreturn\u001b[0m \u001b[0mself\u001b[0m\u001b[1;33m.\u001b[0m\u001b[0m_stats\u001b[0m\u001b[1;33m\u001b[0m\u001b[0m\n",
      "\u001b[1;32m/usr/local/lib/python2.7/dist-packages/battlenet/things.pyc\u001b[0m in \u001b[0;36m__init__\u001b[1;34m(self, character, data)\u001b[0m\n\u001b[0;32m    352\u001b[0m         \u001b[0mself\u001b[0m\u001b[1;33m.\u001b[0m\u001b[0mdodge\u001b[0m \u001b[1;33m=\u001b[0m \u001b[0mdata\u001b[0m\u001b[1;33m[\u001b[0m\u001b[1;34m'dodge'\u001b[0m\u001b[1;33m]\u001b[0m\u001b[1;33m\u001b[0m\u001b[0m\n\u001b[0;32m    353\u001b[0m         \u001b[0mself\u001b[0m\u001b[1;33m.\u001b[0m\u001b[0mdodge_rating\u001b[0m \u001b[1;33m=\u001b[0m \u001b[0mdata\u001b[0m\u001b[1;33m[\u001b[0m\u001b[1;34m'dodgeRating'\u001b[0m\u001b[1;33m]\u001b[0m\u001b[1;33m\u001b[0m\u001b[0m\n\u001b[1;32m--> 354\u001b[1;33m         \u001b[0mself\u001b[0m\u001b[1;33m.\u001b[0m\u001b[0mexpertise_rating\u001b[0m \u001b[1;33m=\u001b[0m \u001b[0mdata\u001b[0m\u001b[1;33m[\u001b[0m\u001b[1;34m'expertiseRating'\u001b[0m\u001b[1;33m]\u001b[0m\u001b[1;33m\u001b[0m\u001b[0m\n\u001b[0m\u001b[0;32m    355\u001b[0m         \u001b[0mself\u001b[0m\u001b[1;33m.\u001b[0m\u001b[0mhaste_rating\u001b[0m \u001b[1;33m=\u001b[0m \u001b[0mdata\u001b[0m\u001b[1;33m[\u001b[0m\u001b[1;34m'hasteRating'\u001b[0m\u001b[1;33m]\u001b[0m\u001b[1;33m\u001b[0m\u001b[0m\n\u001b[0;32m    356\u001b[0m         \u001b[0mself\u001b[0m\u001b[1;33m.\u001b[0m\u001b[0mhealth\u001b[0m \u001b[1;33m=\u001b[0m \u001b[0mdata\u001b[0m\u001b[1;33m[\u001b[0m\u001b[1;34m'health'\u001b[0m\u001b[1;33m]\u001b[0m\u001b[1;33m\u001b[0m\u001b[0m\n",
      "\u001b[1;31mKeyError\u001b[0m: 'expertiseRating'"
     ]
    }
   ],
   "source": []
  },
  {
   "cell_type": "code",
   "execution_count": 221,
   "metadata": {
    "collapsed": false
   },
   "outputs": [],
   "source": [
    "bokkall = bookchar.to_json()"
   ]
  },
  {
   "cell_type": "code",
   "execution_count": 223,
   "metadata": {
    "collapsed": false
   },
   "outputs": [],
   "source": [
    "import json"
   ]
  },
  {
   "cell_type": "code",
   "execution_count": 226,
   "metadata": {
    "collapsed": false
   },
   "outputs": [
    {
     "data": {
      "text/plain": [
       "{u'averageItemLevel': 529,\n",
       " u'averageItemLevelEquipped': 316,\n",
       " u'back': {u'armor': 7,\n",
       "  u'bonusLists': [583],\n",
       "  u'context': u'',\n",
       "  u'icon': u'inv_misc_cape_19',\n",
       "  u'id': 122260,\n",
       "  u'itemLevel': 85,\n",
       "  u'name': u'Worn Stoneskin Gargoyle Cape',\n",
       "  u'quality': 7,\n",
       "  u'stats': [{u'amount': 7, u'stat': 32},\n",
       "   {u'amount': 10, u'stat': 4},\n",
       "   {u'amount': 7, u'stat': 36},\n",
       "   {u'amount': 15, u'stat': 7}],\n",
       "  u'tooltipParams': {}},\n",
       " u'chest': {u'armor': 59,\n",
       "  u'bonusLists': [583],\n",
       "  u'context': u'',\n",
       "  u'icon': u'inv_chest_plate03',\n",
       "  u'id': 122381,\n",
       "  u'itemLevel': 85,\n",
       "  u'name': u'Polished Breastplate of Valor',\n",
       "  u'quality': 7,\n",
       "  u'stats': [{u'amount': 17, u'stat': 4},\n",
       "   {u'amount': 23, u'stat': 32},\n",
       "   {u'amount': 26, u'stat': 7}],\n",
       "  u'tooltipParams': {}},\n",
       " u'feet': {u'armor': 83,\n",
       "  u'bonusLists': [518],\n",
       "  u'context': u'dungeon-level-up-1',\n",
       "  u'icon': u'inv_boot_plate_draenordungeon_c_01',\n",
       "  u'id': 109795,\n",
       "  u'itemLevel': 530,\n",
       "  u'name': u'Goldsteel Sabatons',\n",
       "  u'quality': 3,\n",
       "  u'stats': [{u'amount': 25, u'stat': 40},\n",
       "   {u'amount': 49, u'stat': 74},\n",
       "   {u'amount': 38, u'stat': 36},\n",
       "   {u'amount': 74, u'stat': 7}],\n",
       "  u'tooltipParams': {}},\n",
       " u'finger1': {u'armor': 0,\n",
       "  u'bonusLists': [],\n",
       "  u'context': u'dungeon-normal',\n",
       "  u'icon': u'inv_jewelry_ring_01',\n",
       "  u'id': 112799,\n",
       "  u'itemLevel': 519,\n",
       "  u'name': u'Loop of Vile Lesions',\n",
       "  u'quality': 3,\n",
       "  u'stats': [{u'amount': 19, u'stat': 32},\n",
       "   {u'amount': 34, u'stat': 4},\n",
       "   {u'amount': 24, u'stat': 36},\n",
       "   {u'amount': 50, u'stat': 7}],\n",
       "  u'tooltipParams': {}},\n",
       " u'finger2': {u'armor': 0,\n",
       "  u'bonusLists': [518],\n",
       "  u'context': u'dungeon-level-up-1',\n",
       "  u'icon': u'inv_60dungeon_ring4b',\n",
       "  u'id': 109776,\n",
       "  u'itemLevel': 530,\n",
       "  u'name': u'Seal of Resilient Fortitude',\n",
       "  u'quality': 3,\n",
       "  u'stats': [{u'amount': 19, u'stat': 50},\n",
       "   {u'amount': 37, u'stat': 72},\n",
       "   {u'amount': 28, u'stat': 36},\n",
       "   {u'amount': 55, u'stat': 7}],\n",
       "  u'tooltipParams': {}},\n",
       " u'hands': {u'armor': 67,\n",
       "  u'bonusLists': [],\n",
       "  u'context': u'quest-reward',\n",
       "  u'icon': u'inv_plate_draenorquest90_b_01glove',\n",
       "  u'id': 107310,\n",
       "  u'itemLevel': 520,\n",
       "  u'name': u'Karabor Honor Guard Gauntlets',\n",
       "  u'quality': 3,\n",
       "  u'stats': [{u'amount': 31, u'stat': 59},\n",
       "   {u'amount': 45, u'stat': 74},\n",
       "   {u'amount': 28, u'stat': 36},\n",
       "   {u'amount': 68, u'stat': 7}],\n",
       "  u'tooltipParams': {}},\n",
       " u'head': {u'armor': 48,\n",
       "  u'bonusLists': [583],\n",
       "  u'context': u'',\n",
       "  u'icon': u'inv_helmet_02',\n",
       "  u'id': 122245,\n",
       "  u'itemLevel': 85,\n",
       "  u'name': u'Polished Helm of Valor',\n",
       "  u'quality': 7,\n",
       "  u'stats': [{u'amount': 17, u'stat': 4},\n",
       "   {u'amount': 23, u'stat': 36},\n",
       "   {u'amount': 26, u'stat': 7}],\n",
       "  u'tooltipParams': {}},\n",
       " u'legs': {u'armor': 52,\n",
       "  u'bonusLists': [583],\n",
       "  u'context': u'',\n",
       "  u'icon': u'inv_pants_04',\n",
       "  u'id': 122251,\n",
       "  u'itemLevel': 85,\n",
       "  u'name': u'Polished Legplates of Valor',\n",
       "  u'quality': 7,\n",
       "  u'stats': [{u'amount': 12, u'stat': 32},\n",
       "   {u'amount': 17, u'stat': 4},\n",
       "   {u'amount': 12, u'stat': 36},\n",
       "   {u'amount': 26, u'stat': 7}],\n",
       "  u'tooltipParams': {}},\n",
       " u'mainHand': {u'armor': 0,\n",
       "  u'bonusLists': [],\n",
       "  u'context': u'quest-reward',\n",
       "  u'icon': u'inv_sword_2h_draenorquest_b_01',\n",
       "  u'id': 108912,\n",
       "  u'itemLevel': 510,\n",
       "  u'name': u'Karabor Greatsword',\n",
       "  u'quality': 2,\n",
       "  u'stats': [{u'amount': 38, u'stat': 49},\n",
       "   {u'amount': 34, u'stat': 32},\n",
       "   {u'amount': 55, u'stat': 4},\n",
       "   {u'amount': 82, u'stat': 7}],\n",
       "  u'tooltipParams': {},\n",
       "  u'weaponInfo': {u'damage': {u'exactMax': 424.0,\n",
       "    u'exactMin': 282.0,\n",
       "    u'max': 424,\n",
       "    u'min': 282},\n",
       "   u'dps': 98.05556,\n",
       "   u'weaponSpeed': 3.6}},\n",
       " u'neck': {u'armor': 0,\n",
       "  u'bonusLists': [],\n",
       "  u'context': u'quest-reward',\n",
       "  u'icon': u'inv_misc_necklace_6_0_001',\n",
       "  u'id': 113145,\n",
       "  u'itemLevel': 517,\n",
       "  u'name': u'Karabor Guardian Gorget',\n",
       "  u'quality': 3,\n",
       "  u'stats': [{u'amount': 23, u'stat': 59},\n",
       "   {u'amount': 20, u'stat': 49},\n",
       "   {u'amount': 33, u'stat': 4},\n",
       "   {u'amount': 49, u'stat': 7}],\n",
       "  u'tooltipParams': {}},\n",
       " u'shoulder': {u'armor': 44,\n",
       "  u'bonusLists': [583],\n",
       "  u'context': u'',\n",
       "  u'icon': u'inv_shoulder_30',\n",
       "  u'id': 122355,\n",
       "  u'itemLevel': 85,\n",
       "  u'name': u'Polished Spaulders of Valor',\n",
       "  u'quality': 7,\n",
       "  u'stats': [{u'amount': 13, u'stat': 4},\n",
       "   {u'amount': 18, u'stat': 32},\n",
       "   {u'amount': 20, u'stat': 7}],\n",
       "  u'tooltipParams': {}},\n",
       " u'tabard': {u'armor': 0,\n",
       "  u'bonusLists': [],\n",
       "  u'context': u'',\n",
       "  u'icon': u'inv_misc_tournaments_tabard_dwarf',\n",
       "  u'id': 45577,\n",
       "  u'itemLevel': 1,\n",
       "  u'name': u'Ironforge Tabard',\n",
       "  u'quality': 1,\n",
       "  u'stats': [],\n",
       "  u'tooltipParams': {}},\n",
       " u'trinket1': {u'armor': 0,\n",
       "  u'bonusLists': [583],\n",
       "  u'context': u'',\n",
       "  u'icon': u'inv_jewelry_talisman_01',\n",
       "  u'id': 122361,\n",
       "  u'itemLevel': 85,\n",
       "  u'name': u'Swift Hand of Justice',\n",
       "  u'quality': 7,\n",
       "  u'stats': [{u'amount': 17, u'stat': 36}],\n",
       "  u'tooltipParams': {}},\n",
       " u'trinket2': {u'armor': 0,\n",
       "  u'bonusLists': [583],\n",
       "  u'context': u'',\n",
       "  u'icon': u'inv_jewelry_talisman_01',\n",
       "  u'id': 122361,\n",
       "  u'itemLevel': 85,\n",
       "  u'name': u'Swift Hand of Justice',\n",
       "  u'quality': 7,\n",
       "  u'stats': [{u'amount': 17, u'stat': 36}],\n",
       "  u'tooltipParams': {}},\n",
       " u'waist': {u'armor': 55,\n",
       "  u'bonusLists': [],\n",
       "  u'context': u'quest-reward',\n",
       "  u'icon': u'inv_plate_draenorquest90_b_01belt',\n",
       "  u'id': 107313,\n",
       "  u'itemLevel': 512,\n",
       "  u'name': u'Karabor Honor Guard Girdle',\n",
       "  u'quality': 2,\n",
       "  u'stats': [{u'amount': 29, u'stat': 49},\n",
       "   {u'amount': 27, u'stat': 40},\n",
       "   {u'amount': 42, u'stat': 74},\n",
       "   {u'amount': 63, u'stat': 7}],\n",
       "  u'tooltipParams': {}},\n",
       " u'wrist': {u'armor': 46,\n",
       "  u'bonusLists': [],\n",
       "  u'context': u'quest-reward',\n",
       "  u'icon': u'inv_plate_draenorquest90_b_01bracer',\n",
       "  u'id': 113234,\n",
       "  u'itemLevel': 518,\n",
       "  u'name': u'Karabor Honor Guard Wristwraps',\n",
       "  u'quality': 3,\n",
       "  u'stats': [{u'amount': 18, u'stat': 32},\n",
       "   {u'amount': 33, u'stat': 74},\n",
       "   {u'amount': 25, u'stat': 36},\n",
       "   {u'amount': 50, u'stat': 7}],\n",
       "  u'tooltipParams': {}}}"
      ]
     },
     "execution_count": 226,
     "metadata": {},
     "output_type": "execute_result"
    }
   ],
   "source": [
    "json.loads(bokkall)['items']"
   ]
  },
  {
   "cell_type": "code",
   "execution_count": 173,
   "metadata": {
    "collapsed": false
   },
   "outputs": [
    {
     "ename": "TypeError",
     "evalue": "getattr(): attribute name must be string",
     "output_type": "error",
     "traceback": [
      "\u001b[1;31m---------------------------------------------------------------------------\u001b[0m",
      "\u001b[1;31mTypeError\u001b[0m                                 Traceback (most recent call last)",
      "\u001b[1;32m<ipython-input-173-3a1f1f50dcff>\u001b[0m in \u001b[0;36m<module>\u001b[1;34m()\u001b[0m\n\u001b[1;32m----> 1\u001b[1;33m \u001b[1;32mfor\u001b[0m \u001b[0mbequ\u001b[0m \u001b[1;32min\u001b[0m \u001b[0mbookchar\u001b[0m\u001b[1;33m.\u001b[0m\u001b[0mequipment\u001b[0m\u001b[1;33m:\u001b[0m\u001b[1;33m\u001b[0m\u001b[0m\n\u001b[0m\u001b[0;32m      2\u001b[0m     \u001b[1;32mprint\u001b[0m \u001b[0mbequ\u001b[0m\u001b[1;33m\u001b[0m\u001b[0m\n",
      "\u001b[1;32m/usr/local/lib/python2.7/dist-packages/battlenet/things.pyc\u001b[0m in \u001b[0;36m__getitem__\u001b[1;34m(self, item)\u001b[0m\n\u001b[0;32m    477\u001b[0m     \u001b[1;32mdef\u001b[0m \u001b[0m__getitem__\u001b[0m\u001b[1;33m(\u001b[0m\u001b[0mself\u001b[0m\u001b[1;33m,\u001b[0m \u001b[0mitem\u001b[0m\u001b[1;33m)\u001b[0m\u001b[1;33m:\u001b[0m\u001b[1;33m\u001b[0m\u001b[0m\n\u001b[0;32m    478\u001b[0m         \u001b[1;32mtry\u001b[0m\u001b[1;33m:\u001b[0m\u001b[1;33m\u001b[0m\u001b[0m\n\u001b[1;32m--> 479\u001b[1;33m             \u001b[1;32mreturn\u001b[0m \u001b[0mgetattr\u001b[0m\u001b[1;33m(\u001b[0m\u001b[0mself\u001b[0m\u001b[1;33m,\u001b[0m \u001b[0mitem\u001b[0m\u001b[1;33m)\u001b[0m\u001b[1;33m\u001b[0m\u001b[0m\n\u001b[0m\u001b[0;32m    480\u001b[0m         \u001b[1;32mexcept\u001b[0m \u001b[0mAttributeError\u001b[0m\u001b[1;33m:\u001b[0m\u001b[1;33m\u001b[0m\u001b[0m\n\u001b[0;32m    481\u001b[0m             \u001b[1;32mraise\u001b[0m \u001b[0mIndexError\u001b[0m\u001b[1;33m\u001b[0m\u001b[0m\n",
      "\u001b[1;31mTypeError\u001b[0m: getattr(): attribute name must be string"
     ]
    }
   ],
   "source": [
    "for bequ in bookchar.equipment:\n",
    "    print bequ"
   ]
  },
  {
   "cell_type": "code",
   "execution_count": 123,
   "metadata": {
    "collapsed": false
   },
   "outputs": [],
   "source": [
    "from battlenet import Connection"
   ]
  },
  {
   "cell_type": "code",
   "execution_count": 124,
   "metadata": {
    "collapsed": false
   },
   "outputs": [
    {
     "ename": "AttributeError",
     "evalue": "'module' object has no attribute 'get_all_realms'",
     "output_type": "error",
     "traceback": [
      "\u001b[1;31m---------------------------------------------------------------------------\u001b[0m",
      "\u001b[1;31mAttributeError\u001b[0m                            Traceback (most recent call last)",
      "\u001b[1;32m<ipython-input-124-5406d04091f1>\u001b[0m in \u001b[0;36m<module>\u001b[1;34m()\u001b[0m\n\u001b[1;32m----> 1\u001b[1;33m \u001b[1;32mfor\u001b[0m \u001b[0mrealm\u001b[0m \u001b[1;32min\u001b[0m \u001b[0mconnection\u001b[0m\u001b[1;33m.\u001b[0m\u001b[0mget_all_realms\u001b[0m\u001b[1;33m(\u001b[0m\u001b[0mbattlenet\u001b[0m\u001b[1;33m.\u001b[0m\u001b[0mUNITED_STATES\u001b[0m\u001b[1;33m)\u001b[0m\u001b[1;33m:\u001b[0m\u001b[1;33m\u001b[0m\u001b[0m\n\u001b[0m\u001b[0;32m      2\u001b[0m \u001b[1;33m\u001b[0m\u001b[0m\n\u001b[0;32m      3\u001b[0m     \u001b[1;32mprint\u001b[0m \u001b[0mrealm\u001b[0m\u001b[1;33m\u001b[0m\u001b[0m\n\u001b[0;32m      4\u001b[0m \u001b[1;31m#for realm in connection.get_all_realms(battlenet.UNITED_STATES):\u001b[0m\u001b[1;33m\u001b[0m\u001b[1;33m\u001b[0m\u001b[0m\n\u001b[0;32m      5\u001b[0m \u001b[1;31m#    print realm\u001b[0m\u001b[1;33m\u001b[0m\u001b[1;33m\u001b[0m\u001b[0m\n",
      "\u001b[1;31mAttributeError\u001b[0m: 'module' object has no attribute 'get_all_realms'"
     ]
    }
   ],
   "source": [
    "for realm in connection.get_all_realms(battlenet.UNITED_STATES):\n",
    "\n",
    "    print realm\n",
    "#for realm in connection.get_all_realms(battlenet.UNITED_STATES):\n",
    "#    print realm"
   ]
  },
  {
   "cell_type": "code",
   "execution_count": 138,
   "metadata": {
    "collapsed": false
   },
   "outputs": [],
   "source": [
    "from battlenet import Guild\n",
    "\n",
    "# If a global connection was setup\n",
    "guild = Guild(battlenet.UNITED_STATES, \"jubei'thos\", \"adventure time\")\n"
   ]
  },
  {
   "cell_type": "code",
   "execution_count": 151,
   "metadata": {
    "collapsed": false
   },
   "outputs": [],
   "source": [
    "glead = guild.get_leader"
   ]
  },
  {
   "cell_type": "code",
   "execution_count": 147,
   "metadata": {
    "collapsed": false
   },
   "outputs": [],
   "source": [
    "guildjson = guild.to_json()"
   ]
  },
  {
   "cell_type": "code",
   "execution_count": 156,
   "metadata": {
    "collapsed": false
   },
   "outputs": [],
   "source": [
    "glead()"
   ]
  },
  {
   "cell_type": "code",
   "execution_count": 144,
   "metadata": {
    "collapsed": false
   },
   "outputs": [
    {
     "data": {
      "text/plain": [
       "<Realm: Jubei'Thos(US)>"
      ]
     },
     "execution_count": 144,
     "metadata": {},
     "output_type": "execute_result"
    }
   ],
   "source": [
    "guild.realm"
   ]
  },
  {
   "cell_type": "code",
   "execution_count": 161,
   "metadata": {
    "collapsed": false
   },
   "outputs": [
    {
     "data": {
      "text/plain": [
       "<unbound method Connection.get_character_races>"
      ]
     },
     "execution_count": 161,
     "metadata": {},
     "output_type": "execute_result"
    }
   ],
   "source": [
    "battlenet.connection.Connection.get_character_races"
   ]
  },
  {
   "cell_type": "code",
   "execution_count": 182,
   "metadata": {
    "collapsed": false
   },
   "outputs": [],
   "source": [
    "item = battlenet.connection.Connection.get_all_realms\n",
    "# TODO"
   ]
  },
  {
   "cell_type": "code",
   "execution_count": 188,
   "metadata": {
    "collapsed": false
   },
   "outputs": [
    {
     "ename": "AttributeError",
     "evalue": "'module' object has no attribute 'get_realm'",
     "output_type": "error",
     "traceback": [
      "\u001b[1;31m---------------------------------------------------------------------------\u001b[0m",
      "\u001b[1;31mAttributeError\u001b[0m                            Traceback (most recent call last)",
      "\u001b[1;32m<ipython-input-188-c20628782f0c>\u001b[0m in \u001b[0;36m<module>\u001b[1;34m()\u001b[0m\n\u001b[0;32m      1\u001b[0m \u001b[0mname\u001b[0m \u001b[1;33m=\u001b[0m \u001b[1;34m\"Kiljaeden\"\u001b[0m\u001b[1;33m\u001b[0m\u001b[0m\n\u001b[1;32m----> 2\u001b[1;33m \u001b[0mrealm\u001b[0m \u001b[1;33m=\u001b[0m \u001b[0mbattlenet\u001b[0m\u001b[1;33m.\u001b[0m\u001b[0mconnection\u001b[0m\u001b[1;33m.\u001b[0m\u001b[0mget_realm\u001b[0m\u001b[1;33m(\u001b[0m\u001b[0mbattlenet\u001b[0m\u001b[1;33m.\u001b[0m\u001b[0mUNITED_STATES\u001b[0m\u001b[1;33m,\u001b[0m \u001b[0mname\u001b[0m\u001b[1;33m)\u001b[0m\u001b[1;33m\u001b[0m\u001b[0m\n\u001b[0m",
      "\u001b[1;31mAttributeError\u001b[0m: 'module' object has no attribute 'get_realm'"
     ]
    }
   ],
   "source": [
    "name = \"Kiljaeden\"\n",
    "realm = battlenet."
   ]
  },
  {
   "cell_type": "code",
   "execution_count": 13,
   "metadata": {
    "collapsed": false
   },
   "outputs": [],
   "source": [
    "portchar = Character(battlenet.UNITED_STATES, \"saurfang\", \"portishead\")"
   ]
  },
  {
   "cell_type": "code",
   "execution_count": 19,
   "metadata": {
    "collapsed": false
   },
   "outputs": [
    {
     "data": {
      "text/plain": [
       "'{\"realm\": \"Saurfang\", \"name\": \"Portishead\", \"level\": 89, \"lastModified\": 1434098916000, \"totalHonorableKills\": 1156, \"thumbnail\": \"internal-record-3695/237/158282221-avatar.jpg\", \"race\": 7, \"calcClass\": \"d\", \"achievementPoints\": 7725, \"gender\": 1, \"battlegroup\": \"AU/NZ Battle Group\", \"class\": 6}'"
      ]
     },
     "execution_count": 19,
     "metadata": {},
     "output_type": "execute_result"
    }
   ],
   "source": [
    "portchar.to_json()"
   ]
  },
  {
   "cell_type": "code",
   "execution_count": 20,
   "metadata": {
    "collapsed": false
   },
   "outputs": [
    {
     "data": {
      "text/plain": [
       "89"
      ]
     },
     "execution_count": 20,
     "metadata": {},
     "output_type": "execute_result"
    }
   ],
   "source": [
    "portchar.level"
   ]
  },
  {
   "cell_type": "code",
   "execution_count": 23,
   "metadata": {
    "collapsed": false
   },
   "outputs": [],
   "source": [
    "portmoded = portchar.last_modified"
   ]
  },
  {
   "cell_type": "code",
   "execution_count": 25,
   "metadata": {
    "collapsed": false
   },
   "outputs": [
    {
     "data": {
      "text/plain": [
       "2015"
      ]
     },
     "execution_count": 25,
     "metadata": {},
     "output_type": "execute_result"
    }
   ],
   "source": [
    "portmoded.year"
   ]
  },
  {
   "cell_type": "code",
   "execution_count": 26,
   "metadata": {
    "collapsed": false
   },
   "outputs": [
    {
     "data": {
      "text/plain": [
       "6"
      ]
     },
     "execution_count": 26,
     "metadata": {},
     "output_type": "execute_result"
    }
   ],
   "source": [
    "portmoded.month"
   ]
  },
  {
   "cell_type": "code",
   "execution_count": 27,
   "metadata": {
    "collapsed": false
   },
   "outputs": [
    {
     "data": {
      "text/plain": [
       "12"
      ]
     },
     "execution_count": 27,
     "metadata": {},
     "output_type": "execute_result"
    }
   ],
   "source": [
    "portmoded.day"
   ]
  },
  {
   "cell_type": "code",
   "execution_count": 31,
   "metadata": {
    "collapsed": false
   },
   "outputs": [],
   "source": [
    "portapc = portchar.appearance"
   ]
  },
  {
   "cell_type": "code",
   "execution_count": 33,
   "metadata": {
    "collapsed": false
   },
   "outputs": [
    {
     "data": {
      "text/plain": [
       "3"
      ]
     },
     "execution_count": 33,
     "metadata": {},
     "output_type": "execute_result"
    }
   ],
   "source": [
    "portapc.face"
   ]
  },
  {
   "cell_type": "code",
   "execution_count": 34,
   "metadata": {
    "collapsed": false
   },
   "outputs": [
    {
     "data": {
      "text/plain": [
       "9"
      ]
     },
     "execution_count": 34,
     "metadata": {},
     "output_type": "execute_result"
    }
   ],
   "source": [
    "portapc.skin_color"
   ]
  },
  {
   "cell_type": "code",
   "execution_count": 35,
   "metadata": {
    "collapsed": false
   },
   "outputs": [
    {
     "data": {
      "text/plain": [
       "4"
      ]
     },
     "execution_count": 35,
     "metadata": {},
     "output_type": "execute_result"
    }
   ],
   "source": [
    "portapc.feature"
   ]
  },
  {
   "cell_type": "code",
   "execution_count": 36,
   "metadata": {
    "collapsed": false
   },
   "outputs": [
    {
     "data": {
      "text/plain": [
       "2"
      ]
     },
     "execution_count": 36,
     "metadata": {},
     "output_type": "execute_result"
    }
   ],
   "source": [
    "portapc.hair"
   ]
  },
  {
   "cell_type": "code",
   "execution_count": 38,
   "metadata": {
    "collapsed": false
   },
   "outputs": [
    {
     "data": {
      "text/plain": [
       "'Death Knight'"
      ]
     },
     "execution_count": 38,
     "metadata": {},
     "output_type": "execute_result"
    }
   ],
   "source": [
    "portchar.get_class_name()"
   ]
  },
  {
   "cell_type": "code",
   "execution_count": 41,
   "metadata": {
    "collapsed": false
   },
   "outputs": [
    {
     "data": {
      "text/plain": [
       "'Gnome'"
      ]
     },
     "execution_count": 41,
     "metadata": {},
     "output_type": "execute_result"
    }
   ],
   "source": [
    "portchar.get_race_name()"
   ]
  },
  {
   "cell_type": "code",
   "execution_count": 46,
   "metadata": {
    "collapsed": false
   },
   "outputs": [],
   "source": [
    "portprof = portchar.professions['primary']"
   ]
  },
  {
   "cell_type": "code",
   "execution_count": 59,
   "metadata": {
    "collapsed": false
   },
   "outputs": [
    {
     "name": "stdout",
     "output_type": "stream",
     "text": [
      "7418\n",
      "7421\n",
      "7428\n"
     ]
    }
   ],
   "source": [
    "for ppof in portprof:\n",
    "    #print ppof.recipes\n",
    "    for pprec in ppof.recipes:\n",
    "        print pprec"
   ]
  },
  {
   "cell_type": "code",
   "execution_count": 65,
   "metadata": {
    "collapsed": false
   },
   "outputs": [],
   "source": [
    "portales = portchar.TALENTS"
   ]
  },
  {
   "cell_type": "code",
   "execution_count": 70,
   "metadata": {
    "collapsed": false
   },
   "outputs": [],
   "source": [
    "portreq = portchar.equipment"
   ]
  },
  {
   "cell_type": "code",
   "execution_count": 73,
   "metadata": {
    "collapsed": false
   },
   "outputs": [
    {
     "data": {
      "text/plain": [
       "430"
      ]
     },
     "execution_count": 73,
     "metadata": {},
     "output_type": "execute_result"
    }
   ],
   "source": [
    "portreq.average_item_level"
   ]
  },
  {
   "cell_type": "code",
   "execution_count": 74,
   "metadata": {
    "collapsed": false
   },
   "outputs": [
    {
     "data": {
      "text/plain": [
       "235"
      ]
     },
     "execution_count": 74,
     "metadata": {},
     "output_type": "execute_result"
    }
   ],
   "source": [
    "portreq.average_item_level_equiped"
   ]
  },
  {
   "cell_type": "code",
   "execution_count": 76,
   "metadata": {
    "collapsed": false
   },
   "outputs": [
    {
     "data": {
      "text/plain": [
       "'{\"status\": true, \"wintergrasp\": {\"status\": 0, \"next\": 1434107247078, \"controlling-faction\": 0, \"area\": 1}, \"battlegroup\": \"AU/NZ Battle Group\", \"name\": \"Jubei\\'Thos\", \"tol-barad\": {\"status\": 0, \"next\": 1434104710484, \"controlling-faction\": 1, \"area\": 21}, \"locale\": \"en_US\", \"queue\": false, \"connected_realms\": [\"gundrak\", \"jubeithos\", \"internal-record-3697\"], \"timezone\": \"Australia/Melbourne\", \"type\": \"pvp\", \"slug\": \"jubeithos\", \"population\": \"high\"}'"
      ]
     },
     "execution_count": 76,
     "metadata": {},
     "output_type": "execute_result"
    }
   ],
   "source": [
    "realm.to_json()"
   ]
  },
  {
   "cell_type": "code",
   "execution_count": 80,
   "metadata": {
    "collapsed": false
   },
   "outputs": [],
   "source": [
    "bnetthing = battlenet.things"
   ]
  },
  {
   "cell_type": "code",
   "execution_count": 89,
   "metadata": {
    "collapsed": false
   },
   "outputs": [
    {
     "data": {
      "text/plain": [
       "{1: 'Alliance',\n",
       " 2: 'Horde',\n",
       " 3: 'Alliance',\n",
       " 4: 'Alliance',\n",
       " 5: 'Horde',\n",
       " 6: 'Horde',\n",
       " 7: 'Alliance',\n",
       " 8: 'Horde',\n",
       " 9: 'Horde',\n",
       " 10: 'Horde',\n",
       " 11: 'Alliance',\n",
       " 22: 'Alliance'}"
      ]
     },
     "execution_count": 89,
     "metadata": {},
     "output_type": "execute_result"
    }
   ],
   "source": [
    "battlenet.RACE_TO_FACTION"
   ]
  },
  {
   "cell_type": "code",
   "execution_count": 93,
   "metadata": {
    "collapsed": false
   },
   "outputs": [],
   "source": [
    "alrac = battlenet.RACE"
   ]
  },
  {
   "cell_type": "code",
   "execution_count": 92,
   "metadata": {
    "collapsed": true
   },
   "outputs": [],
   "source": [
    "import random"
   ]
  },
  {
   "cell_type": "code",
   "execution_count": 98,
   "metadata": {
    "collapsed": false
   },
   "outputs": [
    {
     "data": {
      "text/plain": [
       "'Undead'"
      ]
     },
     "execution_count": 98,
     "metadata": {},
     "output_type": "execute_result"
    }
   ],
   "source": [
    "random.choice(alrac.values())"
   ]
  },
  {
   "cell_type": "code",
   "execution_count": 103,
   "metadata": {
    "collapsed": false
   },
   "outputs": [],
   "source": [
    "plaqual = battlenet.QUALITY"
   ]
  },
  {
   "cell_type": "code",
   "execution_count": 106,
   "metadata": {
    "collapsed": false
   },
   "outputs": [
    {
     "data": {
      "text/plain": [
       "'Legendary'"
      ]
     },
     "execution_count": 106,
     "metadata": {},
     "output_type": "execute_result"
    }
   ],
   "source": [
    "random.choice(plaqual.values())"
   ]
  },
  {
   "cell_type": "code",
   "execution_count": 109,
   "metadata": {
    "collapsed": false
   },
   "outputs": [
    {
     "data": {
      "text/plain": [
       "battlenet.things.Character"
      ]
     },
     "execution_count": 109,
     "metadata": {},
     "output_type": "execute_result"
    }
   ],
   "source": [
    "battlenet.Character"
   ]
  },
  {
   "cell_type": "code",
   "execution_count": 111,
   "metadata": {
    "collapsed": false
   },
   "outputs": [
    {
     "ename": "TypeError",
     "evalue": "'module' object is not callable",
     "output_type": "error",
     "traceback": [
      "\u001b[1;31m---------------------------------------------------------------------------\u001b[0m",
      "\u001b[1;31mTypeError\u001b[0m                                 Traceback (most recent call last)",
      "\u001b[1;32m<ipython-input-111-816caf443389>\u001b[0m in \u001b[0;36m<module>\u001b[1;34m()\u001b[0m\n\u001b[1;32m----> 1\u001b[1;33m \u001b[0mbattlenet\u001b[0m\u001b[1;33m.\u001b[0m\u001b[0mconnection\u001b[0m\u001b[1;33m(\u001b[0m\u001b[1;33m)\u001b[0m\u001b[1;33m\u001b[0m\u001b[0m\n\u001b[0m",
      "\u001b[1;31mTypeError\u001b[0m: 'module' object is not callable"
     ]
    }
   ],
   "source": [
    "battlenet.connection()"
   ]
  },
  {
   "cell_type": "code",
   "execution_count": null,
   "metadata": {
    "collapsed": true
   },
   "outputs": [],
   "source": []
  },
  {
   "cell_type": "code",
   "execution_count": 99,
   "metadata": {
    "collapsed": true
   },
   "outputs": [],
   "source": [
    "alclas = battlenet.CLASS"
   ]
  },
  {
   "cell_type": "code",
   "execution_count": 100,
   "metadata": {
    "collapsed": false
   },
   "outputs": [
    {
     "data": {
      "text/plain": [
       "{1: 'Warrior',\n",
       " 2: 'Paladin',\n",
       " 3: 'Hunter',\n",
       " 4: 'Rogue',\n",
       " 5: 'Priest',\n",
       " 6: 'Death Knight',\n",
       " 7: 'Shaman',\n",
       " 8: 'Mage',\n",
       " 9: 'Warlock',\n",
       " 11: 'Druid'}"
      ]
     },
     "execution_count": 100,
     "metadata": {},
     "output_type": "execute_result"
    }
   ],
   "source": [
    "alclas"
   ]
  },
  {
   "cell_type": "code",
   "execution_count": 102,
   "metadata": {
    "collapsed": false
   },
   "outputs": [
    {
     "data": {
      "text/plain": [
       "'Warrior'"
      ]
     },
     "execution_count": 102,
     "metadata": {},
     "output_type": "execute_result"
    }
   ],
   "source": [
    "random.choice(alclas.values())"
   ]
  },
  {
   "cell_type": "code",
   "execution_count": null,
   "metadata": {
    "collapsed": true
   },
   "outputs": [],
   "source": [
    "battlenet.things"
   ]
  },
  {
   "cell_type": "code",
   "execution_count": null,
   "metadata": {
    "collapsed": true
   },
   "outputs": [],
   "source": []
  },
  {
   "cell_type": "code",
   "execution_count": 66,
   "metadata": {
    "collapsed": false
   },
   "outputs": [
    {
     "data": {
      "text/plain": [
       "'talents'"
      ]
     },
     "execution_count": 66,
     "metadata": {},
     "output_type": "execute_result"
    }
   ],
   "source": [
    "portales"
   ]
  },
  {
   "cell_type": "code",
   "execution_count": null,
   "metadata": {
    "collapsed": true
   },
   "outputs": [],
   "source": []
  },
  {
   "cell_type": "markdown",
   "metadata": {},
   "source": [
    "Make background red if horde - blue if alliance.\n",
    "\n",
    "Depend on class. "
   ]
  },
  {
   "cell_type": "code",
   "execution_count": 39,
   "metadata": {
    "collapsed": false
   },
   "outputs": [
    {
     "data": {
      "text/plain": [
       "'Alliance'"
      ]
     },
     "execution_count": 39,
     "metadata": {},
     "output_type": "execute_result"
    }
   ],
   "source": [
    "portchar.faction"
   ]
  },
  {
   "cell_type": "code",
   "execution_count": null,
   "metadata": {
    "collapsed": true
   },
   "outputs": [],
   "source": [
    "portchar."
   ]
  },
  {
   "cell_type": "code",
   "execution_count": null,
   "metadata": {
    "collapsed": true
   },
   "outputs": [],
   "source": [
    "portchat"
   ]
  },
  {
   "cell_type": "code",
   "execution_count": 9,
   "metadata": {
    "collapsed": false
   },
   "outputs": [],
   "source": [
    "galfchar = Character(battlenet.UNITED_STATES, \"jubei'thos\", 'galf')"
   ]
  },
  {
   "cell_type": "code",
   "execution_count": 10,
   "metadata": {
    "collapsed": false
   },
   "outputs": [
    {
     "data": {
      "text/plain": [
       "<Character: Galf@Jubei'Thos>"
      ]
     },
     "execution_count": 10,
     "metadata": {},
     "output_type": "execute_result"
    }
   ],
   "source": [
    "galfchar"
   ]
  },
  {
   "cell_type": "code",
   "execution_count": 13,
   "metadata": {
    "collapsed": false
   },
   "outputs": [
    {
     "data": {
      "text/plain": [
       "'{\"realm\": \"Jubei\\'Thos\", \"name\": \"Galf\", \"level\": 100, \"lastModified\": 1433464843000, \"totalHonorableKills\": 20336, \"thumbnail\": \"internal-record-3697/221/155983837-avatar.jpg\", \"race\": 10, \"calcClass\": \"b\", \"achievementPoints\": 8085, \"gender\": 1, \"battlegroup\": \"AU/NZ Battle Group\", \"class\": 2}'"
      ]
     },
     "execution_count": 13,
     "metadata": {},
     "output_type": "execute_result"
    }
   ],
   "source": [
    "galfchar.to_json()"
   ]
  },
  {
   "cell_type": "code",
   "execution_count": 14,
   "metadata": {
    "collapsed": false
   },
   "outputs": [],
   "source": [
    "gquiq = galfchar.equipment"
   ]
  },
  {
   "cell_type": "code",
   "execution_count": 15,
   "metadata": {
    "collapsed": false
   },
   "outputs": [
    {
     "data": {
      "text/plain": [
       "577"
      ]
     },
     "execution_count": 15,
     "metadata": {},
     "output_type": "execute_result"
    }
   ],
   "source": [
    "gquiq.average_item_level"
   ]
  },
  {
   "cell_type": "code",
   "execution_count": 16,
   "metadata": {
    "collapsed": false
   },
   "outputs": [
    {
     "data": {
      "text/plain": [
       "403"
      ]
     },
     "execution_count": 16,
     "metadata": {},
     "output_type": "execute_result"
    }
   ],
   "source": [
    "gquiq.average_item_level_equiped"
   ]
  },
  {
   "cell_type": "code",
   "execution_count": 17,
   "metadata": {
    "collapsed": false
   },
   "outputs": [],
   "source": [
    "gdarz = galfchar.get_spec_name"
   ]
  },
  {
   "cell_type": "code",
   "execution_count": 18,
   "metadata": {
    "collapsed": false
   },
   "outputs": [
    {
     "ename": "KeyError",
     "evalue": "'build'",
     "output_type": "error",
     "traceback": [
      "\u001b[1;31m---------------------------------------------------------------------------\u001b[0m",
      "\u001b[1;31mKeyError\u001b[0m                                  Traceback (most recent call last)",
      "\u001b[1;32m<ipython-input-18-ac998ca8aad0>\u001b[0m in \u001b[0;36m<module>\u001b[1;34m()\u001b[0m\n\u001b[1;32m----> 1\u001b[1;33m \u001b[0mgdarz\u001b[0m\u001b[1;33m(\u001b[0m\u001b[1;33m)\u001b[0m\u001b[1;33m\u001b[0m\u001b[0m\n\u001b[0m",
      "\u001b[1;32m/usr/local/lib/python2.7/dist-packages/battlenet/things.pyc\u001b[0m in \u001b[0;36mget_spec_name\u001b[1;34m(self)\u001b[0m\n\u001b[0;32m    280\u001b[0m \u001b[1;33m\u001b[0m\u001b[0m\n\u001b[0;32m    281\u001b[0m     \u001b[1;32mdef\u001b[0m \u001b[0mget_spec_name\u001b[0m\u001b[1;33m(\u001b[0m\u001b[0mself\u001b[0m\u001b[1;33m)\u001b[0m\u001b[1;33m:\u001b[0m\u001b[1;33m\u001b[0m\u001b[0m\n\u001b[1;32m--> 282\u001b[1;33m         \u001b[1;32mfor\u001b[0m \u001b[0mtalent\u001b[0m \u001b[1;32min\u001b[0m \u001b[0mself\u001b[0m\u001b[1;33m.\u001b[0m\u001b[0mtalents\u001b[0m\u001b[1;33m:\u001b[0m\u001b[1;33m\u001b[0m\u001b[0m\n\u001b[0m\u001b[0;32m    283\u001b[0m             \u001b[1;32mif\u001b[0m \u001b[0mtalent\u001b[0m\u001b[1;33m.\u001b[0m\u001b[0mselected\u001b[0m\u001b[1;33m:\u001b[0m\u001b[1;33m\u001b[0m\u001b[0m\n\u001b[0;32m    284\u001b[0m                 \u001b[1;32mreturn\u001b[0m \u001b[0mtalent\u001b[0m\u001b[1;33m.\u001b[0m\u001b[0mname\u001b[0m\u001b[1;33m\u001b[0m\u001b[0m\n",
      "\u001b[1;32m/usr/local/lib/python2.7/dist-packages/battlenet/things.pyc\u001b[0m in \u001b[0;36mtalents\u001b[1;34m(self)\u001b[0m\n\u001b[0;32m    253\u001b[0m     \u001b[1;32mdef\u001b[0m \u001b[0mtalents\u001b[0m\u001b[1;33m(\u001b[0m\u001b[0mself\u001b[0m\u001b[1;33m)\u001b[0m\u001b[1;33m:\u001b[0m\u001b[1;33m\u001b[0m\u001b[0m\n\u001b[0;32m    254\u001b[0m         \u001b[1;32mif\u001b[0m \u001b[0mself\u001b[0m\u001b[1;33m.\u001b[0m\u001b[0m_refresh_if_not_present\u001b[0m\u001b[1;33m(\u001b[0m\u001b[0mCharacter\u001b[0m\u001b[1;33m.\u001b[0m\u001b[0mTALENTS\u001b[0m\u001b[1;33m)\u001b[0m\u001b[1;33m:\u001b[0m\u001b[1;33m\u001b[0m\u001b[0m\n\u001b[1;32m--> 255\u001b[1;33m             \u001b[0mself\u001b[0m\u001b[1;33m.\u001b[0m\u001b[0m_talents\u001b[0m \u001b[1;33m=\u001b[0m \u001b[1;33m[\u001b[0m\u001b[0mBuild\u001b[0m\u001b[1;33m(\u001b[0m\u001b[0mself\u001b[0m\u001b[1;33m,\u001b[0m \u001b[0mbuild\u001b[0m\u001b[1;33m)\u001b[0m \u001b[1;32mfor\u001b[0m \u001b[0mbuild\u001b[0m \u001b[1;32min\u001b[0m \u001b[0mself\u001b[0m\u001b[1;33m.\u001b[0m\u001b[0m_data\u001b[0m\u001b[1;33m[\u001b[0m\u001b[0mCharacter\u001b[0m\u001b[1;33m.\u001b[0m\u001b[0mTALENTS\u001b[0m\u001b[1;33m]\u001b[0m\u001b[1;33m]\u001b[0m\u001b[1;33m\u001b[0m\u001b[0m\n\u001b[0m\u001b[0;32m    256\u001b[0m \u001b[1;33m\u001b[0m\u001b[0m\n\u001b[0;32m    257\u001b[0m         \u001b[1;32mreturn\u001b[0m \u001b[0mself\u001b[0m\u001b[1;33m.\u001b[0m\u001b[0m_talents\u001b[0m\u001b[1;33m\u001b[0m\u001b[0m\n",
      "\u001b[1;32m/usr/local/lib/python2.7/dist-packages/battlenet/things.pyc\u001b[0m in \u001b[0;36m__init__\u001b[1;34m(self, character, data)\u001b[0m\n\u001b[0;32m    487\u001b[0m         \u001b[0mself\u001b[0m\u001b[1;33m.\u001b[0m\u001b[0m_data\u001b[0m \u001b[1;33m=\u001b[0m \u001b[0mdata\u001b[0m\u001b[1;33m\u001b[0m\u001b[0m\n\u001b[0;32m    488\u001b[0m \u001b[1;33m\u001b[0m\u001b[0m\n\u001b[1;32m--> 489\u001b[1;33m         \u001b[0mself\u001b[0m\u001b[1;33m.\u001b[0m\u001b[0mbuild\u001b[0m \u001b[1;33m=\u001b[0m \u001b[0mdata\u001b[0m\u001b[1;33m[\u001b[0m\u001b[1;34m'build'\u001b[0m\u001b[1;33m]\u001b[0m\u001b[1;33m\u001b[0m\u001b[0m\n\u001b[0m\u001b[0;32m    490\u001b[0m         \u001b[0mself\u001b[0m\u001b[1;33m.\u001b[0m\u001b[0micon\u001b[0m \u001b[1;33m=\u001b[0m \u001b[0mdata\u001b[0m\u001b[1;33m.\u001b[0m\u001b[0mget\u001b[0m\u001b[1;33m(\u001b[0m\u001b[1;34m'icon'\u001b[0m\u001b[1;33m)\u001b[0m\u001b[1;33m\u001b[0m\u001b[0m\n\u001b[0;32m    491\u001b[0m         \u001b[0mself\u001b[0m\u001b[1;33m.\u001b[0m\u001b[0mname\u001b[0m \u001b[1;33m=\u001b[0m \u001b[0mdata\u001b[0m\u001b[1;33m[\u001b[0m\u001b[1;34m'name'\u001b[0m\u001b[1;33m]\u001b[0m\u001b[1;33m\u001b[0m\u001b[0m\n",
      "\u001b[1;31mKeyError\u001b[0m: 'build'"
     ]
    }
   ],
   "source": [
    "gdarz()"
   ]
  },
  {
   "cell_type": "code",
   "execution_count": null,
   "metadata": {
    "collapsed": true
   },
   "outputs": [],
   "source": [
    "import random"
   ]
  },
  {
   "cell_type": "code",
   "execution_count": 19,
   "metadata": {
    "collapsed": false
   },
   "outputs": [],
   "source": [
    "gfinz = galfchar.titles"
   ]
  },
  {
   "cell_type": "code",
   "execution_count": 20,
   "metadata": {
    "collapsed": true
   },
   "outputs": [],
   "source": [
    "diczid = list()"
   ]
  },
  {
   "cell_type": "code",
   "execution_count": 21,
   "metadata": {
    "collapsed": false
   },
   "outputs": [
    {
     "name": "stdout",
     "output_type": "stream",
     "text": [
      "Elder Galf\n",
      "Flame Keeper Galf\n",
      "Galf the Explorer\n",
      "Galf the Hallowed\n",
      "Galf, Champion of the Frozen Wastes\n",
      "Ambassador Galf\n",
      "Brewmaster Galf\n",
      "Merrymaker Galf\n",
      "Galf the Love Fool\n",
      "Matron Galf\n",
      "Galf Jenkins\n",
      "Bloodsail Admiral Galf\n",
      "Galf of Orgrimmar\n",
      "Galf of Sen'jin\n",
      "Galf of Silvermoon\n",
      "Galf of Thunder Bluff\n",
      "Galf of the Undercity\n",
      "Galf the Noble\n",
      "Crusader Galf\n",
      "Galf the Patient\n"
     ]
    }
   ],
   "source": [
    "for gfin in gfinz:\n",
    "    print gfin\n",
    "    diczid.append(gfin)"
   ]
  },
  {
   "cell_type": "code",
   "execution_count": 22,
   "metadata": {
    "collapsed": false
   },
   "outputs": [
    {
     "data": {
      "text/plain": [
       "20"
      ]
     },
     "execution_count": 22,
     "metadata": {},
     "output_type": "execute_result"
    }
   ],
   "source": [
    "len(diczid)"
   ]
  },
  {
   "cell_type": "code",
   "execution_count": 23,
   "metadata": {
    "collapsed": false
   },
   "outputs": [
    {
     "ename": "NameError",
     "evalue": "name 'random' is not defined",
     "output_type": "error",
     "traceback": [
      "\u001b[1;31m---------------------------------------------------------------------------\u001b[0m",
      "\u001b[1;31mNameError\u001b[0m                                 Traceback (most recent call last)",
      "\u001b[1;32m<ipython-input-23-d71d8af5d348>\u001b[0m in \u001b[0;36m<module>\u001b[1;34m()\u001b[0m\n\u001b[1;32m----> 1\u001b[1;33m \u001b[0mrantitle\u001b[0m \u001b[1;33m=\u001b[0m \u001b[0mrandom\u001b[0m\u001b[1;33m.\u001b[0m\u001b[0mchoice\u001b[0m\u001b[1;33m(\u001b[0m\u001b[0mdiczid\u001b[0m\u001b[1;33m)\u001b[0m\u001b[1;33m\u001b[0m\u001b[0m\n\u001b[0m",
      "\u001b[1;31mNameError\u001b[0m: name 'random' is not defined"
     ]
    }
   ],
   "source": [
    "rantitle = random.choice(diczid)"
   ]
  },
  {
   "cell_type": "code",
   "execution_count": 24,
   "metadata": {
    "collapsed": false
   },
   "outputs": [
    {
     "ename": "NameError",
     "evalue": "name 'rantitle' is not defined",
     "output_type": "error",
     "traceback": [
      "\u001b[1;31m---------------------------------------------------------------------------\u001b[0m",
      "\u001b[1;31mNameError\u001b[0m                                 Traceback (most recent call last)",
      "\u001b[1;32m<ipython-input-24-571999fc9566>\u001b[0m in \u001b[0;36m<module>\u001b[1;34m()\u001b[0m\n\u001b[1;32m----> 1\u001b[1;33m \u001b[1;32mprint\u001b[0m \u001b[0mrantitle\u001b[0m\u001b[1;33m\u001b[0m\u001b[0m\n\u001b[0m",
      "\u001b[1;31mNameError\u001b[0m: name 'rantitle' is not defined"
     ]
    }
   ],
   "source": [
    "print rantitle"
   ]
  },
  {
   "cell_type": "code",
   "execution_count": 28,
   "metadata": {
    "collapsed": false
   },
   "outputs": [
    {
     "data": {
      "text/plain": [
       "'Incarnadine Gauntlets'"
      ]
     },
     "execution_count": 28,
     "metadata": {},
     "output_type": "execute_result"
    }
   ],
   "source": [
    "gquiq.hands.name"
   ]
  },
  {
   "cell_type": "code",
   "execution_count": 25,
   "metadata": {
    "collapsed": false
   },
   "outputs": [
    {
     "data": {
      "text/plain": [
       "'{\"shoulder\": {\"stats\": [{\"stat\": 4, \"amount\": 13}, {\"stat\": 32, \"amount\": 18}, {\"stat\": 7, \"amount\": 20}], \"name\": \"Polished Spaulders of Valor\", \"tooltipParams\": {}, \"armor\": 44, \"itemLevel\": 85, \"bonusLists\": [583], \"context\": \"\", \"quality\": 7, \"id\": 122355, \"icon\": \"inv_shoulder_30\"}, \"averageItemLevelEquipped\": 403, \"averageItemLevel\": 577, \"neck\": {\"stats\": [{\"stat\": 49, \"amount\": 64}, {\"stat\": 4, \"amount\": 103}, {\"stat\": 36, \"amount\": 72}, {\"stat\": 7, \"amount\": 155}], \"name\": \"Glowing Taladite Pendant of the Feverflare\", \"tooltipParams\": {\"enchant\": 5293}, \"armor\": 0, \"itemLevel\": 640, \"bonusLists\": [121, 525, 540], \"context\": \"trade-skill\", \"quality\": 4, \"id\": 115799, \"icon\": \"inv_jewelcrafting_necklace1_red\"}, \"trinket1\": {\"stats\": [{\"stat\": 7, \"amount\": 65}], \"name\": \"Frostwolf Veteran\\'s Keepsake\", \"tooltipParams\": {}, \"armor\": 0, \"itemLevel\": 516, \"bonusLists\": [], \"context\": \"\", \"quality\": 3, \"id\": 106899, \"icon\": \"inv_jewelry_frostwolftrinket_01\"}, \"trinket2\": {\"stats\": [{\"stat\": 49, \"amount\": 103}], \"name\": \"Watch Commander Branson\\'s Lapel\", \"tooltipParams\": {}, \"armor\": 0, \"itemLevel\": 583, \"bonusLists\": [171], \"context\": \"quest-reward\", \"quality\": 3, \"id\": 114958, \"icon\": \"inv_jewelry_talisman_12\"}, \"finger2\": {\"stats\": [{\"stat\": 49, \"amount\": 26}, {\"stat\": 4, \"amount\": 36}, {\"stat\": 36, \"amount\": 22}, {\"stat\": 7, \"amount\": 54}], \"name\": \"Botani Tender\\'s Seal\", \"tooltipParams\": {}, \"armor\": 0, \"itemLevel\": 528, \"bonusLists\": [], \"context\": \"quest-reward\", \"quality\": 2, \"id\": 112859, \"icon\": \"inv_ringwod_d4_4\"}, \"finger1\": {\"stats\": [{\"stat\": 59, \"amount\": 44}, {\"stat\": 40, \"amount\": 44}, {\"stat\": 4, \"amount\": 66}, {\"stat\": 7, \"amount\": 99}], \"name\": \"Talon Guard Bloodsworn Ring\", \"tooltipParams\": {}, \"armor\": 0, \"itemLevel\": 592, \"bonusLists\": [], \"context\": \"quest-reward\", \"quality\": 3, \"id\": 118069, \"icon\": \"inv_ringwod_d3_1\"}, \"head\": {\"stats\": [{\"stat\": 4, \"amount\": 17}, {\"stat\": 36, \"amount\": 23}, {\"stat\": 7, \"amount\": 26}], \"name\": \"Polished Helm of Valor\", \"tooltipParams\": {}, \"armor\": 48, \"itemLevel\": 85, \"bonusLists\": [583], \"context\": \"\", \"quality\": 7, \"id\": 122245, \"icon\": \"inv_helmet_02\"}, \"mainHand\": {\"stats\": [{\"stat\": 49, \"amount\": 90}, {\"stat\": 32, \"amount\": 94}, {\"stat\": 4, \"amount\": 139}, {\"stat\": 7, \"amount\": 208}], \"name\": \"Greataxe of Trials\", \"tooltipParams\": {}, \"armor\": 0, \"itemLevel\": 610, \"weaponInfo\": {\"dps\": 249.44446, \"damage\": {\"max\": 1079, \"exactMin\": 718.0, \"exactMax\": 1078.0, \"min\": 718}, \"weaponSpeed\": 3.6}, \"bonusLists\": [], \"context\": \"quest-reward\", \"quality\": 3, \"id\": 119458, \"icon\": \"inv_axe_2h_draenordungeon_c_01\"}, \"back\": {\"stats\": [{\"stat\": 32, \"amount\": 7}, {\"stat\": 4, \"amount\": 10}, {\"stat\": 36, \"amount\": 7}, {\"stat\": 7, \"amount\": 15}], \"name\": \"Worn Stoneskin Gargoyle Cape\", \"tooltipParams\": {}, \"armor\": 7, \"itemLevel\": 85, \"bonusLists\": [583], \"context\": \"vendor\", \"quality\": 7, \"id\": 122260, \"icon\": \"inv_misc_cape_19\"}, \"feet\": {\"stats\": [{\"stat\": 32, \"amount\": 36}, {\"stat\": 49, \"amount\": 36}, {\"stat\": 74, \"amount\": 55}, {\"stat\": 7, \"amount\": 82}], \"name\": \"Foundry-Fired Plate Warboots\", \"tooltipParams\": {}, \"armor\": 96, \"itemLevel\": 541, \"bonusLists\": [171], \"context\": \"quest-reward\", \"quality\": 3, \"id\": 112591, \"icon\": \"inv_plate_draenorquest90_b_01boot\"}, \"chest\": {\"stats\": [{\"stat\": 4, \"amount\": 17}, {\"stat\": 32, \"amount\": 23}, {\"stat\": 7, \"amount\": 26}], \"name\": \"Polished Breastplate of Valor\", \"tooltipParams\": {}, \"armor\": 59, \"itemLevel\": 85, \"bonusLists\": [583], \"context\": \"\", \"quality\": 7, \"id\": 122381, \"icon\": \"inv_chest_plate03\"}, \"wrist\": {\"stats\": [{\"stat\": 32, \"amount\": 12}, {\"stat\": 49, \"amount\": 12}, {\"stat\": 4, \"amount\": 18}, {\"stat\": 7, \"amount\": 28}], \"name\": \"Wallwatcher Bracers\", \"tooltipParams\": {}, \"armor\": 36, \"itemLevel\": 434, \"bonusLists\": [], \"context\": \"quest-reward\", \"quality\": 3, \"id\": 82558, \"icon\": \"inv_bracer_plate_panda_b_02yellow\"}, \"hands\": {\"stats\": [{\"stat\": 32, \"amount\": 48}, {\"stat\": 49, \"amount\": 72}, {\"stat\": 74, \"amount\": 95}, {\"stat\": 7, \"amount\": 142}], \"name\": \"Incarnadine Gauntlets\", \"tooltipParams\": {}, \"armor\": 181, \"itemLevel\": 600, \"bonusLists\": [521], \"context\": \"dungeon-level-up-4\", \"quality\": 3, \"id\": 109856, \"icon\": \"inv_glove_plate_draenordungeon_c_01\"}, \"tabard\": {\"stats\": [], \"name\": \"Argent Crusader\\'s Tabard\", \"tooltipParams\": {}, \"armor\": 0, \"itemLevel\": 1, \"bonusLists\": [], \"context\": \"\", \"quality\": 3, \"id\": 46874, \"icon\": \"inv_shirt_guildtabard_01\"}, \"legs\": {\"stats\": [{\"stat\": 32, \"amount\": 12}, {\"stat\": 4, \"amount\": 17}, {\"stat\": 36, \"amount\": 12}, {\"stat\": 7, \"amount\": 26}], \"name\": \"Polished Legplates of Valor\", \"tooltipParams\": {}, \"armor\": 52, \"itemLevel\": 85, \"bonusLists\": [583], \"context\": \"vendor\", \"quality\": 7, \"id\": 122251, \"icon\": \"inv_pants_04\"}, \"waist\": {\"stats\": [{\"stat\": 59, \"amount\": 51}, {\"stat\": 32, \"amount\": 55}, {\"stat\": 74, \"amount\": 80}, {\"stat\": 7, \"amount\": 120}], \"name\": \"Cragplate Girdle\", \"tooltipParams\": {}, \"armor\": 130, \"itemLevel\": 582, \"bonusLists\": [171], \"context\": \"quest-reward\", \"quality\": 3, \"id\": 114736, \"icon\": \"inv_belt_plate_draenorquest95_b_01\"}}'"
      ]
     },
     "execution_count": 25,
     "metadata": {},
     "output_type": "execute_result"
    }
   ],
   "source": [
    "gquiq.to_json()"
   ]
  },
  {
   "cell_type": "code",
   "execution_count": 29,
   "metadata": {
    "collapsed": false
   },
   "outputs": [
    {
     "ename": "NameError",
     "evalue": "name 'rantitle' is not defined",
     "output_type": "error",
     "traceback": [
      "\u001b[1;31m---------------------------------------------------------------------------\u001b[0m",
      "\u001b[1;31mNameError\u001b[0m                                 Traceback (most recent call last)",
      "\u001b[1;32m<ipython-input-29-3df1ce959d1a>\u001b[0m in \u001b[0;36m<module>\u001b[1;34m()\u001b[0m\n\u001b[0;32m      8\u001b[0m     \u001b[1;32mwith\u001b[0m \u001b[0mdiv\u001b[0m\u001b[1;33m(\u001b[0m\u001b[1;33m)\u001b[0m\u001b[1;33m:\u001b[0m\u001b[1;33m\u001b[0m\u001b[0m\n\u001b[0;32m      9\u001b[0m         \u001b[0mattr\u001b[0m\u001b[1;33m(\u001b[0m\u001b[0mcls\u001b[0m\u001b[1;33m=\u001b[0m\u001b[1;34m'header'\u001b[0m\u001b[1;33m)\u001b[0m\u001b[1;33m\u001b[0m\u001b[0m\n\u001b[1;32m---> 10\u001b[1;33m         \u001b[0mh1\u001b[0m\u001b[1;33m(\u001b[0m\u001b[0mrantitle\u001b[0m\u001b[1;33m)\u001b[0m\u001b[1;33m\u001b[0m\u001b[0m\n\u001b[0m\u001b[0;32m     11\u001b[0m         \u001b[0mp\u001b[0m\u001b[1;33m(\u001b[0m\u001b[0mimg\u001b[0m\u001b[1;33m(\u001b[0m\u001b[1;34m'/imgs/getsdrawn-bw.png'\u001b[0m\u001b[1;33m,\u001b[0m \u001b[0msrc\u001b[0m\u001b[1;33m=\u001b[0m\u001b[1;34m'/imgs/getsdrawn-bw.png'\u001b[0m\u001b[1;33m)\u001b[0m\u001b[1;33m)\u001b[0m\u001b[1;33m\u001b[0m\u001b[0m\n\u001b[0;32m     12\u001b[0m         \u001b[1;31m#p(img('imgs/15/01/02/ReptileLover82-reference.png', src= 'imgs/15/01/02/ReptileLover82-reference.png'))\u001b[0m\u001b[1;33m\u001b[0m\u001b[1;33m\u001b[0m\u001b[0m\n",
      "\u001b[1;31mNameError\u001b[0m: name 'rantitle' is not defined"
     ]
    }
   ],
   "source": [
    "doc = dominate.document(title='garrisonwowtrack')\n",
    "\n",
    "with doc.head:\n",
    "    link(rel='stylesheet', href='style.css')\n",
    "    script(type ='text/javascript', src='script.js')\n",
    "    #str(str2)\n",
    "    \n",
    "    with div():\n",
    "        attr(cls='header')\n",
    "        h1(rantitle)\n",
    "        p(img('/imgs/getsdrawn-bw.png', src='/imgs/getsdrawn-bw.png'))\n",
    "        #p(img('imgs/15/01/02/ReptileLover82-reference.png', src= 'imgs/15/01/02/ReptileLover82-reference.png'))\n",
    "        h1('Updated ', str(artes.datetime))\n",
    "        #p(panz)\n",
    "        #p(bodycom)\n",
    "    \n",
    "    \n",
    "'''\n",
    "with doc:\n",
    "    with div(id='body').add(ol()):\n",
    "        for flc in fulcom:\n",
    "            if 'http://i.imgur.com' in flc.url:\n",
    "                p(h1(flc.title))\n",
    "                p(img(imlocdir, src= imlocdir))\n",
    "                #p(img(flc.url, src = flc.url))\n",
    "                p(str(flc.author))\n",
    "                #res = requests.get(flc.url, stream=True)\n",
    "                #with open(str(flc.author) + '-' + str(artes.date()) + '-reference.png', 'wb') as outfil:\n",
    "                #    shutil.copyfileobj(res.raw, outfil)\n",
    "                #    del res\n",
    "                \n",
    "                \n",
    "            \n",
    "        for flcz in flc.comments:\n",
    "                p(flcz.body)\n",
    "        \n",
    "        \n",
    "        #for rdz in reliz:\n",
    "            #h1(rdz.title)\n",
    "            #a(rdz.url)\n",
    "            #p(img(rdz, src='%s' % rdz))\n",
    "            #print rdz\n",
    "            #p(img(rdz, src = rdz))\n",
    "            #p(rdz)\n",
    "\n",
    "\n",
    "                \n",
    "            #print rdz.url\n",
    "            #if '.jpg' in rdz.url:\n",
    "            #    img(rdz.urlz)\n",
    "            #else:\n",
    "            #    a(rdz.urlz)\n",
    "            #h1(str(rdz.author))\n",
    "            \n",
    "            #li(img(i.lower(), src='%s' % i))\n",
    "\n",
    "    with div():\n",
    "        attr(cls='body')\n",
    "        p('GotDrawn is open source')\n",
    "        a('https://github.com/getsdrawn/getsdrawndotcom')\n",
    "        a('https://reddit.com/r/redditgetsdrawn')\n",
    "'''\n",
    "print doc"
   ]
  },
  {
   "cell_type": "code",
   "execution_count": null,
   "metadata": {
    "collapsed": true
   },
   "outputs": [],
   "source": []
  }
 ],
 "metadata": {
  "kernelspec": {
   "display_name": "Python 2",
   "name": "python2"
  },
  "language_info": {
   "codemirror_mode": {
    "name": "ipython",
    "version": 2
   },
   "file_extension": ".py",
   "mimetype": "text/x-python",
   "name": "python",
   "nbconvert_exporter": "python",
   "pygments_lexer": "ipython2",
   "version": "2.7.9"
  }
 },
 "nbformat": 4,
 "nbformat_minor": 0
}
