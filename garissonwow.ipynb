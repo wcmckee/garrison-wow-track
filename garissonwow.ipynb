{
 "cells": [
  {
   "cell_type": "markdown",
   "metadata": {},
   "source": [
    "<h1>GarrissonWow</h1>\n",
    "\n",
    "Script to get world of warcraft data and display it in a website."
   ]
  },
  {
   "cell_type": "code",
   "execution_count": 1,
   "metadata": {
    "collapsed": true
   },
   "outputs": [],
   "source": [
    "import battlenet\n",
    "import dominate\n",
    "from dominate.tags import * \n",
    "import json\n",
    "import arrow"
   ]
  },
  {
   "cell_type": "code",
   "execution_count": 2,
   "metadata": {
    "collapsed": true
   },
   "outputs": [],
   "source": [
    "from battlenet import Realm"
   ]
  },
  {
   "cell_type": "code",
   "execution_count": 3,
   "metadata": {
    "collapsed": false
   },
   "outputs": [],
   "source": [
    "#Realm.to_json()"
   ]
  },
  {
   "cell_type": "code",
   "execution_count": 4,
   "metadata": {
    "collapsed": false
   },
   "outputs": [],
   "source": [
    "realm = Realm(battlenet.UNITED_STATES, \"jubei'thos\")"
   ]
  },
  {
   "cell_type": "code",
   "execution_count": 5,
   "metadata": {
    "collapsed": false
   },
   "outputs": [
    {
     "data": {
      "text/plain": [
       "<Realm: Jubei'Thos(US)>"
      ]
     },
     "execution_count": 5,
     "metadata": {},
     "output_type": "execute_result"
    }
   ],
   "source": [
    "realm"
   ]
  },
  {
   "cell_type": "code",
   "execution_count": 6,
   "metadata": {
    "collapsed": false
   },
   "outputs": [
    {
     "name": "stdout",
     "output_type": "stream",
     "text": [
      "True\n"
     ]
    }
   ],
   "source": [
    "print realm.is_online()"
   ]
  },
  {
   "cell_type": "code",
   "execution_count": 7,
   "metadata": {
    "collapsed": false
   },
   "outputs": [
    {
     "name": "stdout",
     "output_type": "stream",
     "text": [
      "{\"status\": true, \"wintergrasp\": {\"status\": 0, \"next\": 1435412053059, \"controlling-faction\": 1, \"area\": 1}, \"battlegroup\": \"AU/NZ Battle Group\", \"name\": \"Jubei'Thos\", \"tol-barad\": {\"status\": 0, \"next\": 1435411111400, \"controlling-faction\": 1, \"area\": 21}, \"locale\": \"en_US\", \"queue\": false, \"connected_realms\": [\"gundrak\", \"jubeithos\", \"internal-record-3697\"], \"timezone\": \"Australia/Melbourne\", \"type\": \"pvp\", \"slug\": \"jubeithos\", \"population\": \"high\"}\n"
     ]
    }
   ],
   "source": [
    "print realm.to_json()"
   ]
  },
  {
   "cell_type": "code",
   "execution_count": 8,
   "metadata": {
    "collapsed": true
   },
   "outputs": [],
   "source": [
    "rejs = json.loads(realm.to_json())"
   ]
  },
  {
   "cell_type": "code",
   "execution_count": 9,
   "metadata": {
    "collapsed": false
   },
   "outputs": [
    {
     "data": {
      "text/plain": [
       "{u'battlegroup': u'AU/NZ Battle Group',\n",
       " u'connected_realms': [u'gundrak', u'jubeithos', u'internal-record-3697'],\n",
       " u'locale': u'en_US',\n",
       " u'name': u\"Jubei'Thos\",\n",
       " u'population': u'high',\n",
       " u'queue': False,\n",
       " u'slug': u'jubeithos',\n",
       " u'status': True,\n",
       " u'timezone': u'Australia/Melbourne',\n",
       " u'tol-barad': {u'area': 21,\n",
       "  u'controlling-faction': 1,\n",
       "  u'next': 1435411111400L,\n",
       "  u'status': 0},\n",
       " u'type': u'pvp',\n",
       " u'wintergrasp': {u'area': 1,\n",
       "  u'controlling-faction': 1,\n",
       "  u'next': 1435412053059L,\n",
       "  u'status': 0}}"
      ]
     },
     "execution_count": 9,
     "metadata": {},
     "output_type": "execute_result"
    }
   ],
   "source": [
    "rejs"
   ]
  },
  {
   "cell_type": "code",
   "execution_count": 10,
   "metadata": {
    "collapsed": false
   },
   "outputs": [],
   "source": [
    "rtza = rejs['timezone']"
   ]
  },
  {
   "cell_type": "code",
   "execution_count": 11,
   "metadata": {
    "collapsed": true
   },
   "outputs": [],
   "source": [
    "import datetime"
   ]
  },
  {
   "cell_type": "code",
   "execution_count": 12,
   "metadata": {
    "collapsed": false
   },
   "outputs": [
    {
     "ename": "ParserError",
     "evalue": "Could not match input to any of ['YYYY-MM-DD', 'YYYY-MM', 'YYYY'] on 'US/Pacific'",
     "output_type": "error",
     "traceback": [
      "\u001b[1;31m---------------------------------------------------------------------------\u001b[0m",
      "\u001b[1;31mParserError\u001b[0m                               Traceback (most recent call last)",
      "\u001b[1;32m<ipython-input-12-c1d111b94fc4>\u001b[0m in \u001b[0;36m<module>\u001b[1;34m()\u001b[0m\n\u001b[1;32m----> 1\u001b[1;33m \u001b[0marrow\u001b[0m\u001b[1;33m.\u001b[0m\u001b[0mget\u001b[0m\u001b[1;33m(\u001b[0m\u001b[1;34m'US/Pacific'\u001b[0m\u001b[1;33m)\u001b[0m\u001b[1;33m\u001b[0m\u001b[0m\n\u001b[0m",
      "\u001b[1;32m/usr/local/lib/python2.7/dist-packages/arrow/api.pyc\u001b[0m in \u001b[0;36mget\u001b[1;34m(*args, **kwargs)\u001b[0m\n\u001b[0;32m     21\u001b[0m     '''\n\u001b[0;32m     22\u001b[0m \u001b[1;33m\u001b[0m\u001b[0m\n\u001b[1;32m---> 23\u001b[1;33m     \u001b[1;32mreturn\u001b[0m \u001b[0m_factory\u001b[0m\u001b[1;33m.\u001b[0m\u001b[0mget\u001b[0m\u001b[1;33m(\u001b[0m\u001b[1;33m*\u001b[0m\u001b[0margs\u001b[0m\u001b[1;33m,\u001b[0m \u001b[1;33m**\u001b[0m\u001b[0mkwargs\u001b[0m\u001b[1;33m)\u001b[0m\u001b[1;33m\u001b[0m\u001b[0m\n\u001b[0m\u001b[0;32m     24\u001b[0m \u001b[1;33m\u001b[0m\u001b[0m\n\u001b[0;32m     25\u001b[0m \u001b[1;32mdef\u001b[0m \u001b[0mutcnow\u001b[0m\u001b[1;33m(\u001b[0m\u001b[1;33m)\u001b[0m\u001b[1;33m:\u001b[0m\u001b[1;33m\u001b[0m\u001b[0m\n",
      "\u001b[1;32m/usr/local/lib/python2.7/dist-packages/arrow/factory.pyc\u001b[0m in \u001b[0;36mget\u001b[1;34m(self, *args, **kwargs)\u001b[0m\n\u001b[0;32m    161\u001b[0m             \u001b[1;31m# (str) -> now, @ tzinfo.\u001b[0m\u001b[1;33m\u001b[0m\u001b[1;33m\u001b[0m\u001b[0m\n\u001b[0;32m    162\u001b[0m             \u001b[1;32melif\u001b[0m \u001b[0misstr\u001b[0m\u001b[1;33m(\u001b[0m\u001b[0marg\u001b[0m\u001b[1;33m)\u001b[0m\u001b[1;33m:\u001b[0m\u001b[1;33m\u001b[0m\u001b[0m\n\u001b[1;32m--> 163\u001b[1;33m                 \u001b[0mdt\u001b[0m \u001b[1;33m=\u001b[0m \u001b[0mparser\u001b[0m\u001b[1;33m.\u001b[0m\u001b[0mDateTimeParser\u001b[0m\u001b[1;33m(\u001b[0m\u001b[0mlocale\u001b[0m\u001b[1;33m)\u001b[0m\u001b[1;33m.\u001b[0m\u001b[0mparse_iso\u001b[0m\u001b[1;33m(\u001b[0m\u001b[0marg\u001b[0m\u001b[1;33m)\u001b[0m\u001b[1;33m\u001b[0m\u001b[0m\n\u001b[0m\u001b[0;32m    164\u001b[0m                 \u001b[1;32mreturn\u001b[0m \u001b[0mself\u001b[0m\u001b[1;33m.\u001b[0m\u001b[0mtype\u001b[0m\u001b[1;33m.\u001b[0m\u001b[0mfromdatetime\u001b[0m\u001b[1;33m(\u001b[0m\u001b[0mdt\u001b[0m\u001b[1;33m)\u001b[0m\u001b[1;33m\u001b[0m\u001b[0m\n\u001b[0;32m    165\u001b[0m \u001b[1;33m\u001b[0m\u001b[0m\n",
      "\u001b[1;32m/usr/local/lib/python2.7/dist-packages/arrow/parser.pyc\u001b[0m in \u001b[0;36mparse_iso\u001b[1;34m(self, string)\u001b[0m\n\u001b[0;32m     98\u001b[0m             \u001b[0mformats\u001b[0m \u001b[1;33m=\u001b[0m \u001b[1;33m[\u001b[0m\u001b[0mitem\u001b[0m\u001b[1;33m.\u001b[0m\u001b[0mreplace\u001b[0m\u001b[1;33m(\u001b[0m\u001b[1;34m'T'\u001b[0m\u001b[1;33m,\u001b[0m \u001b[1;34m' '\u001b[0m\u001b[1;33m,\u001b[0m \u001b[1;36m1\u001b[0m\u001b[1;33m)\u001b[0m \u001b[1;32mfor\u001b[0m \u001b[0mitem\u001b[0m \u001b[1;32min\u001b[0m \u001b[0mformats\u001b[0m\u001b[1;33m]\u001b[0m\u001b[1;33m\u001b[0m\u001b[0m\n\u001b[0;32m     99\u001b[0m \u001b[1;33m\u001b[0m\u001b[0m\n\u001b[1;32m--> 100\u001b[1;33m         \u001b[1;32mreturn\u001b[0m \u001b[0mself\u001b[0m\u001b[1;33m.\u001b[0m\u001b[0m_parse_multiformat\u001b[0m\u001b[1;33m(\u001b[0m\u001b[0mstring\u001b[0m\u001b[1;33m,\u001b[0m \u001b[0mformats\u001b[0m\u001b[1;33m)\u001b[0m\u001b[1;33m\u001b[0m\u001b[0m\n\u001b[0m\u001b[0;32m    101\u001b[0m \u001b[1;33m\u001b[0m\u001b[0m\n\u001b[0;32m    102\u001b[0m     \u001b[1;32mdef\u001b[0m \u001b[0mparse\u001b[0m\u001b[1;33m(\u001b[0m\u001b[0mself\u001b[0m\u001b[1;33m,\u001b[0m \u001b[0mstring\u001b[0m\u001b[1;33m,\u001b[0m \u001b[0mfmt\u001b[0m\u001b[1;33m)\u001b[0m\u001b[1;33m:\u001b[0m\u001b[1;33m\u001b[0m\u001b[0m\n",
      "\u001b[1;32m/usr/local/lib/python2.7/dist-packages/arrow/parser.pyc\u001b[0m in \u001b[0;36m_parse_multiformat\u001b[1;34m(self, string, formats)\u001b[0m\n\u001b[0;32m    240\u001b[0m \u001b[1;33m\u001b[0m\u001b[0m\n\u001b[0;32m    241\u001b[0m         \u001b[1;32mif\u001b[0m \u001b[0m_datetime\u001b[0m \u001b[1;32mis\u001b[0m \u001b[0mNone\u001b[0m\u001b[1;33m:\u001b[0m\u001b[1;33m\u001b[0m\u001b[0m\n\u001b[1;32m--> 242\u001b[1;33m             \u001b[1;32mraise\u001b[0m \u001b[0mParserError\u001b[0m\u001b[1;33m(\u001b[0m\u001b[1;34m'Could not match input to any of {0} on \\'{1}\\''\u001b[0m\u001b[1;33m.\u001b[0m\u001b[0mformat\u001b[0m\u001b[1;33m(\u001b[0m\u001b[0mformats\u001b[0m\u001b[1;33m,\u001b[0m \u001b[0mstring\u001b[0m\u001b[1;33m)\u001b[0m\u001b[1;33m)\u001b[0m\u001b[1;33m\u001b[0m\u001b[0m\n\u001b[0m\u001b[0;32m    243\u001b[0m \u001b[1;33m\u001b[0m\u001b[0m\n\u001b[0;32m    244\u001b[0m         \u001b[1;32mreturn\u001b[0m \u001b[0m_datetime\u001b[0m\u001b[1;33m\u001b[0m\u001b[0m\n",
      "\u001b[1;31mParserError\u001b[0m: Could not match input to any of ['YYYY-MM-DD', 'YYYY-MM', 'YYYY'] on 'US/Pacific'"
     ]
    }
   ],
   "source": [
    "arrow.get('US/Pacific')"
   ]
  },
  {
   "cell_type": "code",
   "execution_count": 13,
   "metadata": {
    "collapsed": false
   },
   "outputs": [
    {
     "ename": "ParserError",
     "evalue": "Could not match input to any of ['YYYY-MM-DD', 'YYYY-MM', 'YYYY'] on 'Australia/Melbourne'",
     "output_type": "error",
     "traceback": [
      "\u001b[1;31m---------------------------------------------------------------------------\u001b[0m",
      "\u001b[1;31mParserError\u001b[0m                               Traceback (most recent call last)",
      "\u001b[1;32m<ipython-input-13-dae548da2386>\u001b[0m in \u001b[0;36m<module>\u001b[1;34m()\u001b[0m\n\u001b[1;32m----> 1\u001b[1;33m \u001b[0marrow\u001b[0m\u001b[1;33m.\u001b[0m\u001b[0mget\u001b[0m\u001b[1;33m(\u001b[0m\u001b[0mrtza\u001b[0m\u001b[1;33m)\u001b[0m\u001b[1;33m\u001b[0m\u001b[0m\n\u001b[0m",
      "\u001b[1;32m/usr/local/lib/python2.7/dist-packages/arrow/api.pyc\u001b[0m in \u001b[0;36mget\u001b[1;34m(*args, **kwargs)\u001b[0m\n\u001b[0;32m     21\u001b[0m     '''\n\u001b[0;32m     22\u001b[0m \u001b[1;33m\u001b[0m\u001b[0m\n\u001b[1;32m---> 23\u001b[1;33m     \u001b[1;32mreturn\u001b[0m \u001b[0m_factory\u001b[0m\u001b[1;33m.\u001b[0m\u001b[0mget\u001b[0m\u001b[1;33m(\u001b[0m\u001b[1;33m*\u001b[0m\u001b[0margs\u001b[0m\u001b[1;33m,\u001b[0m \u001b[1;33m**\u001b[0m\u001b[0mkwargs\u001b[0m\u001b[1;33m)\u001b[0m\u001b[1;33m\u001b[0m\u001b[0m\n\u001b[0m\u001b[0;32m     24\u001b[0m \u001b[1;33m\u001b[0m\u001b[0m\n\u001b[0;32m     25\u001b[0m \u001b[1;32mdef\u001b[0m \u001b[0mutcnow\u001b[0m\u001b[1;33m(\u001b[0m\u001b[1;33m)\u001b[0m\u001b[1;33m:\u001b[0m\u001b[1;33m\u001b[0m\u001b[0m\n",
      "\u001b[1;32m/usr/local/lib/python2.7/dist-packages/arrow/factory.pyc\u001b[0m in \u001b[0;36mget\u001b[1;34m(self, *args, **kwargs)\u001b[0m\n\u001b[0;32m    161\u001b[0m             \u001b[1;31m# (str) -> now, @ tzinfo.\u001b[0m\u001b[1;33m\u001b[0m\u001b[1;33m\u001b[0m\u001b[0m\n\u001b[0;32m    162\u001b[0m             \u001b[1;32melif\u001b[0m \u001b[0misstr\u001b[0m\u001b[1;33m(\u001b[0m\u001b[0marg\u001b[0m\u001b[1;33m)\u001b[0m\u001b[1;33m:\u001b[0m\u001b[1;33m\u001b[0m\u001b[0m\n\u001b[1;32m--> 163\u001b[1;33m                 \u001b[0mdt\u001b[0m \u001b[1;33m=\u001b[0m \u001b[0mparser\u001b[0m\u001b[1;33m.\u001b[0m\u001b[0mDateTimeParser\u001b[0m\u001b[1;33m(\u001b[0m\u001b[0mlocale\u001b[0m\u001b[1;33m)\u001b[0m\u001b[1;33m.\u001b[0m\u001b[0mparse_iso\u001b[0m\u001b[1;33m(\u001b[0m\u001b[0marg\u001b[0m\u001b[1;33m)\u001b[0m\u001b[1;33m\u001b[0m\u001b[0m\n\u001b[0m\u001b[0;32m    164\u001b[0m                 \u001b[1;32mreturn\u001b[0m \u001b[0mself\u001b[0m\u001b[1;33m.\u001b[0m\u001b[0mtype\u001b[0m\u001b[1;33m.\u001b[0m\u001b[0mfromdatetime\u001b[0m\u001b[1;33m(\u001b[0m\u001b[0mdt\u001b[0m\u001b[1;33m)\u001b[0m\u001b[1;33m\u001b[0m\u001b[0m\n\u001b[0;32m    165\u001b[0m \u001b[1;33m\u001b[0m\u001b[0m\n",
      "\u001b[1;32m/usr/local/lib/python2.7/dist-packages/arrow/parser.pyc\u001b[0m in \u001b[0;36mparse_iso\u001b[1;34m(self, string)\u001b[0m\n\u001b[0;32m     98\u001b[0m             \u001b[0mformats\u001b[0m \u001b[1;33m=\u001b[0m \u001b[1;33m[\u001b[0m\u001b[0mitem\u001b[0m\u001b[1;33m.\u001b[0m\u001b[0mreplace\u001b[0m\u001b[1;33m(\u001b[0m\u001b[1;34m'T'\u001b[0m\u001b[1;33m,\u001b[0m \u001b[1;34m' '\u001b[0m\u001b[1;33m,\u001b[0m \u001b[1;36m1\u001b[0m\u001b[1;33m)\u001b[0m \u001b[1;32mfor\u001b[0m \u001b[0mitem\u001b[0m \u001b[1;32min\u001b[0m \u001b[0mformats\u001b[0m\u001b[1;33m]\u001b[0m\u001b[1;33m\u001b[0m\u001b[0m\n\u001b[0;32m     99\u001b[0m \u001b[1;33m\u001b[0m\u001b[0m\n\u001b[1;32m--> 100\u001b[1;33m         \u001b[1;32mreturn\u001b[0m \u001b[0mself\u001b[0m\u001b[1;33m.\u001b[0m\u001b[0m_parse_multiformat\u001b[0m\u001b[1;33m(\u001b[0m\u001b[0mstring\u001b[0m\u001b[1;33m,\u001b[0m \u001b[0mformats\u001b[0m\u001b[1;33m)\u001b[0m\u001b[1;33m\u001b[0m\u001b[0m\n\u001b[0m\u001b[0;32m    101\u001b[0m \u001b[1;33m\u001b[0m\u001b[0m\n\u001b[0;32m    102\u001b[0m     \u001b[1;32mdef\u001b[0m \u001b[0mparse\u001b[0m\u001b[1;33m(\u001b[0m\u001b[0mself\u001b[0m\u001b[1;33m,\u001b[0m \u001b[0mstring\u001b[0m\u001b[1;33m,\u001b[0m \u001b[0mfmt\u001b[0m\u001b[1;33m)\u001b[0m\u001b[1;33m:\u001b[0m\u001b[1;33m\u001b[0m\u001b[0m\n",
      "\u001b[1;32m/usr/local/lib/python2.7/dist-packages/arrow/parser.pyc\u001b[0m in \u001b[0;36m_parse_multiformat\u001b[1;34m(self, string, formats)\u001b[0m\n\u001b[0;32m    240\u001b[0m \u001b[1;33m\u001b[0m\u001b[0m\n\u001b[0;32m    241\u001b[0m         \u001b[1;32mif\u001b[0m \u001b[0m_datetime\u001b[0m \u001b[1;32mis\u001b[0m \u001b[0mNone\u001b[0m\u001b[1;33m:\u001b[0m\u001b[1;33m\u001b[0m\u001b[0m\n\u001b[1;32m--> 242\u001b[1;33m             \u001b[1;32mraise\u001b[0m \u001b[0mParserError\u001b[0m\u001b[1;33m(\u001b[0m\u001b[1;34m'Could not match input to any of {0} on \\'{1}\\''\u001b[0m\u001b[1;33m.\u001b[0m\u001b[0mformat\u001b[0m\u001b[1;33m(\u001b[0m\u001b[0mformats\u001b[0m\u001b[1;33m,\u001b[0m \u001b[0mstring\u001b[0m\u001b[1;33m)\u001b[0m\u001b[1;33m)\u001b[0m\u001b[1;33m\u001b[0m\u001b[0m\n\u001b[0m\u001b[0;32m    243\u001b[0m \u001b[1;33m\u001b[0m\u001b[0m\n\u001b[0;32m    244\u001b[0m         \u001b[1;32mreturn\u001b[0m \u001b[0m_datetime\u001b[0m\u001b[1;33m\u001b[0m\u001b[0m\n",
      "\u001b[1;31mParserError\u001b[0m: Could not match input to any of ['YYYY-MM-DD', 'YYYY-MM', 'YYYY'] on 'Australia/Melbourne'"
     ]
    }
   ],
   "source": [
    "arrow.get(rtza)"
   ]
  },
  {
   "cell_type": "code",
   "execution_count": 14,
   "metadata": {
    "collapsed": false
   },
   "outputs": [
    {
     "data": {
      "text/plain": [
       "'jubeithos'"
      ]
     },
     "execution_count": 14,
     "metadata": {},
     "output_type": "execute_result"
    }
   ],
   "source": [
    "realm.slug"
   ]
  },
  {
   "cell_type": "code",
   "execution_count": 15,
   "metadata": {
    "collapsed": false
   },
   "outputs": [
    {
     "data": {
      "text/plain": [
       "'high'"
      ]
     },
     "execution_count": 15,
     "metadata": {},
     "output_type": "execute_result"
    }
   ],
   "source": [
    "realm.population"
   ]
  },
  {
   "cell_type": "code",
   "execution_count": 16,
   "metadata": {
    "collapsed": false
   },
   "outputs": [
    {
     "data": {
      "text/plain": [
       "'pvp'"
      ]
     },
     "execution_count": 16,
     "metadata": {},
     "output_type": "execute_result"
    }
   ],
   "source": [
    "realm.type"
   ]
  },
  {
   "cell_type": "code",
   "execution_count": 17,
   "metadata": {
    "collapsed": false
   },
   "outputs": [
    {
     "data": {
      "text/plain": [
       "True"
      ]
     },
     "execution_count": 17,
     "metadata": {},
     "output_type": "execute_result"
    }
   ],
   "source": [
    "realm.status"
   ]
  },
  {
   "cell_type": "code",
   "execution_count": 18,
   "metadata": {
    "collapsed": false
   },
   "outputs": [
    {
     "ename": "TypeError",
     "evalue": "'instancemethod' object has no attribute '__getitem__'",
     "output_type": "error",
     "traceback": [
      "\u001b[1;31m---------------------------------------------------------------------------\u001b[0m",
      "\u001b[1;31mTypeError\u001b[0m                                 Traceback (most recent call last)",
      "\u001b[1;32m<ipython-input-18-f19f8060be5d>\u001b[0m in \u001b[0;36m<module>\u001b[1;34m()\u001b[0m\n\u001b[1;32m----> 1\u001b[1;33m \u001b[0mrelmjs\u001b[0m \u001b[1;33m=\u001b[0m \u001b[0mrealm\u001b[0m\u001b[1;33m.\u001b[0m\u001b[0mto_json\u001b[0m\u001b[1;33m[\u001b[0m\u001b[1;34m'timezone'\u001b[0m\u001b[1;33m]\u001b[0m\u001b[1;33m\u001b[0m\u001b[0m\n\u001b[0m",
      "\u001b[1;31mTypeError\u001b[0m: 'instancemethod' object has no attribute '__getitem__'"
     ]
    }
   ],
   "source": [
    "relmjs = realm.to_json['timezone']"
   ]
  },
  {
   "cell_type": "code",
   "execution_count": 19,
   "metadata": {
    "collapsed": false
   },
   "outputs": [],
   "source": [
    "#charget = battlenet."
   ]
  },
  {
   "cell_type": "code",
   "execution_count": 20,
   "metadata": {
    "collapsed": true
   },
   "outputs": [],
   "source": [
    "from battlenet import Character\n"
   ]
  },
  {
   "cell_type": "markdown",
   "metadata": {},
   "source": [
    "inpd character name input ut realm an."
   ]
  },
  {
   "cell_type": "code",
   "execution_count": 24,
   "metadata": {
    "collapsed": false
   },
   "outputs": [
    {
     "name": "stdout",
     "output_type": "stream",
     "text": [
      "Enter US realm name: saurfang\n",
      "Enter character: portishead\n"
     ]
    }
   ],
   "source": [
    "lookuprealm = raw_input(\"Enter US realm name: \")\n",
    "\n",
    "lookupchar = raw_input(\"Enter character: \")"
   ]
  },
  {
   "cell_type": "code",
   "execution_count": 25,
   "metadata": {
    "collapsed": false
   },
   "outputs": [],
   "source": [
    "bookchar = Character(battlenet.UNITED_STATES, lookuprealm, lookupchar)"
   ]
  },
  {
   "cell_type": "code",
   "execution_count": 29,
   "metadata": {
    "collapsed": false
   },
   "outputs": [],
   "source": [
    "bospnam = bookchar.get_spec_name"
   ]
  },
  {
   "cell_type": "code",
   "execution_count": 39,
   "metadata": {
    "collapsed": false
   },
   "outputs": [
    {
     "data": {
      "text/plain": [
       "8125"
      ]
     },
     "execution_count": 39,
     "metadata": {},
     "output_type": "execute_result"
    }
   ],
   "source": [
    "bookchar.achievement_points"
   ]
  },
  {
   "cell_type": "code",
   "execution_count": 43,
   "metadata": {
    "collapsed": false
   },
   "outputs": [
    {
     "ename": "KeyError",
     "evalue": "'expertiseRating'",
     "output_type": "error",
     "traceback": [
      "\u001b[1;31m---------------------------------------------------------------------------\u001b[0m",
      "\u001b[1;31mKeyError\u001b[0m                                  Traceback (most recent call last)",
      "\u001b[1;32m<ipython-input-43-bef2e8660706>\u001b[0m in \u001b[0;36m<module>\u001b[1;34m()\u001b[0m\n\u001b[1;32m----> 1\u001b[1;33m \u001b[0mbookchar\u001b[0m\u001b[1;33m.\u001b[0m\u001b[0mstats\u001b[0m\u001b[1;33m(\u001b[0m\u001b[1;33m)\u001b[0m\u001b[1;33m\u001b[0m\u001b[0m\n\u001b[0m",
      "\u001b[1;32m/usr/local/lib/python2.7/dist-packages/battlenet/things.pyc\u001b[0m in \u001b[0;36mstats\u001b[1;34m(self)\u001b[0m\n\u001b[0;32m    260\u001b[0m     \u001b[1;32mdef\u001b[0m \u001b[0mstats\u001b[0m\u001b[1;33m(\u001b[0m\u001b[0mself\u001b[0m\u001b[1;33m)\u001b[0m\u001b[1;33m:\u001b[0m\u001b[1;33m\u001b[0m\u001b[0m\n\u001b[0;32m    261\u001b[0m         \u001b[1;32mif\u001b[0m \u001b[0mself\u001b[0m\u001b[1;33m.\u001b[0m\u001b[0m_refresh_if_not_present\u001b[0m\u001b[1;33m(\u001b[0m\u001b[0mCharacter\u001b[0m\u001b[1;33m.\u001b[0m\u001b[0mSTATS\u001b[0m\u001b[1;33m)\u001b[0m\u001b[1;33m:\u001b[0m\u001b[1;33m\u001b[0m\u001b[0m\n\u001b[1;32m--> 262\u001b[1;33m             \u001b[0mself\u001b[0m\u001b[1;33m.\u001b[0m\u001b[0m_stats\u001b[0m \u001b[1;33m=\u001b[0m \u001b[0mStats\u001b[0m\u001b[1;33m(\u001b[0m\u001b[0mself\u001b[0m\u001b[1;33m,\u001b[0m \u001b[0mself\u001b[0m\u001b[1;33m.\u001b[0m\u001b[0m_data\u001b[0m\u001b[1;33m[\u001b[0m\u001b[0mCharacter\u001b[0m\u001b[1;33m.\u001b[0m\u001b[0mSTATS\u001b[0m\u001b[1;33m]\u001b[0m\u001b[1;33m)\u001b[0m\u001b[1;33m\u001b[0m\u001b[0m\n\u001b[0m\u001b[0;32m    263\u001b[0m \u001b[1;33m\u001b[0m\u001b[0m\n\u001b[0;32m    264\u001b[0m         \u001b[1;32mreturn\u001b[0m \u001b[0mself\u001b[0m\u001b[1;33m.\u001b[0m\u001b[0m_stats\u001b[0m\u001b[1;33m\u001b[0m\u001b[0m\n",
      "\u001b[1;32m/usr/local/lib/python2.7/dist-packages/battlenet/things.pyc\u001b[0m in \u001b[0;36m__init__\u001b[1;34m(self, character, data)\u001b[0m\n\u001b[0;32m    352\u001b[0m         \u001b[0mself\u001b[0m\u001b[1;33m.\u001b[0m\u001b[0mdodge\u001b[0m \u001b[1;33m=\u001b[0m \u001b[0mdata\u001b[0m\u001b[1;33m[\u001b[0m\u001b[1;34m'dodge'\u001b[0m\u001b[1;33m]\u001b[0m\u001b[1;33m\u001b[0m\u001b[0m\n\u001b[0;32m    353\u001b[0m         \u001b[0mself\u001b[0m\u001b[1;33m.\u001b[0m\u001b[0mdodge_rating\u001b[0m \u001b[1;33m=\u001b[0m \u001b[0mdata\u001b[0m\u001b[1;33m[\u001b[0m\u001b[1;34m'dodgeRating'\u001b[0m\u001b[1;33m]\u001b[0m\u001b[1;33m\u001b[0m\u001b[0m\n\u001b[1;32m--> 354\u001b[1;33m         \u001b[0mself\u001b[0m\u001b[1;33m.\u001b[0m\u001b[0mexpertise_rating\u001b[0m \u001b[1;33m=\u001b[0m \u001b[0mdata\u001b[0m\u001b[1;33m[\u001b[0m\u001b[1;34m'expertiseRating'\u001b[0m\u001b[1;33m]\u001b[0m\u001b[1;33m\u001b[0m\u001b[0m\n\u001b[0m\u001b[0;32m    355\u001b[0m         \u001b[0mself\u001b[0m\u001b[1;33m.\u001b[0m\u001b[0mhaste_rating\u001b[0m \u001b[1;33m=\u001b[0m \u001b[0mdata\u001b[0m\u001b[1;33m[\u001b[0m\u001b[1;34m'hasteRating'\u001b[0m\u001b[1;33m]\u001b[0m\u001b[1;33m\u001b[0m\u001b[0m\n\u001b[0;32m    356\u001b[0m         \u001b[0mself\u001b[0m\u001b[1;33m.\u001b[0m\u001b[0mhealth\u001b[0m \u001b[1;33m=\u001b[0m \u001b[0mdata\u001b[0m\u001b[1;33m[\u001b[0m\u001b[1;34m'health'\u001b[0m\u001b[1;33m]\u001b[0m\u001b[1;33m\u001b[0m\u001b[0m\n",
      "\u001b[1;31mKeyError\u001b[0m: 'expertiseRating'"
     ]
    }
   ],
   "source": [
    "bookchar.stats()"
   ]
  },
  {
   "cell_type": "code",
   "execution_count": 45,
   "metadata": {
    "collapsed": false
   },
   "outputs": [
    {
     "ename": "SyntaxError",
     "evalue": "invalid syntax (<ipython-input-45-3c35fc5c704f>, line 1)",
     "output_type": "error",
     "traceback": [
      "\u001b[1;36m  File \u001b[1;32m\"<ipython-input-45-3c35fc5c704f>\"\u001b[1;36m, line \u001b[1;32m1\u001b[0m\n\u001b[1;33m    If faction is alliance change CSS to BLUE background.\u001b[0m\n\u001b[1;37m             ^\u001b[0m\n\u001b[1;31mSyntaxError\u001b[0m\u001b[1;31m:\u001b[0m invalid syntax\n"
     ]
    }
   ],
   "source": [
    "If faction is alliance change CSS to BLUE background.\n",
    "If faction is horde change css to RED background. \n",
    "\n",
    "This script displays a wow character given by input of character name and realm name. "
   ]
  },
  {
   "cell_type": "code",
   "execution_count": 46,
   "metadata": {
    "collapsed": false
   },
   "outputs": [
    {
     "name": "stdout",
     "output_type": "stream",
     "text": [
      "Alliance has a blue background\n"
     ]
    }
   ],
   "source": [
    "if bookchar.faction == 'Alliance':\n",
    "    print ('Alliance has a blue background')\n",
    "else:\n",
    "    print ('Horde has a red background')"
   ]
  },
  {
   "cell_type": "code",
   "execution_count": 46,
   "metadata": {
    "collapsed": true
   },
   "outputs": [],
   "source": []
  },
  {
   "cell_type": "code",
   "execution_count": 47,
   "metadata": {
    "collapsed": false
   },
   "outputs": [
    {
     "data": {
      "text/plain": [
       "'{\"stats\": {\"bonusArmor\": 0, \"critRating\": 859, \"powerType\": \"runic-power\", \"spellCrit\": 12.809091, \"mainHandDps\": 1624.661, \"int\": 572, \"leechRatingBonus\": 0.0, \"spr\": 640, \"mainHandDmgMax\": 4596.0, \"spellCritRating\": 859, \"avoidanceRating\": 0.0, \"spellPower\": 572, \"mainHandDmgMin\": 4204.0, \"leechRating\": 0.0, \"crit\": 12.809091, \"multistrike\": 5.469697, \"versatilityDamageDoneBonus\": 1.023077, \"rangedSpeed\": -1.0, \"armor\": 1590, \"avoidanceRatingBonus\": 0.0, \"multistrikeRating\": 5.469697, \"mana5Combat\": 0.0, \"mana5\": 0.0, \"health\": 160320, \"rangedDmgMax\": -1.0, \"rangedDmgMin\": -1.0, \"hasteRatingPercent\": 4.455555, \"leech\": 0.0, \"rangedAttackPower\": 0, \"dodge\": 3.0, \"power\": 105, \"spellPen\": 0, \"attackPower\": 3200, \"mainHandSpeed\": 2.708, \"speedRating\": 0.0, \"multistrikeRatingBonus\": 5.469697, \"masteryRating\": 24, \"blockRating\": 0, \"parry\": 11.320337, \"versatility\": 133, \"parryRating\": 0, \"dodgeRating\": 0, \"sta\": 2672, \"agi\": 1073, \"speedRatingBonus\": 0.0, \"mastery\": 20.545454, \"rangedDps\": -1.0, \"offHandDps\": 632.28455, \"versatilityDamageTakenBonus\": 0.511538, \"versatilityHealingDoneBonus\": 1.023077, \"offHandDmgMax\": 952.0, \"haste\": 32.93013, \"hasteRating\": 401, \"str\": 2909, \"offHandDmgMin\": 951.0, \"block\": 0.0, \"offHandSpeed\": 1.505}, \"realm\": \"Saurfang\", \"name\": \"Portishead\", \"level\": 100, \"lastModified\": 1435389641000, \"totalHonorableKills\": 1198, \"thumbnail\": \"internal-record-3695/237/158282221-avatar.jpg\", \"talents\": [{\"calcTalent\": \"0100100\", \"calcGlyph\": \"XYkjes\", \"calcSpec\": \"b\", \"selected\": true, \"talents\": [{\"tier\": 0, \"column\": 0, \"spell\": {\"castTime\": \"Passive\", \"description\": \"Death Coil and Frost Strike also infect your target, adding 4 sec to the duration of Frost Fever and Blood Plague, and adding an additional stack to Necrotic Plague.\", \"icon\": \"achievement_zone_westernplaguelands_01\", \"id\": 161497, \"name\": \"Plaguebearer\"}}, {\"tier\": 1, \"column\": 1, \"spell\": {\"description\": \"Places an Anti-Magic Zone for 3 sec that reduces spell damage taken by party or raid members by 20%.\", \"castTime\": \"Instant\", \"name\": \"Anti-Magic Zone\", \"range\": \"30 yd range\", \"cooldown\": \"2 min cooldown\", \"id\": 51052, \"icon\": \"spell_deathknight_antimagiczone\"}}, {\"tier\": 2, \"column\": 0, \"spell\": {\"description\": \"You passively move 10% faster, and movement-impairing effects may not reduce you below 70% of normal movement speed.\\\\n\\\\n\\\\n\\\\nWhen activated, you gain 30% movement speed and may not be slowed below 100% of normal movement speed for 6 seconds.\", \"name\": \"Death\\'s Advance\", \"castTime\": \"Instant\", \"cooldown\": \"30 sec cooldown\", \"id\": 96268, \"icon\": \"spell_shadow_demonicempathy\"}}, {\"tier\": 3, \"column\": 0, \"spell\": {\"castTime\": \"Instant\", \"description\": \"Every 15 Runic Power you spend will generate a Blood Charge. Max 12 charges.\\\\n\\\\n\\\\n\\\\nBlood Tap consumes 5 Blood Charges to activate a random fully-depleted rune as a Death Rune.\", \"icon\": \"spell_deathknight_bloodtap\", \"id\": 45529, \"name\": \"Blood Tap\"}}, {\"tier\": 4, \"column\": 1, \"spell\": {\"description\": \"Deals 1,786 Shadowfrost damage to an enemy, healing the Death Knight for 400% of damage dealt.\", \"name\": \"Death Siphon\", \"castTime\": \"Instant\", \"id\": 108196, \"range\": \"40 yd range\", \"powerCost\": \"1 Death\", \"icon\": \"ability_deathknight_deathsiphon\"}}, {\"tier\": 5, \"column\": 0, \"spell\": {\"description\": \"Shadowy tendrils coil around all enemies within 20 yards of a target (hostile or friendly), pulling them to the target\\'s location.\", \"castTime\": \"Instant\", \"name\": \"Gorefiend\\'s Grasp\", \"range\": \"30 yd range\", \"cooldown\": \"1 min cooldown\", \"id\": 108199, \"icon\": \"ability_deathknight_aoedeathgrip\"}}, {\"tier\": 6, \"column\": 0, \"spell\": {\"castTime\": \"Passive\", \"description\": \"A powerful disease that deals 96 Shadowfrost damage per stack every 2 sec for 30 sec. Each time it deals damage, it gains 1 stack, and infects another nearby enemy within 8 yards if possible. \\\\n\\\\n\\\\n\\\\nReplaces Blood Plague and Frost Fever, and is applied by any ability which applied either. This effect cannot be refreshed; it gains 1 stack instead.\", \"icon\": \"spell_deathknight_necroticplague\", \"id\": 152281, \"name\": \"Necrotic Plague\"}}], \"glyphs\": {\"major\": [{\"item\": 0, \"icon\": \"spell_deathknight_strangulate\", \"name\": \"Glyph of Death Grip\", \"glyph\": 519}, {\"item\": 43537, \"icon\": \"spell_frost_chainsofice\", \"name\": \"Glyph of Chains of Ice\", \"glyph\": 516}, {\"item\": 0, \"icon\": \"spell_shadow_skull\", \"name\": \"Glyph of Unholy Command\", \"glyph\": 556}], \"minor\": [{\"item\": 43671, \"icon\": \"spell_deathknight_pathoffrost\", \"name\": \"Glyph of Path of Frost\", \"glyph\": 554}, {\"item\": 43544, \"icon\": \"inv_misc_horn_02\", \"name\": \"Glyph of Horn of Winter\", \"glyph\": 522}, {\"item\": 43550, \"icon\": \"spell_deathknight_armyofthedead\", \"name\": \"Glyph of Army of the Dead\", \"glyph\": 1204}]}, \"spec\": {\"description\": \"A master of death and decay, spreading infection and controlling undead minions to do her bidding.\", \"backgroundImage\": \"bg-deathknight-unholy\", \"role\": \"DPS\", \"icon\": \"spell_deathknight_unholypresence\", \"order\": 2, \"name\": \"Unholy\"}}, {\"calcGlyph\": \"khXsej\", \"calcSpec\": \"a\", \"calcTalent\": \"220200.\", \"talents\": [{\"tier\": 0, \"column\": 2, \"spell\": {\"description\": \"Surrounds the Death Knight with a vile swarm of unholy insects for 10 sec, stinging all enemies within 10 yards, infecting them with Blood Plague and Frost Fever.\", \"name\": \"Unholy Blight\", \"castTime\": \"Instant\", \"cooldown\": \"1.5 min cooldown\", \"id\": 115989, \"icon\": \"spell_shadow_contagion\"}}, {\"tier\": 1, \"column\": 2, \"spell\": {\"castTime\": \"Passive\", \"description\": \"An unholy pact that prevents death when you sustain fatal damage, instead absorbing incoming healing equal to the amount of damage prevented, lasting 3 sec.\\\\n\\\\n\\\\n\\\\nIf any healing absorption remains when this effect expires, you will die. This effect may only occur every 3 min.\", \"icon\": \"inv_misc_shadowegg\", \"id\": 114556, \"name\": \"Purgatory\"}}, {\"tier\": 2, \"column\": 0, \"spell\": {\"description\": \"You passively move 10% faster, and movement-impairing effects may not reduce you below 70% of normal movement speed.\\\\n\\\\n\\\\n\\\\nWhen activated, you gain 30% movement speed and may not be slowed below 100% of normal movement speed for 6 seconds.\", \"name\": \"Death\\'s Advance\", \"castTime\": \"Instant\", \"cooldown\": \"30 sec cooldown\", \"id\": 96268, \"icon\": \"spell_shadow_demonicempathy\"}}, {\"tier\": 3, \"column\": 2, \"spell\": {\"castTime\": \"Passive\", \"description\": \"When you spend Runic Power, you have a 1.50% chance per Runic Power spent to increase your rune regeneration rate by 100% for 3 sec.\", \"icon\": \"spell_shadow_rune\", \"id\": 51462, \"name\": \"Runic Corruption\"}}, {\"tier\": 4, \"column\": 0, \"spell\": {\"description\": \"Heals the Death Knight for 50% of max health, and absorbs incoming healing equal to 25% of max health for 15 sec.\", \"name\": \"Death Pact\", \"castTime\": \"Instant\", \"cooldown\": \"2 min cooldown\", \"id\": 48743, \"icon\": \"spell_shadow_deathpact\"}}, {\"tier\": 5, \"column\": 0, \"spell\": {\"description\": \"Shadowy tendrils coil around all enemies within 20 yards of a target (hostile or friendly), pulling them to the target\\'s location.\", \"castTime\": \"Instant\", \"name\": \"Gorefiend\\'s Grasp\", \"range\": \"30 yd range\", \"cooldown\": \"1 min cooldown\", \"id\": 108199, \"icon\": \"ability_deathknight_aoedeathgrip\"}}], \"glyphs\": {\"major\": [{\"item\": 0, \"icon\": \"spell_shadow_skull\", \"name\": \"Glyph of Unholy Command\", \"glyph\": 556}, {\"item\": 43552, \"icon\": \"spell_shadow_soulleech_3\", \"name\": \"Glyph of Strangulate\", \"glyph\": 530}, {\"item\": 0, \"icon\": \"spell_deathknight_strangulate\", \"name\": \"Glyph of Death Grip\", \"glyph\": 519}], \"minor\": [{\"item\": 43550, \"icon\": \"spell_deathknight_armyofthedead\", \"name\": \"Glyph of Army of the Dead\", \"glyph\": 1204}, {\"item\": 43544, \"icon\": \"inv_misc_horn_02\", \"name\": \"Glyph of Horn of Winter\", \"glyph\": 522}, {\"item\": 43671, \"icon\": \"spell_deathknight_pathoffrost\", \"name\": \"Glyph of Path of Frost\", \"glyph\": 554}]}, \"spec\": {\"description\": \"A dark guardian who manipulates and corrupts life energy to sustain herself in the face of an enemy onslaught.\", \"backgroundImage\": \"bg-deathknight-blood\", \"role\": \"TANK\", \"icon\": \"spell_deathknight_bloodpresence\", \"order\": 0, \"name\": \"Blood\"}}], \"race\": 7, \"calcClass\": \"d\", \"achievementPoints\": 8125, \"gender\": 1, \"battlegroup\": \"AU/NZ Battle Group\", \"class\": 6}'"
      ]
     },
     "execution_count": 47,
     "metadata": {},
     "output_type": "execute_result"
    }
   ],
   "source": [
    "bookchar.to_json()"
   ]
  },
  {
   "cell_type": "code",
   "execution_count": 47,
   "metadata": {
    "collapsed": true
   },
   "outputs": [],
   "source": []
  },
  {
   "cell_type": "code",
   "execution_count": 47,
   "metadata": {
    "collapsed": true
   },
   "outputs": [],
   "source": []
  },
  {
   "cell_type": "code",
   "execution_count": 47,
   "metadata": {
    "collapsed": true
   },
   "outputs": [],
   "source": []
  },
  {
   "cell_type": "code",
   "execution_count": 47,
   "metadata": {
    "collapsed": true
   },
   "outputs": [],
   "source": []
  },
  {
   "cell_type": "code",
   "execution_count": 47,
   "metadata": {
    "collapsed": true
   },
   "outputs": [],
   "source": []
  },
  {
   "cell_type": "code",
   "execution_count": 47,
   "metadata": {
    "collapsed": true
   },
   "outputs": [],
   "source": []
  },
  {
   "cell_type": "code",
   "execution_count": 48,
   "metadata": {
    "collapsed": false
   },
   "outputs": [
    {
     "data": {
      "text/plain": [
       "'http://us.battle.net/static-render/us/internal-record-3695/237/158282221-avatar.jpg'"
      ]
     },
     "execution_count": 48,
     "metadata": {},
     "output_type": "execute_result"
    }
   ],
   "source": [
    "bookchar.get_thumbnail_url()"
   ]
  },
  {
   "cell_type": "code",
   "execution_count": 49,
   "metadata": {
    "collapsed": false
   },
   "outputs": [],
   "source": [
    "bookdatz = bookchar.last_modified.date()"
   ]
  },
  {
   "cell_type": "code",
   "execution_count": 50,
   "metadata": {
    "collapsed": false
   },
   "outputs": [
    {
     "data": {
      "text/plain": [
       "2015"
      ]
     },
     "execution_count": 50,
     "metadata": {},
     "output_type": "execute_result"
    }
   ],
   "source": [
    "bookchar.last_modified.year"
   ]
  },
  {
   "cell_type": "code",
   "execution_count": 51,
   "metadata": {
    "collapsed": false
   },
   "outputs": [
    {
     "data": {
      "text/plain": [
       "6"
      ]
     },
     "execution_count": 51,
     "metadata": {},
     "output_type": "execute_result"
    }
   ],
   "source": [
    "bookdatz.month"
   ]
  },
  {
   "cell_type": "code",
   "execution_count": 52,
   "metadata": {
    "collapsed": false
   },
   "outputs": [
    {
     "data": {
      "text/plain": [
       "datetime.date(1, 1, 1)"
      ]
     },
     "execution_count": 52,
     "metadata": {},
     "output_type": "execute_result"
    }
   ],
   "source": [
    "bookdatz.min"
   ]
  },
  {
   "cell_type": "code",
   "execution_count": 53,
   "metadata": {
    "collapsed": false
   },
   "outputs": [
    {
     "data": {
      "text/plain": [
       "0"
      ]
     },
     "execution_count": 53,
     "metadata": {},
     "output_type": "execute_result"
    }
   ],
   "source": [
    "bookchar.last_modified.microsecond"
   ]
  },
  {
   "cell_type": "code",
   "execution_count": 54,
   "metadata": {
    "collapsed": false
   },
   "outputs": [
    {
     "data": {
      "text/plain": [
       "1"
      ]
     },
     "execution_count": 54,
     "metadata": {},
     "output_type": "execute_result"
    }
   ],
   "source": [
    "bookchar.gender"
   ]
  },
  {
   "cell_type": "code",
   "execution_count": 55,
   "metadata": {
    "collapsed": false
   },
   "outputs": [
    {
     "ename": "TypeError",
     "evalue": "__init__() takes exactly 2 arguments (1 given)",
     "output_type": "error",
     "traceback": [
      "\u001b[1;31m---------------------------------------------------------------------------\u001b[0m",
      "\u001b[1;31mTypeError\u001b[0m                                 Traceback (most recent call last)",
      "\u001b[1;32m<ipython-input-55-e4b6fb86644a>\u001b[0m in \u001b[0;36m<module>\u001b[1;34m()\u001b[0m\n\u001b[1;32m----> 1\u001b[1;33m \u001b[0mbattlenet\u001b[0m\u001b[1;33m.\u001b[0m\u001b[0mthings\u001b[0m\u001b[1;33m.\u001b[0m\u001b[0mReputation\u001b[0m\u001b[1;33m(\u001b[0m\u001b[1;33m)\u001b[0m\u001b[1;33m\u001b[0m\u001b[0m\n\u001b[0m",
      "\u001b[1;31mTypeError\u001b[0m: __init__() takes exactly 2 arguments (1 given)"
     ]
    }
   ],
   "source": [
    "battlenet.things.Reputation()"
   ]
  },
  {
   "cell_type": "code",
   "execution_count": 56,
   "metadata": {
    "collapsed": true
   },
   "outputs": [],
   "source": [
    "geninfo = dict()"
   ]
  },
  {
   "cell_type": "code",
   "execution_count": 57,
   "metadata": {
    "collapsed": false
   },
   "outputs": [],
   "source": [
    "if bookchar.gender == 1:\n",
    "    geninfo.update({'gender': 'female'})\n",
    "    "
   ]
  },
  {
   "cell_type": "code",
   "execution_count": 58,
   "metadata": {
    "collapsed": true
   },
   "outputs": [],
   "source": [
    "if bookchar.gender == 0:\n",
    "    geninfo.update({'gender': 'male'})\n",
    "    "
   ]
  },
  {
   "cell_type": "code",
   "execution_count": 59,
   "metadata": {
    "collapsed": false
   },
   "outputs": [
    {
     "data": {
      "text/plain": [
       "{'gender': 'female'}"
      ]
     },
     "execution_count": 59,
     "metadata": {},
     "output_type": "execute_result"
    }
   ],
   "source": [
    "geninfo"
   ]
  },
  {
   "cell_type": "code",
   "execution_count": 60,
   "metadata": {
    "collapsed": false
   },
   "outputs": [
    {
     "name": "stdout",
     "output_type": "stream",
     "text": [
      "[7418, 7421, 7428, 158907, 158908, 158909, 158910, 158911, 159236, 162948, 169091, 169092, 177043]\n",
      "[2660, 2663, 3115, 12260, 171690, 171691, 171692, 171693, 176090]\n"
     ]
    }
   ],
   "source": [
    "for bocha in bookchar.professions['primary']:\n",
    "    print bocha.recipes"
   ]
  },
  {
   "cell_type": "code",
   "execution_count": 61,
   "metadata": {
    "collapsed": true
   },
   "outputs": [],
   "source": [
    "profz = bocha.recipes"
   ]
  },
  {
   "cell_type": "code",
   "execution_count": 62,
   "metadata": {
    "collapsed": true
   },
   "outputs": [],
   "source": [
    "import requests"
   ]
  },
  {
   "cell_type": "code",
   "execution_count": 63,
   "metadata": {
    "collapsed": false
   },
   "outputs": [],
   "source": [
    "recreqs = requests.get('http://us.battle.net/api/wow/recipe/33994')"
   ]
  },
  {
   "cell_type": "code",
   "execution_count": 64,
   "metadata": {
    "collapsed": false
   },
   "outputs": [
    {
     "data": {
      "text/plain": [
       "<Response [200]>"
      ]
     },
     "execution_count": 64,
     "metadata": {},
     "output_type": "execute_result"
    }
   ],
   "source": [
    "recreqs"
   ]
  },
  {
   "cell_type": "code",
   "execution_count": 65,
   "metadata": {
    "collapsed": false
   },
   "outputs": [
    {
     "data": {
      "text/plain": [
       "<Response [200]>"
      ]
     },
     "execution_count": 65,
     "metadata": {},
     "output_type": "execute_result"
    }
   ],
   "source": [
    "requests.get('http://google.com')"
   ]
  },
  {
   "cell_type": "code",
   "execution_count": 66,
   "metadata": {
    "collapsed": false
   },
   "outputs": [
    {
     "ename": "AttributeError",
     "evalue": "'module' object has no attribute 'q'",
     "output_type": "error",
     "traceback": [
      "\u001b[1;31m---------------------------------------------------------------------------\u001b[0m",
      "\u001b[1;31mAttributeError\u001b[0m                            Traceback (most recent call last)",
      "\u001b[1;32m<ipython-input-66-a9a04ea4a931>\u001b[0m in \u001b[0;36m<module>\u001b[1;34m()\u001b[0m\n\u001b[1;32m----> 1\u001b[1;33m \u001b[0mbattlenet\u001b[0m\u001b[1;33m.\u001b[0m\u001b[0mq\u001b[0m\u001b[1;33m\u001b[0m\u001b[0m\n\u001b[0m",
      "\u001b[1;31mAttributeError\u001b[0m: 'module' object has no attribute 'q'"
     ]
    }
   ],
   "source": [
    "battlenet.q"
   ]
  },
  {
   "cell_type": "code",
   "execution_count": 66,
   "metadata": {
    "collapsed": true
   },
   "outputs": [],
   "source": []
  },
  {
   "cell_type": "code",
   "execution_count": 66,
   "metadata": {
    "collapsed": true
   },
   "outputs": [],
   "source": []
  },
  {
   "cell_type": "code",
   "execution_count": 67,
   "metadata": {
    "collapsed": false
   },
   "outputs": [
    {
     "data": {
      "text/plain": [
       "27"
      ]
     },
     "execution_count": 67,
     "metadata": {},
     "output_type": "execute_result"
    }
   ],
   "source": [
    "bookchar.last_modified.day"
   ]
  },
  {
   "cell_type": "code",
   "execution_count": 68,
   "metadata": {
    "collapsed": false
   },
   "outputs": [
    {
     "data": {
      "text/plain": [
       "5"
      ]
     },
     "execution_count": 68,
     "metadata": {},
     "output_type": "execute_result"
    }
   ],
   "source": [
    "bookchar.last_modified.weekday()"
   ]
  },
  {
   "cell_type": "code",
   "execution_count": 69,
   "metadata": {
    "collapsed": false
   },
   "outputs": [
    {
     "data": {
      "text/plain": [
       "19"
      ]
     },
     "execution_count": 69,
     "metadata": {},
     "output_type": "execute_result"
    }
   ],
   "source": [
    "bookchar.last_modified.hour"
   ]
  },
  {
   "cell_type": "code",
   "execution_count": 70,
   "metadata": {
    "collapsed": false
   },
   "outputs": [],
   "source": [
    "racnum = bookchar.race"
   ]
  },
  {
   "cell_type": "code",
   "execution_count": 71,
   "metadata": {
    "collapsed": false
   },
   "outputs": [
    {
     "data": {
      "text/plain": [
       "{1: 'Human',\n",
       " 2: 'Orc',\n",
       " 3: 'Dwarf',\n",
       " 4: 'Night Elf',\n",
       " 5: 'Undead',\n",
       " 6: 'Tauren',\n",
       " 7: 'Gnome',\n",
       " 8: 'Troll',\n",
       " 9: 'Goblin',\n",
       " 10: 'Blood Elf',\n",
       " 11: 'Draenei',\n",
       " 22: 'Worgen'}"
      ]
     },
     "execution_count": 71,
     "metadata": {},
     "output_type": "execute_result"
    }
   ],
   "source": [
    "battlenet.RACE"
   ]
  },
  {
   "cell_type": "code",
   "execution_count": 72,
   "metadata": {
    "collapsed": false
   },
   "outputs": [
    {
     "name": "stdout",
     "output_type": "stream",
     "text": [
      "Gnome\n"
     ]
    }
   ],
   "source": [
    "print battlenet.RACE[racnum]"
   ]
  },
  {
   "cell_type": "code",
   "execution_count": 73,
   "metadata": {
    "collapsed": false
   },
   "outputs": [
    {
     "data": {
      "text/plain": [
       "{1: 'Alliance',\n",
       " 2: 'Horde',\n",
       " 3: 'Alliance',\n",
       " 4: 'Alliance',\n",
       " 5: 'Horde',\n",
       " 6: 'Horde',\n",
       " 7: 'Alliance',\n",
       " 8: 'Horde',\n",
       " 9: 'Horde',\n",
       " 10: 'Horde',\n",
       " 11: 'Alliance',\n",
       " 22: 'Alliance'}"
      ]
     },
     "execution_count": 73,
     "metadata": {},
     "output_type": "execute_result"
    }
   ],
   "source": [
    "battlenet.RACE_TO_FACTION"
   ]
  },
  {
   "cell_type": "code",
   "execution_count": 74,
   "metadata": {
    "collapsed": false
   },
   "outputs": [
    {
     "name": "stdout",
     "output_type": "stream",
     "text": [
      "Alliance\n"
     ]
    }
   ],
   "source": [
    "print battlenet.RACE_TO_FACTION[racnum]"
   ]
  },
  {
   "cell_type": "code",
   "execution_count": 75,
   "metadata": {
    "collapsed": false
   },
   "outputs": [
    {
     "name": "stdout",
     "output_type": "stream",
     "text": [
      "<function quote at 0xb238fcb0>\n"
     ]
    }
   ],
   "source": [
    "print battlenet.quote"
   ]
  },
  {
   "cell_type": "code",
   "execution_count": 76,
   "metadata": {
    "collapsed": false
   },
   "outputs": [
    {
     "name": "stdout",
     "output_type": "stream",
     "text": [
      "{1: 'Warrior', 2: 'Paladin', 3: 'Hunter', 4: 'Rogue', 5: 'Priest', 6: 'Death Knight', 7: 'Shaman', 8: 'Mage', 9: 'Warlock', 11: 'Druid'}\n"
     ]
    }
   ],
   "source": [
    "print battlenet.enums.CLASS"
   ]
  },
  {
   "cell_type": "code",
   "execution_count": 77,
   "metadata": {
    "collapsed": false
   },
   "outputs": [
    {
     "name": "stdout",
     "output_type": "stream",
     "text": [
      "6\n"
     ]
    }
   ],
   "source": [
    "print bookchar.class_"
   ]
  },
  {
   "cell_type": "code",
   "execution_count": 78,
   "metadata": {
    "collapsed": false
   },
   "outputs": [
    {
     "name": "stdout",
     "output_type": "stream",
     "text": [
      "Shaman\n"
     ]
    }
   ],
   "source": [
    "print battlenet.enums.CLASS[racnum]"
   ]
  },
  {
   "cell_type": "code",
   "execution_count": 78,
   "metadata": {
    "collapsed": false
   },
   "outputs": [],
   "source": []
  },
  {
   "cell_type": "code",
   "execution_count": 79,
   "metadata": {
    "collapsed": false
   },
   "outputs": [],
   "source": [
    "bokkall = bookchar.to_json()"
   ]
  },
  {
   "cell_type": "code",
   "execution_count": 80,
   "metadata": {
    "collapsed": false
   },
   "outputs": [
    {
     "data": {
      "text/plain": [
       "'{\"stats\": {\"bonusArmor\": 0, \"critRating\": 859, \"powerType\": \"runic-power\", \"spellCrit\": 12.809091, \"mainHandDps\": 1624.661, \"int\": 572, \"leechRatingBonus\": 0.0, \"spr\": 640, \"mainHandDmgMax\": 4596.0, \"spellCritRating\": 859, \"avoidanceRating\": 0.0, \"spellPower\": 572, \"mainHandDmgMin\": 4204.0, \"leechRating\": 0.0, \"crit\": 12.809091, \"multistrike\": 5.469697, \"versatilityDamageDoneBonus\": 1.023077, \"rangedSpeed\": -1.0, \"armor\": 1590, \"avoidanceRatingBonus\": 0.0, \"multistrikeRating\": 5.469697, \"mana5Combat\": 0.0, \"mana5\": 0.0, \"health\": 160320, \"rangedDmgMax\": -1.0, \"rangedDmgMin\": -1.0, \"hasteRatingPercent\": 4.455555, \"leech\": 0.0, \"rangedAttackPower\": 0, \"dodge\": 3.0, \"power\": 105, \"spellPen\": 0, \"attackPower\": 3200, \"mainHandSpeed\": 2.708, \"speedRating\": 0.0, \"multistrikeRatingBonus\": 5.469697, \"masteryRating\": 24, \"blockRating\": 0, \"parry\": 11.320337, \"versatility\": 133, \"parryRating\": 0, \"dodgeRating\": 0, \"sta\": 2672, \"agi\": 1073, \"speedRatingBonus\": 0.0, \"mastery\": 20.545454, \"rangedDps\": -1.0, \"offHandDps\": 632.28455, \"versatilityDamageTakenBonus\": 0.511538, \"versatilityHealingDoneBonus\": 1.023077, \"offHandDmgMax\": 952.0, \"haste\": 32.93013, \"hasteRating\": 401, \"str\": 2909, \"offHandDmgMin\": 951.0, \"block\": 0.0, \"offHandSpeed\": 1.505}, \"realm\": \"Saurfang\", \"name\": \"Portishead\", \"level\": 100, \"lastModified\": 1435389641000, \"professions\": {\"primary\": [{\"name\": \"Enchanting\", \"max\": 675, \"recipes\": [7418, 7421, 7428, 158907, 158908, 158909, 158910, 158911, 159236, 162948, 169091, 169092, 177043], \"rank\": 163, \"id\": 333, \"icon\": \"trade_engraving\"}, {\"name\": \"Blacksmithing\", \"max\": 675, \"recipes\": [2660, 2663, 3115, 12260, 171690, 171691, 171692, 171693, 176090], \"rank\": 79, \"id\": 164, \"icon\": \"trade_blacksmithing\"}], \"secondary\": [{\"name\": \"First Aid\", \"max\": 675, \"recipes\": [3275, 3276, 3277, 3278, 7928, 7929, 7934, 10840, 10841, 18629, 18630, 172539, 172540, 172541, 172542], \"rank\": 284, \"id\": 129, \"icon\": \"spell_holy_sealofsacrifice\"}, {\"name\": \"Archaeology\", \"max\": 75, \"recipes\": [], \"rank\": 1, \"id\": 794, \"icon\": \"trade_archaeology\"}, {\"name\": \"Fishing\", \"max\": 0, \"recipes\": [], \"rank\": 0, \"id\": 356, \"icon\": \"trade_fishing\"}, {\"name\": \"Cooking\", \"max\": 675, \"recipes\": [2538, 2540, 8604, 161001, 161002], \"rank\": 1, \"id\": 185, \"icon\": \"inv_misc_food_15\"}]}, \"totalHonorableKills\": 1198, \"thumbnail\": \"internal-record-3695/237/158282221-avatar.jpg\", \"talents\": [{\"calcTalent\": \"0100100\", \"calcGlyph\": \"XYkjes\", \"calcSpec\": \"b\", \"selected\": true, \"talents\": [{\"tier\": 0, \"column\": 0, \"spell\": {\"castTime\": \"Passive\", \"description\": \"Death Coil and Frost Strike also infect your target, adding 4 sec to the duration of Frost Fever and Blood Plague, and adding an additional stack to Necrotic Plague.\", \"icon\": \"achievement_zone_westernplaguelands_01\", \"id\": 161497, \"name\": \"Plaguebearer\"}}, {\"tier\": 1, \"column\": 1, \"spell\": {\"description\": \"Places an Anti-Magic Zone for 3 sec that reduces spell damage taken by party or raid members by 20%.\", \"castTime\": \"Instant\", \"name\": \"Anti-Magic Zone\", \"range\": \"30 yd range\", \"cooldown\": \"2 min cooldown\", \"id\": 51052, \"icon\": \"spell_deathknight_antimagiczone\"}}, {\"tier\": 2, \"column\": 0, \"spell\": {\"description\": \"You passively move 10% faster, and movement-impairing effects may not reduce you below 70% of normal movement speed.\\\\n\\\\n\\\\n\\\\nWhen activated, you gain 30% movement speed and may not be slowed below 100% of normal movement speed for 6 seconds.\", \"name\": \"Death\\'s Advance\", \"castTime\": \"Instant\", \"cooldown\": \"30 sec cooldown\", \"id\": 96268, \"icon\": \"spell_shadow_demonicempathy\"}}, {\"tier\": 3, \"column\": 0, \"spell\": {\"castTime\": \"Instant\", \"description\": \"Every 15 Runic Power you spend will generate a Blood Charge. Max 12 charges.\\\\n\\\\n\\\\n\\\\nBlood Tap consumes 5 Blood Charges to activate a random fully-depleted rune as a Death Rune.\", \"icon\": \"spell_deathknight_bloodtap\", \"id\": 45529, \"name\": \"Blood Tap\"}}, {\"tier\": 4, \"column\": 1, \"spell\": {\"description\": \"Deals 1,786 Shadowfrost damage to an enemy, healing the Death Knight for 400% of damage dealt.\", \"name\": \"Death Siphon\", \"castTime\": \"Instant\", \"id\": 108196, \"range\": \"40 yd range\", \"powerCost\": \"1 Death\", \"icon\": \"ability_deathknight_deathsiphon\"}}, {\"tier\": 5, \"column\": 0, \"spell\": {\"description\": \"Shadowy tendrils coil around all enemies within 20 yards of a target (hostile or friendly), pulling them to the target\\'s location.\", \"castTime\": \"Instant\", \"name\": \"Gorefiend\\'s Grasp\", \"range\": \"30 yd range\", \"cooldown\": \"1 min cooldown\", \"id\": 108199, \"icon\": \"ability_deathknight_aoedeathgrip\"}}, {\"tier\": 6, \"column\": 0, \"spell\": {\"castTime\": \"Passive\", \"description\": \"A powerful disease that deals 96 Shadowfrost damage per stack every 2 sec for 30 sec. Each time it deals damage, it gains 1 stack, and infects another nearby enemy within 8 yards if possible. \\\\n\\\\n\\\\n\\\\nReplaces Blood Plague and Frost Fever, and is applied by any ability which applied either. This effect cannot be refreshed; it gains 1 stack instead.\", \"icon\": \"spell_deathknight_necroticplague\", \"id\": 152281, \"name\": \"Necrotic Plague\"}}], \"glyphs\": {\"major\": [{\"item\": 0, \"icon\": \"spell_deathknight_strangulate\", \"name\": \"Glyph of Death Grip\", \"glyph\": 519}, {\"item\": 43537, \"icon\": \"spell_frost_chainsofice\", \"name\": \"Glyph of Chains of Ice\", \"glyph\": 516}, {\"item\": 0, \"icon\": \"spell_shadow_skull\", \"name\": \"Glyph of Unholy Command\", \"glyph\": 556}], \"minor\": [{\"item\": 43671, \"icon\": \"spell_deathknight_pathoffrost\", \"name\": \"Glyph of Path of Frost\", \"glyph\": 554}, {\"item\": 43544, \"icon\": \"inv_misc_horn_02\", \"name\": \"Glyph of Horn of Winter\", \"glyph\": 522}, {\"item\": 43550, \"icon\": \"spell_deathknight_armyofthedead\", \"name\": \"Glyph of Army of the Dead\", \"glyph\": 1204}]}, \"spec\": {\"description\": \"A master of death and decay, spreading infection and controlling undead minions to do his bidding.\", \"backgroundImage\": \"bg-deathknight-unholy\", \"role\": \"DPS\", \"icon\": \"spell_deathknight_unholypresence\", \"order\": 2, \"name\": \"Unholy\"}}, {\"calcGlyph\": \"khXsej\", \"calcSpec\": \"a\", \"calcTalent\": \"220200.\", \"talents\": [{\"tier\": 0, \"column\": 2, \"spell\": {\"description\": \"Surrounds the Death Knight with a vile swarm of unholy insects for 10 sec, stinging all enemies within 10 yards, infecting them with Blood Plague and Frost Fever.\", \"name\": \"Unholy Blight\", \"castTime\": \"Instant\", \"cooldown\": \"1.5 min cooldown\", \"id\": 115989, \"icon\": \"spell_shadow_contagion\"}}, {\"tier\": 1, \"column\": 2, \"spell\": {\"castTime\": \"Passive\", \"description\": \"An unholy pact that prevents death when you sustain fatal damage, instead absorbing incoming healing equal to the amount of damage prevented, lasting 3 sec.\\\\n\\\\n\\\\n\\\\nIf any healing absorption remains when this effect expires, you will die. This effect may only occur every 3 min.\", \"icon\": \"inv_misc_shadowegg\", \"id\": 114556, \"name\": \"Purgatory\"}}, {\"tier\": 2, \"column\": 0, \"spell\": {\"description\": \"You passively move 10% faster, and movement-impairing effects may not reduce you below 70% of normal movement speed.\\\\n\\\\n\\\\n\\\\nWhen activated, you gain 30% movement speed and may not be slowed below 100% of normal movement speed for 6 seconds.\", \"name\": \"Death\\'s Advance\", \"castTime\": \"Instant\", \"cooldown\": \"30 sec cooldown\", \"id\": 96268, \"icon\": \"spell_shadow_demonicempathy\"}}, {\"tier\": 3, \"column\": 2, \"spell\": {\"castTime\": \"Passive\", \"description\": \"When you spend Runic Power, you have a 1.50% chance per Runic Power spent to increase your rune regeneration rate by 100% for 3 sec.\", \"icon\": \"spell_shadow_rune\", \"id\": 51462, \"name\": \"Runic Corruption\"}}, {\"tier\": 4, \"column\": 0, \"spell\": {\"description\": \"Heals the Death Knight for 50% of max health, and absorbs incoming healing equal to 25% of max health for 15 sec.\", \"name\": \"Death Pact\", \"castTime\": \"Instant\", \"cooldown\": \"2 min cooldown\", \"id\": 48743, \"icon\": \"spell_shadow_deathpact\"}}, {\"tier\": 5, \"column\": 0, \"spell\": {\"description\": \"Shadowy tendrils coil around all enemies within 20 yards of a target (hostile or friendly), pulling them to the target\\'s location.\", \"castTime\": \"Instant\", \"name\": \"Gorefiend\\'s Grasp\", \"range\": \"30 yd range\", \"cooldown\": \"1 min cooldown\", \"id\": 108199, \"icon\": \"ability_deathknight_aoedeathgrip\"}}], \"glyphs\": {\"major\": [{\"item\": 0, \"icon\": \"spell_shadow_skull\", \"name\": \"Glyph of Unholy Command\", \"glyph\": 556}, {\"item\": 43552, \"icon\": \"spell_shadow_soulleech_3\", \"name\": \"Glyph of Strangulate\", \"glyph\": 530}, {\"item\": 0, \"icon\": \"spell_deathknight_strangulate\", \"name\": \"Glyph of Death Grip\", \"glyph\": 519}], \"minor\": [{\"item\": 43550, \"icon\": \"spell_deathknight_armyofthedead\", \"name\": \"Glyph of Army of the Dead\", \"glyph\": 1204}, {\"item\": 43544, \"icon\": \"inv_misc_horn_02\", \"name\": \"Glyph of Horn of Winter\", \"glyph\": 522}, {\"item\": 43671, \"icon\": \"spell_deathknight_pathoffrost\", \"name\": \"Glyph of Path of Frost\", \"glyph\": 554}]}, \"spec\": {\"description\": \"A dark guardian who manipulates and corrupts life energy to sustain himself in the face of an enemy onslaught.\", \"backgroundImage\": \"bg-deathknight-blood\", \"role\": \"TANK\", \"icon\": \"spell_deathknight_bloodpresence\", \"order\": 0, \"name\": \"Blood\"}}], \"race\": 7, \"calcClass\": \"d\", \"achievementPoints\": 8125, \"gender\": 1, \"battlegroup\": \"AU/NZ Battle Group\", \"class\": 6}'"
      ]
     },
     "execution_count": 80,
     "metadata": {},
     "output_type": "execute_result"
    }
   ],
   "source": [
    "bokkall"
   ]
  },
  {
   "cell_type": "code",
   "execution_count": 81,
   "metadata": {
    "collapsed": false
   },
   "outputs": [
    {
     "data": {
      "text/plain": [
       "1435389641000L"
      ]
     },
     "execution_count": 81,
     "metadata": {},
     "output_type": "execute_result"
    }
   ],
   "source": [
    "json.loads(bokkall)['lastModified']"
   ]
  },
  {
   "cell_type": "code",
   "execution_count": 81,
   "metadata": {
    "collapsed": true
   },
   "outputs": [],
   "source": []
  },
  {
   "cell_type": "code",
   "execution_count": 82,
   "metadata": {
    "collapsed": false
   },
   "outputs": [],
   "source": [
    "import json"
   ]
  },
  {
   "cell_type": "code",
   "execution_count": 83,
   "metadata": {
    "collapsed": false
   },
   "outputs": [
    {
     "data": {
      "text/plain": [
       "<function json.loads>"
      ]
     },
     "execution_count": 83,
     "metadata": {},
     "output_type": "execute_result"
    }
   ],
   "source": [
    "json.loads"
   ]
  },
  {
   "cell_type": "code",
   "execution_count": 84,
   "metadata": {
    "collapsed": false
   },
   "outputs": [
    {
     "ename": "KeyError",
     "evalue": "'items'",
     "output_type": "error",
     "traceback": [
      "\u001b[1;31m---------------------------------------------------------------------------\u001b[0m",
      "\u001b[1;31mKeyError\u001b[0m                                  Traceback (most recent call last)",
      "\u001b[1;32m<ipython-input-84-34f240b39924>\u001b[0m in \u001b[0;36m<module>\u001b[1;34m()\u001b[0m\n\u001b[1;32m----> 1\u001b[1;33m \u001b[0mjson\u001b[0m\u001b[1;33m.\u001b[0m\u001b[0mloads\u001b[0m\u001b[1;33m(\u001b[0m\u001b[0mbokkall\u001b[0m\u001b[1;33m)\u001b[0m\u001b[1;33m[\u001b[0m\u001b[1;34m'items'\u001b[0m\u001b[1;33m]\u001b[0m\u001b[1;33m\u001b[0m\u001b[0m\n\u001b[0m",
      "\u001b[1;31mKeyError\u001b[0m: 'items'"
     ]
    }
   ],
   "source": [
    "json.loads(bokkall)['items']"
   ]
  },
  {
   "cell_type": "code",
   "execution_count": 85,
   "metadata": {
    "collapsed": false
   },
   "outputs": [
    {
     "ename": "TypeError",
     "evalue": "getattr(): attribute name must be string",
     "output_type": "error",
     "traceback": [
      "\u001b[1;31m---------------------------------------------------------------------------\u001b[0m",
      "\u001b[1;31mTypeError\u001b[0m                                 Traceback (most recent call last)",
      "\u001b[1;32m<ipython-input-85-3a1f1f50dcff>\u001b[0m in \u001b[0;36m<module>\u001b[1;34m()\u001b[0m\n\u001b[1;32m----> 1\u001b[1;33m \u001b[1;32mfor\u001b[0m \u001b[0mbequ\u001b[0m \u001b[1;32min\u001b[0m \u001b[0mbookchar\u001b[0m\u001b[1;33m.\u001b[0m\u001b[0mequipment\u001b[0m\u001b[1;33m:\u001b[0m\u001b[1;33m\u001b[0m\u001b[0m\n\u001b[0m\u001b[0;32m      2\u001b[0m     \u001b[1;32mprint\u001b[0m \u001b[0mbequ\u001b[0m\u001b[1;33m\u001b[0m\u001b[0m\n",
      "\u001b[1;32m/usr/local/lib/python2.7/dist-packages/battlenet/things.pyc\u001b[0m in \u001b[0;36m__getitem__\u001b[1;34m(self, item)\u001b[0m\n\u001b[0;32m    477\u001b[0m     \u001b[1;32mdef\u001b[0m \u001b[0m__getitem__\u001b[0m\u001b[1;33m(\u001b[0m\u001b[0mself\u001b[0m\u001b[1;33m,\u001b[0m \u001b[0mitem\u001b[0m\u001b[1;33m)\u001b[0m\u001b[1;33m:\u001b[0m\u001b[1;33m\u001b[0m\u001b[0m\n\u001b[0;32m    478\u001b[0m         \u001b[1;32mtry\u001b[0m\u001b[1;33m:\u001b[0m\u001b[1;33m\u001b[0m\u001b[0m\n\u001b[1;32m--> 479\u001b[1;33m             \u001b[1;32mreturn\u001b[0m \u001b[0mgetattr\u001b[0m\u001b[1;33m(\u001b[0m\u001b[0mself\u001b[0m\u001b[1;33m,\u001b[0m \u001b[0mitem\u001b[0m\u001b[1;33m)\u001b[0m\u001b[1;33m\u001b[0m\u001b[0m\n\u001b[0m\u001b[0;32m    480\u001b[0m         \u001b[1;32mexcept\u001b[0m \u001b[0mAttributeError\u001b[0m\u001b[1;33m:\u001b[0m\u001b[1;33m\u001b[0m\u001b[0m\n\u001b[0;32m    481\u001b[0m             \u001b[1;32mraise\u001b[0m \u001b[0mIndexError\u001b[0m\u001b[1;33m\u001b[0m\u001b[0m\n",
      "\u001b[1;31mTypeError\u001b[0m: getattr(): attribute name must be string"
     ]
    }
   ],
   "source": [
    "for bequ in bookchar.equipment:\n",
    "    print bequ"
   ]
  },
  {
   "cell_type": "code",
   "execution_count": null,
   "metadata": {
    "collapsed": false
   },
   "outputs": [],
   "source": [
    "from battlenet import Connection"
   ]
  },
  {
   "cell_type": "code",
   "execution_count": null,
   "metadata": {
    "collapsed": false
   },
   "outputs": [],
   "source": [
    "for realm in connection.get_all_realms(battlenet.UNITED_STATES):\n",
    "\n",
    "    print realm\n",
    "#for realm in connection.get_all_realms(battlenet.UNITED_STATES):\n",
    "#    print realm"
   ]
  },
  {
   "cell_type": "code",
   "execution_count": 86,
   "metadata": {
    "collapsed": false
   },
   "outputs": [],
   "source": [
    "from battlenet import Guild\n",
    "\n",
    "# If a global connection was setup\n",
    "guild = Guild(battlenet.UNITED_STATES, \"jubei'thos\", \"adventure time\")\n"
   ]
  },
  {
   "cell_type": "code",
   "execution_count": 151,
   "metadata": {
    "collapsed": false
   },
   "outputs": [],
   "source": [
    "glead = guild.get_leader"
   ]
  },
  {
   "cell_type": "code",
   "execution_count": 147,
   "metadata": {
    "collapsed": false
   },
   "outputs": [],
   "source": [
    "guildjson = guild.to_json()"
   ]
  },
  {
   "cell_type": "code",
   "execution_count": 156,
   "metadata": {
    "collapsed": false
   },
   "outputs": [],
   "source": [
    "glead()"
   ]
  },
  {
   "cell_type": "code",
   "execution_count": 144,
   "metadata": {
    "collapsed": false
   },
   "outputs": [
    {
     "data": {
      "text/plain": [
       "<Realm: Jubei'Thos(US)>"
      ]
     },
     "execution_count": 144,
     "metadata": {},
     "output_type": "execute_result"
    }
   ],
   "source": [
    "guild.realm"
   ]
  },
  {
   "cell_type": "code",
   "execution_count": 161,
   "metadata": {
    "collapsed": false
   },
   "outputs": [
    {
     "data": {
      "text/plain": [
       "<unbound method Connection.get_character_races>"
      ]
     },
     "execution_count": 161,
     "metadata": {},
     "output_type": "execute_result"
    }
   ],
   "source": [
    "battlenet.connection.Connection.get_character_races"
   ]
  },
  {
   "cell_type": "code",
   "execution_count": 182,
   "metadata": {
    "collapsed": false
   },
   "outputs": [],
   "source": [
    "item = battlenet.connection.Connection.get_all_realms\n",
    "# TODO"
   ]
  },
  {
   "cell_type": "code",
   "execution_count": 188,
   "metadata": {
    "collapsed": false
   },
   "outputs": [
    {
     "ename": "AttributeError",
     "evalue": "'module' object has no attribute 'get_realm'",
     "output_type": "error",
     "traceback": [
      "\u001b[1;31m---------------------------------------------------------------------------\u001b[0m",
      "\u001b[1;31mAttributeError\u001b[0m                            Traceback (most recent call last)",
      "\u001b[1;32m<ipython-input-188-c20628782f0c>\u001b[0m in \u001b[0;36m<module>\u001b[1;34m()\u001b[0m\n\u001b[0;32m      1\u001b[0m \u001b[0mname\u001b[0m \u001b[1;33m=\u001b[0m \u001b[1;34m\"Kiljaeden\"\u001b[0m\u001b[1;33m\u001b[0m\u001b[0m\n\u001b[1;32m----> 2\u001b[1;33m \u001b[0mrealm\u001b[0m \u001b[1;33m=\u001b[0m \u001b[0mbattlenet\u001b[0m\u001b[1;33m.\u001b[0m\u001b[0mconnection\u001b[0m\u001b[1;33m.\u001b[0m\u001b[0mget_realm\u001b[0m\u001b[1;33m(\u001b[0m\u001b[0mbattlenet\u001b[0m\u001b[1;33m.\u001b[0m\u001b[0mUNITED_STATES\u001b[0m\u001b[1;33m,\u001b[0m \u001b[0mname\u001b[0m\u001b[1;33m)\u001b[0m\u001b[1;33m\u001b[0m\u001b[0m\n\u001b[0m",
      "\u001b[1;31mAttributeError\u001b[0m: 'module' object has no attribute 'get_realm'"
     ]
    }
   ],
   "source": [
    "name = \"Kiljaeden\"\n",
    "realm = battlenet."
   ]
  },
  {
   "cell_type": "code",
   "execution_count": 13,
   "metadata": {
    "collapsed": false
   },
   "outputs": [],
   "source": [
    "portchar = Character(battlenet.UNITED_STATES, \"saurfang\", \"portishead\")"
   ]
  },
  {
   "cell_type": "code",
   "execution_count": 19,
   "metadata": {
    "collapsed": false
   },
   "outputs": [
    {
     "data": {
      "text/plain": [
       "'{\"realm\": \"Saurfang\", \"name\": \"Portishead\", \"level\": 89, \"lastModified\": 1434098916000, \"totalHonorableKills\": 1156, \"thumbnail\": \"internal-record-3695/237/158282221-avatar.jpg\", \"race\": 7, \"calcClass\": \"d\", \"achievementPoints\": 7725, \"gender\": 1, \"battlegroup\": \"AU/NZ Battle Group\", \"class\": 6}'"
      ]
     },
     "execution_count": 19,
     "metadata": {},
     "output_type": "execute_result"
    }
   ],
   "source": [
    "portchar.to_json()"
   ]
  },
  {
   "cell_type": "code",
   "execution_count": 20,
   "metadata": {
    "collapsed": false
   },
   "outputs": [
    {
     "data": {
      "text/plain": [
       "89"
      ]
     },
     "execution_count": 20,
     "metadata": {},
     "output_type": "execute_result"
    }
   ],
   "source": [
    "portchar.level"
   ]
  },
  {
   "cell_type": "code",
   "execution_count": 23,
   "metadata": {
    "collapsed": false
   },
   "outputs": [],
   "source": [
    "portmoded = portchar.last_modified"
   ]
  },
  {
   "cell_type": "code",
   "execution_count": 25,
   "metadata": {
    "collapsed": false
   },
   "outputs": [
    {
     "data": {
      "text/plain": [
       "2015"
      ]
     },
     "execution_count": 25,
     "metadata": {},
     "output_type": "execute_result"
    }
   ],
   "source": [
    "portmoded.year"
   ]
  },
  {
   "cell_type": "code",
   "execution_count": 26,
   "metadata": {
    "collapsed": false
   },
   "outputs": [
    {
     "data": {
      "text/plain": [
       "6"
      ]
     },
     "execution_count": 26,
     "metadata": {},
     "output_type": "execute_result"
    }
   ],
   "source": [
    "portmoded.month"
   ]
  },
  {
   "cell_type": "code",
   "execution_count": 27,
   "metadata": {
    "collapsed": false
   },
   "outputs": [
    {
     "data": {
      "text/plain": [
       "12"
      ]
     },
     "execution_count": 27,
     "metadata": {},
     "output_type": "execute_result"
    }
   ],
   "source": [
    "portmoded.day"
   ]
  },
  {
   "cell_type": "code",
   "execution_count": 31,
   "metadata": {
    "collapsed": false
   },
   "outputs": [],
   "source": [
    "portapc = portchar.appearance"
   ]
  },
  {
   "cell_type": "code",
   "execution_count": 33,
   "metadata": {
    "collapsed": false
   },
   "outputs": [
    {
     "data": {
      "text/plain": [
       "3"
      ]
     },
     "execution_count": 33,
     "metadata": {},
     "output_type": "execute_result"
    }
   ],
   "source": [
    "portapc.face"
   ]
  },
  {
   "cell_type": "code",
   "execution_count": 34,
   "metadata": {
    "collapsed": false
   },
   "outputs": [
    {
     "data": {
      "text/plain": [
       "9"
      ]
     },
     "execution_count": 34,
     "metadata": {},
     "output_type": "execute_result"
    }
   ],
   "source": [
    "portapc.skin_color"
   ]
  },
  {
   "cell_type": "code",
   "execution_count": 35,
   "metadata": {
    "collapsed": false
   },
   "outputs": [
    {
     "data": {
      "text/plain": [
       "4"
      ]
     },
     "execution_count": 35,
     "metadata": {},
     "output_type": "execute_result"
    }
   ],
   "source": [
    "portapc.feature"
   ]
  },
  {
   "cell_type": "code",
   "execution_count": 36,
   "metadata": {
    "collapsed": false
   },
   "outputs": [
    {
     "data": {
      "text/plain": [
       "2"
      ]
     },
     "execution_count": 36,
     "metadata": {},
     "output_type": "execute_result"
    }
   ],
   "source": [
    "portapc.hair"
   ]
  },
  {
   "cell_type": "code",
   "execution_count": 38,
   "metadata": {
    "collapsed": false
   },
   "outputs": [
    {
     "data": {
      "text/plain": [
       "'Death Knight'"
      ]
     },
     "execution_count": 38,
     "metadata": {},
     "output_type": "execute_result"
    }
   ],
   "source": [
    "portchar.get_class_name()"
   ]
  },
  {
   "cell_type": "code",
   "execution_count": 41,
   "metadata": {
    "collapsed": false
   },
   "outputs": [
    {
     "data": {
      "text/plain": [
       "'Gnome'"
      ]
     },
     "execution_count": 41,
     "metadata": {},
     "output_type": "execute_result"
    }
   ],
   "source": [
    "portchar.get_race_name()"
   ]
  },
  {
   "cell_type": "code",
   "execution_count": 46,
   "metadata": {
    "collapsed": false
   },
   "outputs": [],
   "source": [
    "portprof = portchar.professions['primary']"
   ]
  },
  {
   "cell_type": "code",
   "execution_count": 59,
   "metadata": {
    "collapsed": false
   },
   "outputs": [
    {
     "name": "stdout",
     "output_type": "stream",
     "text": [
      "7418\n",
      "7421\n",
      "7428\n"
     ]
    }
   ],
   "source": [
    "for ppof in portprof:\n",
    "    #print ppof.recipes\n",
    "    for pprec in ppof.recipes:\n",
    "        print pprec"
   ]
  },
  {
   "cell_type": "code",
   "execution_count": 65,
   "metadata": {
    "collapsed": false
   },
   "outputs": [],
   "source": [
    "portales = portchar.TALENTS"
   ]
  },
  {
   "cell_type": "code",
   "execution_count": 70,
   "metadata": {
    "collapsed": false
   },
   "outputs": [],
   "source": [
    "portreq = portchar.equipment"
   ]
  },
  {
   "cell_type": "code",
   "execution_count": 73,
   "metadata": {
    "collapsed": false
   },
   "outputs": [
    {
     "data": {
      "text/plain": [
       "430"
      ]
     },
     "execution_count": 73,
     "metadata": {},
     "output_type": "execute_result"
    }
   ],
   "source": [
    "portreq.average_item_level"
   ]
  },
  {
   "cell_type": "code",
   "execution_count": 74,
   "metadata": {
    "collapsed": false
   },
   "outputs": [
    {
     "data": {
      "text/plain": [
       "235"
      ]
     },
     "execution_count": 74,
     "metadata": {},
     "output_type": "execute_result"
    }
   ],
   "source": [
    "portreq.average_item_level_equiped"
   ]
  },
  {
   "cell_type": "code",
   "execution_count": 76,
   "metadata": {
    "collapsed": false
   },
   "outputs": [
    {
     "data": {
      "text/plain": [
       "'{\"status\": true, \"wintergrasp\": {\"status\": 0, \"next\": 1434107247078, \"controlling-faction\": 0, \"area\": 1}, \"battlegroup\": \"AU/NZ Battle Group\", \"name\": \"Jubei\\'Thos\", \"tol-barad\": {\"status\": 0, \"next\": 1434104710484, \"controlling-faction\": 1, \"area\": 21}, \"locale\": \"en_US\", \"queue\": false, \"connected_realms\": [\"gundrak\", \"jubeithos\", \"internal-record-3697\"], \"timezone\": \"Australia/Melbourne\", \"type\": \"pvp\", \"slug\": \"jubeithos\", \"population\": \"high\"}'"
      ]
     },
     "execution_count": 76,
     "metadata": {},
     "output_type": "execute_result"
    }
   ],
   "source": [
    "realm.to_json()"
   ]
  },
  {
   "cell_type": "code",
   "execution_count": 80,
   "metadata": {
    "collapsed": false
   },
   "outputs": [],
   "source": [
    "bnetthing = battlenet.things"
   ]
  },
  {
   "cell_type": "code",
   "execution_count": 89,
   "metadata": {
    "collapsed": false
   },
   "outputs": [
    {
     "data": {
      "text/plain": [
       "{1: 'Alliance',\n",
       " 2: 'Horde',\n",
       " 3: 'Alliance',\n",
       " 4: 'Alliance',\n",
       " 5: 'Horde',\n",
       " 6: 'Horde',\n",
       " 7: 'Alliance',\n",
       " 8: 'Horde',\n",
       " 9: 'Horde',\n",
       " 10: 'Horde',\n",
       " 11: 'Alliance',\n",
       " 22: 'Alliance'}"
      ]
     },
     "execution_count": 89,
     "metadata": {},
     "output_type": "execute_result"
    }
   ],
   "source": [
    "battlenet.RACE_TO_FACTION"
   ]
  },
  {
   "cell_type": "code",
   "execution_count": 93,
   "metadata": {
    "collapsed": false
   },
   "outputs": [],
   "source": [
    "alrac = battlenet.RACE"
   ]
  },
  {
   "cell_type": "code",
   "execution_count": 92,
   "metadata": {
    "collapsed": true
   },
   "outputs": [],
   "source": [
    "import random"
   ]
  },
  {
   "cell_type": "code",
   "execution_count": 98,
   "metadata": {
    "collapsed": false
   },
   "outputs": [
    {
     "data": {
      "text/plain": [
       "'Undead'"
      ]
     },
     "execution_count": 98,
     "metadata": {},
     "output_type": "execute_result"
    }
   ],
   "source": [
    "random.choice(alrac.values())"
   ]
  },
  {
   "cell_type": "code",
   "execution_count": 103,
   "metadata": {
    "collapsed": false
   },
   "outputs": [],
   "source": [
    "plaqual = battlenet.QUALITY"
   ]
  },
  {
   "cell_type": "code",
   "execution_count": 106,
   "metadata": {
    "collapsed": false
   },
   "outputs": [
    {
     "data": {
      "text/plain": [
       "'Legendary'"
      ]
     },
     "execution_count": 106,
     "metadata": {},
     "output_type": "execute_result"
    }
   ],
   "source": [
    "random.choice(plaqual.values())"
   ]
  },
  {
   "cell_type": "code",
   "execution_count": 109,
   "metadata": {
    "collapsed": false
   },
   "outputs": [
    {
     "data": {
      "text/plain": [
       "battlenet.things.Character"
      ]
     },
     "execution_count": 109,
     "metadata": {},
     "output_type": "execute_result"
    }
   ],
   "source": [
    "battlenet.Character"
   ]
  },
  {
   "cell_type": "code",
   "execution_count": 111,
   "metadata": {
    "collapsed": false
   },
   "outputs": [
    {
     "ename": "TypeError",
     "evalue": "'module' object is not callable",
     "output_type": "error",
     "traceback": [
      "\u001b[1;31m---------------------------------------------------------------------------\u001b[0m",
      "\u001b[1;31mTypeError\u001b[0m                                 Traceback (most recent call last)",
      "\u001b[1;32m<ipython-input-111-816caf443389>\u001b[0m in \u001b[0;36m<module>\u001b[1;34m()\u001b[0m\n\u001b[1;32m----> 1\u001b[1;33m \u001b[0mbattlenet\u001b[0m\u001b[1;33m.\u001b[0m\u001b[0mconnection\u001b[0m\u001b[1;33m(\u001b[0m\u001b[1;33m)\u001b[0m\u001b[1;33m\u001b[0m\u001b[0m\n\u001b[0m",
      "\u001b[1;31mTypeError\u001b[0m: 'module' object is not callable"
     ]
    }
   ],
   "source": [
    "battlenet.connection()"
   ]
  },
  {
   "cell_type": "code",
   "execution_count": null,
   "metadata": {
    "collapsed": true
   },
   "outputs": [],
   "source": []
  },
  {
   "cell_type": "code",
   "execution_count": 99,
   "metadata": {
    "collapsed": true
   },
   "outputs": [],
   "source": [
    "alclas = battlenet.CLASS"
   ]
  },
  {
   "cell_type": "code",
   "execution_count": 100,
   "metadata": {
    "collapsed": false
   },
   "outputs": [
    {
     "data": {
      "text/plain": [
       "{1: 'Warrior',\n",
       " 2: 'Paladin',\n",
       " 3: 'Hunter',\n",
       " 4: 'Rogue',\n",
       " 5: 'Priest',\n",
       " 6: 'Death Knight',\n",
       " 7: 'Shaman',\n",
       " 8: 'Mage',\n",
       " 9: 'Warlock',\n",
       " 11: 'Druid'}"
      ]
     },
     "execution_count": 100,
     "metadata": {},
     "output_type": "execute_result"
    }
   ],
   "source": [
    "alclas"
   ]
  },
  {
   "cell_type": "code",
   "execution_count": 102,
   "metadata": {
    "collapsed": false
   },
   "outputs": [
    {
     "data": {
      "text/plain": [
       "'Warrior'"
      ]
     },
     "execution_count": 102,
     "metadata": {},
     "output_type": "execute_result"
    }
   ],
   "source": [
    "random.choice(alclas.values())"
   ]
  },
  {
   "cell_type": "code",
   "execution_count": null,
   "metadata": {
    "collapsed": true
   },
   "outputs": [],
   "source": [
    "battlenet.things"
   ]
  },
  {
   "cell_type": "code",
   "execution_count": null,
   "metadata": {
    "collapsed": true
   },
   "outputs": [],
   "source": []
  },
  {
   "cell_type": "code",
   "execution_count": 66,
   "metadata": {
    "collapsed": false
   },
   "outputs": [
    {
     "data": {
      "text/plain": [
       "'talents'"
      ]
     },
     "execution_count": 66,
     "metadata": {},
     "output_type": "execute_result"
    }
   ],
   "source": [
    "portales"
   ]
  },
  {
   "cell_type": "code",
   "execution_count": null,
   "metadata": {
    "collapsed": true
   },
   "outputs": [],
   "source": []
  },
  {
   "cell_type": "markdown",
   "metadata": {},
   "source": [
    "Make background red if horde - blue if alliance.\n",
    "\n",
    "Depend on class. "
   ]
  },
  {
   "cell_type": "code",
   "execution_count": 39,
   "metadata": {
    "collapsed": false
   },
   "outputs": [
    {
     "data": {
      "text/plain": [
       "'Alliance'"
      ]
     },
     "execution_count": 39,
     "metadata": {},
     "output_type": "execute_result"
    }
   ],
   "source": [
    "portchar.faction"
   ]
  },
  {
   "cell_type": "code",
   "execution_count": null,
   "metadata": {
    "collapsed": true
   },
   "outputs": [],
   "source": [
    "portchar."
   ]
  },
  {
   "cell_type": "code",
   "execution_count": null,
   "metadata": {
    "collapsed": true
   },
   "outputs": [],
   "source": [
    "portchat"
   ]
  },
  {
   "cell_type": "code",
   "execution_count": 9,
   "metadata": {
    "collapsed": false
   },
   "outputs": [],
   "source": [
    "galfchar = Character(battlenet.UNITED_STATES, \"jubei'thos\", 'galf')"
   ]
  },
  {
   "cell_type": "code",
   "execution_count": 10,
   "metadata": {
    "collapsed": false
   },
   "outputs": [
    {
     "data": {
      "text/plain": [
       "<Character: Galf@Jubei'Thos>"
      ]
     },
     "execution_count": 10,
     "metadata": {},
     "output_type": "execute_result"
    }
   ],
   "source": [
    "galfchar"
   ]
  },
  {
   "cell_type": "code",
   "execution_count": 13,
   "metadata": {
    "collapsed": false
   },
   "outputs": [
    {
     "data": {
      "text/plain": [
       "'{\"realm\": \"Jubei\\'Thos\", \"name\": \"Galf\", \"level\": 100, \"lastModified\": 1433464843000, \"totalHonorableKills\": 20336, \"thumbnail\": \"internal-record-3697/221/155983837-avatar.jpg\", \"race\": 10, \"calcClass\": \"b\", \"achievementPoints\": 8085, \"gender\": 1, \"battlegroup\": \"AU/NZ Battle Group\", \"class\": 2}'"
      ]
     },
     "execution_count": 13,
     "metadata": {},
     "output_type": "execute_result"
    }
   ],
   "source": [
    "galfchar.to_json()"
   ]
  },
  {
   "cell_type": "code",
   "execution_count": 14,
   "metadata": {
    "collapsed": false
   },
   "outputs": [],
   "source": [
    "gquiq = galfchar.equipment"
   ]
  },
  {
   "cell_type": "code",
   "execution_count": 15,
   "metadata": {
    "collapsed": false
   },
   "outputs": [
    {
     "data": {
      "text/plain": [
       "577"
      ]
     },
     "execution_count": 15,
     "metadata": {},
     "output_type": "execute_result"
    }
   ],
   "source": [
    "gquiq.average_item_level"
   ]
  },
  {
   "cell_type": "code",
   "execution_count": 16,
   "metadata": {
    "collapsed": false
   },
   "outputs": [
    {
     "data": {
      "text/plain": [
       "403"
      ]
     },
     "execution_count": 16,
     "metadata": {},
     "output_type": "execute_result"
    }
   ],
   "source": [
    "gquiq.average_item_level_equiped"
   ]
  },
  {
   "cell_type": "code",
   "execution_count": 17,
   "metadata": {
    "collapsed": false
   },
   "outputs": [],
   "source": [
    "gdarz = galfchar.get_spec_name"
   ]
  },
  {
   "cell_type": "code",
   "execution_count": 18,
   "metadata": {
    "collapsed": false
   },
   "outputs": [
    {
     "ename": "KeyError",
     "evalue": "'build'",
     "output_type": "error",
     "traceback": [
      "\u001b[1;31m---------------------------------------------------------------------------\u001b[0m",
      "\u001b[1;31mKeyError\u001b[0m                                  Traceback (most recent call last)",
      "\u001b[1;32m<ipython-input-18-ac998ca8aad0>\u001b[0m in \u001b[0;36m<module>\u001b[1;34m()\u001b[0m\n\u001b[1;32m----> 1\u001b[1;33m \u001b[0mgdarz\u001b[0m\u001b[1;33m(\u001b[0m\u001b[1;33m)\u001b[0m\u001b[1;33m\u001b[0m\u001b[0m\n\u001b[0m",
      "\u001b[1;32m/usr/local/lib/python2.7/dist-packages/battlenet/things.pyc\u001b[0m in \u001b[0;36mget_spec_name\u001b[1;34m(self)\u001b[0m\n\u001b[0;32m    280\u001b[0m \u001b[1;33m\u001b[0m\u001b[0m\n\u001b[0;32m    281\u001b[0m     \u001b[1;32mdef\u001b[0m \u001b[0mget_spec_name\u001b[0m\u001b[1;33m(\u001b[0m\u001b[0mself\u001b[0m\u001b[1;33m)\u001b[0m\u001b[1;33m:\u001b[0m\u001b[1;33m\u001b[0m\u001b[0m\n\u001b[1;32m--> 282\u001b[1;33m         \u001b[1;32mfor\u001b[0m \u001b[0mtalent\u001b[0m \u001b[1;32min\u001b[0m \u001b[0mself\u001b[0m\u001b[1;33m.\u001b[0m\u001b[0mtalents\u001b[0m\u001b[1;33m:\u001b[0m\u001b[1;33m\u001b[0m\u001b[0m\n\u001b[0m\u001b[0;32m    283\u001b[0m             \u001b[1;32mif\u001b[0m \u001b[0mtalent\u001b[0m\u001b[1;33m.\u001b[0m\u001b[0mselected\u001b[0m\u001b[1;33m:\u001b[0m\u001b[1;33m\u001b[0m\u001b[0m\n\u001b[0;32m    284\u001b[0m                 \u001b[1;32mreturn\u001b[0m \u001b[0mtalent\u001b[0m\u001b[1;33m.\u001b[0m\u001b[0mname\u001b[0m\u001b[1;33m\u001b[0m\u001b[0m\n",
      "\u001b[1;32m/usr/local/lib/python2.7/dist-packages/battlenet/things.pyc\u001b[0m in \u001b[0;36mtalents\u001b[1;34m(self)\u001b[0m\n\u001b[0;32m    253\u001b[0m     \u001b[1;32mdef\u001b[0m \u001b[0mtalents\u001b[0m\u001b[1;33m(\u001b[0m\u001b[0mself\u001b[0m\u001b[1;33m)\u001b[0m\u001b[1;33m:\u001b[0m\u001b[1;33m\u001b[0m\u001b[0m\n\u001b[0;32m    254\u001b[0m         \u001b[1;32mif\u001b[0m \u001b[0mself\u001b[0m\u001b[1;33m.\u001b[0m\u001b[0m_refresh_if_not_present\u001b[0m\u001b[1;33m(\u001b[0m\u001b[0mCharacter\u001b[0m\u001b[1;33m.\u001b[0m\u001b[0mTALENTS\u001b[0m\u001b[1;33m)\u001b[0m\u001b[1;33m:\u001b[0m\u001b[1;33m\u001b[0m\u001b[0m\n\u001b[1;32m--> 255\u001b[1;33m             \u001b[0mself\u001b[0m\u001b[1;33m.\u001b[0m\u001b[0m_talents\u001b[0m \u001b[1;33m=\u001b[0m \u001b[1;33m[\u001b[0m\u001b[0mBuild\u001b[0m\u001b[1;33m(\u001b[0m\u001b[0mself\u001b[0m\u001b[1;33m,\u001b[0m \u001b[0mbuild\u001b[0m\u001b[1;33m)\u001b[0m \u001b[1;32mfor\u001b[0m \u001b[0mbuild\u001b[0m \u001b[1;32min\u001b[0m \u001b[0mself\u001b[0m\u001b[1;33m.\u001b[0m\u001b[0m_data\u001b[0m\u001b[1;33m[\u001b[0m\u001b[0mCharacter\u001b[0m\u001b[1;33m.\u001b[0m\u001b[0mTALENTS\u001b[0m\u001b[1;33m]\u001b[0m\u001b[1;33m]\u001b[0m\u001b[1;33m\u001b[0m\u001b[0m\n\u001b[0m\u001b[0;32m    256\u001b[0m \u001b[1;33m\u001b[0m\u001b[0m\n\u001b[0;32m    257\u001b[0m         \u001b[1;32mreturn\u001b[0m \u001b[0mself\u001b[0m\u001b[1;33m.\u001b[0m\u001b[0m_talents\u001b[0m\u001b[1;33m\u001b[0m\u001b[0m\n",
      "\u001b[1;32m/usr/local/lib/python2.7/dist-packages/battlenet/things.pyc\u001b[0m in \u001b[0;36m__init__\u001b[1;34m(self, character, data)\u001b[0m\n\u001b[0;32m    487\u001b[0m         \u001b[0mself\u001b[0m\u001b[1;33m.\u001b[0m\u001b[0m_data\u001b[0m \u001b[1;33m=\u001b[0m \u001b[0mdata\u001b[0m\u001b[1;33m\u001b[0m\u001b[0m\n\u001b[0;32m    488\u001b[0m \u001b[1;33m\u001b[0m\u001b[0m\n\u001b[1;32m--> 489\u001b[1;33m         \u001b[0mself\u001b[0m\u001b[1;33m.\u001b[0m\u001b[0mbuild\u001b[0m \u001b[1;33m=\u001b[0m \u001b[0mdata\u001b[0m\u001b[1;33m[\u001b[0m\u001b[1;34m'build'\u001b[0m\u001b[1;33m]\u001b[0m\u001b[1;33m\u001b[0m\u001b[0m\n\u001b[0m\u001b[0;32m    490\u001b[0m         \u001b[0mself\u001b[0m\u001b[1;33m.\u001b[0m\u001b[0micon\u001b[0m \u001b[1;33m=\u001b[0m \u001b[0mdata\u001b[0m\u001b[1;33m.\u001b[0m\u001b[0mget\u001b[0m\u001b[1;33m(\u001b[0m\u001b[1;34m'icon'\u001b[0m\u001b[1;33m)\u001b[0m\u001b[1;33m\u001b[0m\u001b[0m\n\u001b[0;32m    491\u001b[0m         \u001b[0mself\u001b[0m\u001b[1;33m.\u001b[0m\u001b[0mname\u001b[0m \u001b[1;33m=\u001b[0m \u001b[0mdata\u001b[0m\u001b[1;33m[\u001b[0m\u001b[1;34m'name'\u001b[0m\u001b[1;33m]\u001b[0m\u001b[1;33m\u001b[0m\u001b[0m\n",
      "\u001b[1;31mKeyError\u001b[0m: 'build'"
     ]
    }
   ],
   "source": [
    "gdarz()"
   ]
  },
  {
   "cell_type": "code",
   "execution_count": null,
   "metadata": {
    "collapsed": true
   },
   "outputs": [],
   "source": [
    "import random"
   ]
  },
  {
   "cell_type": "code",
   "execution_count": 19,
   "metadata": {
    "collapsed": false
   },
   "outputs": [],
   "source": [
    "gfinz = galfchar.titles"
   ]
  },
  {
   "cell_type": "code",
   "execution_count": 20,
   "metadata": {
    "collapsed": true
   },
   "outputs": [],
   "source": [
    "diczid = list()"
   ]
  },
  {
   "cell_type": "code",
   "execution_count": 21,
   "metadata": {
    "collapsed": false
   },
   "outputs": [
    {
     "name": "stdout",
     "output_type": "stream",
     "text": [
      "Elder Galf\n",
      "Flame Keeper Galf\n",
      "Galf the Explorer\n",
      "Galf the Hallowed\n",
      "Galf, Champion of the Frozen Wastes\n",
      "Ambassador Galf\n",
      "Brewmaster Galf\n",
      "Merrymaker Galf\n",
      "Galf the Love Fool\n",
      "Matron Galf\n",
      "Galf Jenkins\n",
      "Bloodsail Admiral Galf\n",
      "Galf of Orgrimmar\n",
      "Galf of Sen'jin\n",
      "Galf of Silvermoon\n",
      "Galf of Thunder Bluff\n",
      "Galf of the Undercity\n",
      "Galf the Noble\n",
      "Crusader Galf\n",
      "Galf the Patient\n"
     ]
    }
   ],
   "source": [
    "for gfin in gfinz:\n",
    "    print gfin\n",
    "    diczid.append(gfin)"
   ]
  },
  {
   "cell_type": "code",
   "execution_count": 22,
   "metadata": {
    "collapsed": false
   },
   "outputs": [
    {
     "data": {
      "text/plain": [
       "20"
      ]
     },
     "execution_count": 22,
     "metadata": {},
     "output_type": "execute_result"
    }
   ],
   "source": [
    "len(diczid)"
   ]
  },
  {
   "cell_type": "code",
   "execution_count": 23,
   "metadata": {
    "collapsed": false
   },
   "outputs": [
    {
     "ename": "NameError",
     "evalue": "name 'random' is not defined",
     "output_type": "error",
     "traceback": [
      "\u001b[1;31m---------------------------------------------------------------------------\u001b[0m",
      "\u001b[1;31mNameError\u001b[0m                                 Traceback (most recent call last)",
      "\u001b[1;32m<ipython-input-23-d71d8af5d348>\u001b[0m in \u001b[0;36m<module>\u001b[1;34m()\u001b[0m\n\u001b[1;32m----> 1\u001b[1;33m \u001b[0mrantitle\u001b[0m \u001b[1;33m=\u001b[0m \u001b[0mrandom\u001b[0m\u001b[1;33m.\u001b[0m\u001b[0mchoice\u001b[0m\u001b[1;33m(\u001b[0m\u001b[0mdiczid\u001b[0m\u001b[1;33m)\u001b[0m\u001b[1;33m\u001b[0m\u001b[0m\n\u001b[0m",
      "\u001b[1;31mNameError\u001b[0m: name 'random' is not defined"
     ]
    }
   ],
   "source": [
    "rantitle = random.choice(diczid)"
   ]
  },
  {
   "cell_type": "code",
   "execution_count": 24,
   "metadata": {
    "collapsed": false
   },
   "outputs": [
    {
     "ename": "NameError",
     "evalue": "name 'rantitle' is not defined",
     "output_type": "error",
     "traceback": [
      "\u001b[1;31m---------------------------------------------------------------------------\u001b[0m",
      "\u001b[1;31mNameError\u001b[0m                                 Traceback (most recent call last)",
      "\u001b[1;32m<ipython-input-24-571999fc9566>\u001b[0m in \u001b[0;36m<module>\u001b[1;34m()\u001b[0m\n\u001b[1;32m----> 1\u001b[1;33m \u001b[1;32mprint\u001b[0m \u001b[0mrantitle\u001b[0m\u001b[1;33m\u001b[0m\u001b[0m\n\u001b[0m",
      "\u001b[1;31mNameError\u001b[0m: name 'rantitle' is not defined"
     ]
    }
   ],
   "source": [
    "print rantitle"
   ]
  },
  {
   "cell_type": "code",
   "execution_count": 28,
   "metadata": {
    "collapsed": false
   },
   "outputs": [
    {
     "data": {
      "text/plain": [
       "'Incarnadine Gauntlets'"
      ]
     },
     "execution_count": 28,
     "metadata": {},
     "output_type": "execute_result"
    }
   ],
   "source": [
    "gquiq.hands.name"
   ]
  },
  {
   "cell_type": "code",
   "execution_count": 25,
   "metadata": {
    "collapsed": false
   },
   "outputs": [
    {
     "data": {
      "text/plain": [
       "'{\"shoulder\": {\"stats\": [{\"stat\": 4, \"amount\": 13}, {\"stat\": 32, \"amount\": 18}, {\"stat\": 7, \"amount\": 20}], \"name\": \"Polished Spaulders of Valor\", \"tooltipParams\": {}, \"armor\": 44, \"itemLevel\": 85, \"bonusLists\": [583], \"context\": \"\", \"quality\": 7, \"id\": 122355, \"icon\": \"inv_shoulder_30\"}, \"averageItemLevelEquipped\": 403, \"averageItemLevel\": 577, \"neck\": {\"stats\": [{\"stat\": 49, \"amount\": 64}, {\"stat\": 4, \"amount\": 103}, {\"stat\": 36, \"amount\": 72}, {\"stat\": 7, \"amount\": 155}], \"name\": \"Glowing Taladite Pendant of the Feverflare\", \"tooltipParams\": {\"enchant\": 5293}, \"armor\": 0, \"itemLevel\": 640, \"bonusLists\": [121, 525, 540], \"context\": \"trade-skill\", \"quality\": 4, \"id\": 115799, \"icon\": \"inv_jewelcrafting_necklace1_red\"}, \"trinket1\": {\"stats\": [{\"stat\": 7, \"amount\": 65}], \"name\": \"Frostwolf Veteran\\'s Keepsake\", \"tooltipParams\": {}, \"armor\": 0, \"itemLevel\": 516, \"bonusLists\": [], \"context\": \"\", \"quality\": 3, \"id\": 106899, \"icon\": \"inv_jewelry_frostwolftrinket_01\"}, \"trinket2\": {\"stats\": [{\"stat\": 49, \"amount\": 103}], \"name\": \"Watch Commander Branson\\'s Lapel\", \"tooltipParams\": {}, \"armor\": 0, \"itemLevel\": 583, \"bonusLists\": [171], \"context\": \"quest-reward\", \"quality\": 3, \"id\": 114958, \"icon\": \"inv_jewelry_talisman_12\"}, \"finger2\": {\"stats\": [{\"stat\": 49, \"amount\": 26}, {\"stat\": 4, \"amount\": 36}, {\"stat\": 36, \"amount\": 22}, {\"stat\": 7, \"amount\": 54}], \"name\": \"Botani Tender\\'s Seal\", \"tooltipParams\": {}, \"armor\": 0, \"itemLevel\": 528, \"bonusLists\": [], \"context\": \"quest-reward\", \"quality\": 2, \"id\": 112859, \"icon\": \"inv_ringwod_d4_4\"}, \"finger1\": {\"stats\": [{\"stat\": 59, \"amount\": 44}, {\"stat\": 40, \"amount\": 44}, {\"stat\": 4, \"amount\": 66}, {\"stat\": 7, \"amount\": 99}], \"name\": \"Talon Guard Bloodsworn Ring\", \"tooltipParams\": {}, \"armor\": 0, \"itemLevel\": 592, \"bonusLists\": [], \"context\": \"quest-reward\", \"quality\": 3, \"id\": 118069, \"icon\": \"inv_ringwod_d3_1\"}, \"head\": {\"stats\": [{\"stat\": 4, \"amount\": 17}, {\"stat\": 36, \"amount\": 23}, {\"stat\": 7, \"amount\": 26}], \"name\": \"Polished Helm of Valor\", \"tooltipParams\": {}, \"armor\": 48, \"itemLevel\": 85, \"bonusLists\": [583], \"context\": \"\", \"quality\": 7, \"id\": 122245, \"icon\": \"inv_helmet_02\"}, \"mainHand\": {\"stats\": [{\"stat\": 49, \"amount\": 90}, {\"stat\": 32, \"amount\": 94}, {\"stat\": 4, \"amount\": 139}, {\"stat\": 7, \"amount\": 208}], \"name\": \"Greataxe of Trials\", \"tooltipParams\": {}, \"armor\": 0, \"itemLevel\": 610, \"weaponInfo\": {\"dps\": 249.44446, \"damage\": {\"max\": 1079, \"exactMin\": 718.0, \"exactMax\": 1078.0, \"min\": 718}, \"weaponSpeed\": 3.6}, \"bonusLists\": [], \"context\": \"quest-reward\", \"quality\": 3, \"id\": 119458, \"icon\": \"inv_axe_2h_draenordungeon_c_01\"}, \"back\": {\"stats\": [{\"stat\": 32, \"amount\": 7}, {\"stat\": 4, \"amount\": 10}, {\"stat\": 36, \"amount\": 7}, {\"stat\": 7, \"amount\": 15}], \"name\": \"Worn Stoneskin Gargoyle Cape\", \"tooltipParams\": {}, \"armor\": 7, \"itemLevel\": 85, \"bonusLists\": [583], \"context\": \"vendor\", \"quality\": 7, \"id\": 122260, \"icon\": \"inv_misc_cape_19\"}, \"feet\": {\"stats\": [{\"stat\": 32, \"amount\": 36}, {\"stat\": 49, \"amount\": 36}, {\"stat\": 74, \"amount\": 55}, {\"stat\": 7, \"amount\": 82}], \"name\": \"Foundry-Fired Plate Warboots\", \"tooltipParams\": {}, \"armor\": 96, \"itemLevel\": 541, \"bonusLists\": [171], \"context\": \"quest-reward\", \"quality\": 3, \"id\": 112591, \"icon\": \"inv_plate_draenorquest90_b_01boot\"}, \"chest\": {\"stats\": [{\"stat\": 4, \"amount\": 17}, {\"stat\": 32, \"amount\": 23}, {\"stat\": 7, \"amount\": 26}], \"name\": \"Polished Breastplate of Valor\", \"tooltipParams\": {}, \"armor\": 59, \"itemLevel\": 85, \"bonusLists\": [583], \"context\": \"\", \"quality\": 7, \"id\": 122381, \"icon\": \"inv_chest_plate03\"}, \"wrist\": {\"stats\": [{\"stat\": 32, \"amount\": 12}, {\"stat\": 49, \"amount\": 12}, {\"stat\": 4, \"amount\": 18}, {\"stat\": 7, \"amount\": 28}], \"name\": \"Wallwatcher Bracers\", \"tooltipParams\": {}, \"armor\": 36, \"itemLevel\": 434, \"bonusLists\": [], \"context\": \"quest-reward\", \"quality\": 3, \"id\": 82558, \"icon\": \"inv_bracer_plate_panda_b_02yellow\"}, \"hands\": {\"stats\": [{\"stat\": 32, \"amount\": 48}, {\"stat\": 49, \"amount\": 72}, {\"stat\": 74, \"amount\": 95}, {\"stat\": 7, \"amount\": 142}], \"name\": \"Incarnadine Gauntlets\", \"tooltipParams\": {}, \"armor\": 181, \"itemLevel\": 600, \"bonusLists\": [521], \"context\": \"dungeon-level-up-4\", \"quality\": 3, \"id\": 109856, \"icon\": \"inv_glove_plate_draenordungeon_c_01\"}, \"tabard\": {\"stats\": [], \"name\": \"Argent Crusader\\'s Tabard\", \"tooltipParams\": {}, \"armor\": 0, \"itemLevel\": 1, \"bonusLists\": [], \"context\": \"\", \"quality\": 3, \"id\": 46874, \"icon\": \"inv_shirt_guildtabard_01\"}, \"legs\": {\"stats\": [{\"stat\": 32, \"amount\": 12}, {\"stat\": 4, \"amount\": 17}, {\"stat\": 36, \"amount\": 12}, {\"stat\": 7, \"amount\": 26}], \"name\": \"Polished Legplates of Valor\", \"tooltipParams\": {}, \"armor\": 52, \"itemLevel\": 85, \"bonusLists\": [583], \"context\": \"vendor\", \"quality\": 7, \"id\": 122251, \"icon\": \"inv_pants_04\"}, \"waist\": {\"stats\": [{\"stat\": 59, \"amount\": 51}, {\"stat\": 32, \"amount\": 55}, {\"stat\": 74, \"amount\": 80}, {\"stat\": 7, \"amount\": 120}], \"name\": \"Cragplate Girdle\", \"tooltipParams\": {}, \"armor\": 130, \"itemLevel\": 582, \"bonusLists\": [171], \"context\": \"quest-reward\", \"quality\": 3, \"id\": 114736, \"icon\": \"inv_belt_plate_draenorquest95_b_01\"}}'"
      ]
     },
     "execution_count": 25,
     "metadata": {},
     "output_type": "execute_result"
    }
   ],
   "source": [
    "gquiq.to_json()"
   ]
  },
  {
   "cell_type": "code",
   "execution_count": 29,
   "metadata": {
    "collapsed": false
   },
   "outputs": [
    {
     "ename": "NameError",
     "evalue": "name 'rantitle' is not defined",
     "output_type": "error",
     "traceback": [
      "\u001b[1;31m---------------------------------------------------------------------------\u001b[0m",
      "\u001b[1;31mNameError\u001b[0m                                 Traceback (most recent call last)",
      "\u001b[1;32m<ipython-input-29-3df1ce959d1a>\u001b[0m in \u001b[0;36m<module>\u001b[1;34m()\u001b[0m\n\u001b[0;32m      8\u001b[0m     \u001b[1;32mwith\u001b[0m \u001b[0mdiv\u001b[0m\u001b[1;33m(\u001b[0m\u001b[1;33m)\u001b[0m\u001b[1;33m:\u001b[0m\u001b[1;33m\u001b[0m\u001b[0m\n\u001b[0;32m      9\u001b[0m         \u001b[0mattr\u001b[0m\u001b[1;33m(\u001b[0m\u001b[0mcls\u001b[0m\u001b[1;33m=\u001b[0m\u001b[1;34m'header'\u001b[0m\u001b[1;33m)\u001b[0m\u001b[1;33m\u001b[0m\u001b[0m\n\u001b[1;32m---> 10\u001b[1;33m         \u001b[0mh1\u001b[0m\u001b[1;33m(\u001b[0m\u001b[0mrantitle\u001b[0m\u001b[1;33m)\u001b[0m\u001b[1;33m\u001b[0m\u001b[0m\n\u001b[0m\u001b[0;32m     11\u001b[0m         \u001b[0mp\u001b[0m\u001b[1;33m(\u001b[0m\u001b[0mimg\u001b[0m\u001b[1;33m(\u001b[0m\u001b[1;34m'/imgs/getsdrawn-bw.png'\u001b[0m\u001b[1;33m,\u001b[0m \u001b[0msrc\u001b[0m\u001b[1;33m=\u001b[0m\u001b[1;34m'/imgs/getsdrawn-bw.png'\u001b[0m\u001b[1;33m)\u001b[0m\u001b[1;33m)\u001b[0m\u001b[1;33m\u001b[0m\u001b[0m\n\u001b[0;32m     12\u001b[0m         \u001b[1;31m#p(img('imgs/15/01/02/ReptileLover82-reference.png', src= 'imgs/15/01/02/ReptileLover82-reference.png'))\u001b[0m\u001b[1;33m\u001b[0m\u001b[1;33m\u001b[0m\u001b[0m\n",
      "\u001b[1;31mNameError\u001b[0m: name 'rantitle' is not defined"
     ]
    }
   ],
   "source": [
    "doc = dominate.document(title='garrisonwowtrack')\n",
    "\n",
    "with doc.head:\n",
    "    link(rel='stylesheet', href='style.css')\n",
    "    script(type ='text/javascript', src='script.js')\n",
    "    #str(str2)\n",
    "    \n",
    "    with div():\n",
    "        attr(cls='header')\n",
    "        h1(rantitle)\n",
    "        p(img('/imgs/getsdrawn-bw.png', src='/imgs/getsdrawn-bw.png'))\n",
    "        #p(img('imgs/15/01/02/ReptileLover82-reference.png', src= 'imgs/15/01/02/ReptileLover82-reference.png'))\n",
    "        h1('Updated ', str(artes.datetime))\n",
    "        #p(panz)\n",
    "        #p(bodycom)\n",
    "    \n",
    "    \n",
    "'''\n",
    "with doc:\n",
    "    with div(id='body').add(ol()):\n",
    "        for flc in fulcom:\n",
    "            if 'http://i.imgur.com' in flc.url:\n",
    "                p(h1(flc.title))\n",
    "                p(img(imlocdir, src= imlocdir))\n",
    "                #p(img(flc.url, src = flc.url))\n",
    "                p(str(flc.author))\n",
    "                #res = requests.get(flc.url, stream=True)\n",
    "                #with open(str(flc.author) + '-' + str(artes.date()) + '-reference.png', 'wb') as outfil:\n",
    "                #    shutil.copyfileobj(res.raw, outfil)\n",
    "                #    del res\n",
    "                \n",
    "                \n",
    "            \n",
    "        for flcz in flc.comments:\n",
    "                p(flcz.body)\n",
    "        \n",
    "        \n",
    "        #for rdz in reliz:\n",
    "            #h1(rdz.title)\n",
    "            #a(rdz.url)\n",
    "            #p(img(rdz, src='%s' % rdz))\n",
    "            #print rdz\n",
    "            #p(img(rdz, src = rdz))\n",
    "            #p(rdz)\n",
    "\n",
    "\n",
    "                \n",
    "            #print rdz.url\n",
    "            #if '.jpg' in rdz.url:\n",
    "            #    img(rdz.urlz)\n",
    "            #else:\n",
    "            #    a(rdz.urlz)\n",
    "            #h1(str(rdz.author))\n",
    "            \n",
    "            #li(img(i.lower(), src='%s' % i))\n",
    "\n",
    "    with div():\n",
    "        attr(cls='body')\n",
    "        p('GotDrawn is open source')\n",
    "        a('https://github.com/getsdrawn/getsdrawndotcom')\n",
    "        a('https://reddit.com/r/redditgetsdrawn')\n",
    "'''\n",
    "print doc"
   ]
  },
  {
   "cell_type": "code",
   "execution_count": null,
   "metadata": {
    "collapsed": true
   },
   "outputs": [],
   "source": []
  }
 ],
 "metadata": {
  "kernelspec": {
   "display_name": "Python 2",
   "name": "python2"
  },
  "language_info": {
   "codemirror_mode": {
    "name": "ipython",
    "version": 2
   },
   "file_extension": ".py",
   "mimetype": "text/x-python",
   "name": "python",
   "nbconvert_exporter": "python",
   "pygments_lexer": "ipython2",
   "version": "2.7.9"
  }
 },
 "nbformat": 4,
 "nbformat_minor": 0
}
