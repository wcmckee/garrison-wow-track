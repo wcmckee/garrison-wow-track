{
 "cells": [
  {
   "cell_type": "markdown",
   "metadata": {},
   "source": [
    "<h1>GarrissonWow</h1>\n",
    "\n",
    "Script to get world of warcraft data and display it in a website."
   ]
  },
  {
   "cell_type": "code",
   "execution_count": 27,
   "metadata": {
    "collapsed": false
   },
   "outputs": [],
   "source": [
    "import battlenet\n",
    "import dominate\n",
    "from dominate.tags import * \n",
    "import json\n",
    "import arrow\n",
    "import requests"
   ]
  },
  {
   "cell_type": "code",
   "execution_count": 28,
   "metadata": {
    "collapsed": false
   },
   "outputs": [],
   "source": [
    "import datetime"
   ]
  },
  {
   "cell_type": "code",
   "execution_count": 29,
   "metadata": {
    "collapsed": false
   },
   "outputs": [],
   "source": [
    "from battlenet import Character\n"
   ]
  },
  {
   "cell_type": "code",
   "execution_count": 30,
   "metadata": {
    "collapsed": false
   },
   "outputs": [],
   "source": [
    "from battlenet import Realm"
   ]
  },
  {
   "cell_type": "code",
   "execution_count": 14,
   "metadata": {
    "collapsed": true
   },
   "outputs": [],
   "source": [
    "#Realm.to_json()"
   ]
  },
  {
   "cell_type": "code",
   "execution_count": 15,
   "metadata": {
    "collapsed": true
   },
   "outputs": [],
   "source": [
    "realm = Realm(battlenet.UNITED_STATES, \"jubei'thos\")"
   ]
  },
  {
   "cell_type": "code",
   "execution_count": 16,
   "metadata": {
    "collapsed": true
   },
   "outputs": [
    {
     "data": {
      "text/plain": [
       "<Realm: Jubei'Thos(US)>"
      ]
     },
     "execution_count": 16,
     "metadata": {},
     "output_type": "execute_result"
    }
   ],
   "source": [
    "realm"
   ]
  },
  {
   "cell_type": "code",
   "execution_count": 17,
   "metadata": {
    "collapsed": true
   },
   "outputs": [
    {
     "name": "stdout",
     "output_type": "stream",
     "text": [
      "True\n"
     ]
    }
   ],
   "source": [
    "print realm.is_online()"
   ]
  },
  {
   "cell_type": "code",
   "execution_count": 18,
   "metadata": {
    "collapsed": true
   },
   "outputs": [
    {
     "name": "stdout",
     "output_type": "stream",
     "text": [
      "{\"status\": true, \"wintergrasp\": {\"status\": 0, \"next\": 1435814838442, \"controlling-faction\": 0, \"area\": 1}, \"battlegroup\": \"AU/NZ Battle Group\", \"name\": \"Jubei'Thos\", \"tol-barad\": {\"status\": 0, \"next\": 1435813897791, \"controlling-faction\": 1, \"area\": 21}, \"locale\": \"en_US\", \"queue\": false, \"connected_realms\": [\"gundrak\", \"jubeithos\", \"internal-record-3697\"], \"timezone\": \"Australia/Melbourne\", \"type\": \"pvp\", \"slug\": \"jubeithos\", \"population\": \"low\"}\n"
     ]
    }
   ],
   "source": [
    "print realm.to_json()"
   ]
  },
  {
   "cell_type": "code",
   "execution_count": 19,
   "metadata": {
    "collapsed": true
   },
   "outputs": [],
   "source": [
    "rejs = json.loads(realm.to_json())"
   ]
  },
  {
   "cell_type": "code",
   "execution_count": 20,
   "metadata": {
    "collapsed": true
   },
   "outputs": [
    {
     "data": {
      "text/plain": [
       "{u'battlegroup': u'AU/NZ Battle Group',\n",
       " u'connected_realms': [u'gundrak', u'jubeithos', u'internal-record-3697'],\n",
       " u'locale': u'en_US',\n",
       " u'name': u\"Jubei'Thos\",\n",
       " u'population': u'low',\n",
       " u'queue': False,\n",
       " u'slug': u'jubeithos',\n",
       " u'status': True,\n",
       " u'timezone': u'Australia/Melbourne',\n",
       " u'tol-barad': {u'area': 21,\n",
       "  u'controlling-faction': 1,\n",
       "  u'next': 1435813897791L,\n",
       "  u'status': 0},\n",
       " u'type': u'pvp',\n",
       " u'wintergrasp': {u'area': 1,\n",
       "  u'controlling-faction': 0,\n",
       "  u'next': 1435814838442L,\n",
       "  u'status': 0}}"
      ]
     },
     "execution_count": 20,
     "metadata": {},
     "output_type": "execute_result"
    }
   ],
   "source": [
    "rejs"
   ]
  },
  {
   "cell_type": "code",
   "execution_count": 21,
   "metadata": {
    "collapsed": true
   },
   "outputs": [],
   "source": [
    "rtza = rejs['timezone']"
   ]
  },
  {
   "cell_type": "code",
   "execution_count": 23,
   "metadata": {
    "collapsed": true
   },
   "outputs": [
    {
     "ename": "ParserError",
     "evalue": "Could not match input to any of ['YYYY-MM-DD', 'YYYY-MM', 'YYYY'] on 'US/Pacific'",
     "output_type": "error",
     "traceback": [
      "\u001b[1;31m---------------------------------------------------------------------------\u001b[0m",
      "\u001b[1;31mParserError\u001b[0m                               Traceback (most recent call last)",
      "\u001b[1;32m<ipython-input-23-c1d111b94fc4>\u001b[0m in \u001b[0;36m<module>\u001b[1;34m()\u001b[0m\n\u001b[1;32m----> 1\u001b[1;33m \u001b[0marrow\u001b[0m\u001b[1;33m.\u001b[0m\u001b[0mget\u001b[0m\u001b[1;33m(\u001b[0m\u001b[1;34m'US/Pacific'\u001b[0m\u001b[1;33m)\u001b[0m\u001b[1;33m\u001b[0m\u001b[0m\n\u001b[0m",
      "\u001b[1;32m/usr/local/lib/python2.7/dist-packages/arrow/api.pyc\u001b[0m in \u001b[0;36mget\u001b[1;34m(*args, **kwargs)\u001b[0m\n\u001b[0;32m     21\u001b[0m     '''\n\u001b[0;32m     22\u001b[0m \u001b[1;33m\u001b[0m\u001b[0m\n\u001b[1;32m---> 23\u001b[1;33m     \u001b[1;32mreturn\u001b[0m \u001b[0m_factory\u001b[0m\u001b[1;33m.\u001b[0m\u001b[0mget\u001b[0m\u001b[1;33m(\u001b[0m\u001b[1;33m*\u001b[0m\u001b[0margs\u001b[0m\u001b[1;33m,\u001b[0m \u001b[1;33m**\u001b[0m\u001b[0mkwargs\u001b[0m\u001b[1;33m)\u001b[0m\u001b[1;33m\u001b[0m\u001b[0m\n\u001b[0m\u001b[0;32m     24\u001b[0m \u001b[1;33m\u001b[0m\u001b[0m\n\u001b[0;32m     25\u001b[0m \u001b[1;32mdef\u001b[0m \u001b[0mutcnow\u001b[0m\u001b[1;33m(\u001b[0m\u001b[1;33m)\u001b[0m\u001b[1;33m:\u001b[0m\u001b[1;33m\u001b[0m\u001b[0m\n",
      "\u001b[1;32m/usr/local/lib/python2.7/dist-packages/arrow/factory.pyc\u001b[0m in \u001b[0;36mget\u001b[1;34m(self, *args, **kwargs)\u001b[0m\n\u001b[0;32m    161\u001b[0m             \u001b[1;31m# (str) -> now, @ tzinfo.\u001b[0m\u001b[1;33m\u001b[0m\u001b[1;33m\u001b[0m\u001b[0m\n\u001b[0;32m    162\u001b[0m             \u001b[1;32melif\u001b[0m \u001b[0misstr\u001b[0m\u001b[1;33m(\u001b[0m\u001b[0marg\u001b[0m\u001b[1;33m)\u001b[0m\u001b[1;33m:\u001b[0m\u001b[1;33m\u001b[0m\u001b[0m\n\u001b[1;32m--> 163\u001b[1;33m                 \u001b[0mdt\u001b[0m \u001b[1;33m=\u001b[0m \u001b[0mparser\u001b[0m\u001b[1;33m.\u001b[0m\u001b[0mDateTimeParser\u001b[0m\u001b[1;33m(\u001b[0m\u001b[0mlocale\u001b[0m\u001b[1;33m)\u001b[0m\u001b[1;33m.\u001b[0m\u001b[0mparse_iso\u001b[0m\u001b[1;33m(\u001b[0m\u001b[0marg\u001b[0m\u001b[1;33m)\u001b[0m\u001b[1;33m\u001b[0m\u001b[0m\n\u001b[0m\u001b[0;32m    164\u001b[0m                 \u001b[1;32mreturn\u001b[0m \u001b[0mself\u001b[0m\u001b[1;33m.\u001b[0m\u001b[0mtype\u001b[0m\u001b[1;33m.\u001b[0m\u001b[0mfromdatetime\u001b[0m\u001b[1;33m(\u001b[0m\u001b[0mdt\u001b[0m\u001b[1;33m)\u001b[0m\u001b[1;33m\u001b[0m\u001b[0m\n\u001b[0;32m    165\u001b[0m \u001b[1;33m\u001b[0m\u001b[0m\n",
      "\u001b[1;32m/usr/local/lib/python2.7/dist-packages/arrow/parser.pyc\u001b[0m in \u001b[0;36mparse_iso\u001b[1;34m(self, string)\u001b[0m\n\u001b[0;32m     98\u001b[0m             \u001b[0mformats\u001b[0m \u001b[1;33m=\u001b[0m \u001b[1;33m[\u001b[0m\u001b[0mitem\u001b[0m\u001b[1;33m.\u001b[0m\u001b[0mreplace\u001b[0m\u001b[1;33m(\u001b[0m\u001b[1;34m'T'\u001b[0m\u001b[1;33m,\u001b[0m \u001b[1;34m' '\u001b[0m\u001b[1;33m,\u001b[0m \u001b[1;36m1\u001b[0m\u001b[1;33m)\u001b[0m \u001b[1;32mfor\u001b[0m \u001b[0mitem\u001b[0m \u001b[1;32min\u001b[0m \u001b[0mformats\u001b[0m\u001b[1;33m]\u001b[0m\u001b[1;33m\u001b[0m\u001b[0m\n\u001b[0;32m     99\u001b[0m \u001b[1;33m\u001b[0m\u001b[0m\n\u001b[1;32m--> 100\u001b[1;33m         \u001b[1;32mreturn\u001b[0m \u001b[0mself\u001b[0m\u001b[1;33m.\u001b[0m\u001b[0m_parse_multiformat\u001b[0m\u001b[1;33m(\u001b[0m\u001b[0mstring\u001b[0m\u001b[1;33m,\u001b[0m \u001b[0mformats\u001b[0m\u001b[1;33m)\u001b[0m\u001b[1;33m\u001b[0m\u001b[0m\n\u001b[0m\u001b[0;32m    101\u001b[0m \u001b[1;33m\u001b[0m\u001b[0m\n\u001b[0;32m    102\u001b[0m     \u001b[1;32mdef\u001b[0m \u001b[0mparse\u001b[0m\u001b[1;33m(\u001b[0m\u001b[0mself\u001b[0m\u001b[1;33m,\u001b[0m \u001b[0mstring\u001b[0m\u001b[1;33m,\u001b[0m \u001b[0mfmt\u001b[0m\u001b[1;33m)\u001b[0m\u001b[1;33m:\u001b[0m\u001b[1;33m\u001b[0m\u001b[0m\n",
      "\u001b[1;32m/usr/local/lib/python2.7/dist-packages/arrow/parser.pyc\u001b[0m in \u001b[0;36m_parse_multiformat\u001b[1;34m(self, string, formats)\u001b[0m\n\u001b[0;32m    240\u001b[0m \u001b[1;33m\u001b[0m\u001b[0m\n\u001b[0;32m    241\u001b[0m         \u001b[1;32mif\u001b[0m \u001b[0m_datetime\u001b[0m \u001b[1;32mis\u001b[0m \u001b[0mNone\u001b[0m\u001b[1;33m:\u001b[0m\u001b[1;33m\u001b[0m\u001b[0m\n\u001b[1;32m--> 242\u001b[1;33m             \u001b[1;32mraise\u001b[0m \u001b[0mParserError\u001b[0m\u001b[1;33m(\u001b[0m\u001b[1;34m'Could not match input to any of {0} on \\'{1}\\''\u001b[0m\u001b[1;33m.\u001b[0m\u001b[0mformat\u001b[0m\u001b[1;33m(\u001b[0m\u001b[0mformats\u001b[0m\u001b[1;33m,\u001b[0m \u001b[0mstring\u001b[0m\u001b[1;33m)\u001b[0m\u001b[1;33m)\u001b[0m\u001b[1;33m\u001b[0m\u001b[0m\n\u001b[0m\u001b[0;32m    243\u001b[0m \u001b[1;33m\u001b[0m\u001b[0m\n\u001b[0;32m    244\u001b[0m         \u001b[1;32mreturn\u001b[0m \u001b[0m_datetime\u001b[0m\u001b[1;33m\u001b[0m\u001b[0m\n",
      "\u001b[1;31mParserError\u001b[0m: Could not match input to any of ['YYYY-MM-DD', 'YYYY-MM', 'YYYY'] on 'US/Pacific'"
     ]
    }
   ],
   "source": [
    "arrow.get('US/Pacific')"
   ]
  },
  {
   "cell_type": "code",
   "execution_count": 24,
   "metadata": {
    "collapsed": true
   },
   "outputs": [
    {
     "ename": "ParserError",
     "evalue": "Could not match input to any of ['YYYY-MM-DD', 'YYYY-MM', 'YYYY'] on 'Australia/Melbourne'",
     "output_type": "error",
     "traceback": [
      "\u001b[1;31m---------------------------------------------------------------------------\u001b[0m",
      "\u001b[1;31mParserError\u001b[0m                               Traceback (most recent call last)",
      "\u001b[1;32m<ipython-input-24-dae548da2386>\u001b[0m in \u001b[0;36m<module>\u001b[1;34m()\u001b[0m\n\u001b[1;32m----> 1\u001b[1;33m \u001b[0marrow\u001b[0m\u001b[1;33m.\u001b[0m\u001b[0mget\u001b[0m\u001b[1;33m(\u001b[0m\u001b[0mrtza\u001b[0m\u001b[1;33m)\u001b[0m\u001b[1;33m\u001b[0m\u001b[0m\n\u001b[0m",
      "\u001b[1;32m/usr/local/lib/python2.7/dist-packages/arrow/api.pyc\u001b[0m in \u001b[0;36mget\u001b[1;34m(*args, **kwargs)\u001b[0m\n\u001b[0;32m     21\u001b[0m     '''\n\u001b[0;32m     22\u001b[0m \u001b[1;33m\u001b[0m\u001b[0m\n\u001b[1;32m---> 23\u001b[1;33m     \u001b[1;32mreturn\u001b[0m \u001b[0m_factory\u001b[0m\u001b[1;33m.\u001b[0m\u001b[0mget\u001b[0m\u001b[1;33m(\u001b[0m\u001b[1;33m*\u001b[0m\u001b[0margs\u001b[0m\u001b[1;33m,\u001b[0m \u001b[1;33m**\u001b[0m\u001b[0mkwargs\u001b[0m\u001b[1;33m)\u001b[0m\u001b[1;33m\u001b[0m\u001b[0m\n\u001b[0m\u001b[0;32m     24\u001b[0m \u001b[1;33m\u001b[0m\u001b[0m\n\u001b[0;32m     25\u001b[0m \u001b[1;32mdef\u001b[0m \u001b[0mutcnow\u001b[0m\u001b[1;33m(\u001b[0m\u001b[1;33m)\u001b[0m\u001b[1;33m:\u001b[0m\u001b[1;33m\u001b[0m\u001b[0m\n",
      "\u001b[1;32m/usr/local/lib/python2.7/dist-packages/arrow/factory.pyc\u001b[0m in \u001b[0;36mget\u001b[1;34m(self, *args, **kwargs)\u001b[0m\n\u001b[0;32m    161\u001b[0m             \u001b[1;31m# (str) -> now, @ tzinfo.\u001b[0m\u001b[1;33m\u001b[0m\u001b[1;33m\u001b[0m\u001b[0m\n\u001b[0;32m    162\u001b[0m             \u001b[1;32melif\u001b[0m \u001b[0misstr\u001b[0m\u001b[1;33m(\u001b[0m\u001b[0marg\u001b[0m\u001b[1;33m)\u001b[0m\u001b[1;33m:\u001b[0m\u001b[1;33m\u001b[0m\u001b[0m\n\u001b[1;32m--> 163\u001b[1;33m                 \u001b[0mdt\u001b[0m \u001b[1;33m=\u001b[0m \u001b[0mparser\u001b[0m\u001b[1;33m.\u001b[0m\u001b[0mDateTimeParser\u001b[0m\u001b[1;33m(\u001b[0m\u001b[0mlocale\u001b[0m\u001b[1;33m)\u001b[0m\u001b[1;33m.\u001b[0m\u001b[0mparse_iso\u001b[0m\u001b[1;33m(\u001b[0m\u001b[0marg\u001b[0m\u001b[1;33m)\u001b[0m\u001b[1;33m\u001b[0m\u001b[0m\n\u001b[0m\u001b[0;32m    164\u001b[0m                 \u001b[1;32mreturn\u001b[0m \u001b[0mself\u001b[0m\u001b[1;33m.\u001b[0m\u001b[0mtype\u001b[0m\u001b[1;33m.\u001b[0m\u001b[0mfromdatetime\u001b[0m\u001b[1;33m(\u001b[0m\u001b[0mdt\u001b[0m\u001b[1;33m)\u001b[0m\u001b[1;33m\u001b[0m\u001b[0m\n\u001b[0;32m    165\u001b[0m \u001b[1;33m\u001b[0m\u001b[0m\n",
      "\u001b[1;32m/usr/local/lib/python2.7/dist-packages/arrow/parser.pyc\u001b[0m in \u001b[0;36mparse_iso\u001b[1;34m(self, string)\u001b[0m\n\u001b[0;32m     98\u001b[0m             \u001b[0mformats\u001b[0m \u001b[1;33m=\u001b[0m \u001b[1;33m[\u001b[0m\u001b[0mitem\u001b[0m\u001b[1;33m.\u001b[0m\u001b[0mreplace\u001b[0m\u001b[1;33m(\u001b[0m\u001b[1;34m'T'\u001b[0m\u001b[1;33m,\u001b[0m \u001b[1;34m' '\u001b[0m\u001b[1;33m,\u001b[0m \u001b[1;36m1\u001b[0m\u001b[1;33m)\u001b[0m \u001b[1;32mfor\u001b[0m \u001b[0mitem\u001b[0m \u001b[1;32min\u001b[0m \u001b[0mformats\u001b[0m\u001b[1;33m]\u001b[0m\u001b[1;33m\u001b[0m\u001b[0m\n\u001b[0;32m     99\u001b[0m \u001b[1;33m\u001b[0m\u001b[0m\n\u001b[1;32m--> 100\u001b[1;33m         \u001b[1;32mreturn\u001b[0m \u001b[0mself\u001b[0m\u001b[1;33m.\u001b[0m\u001b[0m_parse_multiformat\u001b[0m\u001b[1;33m(\u001b[0m\u001b[0mstring\u001b[0m\u001b[1;33m,\u001b[0m \u001b[0mformats\u001b[0m\u001b[1;33m)\u001b[0m\u001b[1;33m\u001b[0m\u001b[0m\n\u001b[0m\u001b[0;32m    101\u001b[0m \u001b[1;33m\u001b[0m\u001b[0m\n\u001b[0;32m    102\u001b[0m     \u001b[1;32mdef\u001b[0m \u001b[0mparse\u001b[0m\u001b[1;33m(\u001b[0m\u001b[0mself\u001b[0m\u001b[1;33m,\u001b[0m \u001b[0mstring\u001b[0m\u001b[1;33m,\u001b[0m \u001b[0mfmt\u001b[0m\u001b[1;33m)\u001b[0m\u001b[1;33m:\u001b[0m\u001b[1;33m\u001b[0m\u001b[0m\n",
      "\u001b[1;32m/usr/local/lib/python2.7/dist-packages/arrow/parser.pyc\u001b[0m in \u001b[0;36m_parse_multiformat\u001b[1;34m(self, string, formats)\u001b[0m\n\u001b[0;32m    240\u001b[0m \u001b[1;33m\u001b[0m\u001b[0m\n\u001b[0;32m    241\u001b[0m         \u001b[1;32mif\u001b[0m \u001b[0m_datetime\u001b[0m \u001b[1;32mis\u001b[0m \u001b[0mNone\u001b[0m\u001b[1;33m:\u001b[0m\u001b[1;33m\u001b[0m\u001b[0m\n\u001b[1;32m--> 242\u001b[1;33m             \u001b[1;32mraise\u001b[0m \u001b[0mParserError\u001b[0m\u001b[1;33m(\u001b[0m\u001b[1;34m'Could not match input to any of {0} on \\'{1}\\''\u001b[0m\u001b[1;33m.\u001b[0m\u001b[0mformat\u001b[0m\u001b[1;33m(\u001b[0m\u001b[0mformats\u001b[0m\u001b[1;33m,\u001b[0m \u001b[0mstring\u001b[0m\u001b[1;33m)\u001b[0m\u001b[1;33m)\u001b[0m\u001b[1;33m\u001b[0m\u001b[0m\n\u001b[0m\u001b[0;32m    243\u001b[0m \u001b[1;33m\u001b[0m\u001b[0m\n\u001b[0;32m    244\u001b[0m         \u001b[1;32mreturn\u001b[0m \u001b[0m_datetime\u001b[0m\u001b[1;33m\u001b[0m\u001b[0m\n",
      "\u001b[1;31mParserError\u001b[0m: Could not match input to any of ['YYYY-MM-DD', 'YYYY-MM', 'YYYY'] on 'Australia/Melbourne'"
     ]
    }
   ],
   "source": [
    "arrow.get(rtza)"
   ]
  },
  {
   "cell_type": "code",
   "execution_count": 25,
   "metadata": {
    "collapsed": true
   },
   "outputs": [
    {
     "data": {
      "text/plain": [
       "'jubeithos'"
      ]
     },
     "execution_count": 25,
     "metadata": {},
     "output_type": "execute_result"
    }
   ],
   "source": [
    "realm.slug"
   ]
  },
  {
   "cell_type": "code",
   "execution_count": 26,
   "metadata": {
    "collapsed": true
   },
   "outputs": [
    {
     "data": {
      "text/plain": [
       "'low'"
      ]
     },
     "execution_count": 26,
     "metadata": {},
     "output_type": "execute_result"
    }
   ],
   "source": [
    "realm.population"
   ]
  },
  {
   "cell_type": "code",
   "execution_count": 27,
   "metadata": {
    "collapsed": true
   },
   "outputs": [
    {
     "data": {
      "text/plain": [
       "'pvp'"
      ]
     },
     "execution_count": 27,
     "metadata": {},
     "output_type": "execute_result"
    }
   ],
   "source": [
    "realm.type"
   ]
  },
  {
   "cell_type": "code",
   "execution_count": 28,
   "metadata": {
    "collapsed": true
   },
   "outputs": [
    {
     "data": {
      "text/plain": [
       "True"
      ]
     },
     "execution_count": 28,
     "metadata": {},
     "output_type": "execute_result"
    }
   ],
   "source": [
    "realm.status"
   ]
  },
  {
   "cell_type": "code",
   "execution_count": 29,
   "metadata": {
    "collapsed": true
   },
   "outputs": [
    {
     "ename": "TypeError",
     "evalue": "'instancemethod' object has no attribute '__getitem__'",
     "output_type": "error",
     "traceback": [
      "\u001b[1;31m---------------------------------------------------------------------------\u001b[0m",
      "\u001b[1;31mTypeError\u001b[0m                                 Traceback (most recent call last)",
      "\u001b[1;32m<ipython-input-29-f19f8060be5d>\u001b[0m in \u001b[0;36m<module>\u001b[1;34m()\u001b[0m\n\u001b[1;32m----> 1\u001b[1;33m \u001b[0mrelmjs\u001b[0m \u001b[1;33m=\u001b[0m \u001b[0mrealm\u001b[0m\u001b[1;33m.\u001b[0m\u001b[0mto_json\u001b[0m\u001b[1;33m[\u001b[0m\u001b[1;34m'timezone'\u001b[0m\u001b[1;33m]\u001b[0m\u001b[1;33m\u001b[0m\u001b[0m\n\u001b[0m",
      "\u001b[1;31mTypeError\u001b[0m: 'instancemethod' object has no attribute '__getitem__'"
     ]
    }
   ],
   "source": [
    "relmjs = realm.to_json['timezone']"
   ]
  },
  {
   "cell_type": "code",
   "execution_count": 30,
   "metadata": {
    "collapsed": true
   },
   "outputs": [],
   "source": [
    "#charget = battlenet."
   ]
  },
  {
   "cell_type": "markdown",
   "metadata": {},
   "source": [
    "inpd character name input ut realm an."
   ]
  },
  {
   "cell_type": "code",
   "execution_count": 32,
   "metadata": {
    "collapsed": true
   },
   "outputs": [
    {
     "name": "stdout",
     "output_type": "stream",
     "text": [
      "Enter US realm name: saurfang\n",
      "Enter character: portishead\n"
     ]
    }
   ],
   "source": [
    "lookuprealm = raw_input(\"Enter US realm name: \")\n",
    "\n",
    "lookupchar = raw_input(\"Enter character: \")"
   ]
  },
  {
   "cell_type": "code",
   "execution_count": 33,
   "metadata": {
    "collapsed": true
   },
   "outputs": [],
   "source": [
    "bookchar = Character(battlenet.UNITED_STATES, lookuprealm, lookupchar)"
   ]
  },
  {
   "cell_type": "code",
   "execution_count": 34,
   "metadata": {
    "collapsed": true
   },
   "outputs": [],
   "source": [
    "bospnam = bookchar.get_spec_name"
   ]
  },
  {
   "cell_type": "code",
   "execution_count": 35,
   "metadata": {
    "collapsed": true
   },
   "outputs": [
    {
     "data": {
      "text/plain": [
       "8175"
      ]
     },
     "execution_count": 35,
     "metadata": {},
     "output_type": "execute_result"
    }
   ],
   "source": [
    "bookchar.achievement_points"
   ]
  },
  {
   "cell_type": "code",
   "execution_count": 38,
   "metadata": {
    "collapsed": true
   },
   "outputs": [],
   "source": [
    "bokjs = bookchar.to_json()"
   ]
  },
  {
   "cell_type": "code",
   "execution_count": 39,
   "metadata": {
    "collapsed": false
   },
   "outputs": [],
   "source": [
    "import json"
   ]
  },
  {
   "cell_type": "code",
   "execution_count": 41,
   "metadata": {
    "collapsed": true
   },
   "outputs": [],
   "source": [
    "bokjsz = json.loads(bokjs)"
   ]
  },
  {
   "cell_type": "code",
   "execution_count": null,
   "metadata": {
    "collapsed": false
   },
   "outputs": [],
   "source": []
  },
  {
   "cell_type": "code",
   "execution_count": 44,
   "metadata": {
    "collapsed": true
   },
   "outputs": [],
   "source": [
    "bokjst = bokjsz['stats']"
   ]
  },
  {
   "cell_type": "code",
   "execution_count": 48,
   "metadata": {
    "collapsed": true
   },
   "outputs": [],
   "source": [
    "bokza = bokjst.keys()"
   ]
  },
  {
   "cell_type": "code",
   "execution_count": null,
   "metadata": {
    "collapsed": false
   },
   "outputs": [],
   "source": []
  },
  {
   "cell_type": "code",
   "execution_count": 51,
   "metadata": {
    "collapsed": true
   },
   "outputs": [
    {
     "name": "stdout",
     "output_type": "stream",
     "text": [
      "bonusArmor\n",
      "109\n",
      "critRating\n",
      "855\n",
      "powerType\n",
      "runic-power\n",
      "multistrikeRating\n",
      "14.121212\n",
      "mainHandDps\n",
      "2041.5823\n",
      "int\n",
      "572\n",
      "leechRatingBonus\n",
      "0.0\n",
      "spr\n",
      "640\n",
      "spellCritRating\n",
      "855\n",
      "avoidanceRating\n",
      "0.0\n",
      "spellPower\n",
      "572\n",
      "rangedDps\n",
      "-1.0\n",
      "leechRating\n",
      "0.0\n",
      "crit\n",
      "12.772727\n",
      "mastery\n",
      "26.436363\n",
      "multistrike\n",
      "14.121212\n",
      "versatilityDamageDoneBonus\n",
      "2.184615\n",
      "armor\n",
      "2297\n",
      "avoidanceRatingBonus\n",
      "0.0\n",
      "spellCrit\n",
      "12.772727\n",
      "mana5Combat\n",
      "0.0\n",
      "mana5\n",
      "0.0\n",
      "health\n",
      "238740\n",
      "rangedDmgMax\n",
      "-1.0\n",
      "rangedDmgMin\n",
      "-1.0\n",
      "hasteRatingPercent\n",
      "7.777778\n",
      "leech\n",
      "0.0\n",
      "versatilityDamageTakenBonus\n",
      "1.092308\n",
      "dodge\n",
      "5.0\n",
      "power\n",
      "105\n",
      "spellPen\n",
      "0\n",
      "mainHandSpeed\n",
      "3.006\n",
      "attackPower\n",
      "3480\n",
      "speedRating\n",
      "0.0\n",
      "multistrikeRatingBonus\n",
      "4.121212\n",
      "hasteRating\n",
      "700\n",
      "masteryRating\n",
      "574\n",
      "blockRating\n",
      "0\n",
      "parry\n",
      "16.6417\n",
      "versatility\n",
      "284\n",
      "parryRating\n",
      "855\n",
      "dodgeRating\n",
      "0\n",
      "sta\n",
      "3979\n",
      "mainHandDmgMin\n",
      "5654.0\n",
      "speedRatingBonus\n",
      "0.0\n",
      "mainHandDmgMax\n",
      "6620.0\n",
      "agi\n",
      "1073\n",
      "offHandDps\n",
      "699.99756\n",
      "rangedSpeed\n",
      "-1.0\n",
      "versatilityHealingDoneBonus\n",
      "2.184615\n",
      "offHandDmgMax\n",
      "1169.0\n",
      "haste\n",
      "19.74112\n",
      "rangedAttackPower\n",
      "0\n",
      "str\n",
      "2965\n",
      "offHandDmgMin\n",
      "1168.0\n",
      "block\n",
      "0.0\n",
      "offHandSpeed\n",
      "1.67\n"
     ]
    }
   ],
   "source": [
    "for bok in bokza:\n",
    "    print bok\n",
    "    print bokjst[bok]"
   ]
  },
  {
   "cell_type": "code",
   "execution_count": null,
   "metadata": {
    "collapsed": false
   },
   "outputs": [],
   "source": []
  },
  {
   "cell_type": "code",
   "execution_count": null,
   "metadata": {
    "collapsed": false
   },
   "outputs": [],
   "source": []
  },
  {
   "cell_type": "markdown",
   "metadata": {
    "collapsed": false
   },
   "source": [
    "If faction is alliance change CSS to BLUE background.\n",
    "If faction is horde change css to RED background. \n",
    "\n",
    "This script displays a wow character given by input of character name and realm name. "
   ]
  },
  {
   "cell_type": "code",
   "execution_count": 54,
   "metadata": {
    "collapsed": true
   },
   "outputs": [
    {
     "name": "stdout",
     "output_type": "stream",
     "text": [
      "Alliance has a blue background\n"
     ]
    }
   ],
   "source": [
    "if bookchar.faction == 'Alliance':\n",
    "    print ('Alliance has a blue background')\n",
    "else:\n",
    "    print ('Horde has a red background')"
   ]
  },
  {
   "cell_type": "code",
   "execution_count": 54,
   "metadata": {
    "collapsed": false
   },
   "outputs": [],
   "source": []
  },
  {
   "cell_type": "code",
   "execution_count": 55,
   "metadata": {
    "collapsed": true
   },
   "outputs": [
    {
     "data": {
      "text/plain": [
       "'{\"stats\": {\"bonusArmor\": 109, \"critRating\": 855, \"powerType\": \"runic-power\", \"spellCrit\": 12.772727, \"mainHandDps\": 2041.5823, \"int\": 572, \"leechRatingBonus\": 0.0, \"spr\": 640, \"mainHandDmgMax\": 6620.0, \"spellCritRating\": 855, \"avoidanceRating\": 0.0, \"spellPower\": 572, \"mainHandDmgMin\": 5654.0, \"leechRating\": 0.0, \"crit\": 12.772727, \"multistrike\": 14.121212, \"versatilityDamageDoneBonus\": 2.184615, \"rangedSpeed\": -1.0, \"armor\": 2297, \"avoidanceRatingBonus\": 0.0, \"multistrikeRating\": 14.121212, \"mana5Combat\": 0.0, \"mana5\": 0.0, \"health\": 238740, \"rangedDmgMax\": -1.0, \"rangedDmgMin\": -1.0, \"hasteRatingPercent\": 7.777778, \"leech\": 0.0, \"rangedAttackPower\": 0, \"dodge\": 5.0, \"power\": 105, \"spellPen\": 0, \"attackPower\": 3480, \"mainHandSpeed\": 3.006, \"speedRating\": 0.0, \"multistrikeRatingBonus\": 4.121212, \"masteryRating\": 574, \"blockRating\": 0, \"parry\": 16.6417, \"versatility\": 284, \"parryRating\": 855, \"dodgeRating\": 0, \"sta\": 3979, \"agi\": 1073, \"speedRatingBonus\": 0.0, \"mastery\": 26.436363, \"rangedDps\": -1.0, \"offHandDps\": 699.99756, \"versatilityDamageTakenBonus\": 1.092308, \"versatilityHealingDoneBonus\": 2.184615, \"offHandDmgMax\": 1169.0, \"haste\": 19.74112, \"hasteRating\": 700, \"str\": 2965, \"offHandDmgMin\": 1168.0, \"block\": 0.0, \"offHandSpeed\": 1.67}, \"realm\": \"Saurfang\", \"name\": \"Portishead\", \"level\": 100, \"lastModified\": 1435795373000, \"totalHonorableKills\": 1198, \"thumbnail\": \"internal-record-3695/237/158282221-avatar.jpg\", \"race\": 7, \"calcClass\": \"d\", \"achievementPoints\": 8175, \"gender\": 1, \"battlegroup\": \"AU/NZ Battle Group\", \"class\": 6}'"
      ]
     },
     "execution_count": 55,
     "metadata": {},
     "output_type": "execute_result"
    }
   ],
   "source": [
    "bookchar.to_json()"
   ]
  },
  {
   "cell_type": "code",
   "execution_count": 56,
   "metadata": {
    "collapsed": false
   },
   "outputs": [],
   "source": [
    "opcharjs = open('/home/wcmckee/github/garrison-wow-track/charstats.json')"
   ]
  },
  {
   "cell_type": "code",
   "execution_count": 1,
   "metadata": {
    "collapsed": true
   },
   "outputs": [
    {
     "ename": "NameError",
     "evalue": "name 'opcharjs' is not defined",
     "output_type": "error",
     "traceback": [
      "\u001b[1;31m---------------------------------------------------------------------------\u001b[0m",
      "\u001b[1;31mNameError\u001b[0m                                 Traceback (most recent call last)",
      "\u001b[1;32m<ipython-input-1-3830781d2421>\u001b[0m in \u001b[0;36m<module>\u001b[1;34m()\u001b[0m\n\u001b[1;32m----> 1\u001b[1;33m \u001b[0mopcharjs\u001b[0m\u001b[1;33m.\u001b[0m\u001b[0mread\u001b[0m\u001b[1;33m(\u001b[0m\u001b[1;33m)\u001b[0m\u001b[1;33m[\u001b[0m\u001b[1;34m'stats'\u001b[0m\u001b[1;33m]\u001b[0m\u001b[1;33m\u001b[0m\u001b[0m\n\u001b[0m",
      "\u001b[1;31mNameError\u001b[0m: name 'opcharjs' is not defined"
     ]
    }
   ],
   "source": [
    "opcharjs.read()"
   ]
  },
  {
   "cell_type": "code",
   "execution_count": 57,
   "metadata": {
    "collapsed": false
   },
   "outputs": [],
   "source": []
  },
  {
   "cell_type": "code",
   "execution_count": 57,
   "metadata": {
    "collapsed": false
   },
   "outputs": [],
   "source": []
  },
  {
   "cell_type": "code",
   "execution_count": 57,
   "metadata": {
    "collapsed": false
   },
   "outputs": [],
   "source": []
  },
  {
   "cell_type": "code",
   "execution_count": 57,
   "metadata": {
    "collapsed": false
   },
   "outputs": [],
   "source": []
  },
  {
   "cell_type": "code",
   "execution_count": 57,
   "metadata": {
    "collapsed": false
   },
   "outputs": [],
   "source": []
  },
  {
   "cell_type": "code",
   "execution_count": 57,
   "metadata": {
    "collapsed": false
   },
   "outputs": [],
   "source": []
  },
  {
   "cell_type": "code",
   "execution_count": 57,
   "metadata": {
    "collapsed": false
   },
   "outputs": [],
   "source": []
  },
  {
   "cell_type": "code",
   "execution_count": 57,
   "metadata": {
    "collapsed": false
   },
   "outputs": [],
   "source": []
  },
  {
   "cell_type": "code",
   "execution_count": 58,
   "metadata": {
    "collapsed": true
   },
   "outputs": [
    {
     "data": {
      "text/plain": [
       "'http://us.battle.net/static-render/us/internal-record-3695/237/158282221-avatar.jpg'"
      ]
     },
     "execution_count": 58,
     "metadata": {},
     "output_type": "execute_result"
    }
   ],
   "source": [
    "bookchar.get_thumbnail_url()"
   ]
  },
  {
   "cell_type": "code",
   "execution_count": 59,
   "metadata": {
    "collapsed": true
   },
   "outputs": [],
   "source": [
    "bookdatz = bookchar.last_modified.date()"
   ]
  },
  {
   "cell_type": "code",
   "execution_count": 60,
   "metadata": {
    "collapsed": true
   },
   "outputs": [
    {
     "data": {
      "text/plain": [
       "2015"
      ]
     },
     "execution_count": 60,
     "metadata": {},
     "output_type": "execute_result"
    }
   ],
   "source": [
    "bookchar.last_modified.year"
   ]
  },
  {
   "cell_type": "code",
   "execution_count": 61,
   "metadata": {
    "collapsed": true
   },
   "outputs": [
    {
     "data": {
      "text/plain": [
       "7"
      ]
     },
     "execution_count": 61,
     "metadata": {},
     "output_type": "execute_result"
    }
   ],
   "source": [
    "bookdatz.month"
   ]
  },
  {
   "cell_type": "code",
   "execution_count": 62,
   "metadata": {
    "collapsed": true
   },
   "outputs": [
    {
     "data": {
      "text/plain": [
       "datetime.date(1, 1, 1)"
      ]
     },
     "execution_count": 62,
     "metadata": {},
     "output_type": "execute_result"
    }
   ],
   "source": [
    "bookdatz.min"
   ]
  },
  {
   "cell_type": "code",
   "execution_count": 63,
   "metadata": {
    "collapsed": true
   },
   "outputs": [
    {
     "data": {
      "text/plain": [
       "0"
      ]
     },
     "execution_count": 63,
     "metadata": {},
     "output_type": "execute_result"
    }
   ],
   "source": [
    "bookchar.last_modified.microsecond"
   ]
  },
  {
   "cell_type": "code",
   "execution_count": 64,
   "metadata": {
    "collapsed": true
   },
   "outputs": [
    {
     "data": {
      "text/plain": [
       "1"
      ]
     },
     "execution_count": 64,
     "metadata": {},
     "output_type": "execute_result"
    }
   ],
   "source": [
    "bookchar.gender"
   ]
  },
  {
   "cell_type": "code",
   "execution_count": 65,
   "metadata": {
    "collapsed": true
   },
   "outputs": [
    {
     "ename": "TypeError",
     "evalue": "__init__() takes exactly 2 arguments (1 given)",
     "output_type": "error",
     "traceback": [
      "\u001b[1;31m---------------------------------------------------------------------------\u001b[0m",
      "\u001b[1;31mTypeError\u001b[0m                                 Traceback (most recent call last)",
      "\u001b[1;32m<ipython-input-65-e4b6fb86644a>\u001b[0m in \u001b[0;36m<module>\u001b[1;34m()\u001b[0m\n\u001b[1;32m----> 1\u001b[1;33m \u001b[0mbattlenet\u001b[0m\u001b[1;33m.\u001b[0m\u001b[0mthings\u001b[0m\u001b[1;33m.\u001b[0m\u001b[0mReputation\u001b[0m\u001b[1;33m(\u001b[0m\u001b[1;33m)\u001b[0m\u001b[1;33m\u001b[0m\u001b[0m\n\u001b[0m",
      "\u001b[1;31mTypeError\u001b[0m: __init__() takes exactly 2 arguments (1 given)"
     ]
    }
   ],
   "source": [
    "battlenet.things.Reputation()"
   ]
  },
  {
   "cell_type": "code",
   "execution_count": 66,
   "metadata": {
    "collapsed": false
   },
   "outputs": [],
   "source": [
    "geninfo = dict()"
   ]
  },
  {
   "cell_type": "code",
   "execution_count": 67,
   "metadata": {
    "collapsed": true
   },
   "outputs": [],
   "source": [
    "if bookchar.gender == 1:\n",
    "    geninfo.update({'gender': 'female'})\n",
    "    "
   ]
  },
  {
   "cell_type": "code",
   "execution_count": 68,
   "metadata": {
    "collapsed": false
   },
   "outputs": [],
   "source": [
    "if bookchar.gender == 0:\n",
    "    geninfo.update({'gender': 'male'})\n",
    "    "
   ]
  },
  {
   "cell_type": "code",
   "execution_count": 69,
   "metadata": {
    "collapsed": true
   },
   "outputs": [
    {
     "data": {
      "text/plain": [
       "{'gender': 'female'}"
      ]
     },
     "execution_count": 69,
     "metadata": {},
     "output_type": "execute_result"
    }
   ],
   "source": [
    "geninfo"
   ]
  },
  {
   "cell_type": "code",
   "execution_count": 70,
   "metadata": {
    "collapsed": true
   },
   "outputs": [
    {
     "name": "stdout",
     "output_type": "stream",
     "text": [
      "[7418, 7421, 7428, 158907, 158908, 158909, 158910, 158911, 159236, 162948, 169091, 169092, 177043]\n",
      "[2660, 2663, 3115, 12260, 171690, 171691, 171692, 171693, 176090]\n"
     ]
    }
   ],
   "source": [
    "for bocha in bookchar.professions['primary']:\n",
    "    print bocha.recipes"
   ]
  },
  {
   "cell_type": "code",
   "execution_count": 71,
   "metadata": {
    "collapsed": false
   },
   "outputs": [],
   "source": [
    "profz = bocha.recipes"
   ]
  },
  {
   "cell_type": "code",
   "execution_count": 72,
   "metadata": {
    "collapsed": false
   },
   "outputs": [],
   "source": [
    "import requests"
   ]
  },
  {
   "cell_type": "code",
   "execution_count": 73,
   "metadata": {
    "collapsed": true
   },
   "outputs": [],
   "source": [
    "recreqs = requests.get('http://us.battle.net/api/wow/recipe/33994')"
   ]
  },
  {
   "cell_type": "code",
   "execution_count": 74,
   "metadata": {
    "collapsed": true
   },
   "outputs": [
    {
     "data": {
      "text/plain": [
       "<Response [200]>"
      ]
     },
     "execution_count": 74,
     "metadata": {},
     "output_type": "execute_result"
    }
   ],
   "source": [
    "recreqs"
   ]
  },
  {
   "cell_type": "code",
   "execution_count": 75,
   "metadata": {
    "collapsed": true
   },
   "outputs": [
    {
     "data": {
      "text/plain": [
       "<Response [200]>"
      ]
     },
     "execution_count": 75,
     "metadata": {},
     "output_type": "execute_result"
    }
   ],
   "source": [
    "requests.get('http://google.com')"
   ]
  },
  {
   "cell_type": "code",
   "execution_count": 76,
   "metadata": {
    "collapsed": true
   },
   "outputs": [
    {
     "ename": "AttributeError",
     "evalue": "'module' object has no attribute 'q'",
     "output_type": "error",
     "traceback": [
      "\u001b[1;31m---------------------------------------------------------------------------\u001b[0m",
      "\u001b[1;31mAttributeError\u001b[0m                            Traceback (most recent call last)",
      "\u001b[1;32m<ipython-input-76-a9a04ea4a931>\u001b[0m in \u001b[0;36m<module>\u001b[1;34m()\u001b[0m\n\u001b[1;32m----> 1\u001b[1;33m \u001b[0mbattlenet\u001b[0m\u001b[1;33m.\u001b[0m\u001b[0mq\u001b[0m\u001b[1;33m\u001b[0m\u001b[0m\n\u001b[0m",
      "\u001b[1;31mAttributeError\u001b[0m: 'module' object has no attribute 'q'"
     ]
    }
   ],
   "source": [
    "battlenet.q"
   ]
  },
  {
   "cell_type": "code",
   "execution_count": 76,
   "metadata": {
    "collapsed": false
   },
   "outputs": [],
   "source": []
  },
  {
   "cell_type": "code",
   "execution_count": 76,
   "metadata": {
    "collapsed": false
   },
   "outputs": [],
   "source": []
  },
  {
   "cell_type": "code",
   "execution_count": 77,
   "metadata": {
    "collapsed": true
   },
   "outputs": [
    {
     "data": {
      "text/plain": [
       "2"
      ]
     },
     "execution_count": 77,
     "metadata": {},
     "output_type": "execute_result"
    }
   ],
   "source": [
    "bookchar.last_modified.day"
   ]
  },
  {
   "cell_type": "code",
   "execution_count": 78,
   "metadata": {
    "collapsed": true
   },
   "outputs": [
    {
     "data": {
      "text/plain": [
       "3"
      ]
     },
     "execution_count": 78,
     "metadata": {},
     "output_type": "execute_result"
    }
   ],
   "source": [
    "bookchar.last_modified.weekday()"
   ]
  },
  {
   "cell_type": "code",
   "execution_count": 79,
   "metadata": {
    "collapsed": true
   },
   "outputs": [
    {
     "data": {
      "text/plain": [
       "12"
      ]
     },
     "execution_count": 79,
     "metadata": {},
     "output_type": "execute_result"
    }
   ],
   "source": [
    "bookchar.last_modified.hour"
   ]
  },
  {
   "cell_type": "code",
   "execution_count": 80,
   "metadata": {
    "collapsed": true
   },
   "outputs": [],
   "source": [
    "racnum = bookchar.race"
   ]
  },
  {
   "cell_type": "code",
   "execution_count": 81,
   "metadata": {
    "collapsed": true
   },
   "outputs": [
    {
     "data": {
      "text/plain": [
       "{1: 'Human',\n",
       " 2: 'Orc',\n",
       " 3: 'Dwarf',\n",
       " 4: 'Night Elf',\n",
       " 5: 'Undead',\n",
       " 6: 'Tauren',\n",
       " 7: 'Gnome',\n",
       " 8: 'Troll',\n",
       " 9: 'Goblin',\n",
       " 10: 'Blood Elf',\n",
       " 11: 'Draenei',\n",
       " 22: 'Worgen'}"
      ]
     },
     "execution_count": 81,
     "metadata": {},
     "output_type": "execute_result"
    }
   ],
   "source": [
    "battlenet.RACE"
   ]
  },
  {
   "cell_type": "code",
   "execution_count": 82,
   "metadata": {
    "collapsed": true
   },
   "outputs": [
    {
     "name": "stdout",
     "output_type": "stream",
     "text": [
      "Gnome\n"
     ]
    }
   ],
   "source": [
    "print battlenet.RACE[racnum]"
   ]
  },
  {
   "cell_type": "code",
   "execution_count": 83,
   "metadata": {
    "collapsed": true
   },
   "outputs": [
    {
     "data": {
      "text/plain": [
       "{1: 'Alliance',\n",
       " 2: 'Horde',\n",
       " 3: 'Alliance',\n",
       " 4: 'Alliance',\n",
       " 5: 'Horde',\n",
       " 6: 'Horde',\n",
       " 7: 'Alliance',\n",
       " 8: 'Horde',\n",
       " 9: 'Horde',\n",
       " 10: 'Horde',\n",
       " 11: 'Alliance',\n",
       " 22: 'Alliance'}"
      ]
     },
     "execution_count": 83,
     "metadata": {},
     "output_type": "execute_result"
    }
   ],
   "source": [
    "battlenet.RACE_TO_FACTION"
   ]
  },
  {
   "cell_type": "code",
   "execution_count": 84,
   "metadata": {
    "collapsed": true
   },
   "outputs": [
    {
     "name": "stdout",
     "output_type": "stream",
     "text": [
      "Alliance\n"
     ]
    }
   ],
   "source": [
    "print battlenet.RACE_TO_FACTION[racnum]"
   ]
  },
  {
   "cell_type": "code",
   "execution_count": 85,
   "metadata": {
    "collapsed": true
   },
   "outputs": [
    {
     "name": "stdout",
     "output_type": "stream",
     "text": [
      "<function quote at 0xb2333cb0>\n"
     ]
    }
   ],
   "source": [
    "print battlenet.quote"
   ]
  },
  {
   "cell_type": "code",
   "execution_count": 86,
   "metadata": {
    "collapsed": true
   },
   "outputs": [
    {
     "name": "stdout",
     "output_type": "stream",
     "text": [
      "{1: 'Warrior', 2: 'Paladin', 3: 'Hunter', 4: 'Rogue', 5: 'Priest', 6: 'Death Knight', 7: 'Shaman', 8: 'Mage', 9: 'Warlock', 11: 'Druid'}\n"
     ]
    }
   ],
   "source": [
    "print battlenet.enums.CLASS"
   ]
  },
  {
   "cell_type": "code",
   "execution_count": 87,
   "metadata": {
    "collapsed": true
   },
   "outputs": [
    {
     "name": "stdout",
     "output_type": "stream",
     "text": [
      "6\n"
     ]
    }
   ],
   "source": [
    "print bookchar.class_"
   ]
  },
  {
   "cell_type": "code",
   "execution_count": 88,
   "metadata": {
    "collapsed": true
   },
   "outputs": [
    {
     "name": "stdout",
     "output_type": "stream",
     "text": [
      "Shaman\n"
     ]
    }
   ],
   "source": [
    "print battlenet.enums.CLASS[racnum]"
   ]
  },
  {
   "cell_type": "code",
   "execution_count": 88,
   "metadata": {
    "collapsed": true
   },
   "outputs": [],
   "source": []
  },
  {
   "cell_type": "code",
   "execution_count": 89,
   "metadata": {
    "collapsed": true
   },
   "outputs": [],
   "source": [
    "bokkall = bookchar.to_json()"
   ]
  },
  {
   "cell_type": "code",
   "execution_count": 90,
   "metadata": {
    "collapsed": true
   },
   "outputs": [
    {
     "data": {
      "text/plain": [
       "'{\"stats\": {\"bonusArmor\": 109, \"critRating\": 855, \"powerType\": \"runic-power\", \"spellCrit\": 12.772727, \"mainHandDps\": 2041.5823, \"int\": 572, \"leechRatingBonus\": 0.0, \"spr\": 640, \"mainHandDmgMax\": 6620.0, \"spellCritRating\": 855, \"avoidanceRating\": 0.0, \"spellPower\": 572, \"mainHandDmgMin\": 5654.0, \"leechRating\": 0.0, \"crit\": 12.772727, \"multistrike\": 14.121212, \"versatilityDamageDoneBonus\": 2.184615, \"rangedSpeed\": -1.0, \"armor\": 2297, \"avoidanceRatingBonus\": 0.0, \"multistrikeRating\": 14.121212, \"mana5Combat\": 0.0, \"mana5\": 0.0, \"health\": 238740, \"rangedDmgMax\": -1.0, \"rangedDmgMin\": -1.0, \"hasteRatingPercent\": 7.777778, \"leech\": 0.0, \"rangedAttackPower\": 0, \"dodge\": 5.0, \"power\": 105, \"spellPen\": 0, \"attackPower\": 3480, \"mainHandSpeed\": 3.006, \"speedRating\": 0.0, \"multistrikeRatingBonus\": 4.121212, \"masteryRating\": 574, \"blockRating\": 0, \"parry\": 16.6417, \"versatility\": 284, \"parryRating\": 855, \"dodgeRating\": 0, \"sta\": 3979, \"agi\": 1073, \"speedRatingBonus\": 0.0, \"mastery\": 26.436363, \"rangedDps\": -1.0, \"offHandDps\": 699.99756, \"versatilityDamageTakenBonus\": 1.092308, \"versatilityHealingDoneBonus\": 2.184615, \"offHandDmgMax\": 1169.0, \"haste\": 19.74112, \"hasteRating\": 700, \"str\": 2965, \"offHandDmgMin\": 1168.0, \"block\": 0.0, \"offHandSpeed\": 1.67}, \"realm\": \"Saurfang\", \"name\": \"Portishead\", \"level\": 100, \"lastModified\": 1435795373000, \"professions\": {\"primary\": [{\"name\": \"Enchanting\", \"max\": 675, \"recipes\": [7418, 7421, 7428, 158907, 158908, 158909, 158910, 158911, 159236, 162948, 169091, 169092, 177043], \"rank\": 177, \"id\": 333, \"icon\": \"trade_engraving\"}, {\"name\": \"Blacksmithing\", \"max\": 675, \"recipes\": [2660, 2663, 3115, 12260, 171690, 171691, 171692, 171693, 176090], \"rank\": 101, \"id\": 164, \"icon\": \"trade_blacksmithing\"}], \"secondary\": [{\"name\": \"First Aid\", \"max\": 675, \"recipes\": [3275, 3276, 3277, 3278, 7928, 7929, 7934, 10840, 10841, 18629, 18630, 172539, 172540, 172541, 172542], \"rank\": 284, \"id\": 129, \"icon\": \"spell_holy_sealofsacrifice\"}, {\"name\": \"Archaeology\", \"max\": 75, \"recipes\": [], \"rank\": 1, \"id\": 794, \"icon\": \"trade_archaeology\"}, {\"name\": \"Fishing\", \"max\": 0, \"recipes\": [], \"rank\": 0, \"id\": 356, \"icon\": \"trade_fishing\"}, {\"name\": \"Cooking\", \"max\": 675, \"recipes\": [2538, 2540, 8604, 161001, 161002], \"rank\": 1, \"id\": 185, \"icon\": \"inv_misc_food_15\"}]}, \"totalHonorableKills\": 1198, \"thumbnail\": \"internal-record-3695/237/158282221-avatar.jpg\", \"race\": 7, \"calcClass\": \"d\", \"achievementPoints\": 8175, \"gender\": 1, \"battlegroup\": \"AU/NZ Battle Group\", \"class\": 6}'"
      ]
     },
     "execution_count": 90,
     "metadata": {},
     "output_type": "execute_result"
    }
   ],
   "source": [
    "bokkall"
   ]
  },
  {
   "cell_type": "code",
   "execution_count": 91,
   "metadata": {
    "collapsed": true
   },
   "outputs": [
    {
     "data": {
      "text/plain": [
       "1435795373000L"
      ]
     },
     "execution_count": 91,
     "metadata": {},
     "output_type": "execute_result"
    }
   ],
   "source": [
    "json.loads(bokkall)['lastModified']"
   ]
  },
  {
   "cell_type": "code",
   "execution_count": 91,
   "metadata": {
    "collapsed": false
   },
   "outputs": [],
   "source": []
  },
  {
   "cell_type": "code",
   "execution_count": 92,
   "metadata": {
    "collapsed": true
   },
   "outputs": [],
   "source": [
    "import json"
   ]
  },
  {
   "cell_type": "code",
   "execution_count": 93,
   "metadata": {
    "collapsed": true
   },
   "outputs": [
    {
     "data": {
      "text/plain": [
       "<function json.loads>"
      ]
     },
     "execution_count": 93,
     "metadata": {},
     "output_type": "execute_result"
    }
   ],
   "source": [
    "json.loads"
   ]
  },
  {
   "cell_type": "code",
   "execution_count": 94,
   "metadata": {
    "collapsed": true
   },
   "outputs": [
    {
     "ename": "KeyError",
     "evalue": "'items'",
     "output_type": "error",
     "traceback": [
      "\u001b[1;31m---------------------------------------------------------------------------\u001b[0m",
      "\u001b[1;31mKeyError\u001b[0m                                  Traceback (most recent call last)",
      "\u001b[1;32m<ipython-input-94-34f240b39924>\u001b[0m in \u001b[0;36m<module>\u001b[1;34m()\u001b[0m\n\u001b[1;32m----> 1\u001b[1;33m \u001b[0mjson\u001b[0m\u001b[1;33m.\u001b[0m\u001b[0mloads\u001b[0m\u001b[1;33m(\u001b[0m\u001b[0mbokkall\u001b[0m\u001b[1;33m)\u001b[0m\u001b[1;33m[\u001b[0m\u001b[1;34m'items'\u001b[0m\u001b[1;33m]\u001b[0m\u001b[1;33m\u001b[0m\u001b[0m\n\u001b[0m",
      "\u001b[1;31mKeyError\u001b[0m: 'items'"
     ]
    }
   ],
   "source": [
    "json.loads(bokkall)['items']"
   ]
  },
  {
   "cell_type": "code",
   "execution_count": 95,
   "metadata": {
    "collapsed": true
   },
   "outputs": [
    {
     "ename": "TypeError",
     "evalue": "getattr(): attribute name must be string",
     "output_type": "error",
     "traceback": [
      "\u001b[1;31m---------------------------------------------------------------------------\u001b[0m",
      "\u001b[1;31mTypeError\u001b[0m                                 Traceback (most recent call last)",
      "\u001b[1;32m<ipython-input-95-3a1f1f50dcff>\u001b[0m in \u001b[0;36m<module>\u001b[1;34m()\u001b[0m\n\u001b[1;32m----> 1\u001b[1;33m \u001b[1;32mfor\u001b[0m \u001b[0mbequ\u001b[0m \u001b[1;32min\u001b[0m \u001b[0mbookchar\u001b[0m\u001b[1;33m.\u001b[0m\u001b[0mequipment\u001b[0m\u001b[1;33m:\u001b[0m\u001b[1;33m\u001b[0m\u001b[0m\n\u001b[0m\u001b[0;32m      2\u001b[0m     \u001b[1;32mprint\u001b[0m \u001b[0mbequ\u001b[0m\u001b[1;33m\u001b[0m\u001b[0m\n",
      "\u001b[1;32m/usr/local/lib/python2.7/dist-packages/battlenet/things.pyc\u001b[0m in \u001b[0;36m__getitem__\u001b[1;34m(self, item)\u001b[0m\n\u001b[0;32m    477\u001b[0m     \u001b[1;32mdef\u001b[0m \u001b[0m__getitem__\u001b[0m\u001b[1;33m(\u001b[0m\u001b[0mself\u001b[0m\u001b[1;33m,\u001b[0m \u001b[0mitem\u001b[0m\u001b[1;33m)\u001b[0m\u001b[1;33m:\u001b[0m\u001b[1;33m\u001b[0m\u001b[0m\n\u001b[0;32m    478\u001b[0m         \u001b[1;32mtry\u001b[0m\u001b[1;33m:\u001b[0m\u001b[1;33m\u001b[0m\u001b[0m\n\u001b[1;32m--> 479\u001b[1;33m             \u001b[1;32mreturn\u001b[0m \u001b[0mgetattr\u001b[0m\u001b[1;33m(\u001b[0m\u001b[0mself\u001b[0m\u001b[1;33m,\u001b[0m \u001b[0mitem\u001b[0m\u001b[1;33m)\u001b[0m\u001b[1;33m\u001b[0m\u001b[0m\n\u001b[0m\u001b[0;32m    480\u001b[0m         \u001b[1;32mexcept\u001b[0m \u001b[0mAttributeError\u001b[0m\u001b[1;33m:\u001b[0m\u001b[1;33m\u001b[0m\u001b[0m\n\u001b[0;32m    481\u001b[0m             \u001b[1;32mraise\u001b[0m \u001b[0mIndexError\u001b[0m\u001b[1;33m\u001b[0m\u001b[0m\n",
      "\u001b[1;31mTypeError\u001b[0m: getattr(): attribute name must be string"
     ]
    }
   ],
   "source": [
    "for bequ in bookchar.equipment:\n",
    "    print bequ"
   ]
  },
  {
   "cell_type": "code",
   "execution_count": null,
   "metadata": {
    "collapsed": true
   },
   "outputs": [],
   "source": [
    "from battlenet import Connection"
   ]
  },
  {
   "cell_type": "code",
   "execution_count": 96,
   "metadata": {
    "collapsed": true
   },
   "outputs": [
    {
     "ename": "NameError",
     "evalue": "name 'connection' is not defined",
     "output_type": "error",
     "traceback": [
      "\u001b[1;31m---------------------------------------------------------------------------\u001b[0m",
      "\u001b[1;31mNameError\u001b[0m                                 Traceback (most recent call last)",
      "\u001b[1;32m<ipython-input-96-5406d04091f1>\u001b[0m in \u001b[0;36m<module>\u001b[1;34m()\u001b[0m\n\u001b[1;32m----> 1\u001b[1;33m \u001b[1;32mfor\u001b[0m \u001b[0mrealm\u001b[0m \u001b[1;32min\u001b[0m \u001b[0mconnection\u001b[0m\u001b[1;33m.\u001b[0m\u001b[0mget_all_realms\u001b[0m\u001b[1;33m(\u001b[0m\u001b[0mbattlenet\u001b[0m\u001b[1;33m.\u001b[0m\u001b[0mUNITED_STATES\u001b[0m\u001b[1;33m)\u001b[0m\u001b[1;33m:\u001b[0m\u001b[1;33m\u001b[0m\u001b[0m\n\u001b[0m\u001b[0;32m      2\u001b[0m \u001b[1;33m\u001b[0m\u001b[0m\n\u001b[0;32m      3\u001b[0m     \u001b[1;32mprint\u001b[0m \u001b[0mrealm\u001b[0m\u001b[1;33m\u001b[0m\u001b[0m\n\u001b[0;32m      4\u001b[0m \u001b[1;31m#for realm in connection.get_all_realms(battlenet.UNITED_STATES):\u001b[0m\u001b[1;33m\u001b[0m\u001b[1;33m\u001b[0m\u001b[0m\n\u001b[0;32m      5\u001b[0m \u001b[1;31m#    print realm\u001b[0m\u001b[1;33m\u001b[0m\u001b[1;33m\u001b[0m\u001b[0m\n",
      "\u001b[1;31mNameError\u001b[0m: name 'connection' is not defined"
     ]
    }
   ],
   "source": [
    "for realm in connection.get_all_realms(battlenet.UNITED_STATES):\n",
    "\n",
    "    print realm\n",
    "#for realm in connection.get_all_realms(battlenet.UNITED_STATES):\n",
    "#    print realm"
   ]
  },
  {
   "cell_type": "code",
   "execution_count": 97,
   "metadata": {
    "collapsed": true
   },
   "outputs": [],
   "source": [
    "from battlenet import Guild\n",
    "\n",
    "# If a global connection was setup\n",
    "guild = Guild(battlenet.UNITED_STATES, \"jubei'thos\", \"adventure time\")\n"
   ]
  },
  {
   "cell_type": "code",
   "execution_count": 98,
   "metadata": {
    "collapsed": true
   },
   "outputs": [],
   "source": [
    "glead = guild.get_leader"
   ]
  },
  {
   "cell_type": "code",
   "execution_count": 99,
   "metadata": {
    "collapsed": true
   },
   "outputs": [],
   "source": [
    "guildjson = guild.to_json()"
   ]
  },
  {
   "cell_type": "code",
   "execution_count": 100,
   "metadata": {
    "collapsed": true
   },
   "outputs": [
    {
     "ename": "KeyError",
     "evalue": "26",
     "output_type": "error",
     "traceback": [
      "\u001b[1;31m---------------------------------------------------------------------------\u001b[0m",
      "\u001b[1;31mKeyError\u001b[0m                                  Traceback (most recent call last)",
      "\u001b[1;32m<ipython-input-100-ac0cc7ca42d1>\u001b[0m in \u001b[0;36m<module>\u001b[1;34m()\u001b[0m\n\u001b[1;32m----> 1\u001b[1;33m \u001b[0mglead\u001b[0m\u001b[1;33m(\u001b[0m\u001b[1;33m)\u001b[0m\u001b[1;33m\u001b[0m\u001b[0m\n\u001b[0m",
      "\u001b[1;32m/usr/local/lib/python2.7/dist-packages/battlenet/things.pyc\u001b[0m in \u001b[0;36mget_leader\u001b[1;34m(self)\u001b[0m\n\u001b[0;32m    675\u001b[0m \u001b[1;33m\u001b[0m\u001b[0m\n\u001b[0;32m    676\u001b[0m     \u001b[1;32mdef\u001b[0m \u001b[0mget_leader\u001b[0m\u001b[1;33m(\u001b[0m\u001b[0mself\u001b[0m\u001b[1;33m)\u001b[0m\u001b[1;33m:\u001b[0m\u001b[1;33m\u001b[0m\u001b[0m\n\u001b[1;32m--> 677\u001b[1;33m         \u001b[1;32mfor\u001b[0m \u001b[0mmember\u001b[0m \u001b[1;32min\u001b[0m \u001b[0mself\u001b[0m\u001b[1;33m.\u001b[0m\u001b[0mmembers\u001b[0m\u001b[1;33m:\u001b[0m\u001b[1;33m\u001b[0m\u001b[0m\n\u001b[0m\u001b[0;32m    678\u001b[0m             \u001b[1;32mif\u001b[0m \u001b[0mmember\u001b[0m\u001b[1;33m[\u001b[0m\u001b[1;34m'rank'\u001b[0m\u001b[1;33m]\u001b[0m \u001b[1;32mis\u001b[0m \u001b[1;36m0\u001b[0m\u001b[1;33m:\u001b[0m\u001b[1;33m\u001b[0m\u001b[0m\n\u001b[0;32m    679\u001b[0m                 \u001b[1;32mreturn\u001b[0m \u001b[0mmember\u001b[0m\u001b[1;33m[\u001b[0m\u001b[1;34m'character'\u001b[0m\u001b[1;33m]\u001b[0m\u001b[1;33m\u001b[0m\u001b[0m\n",
      "\u001b[1;32m/usr/local/lib/python2.7/dist-packages/battlenet/things.pyc\u001b[0m in \u001b[0;36mmembers\u001b[1;34m(self)\u001b[0m\n\u001b[0;32m    657\u001b[0m \u001b[1;33m\u001b[0m\u001b[0m\n\u001b[0;32m    658\u001b[0m             \u001b[1;32mfor\u001b[0m \u001b[0mmember\u001b[0m \u001b[1;32min\u001b[0m \u001b[0mself\u001b[0m\u001b[1;33m.\u001b[0m\u001b[0m_data\u001b[0m\u001b[1;33m[\u001b[0m\u001b[0mGuild\u001b[0m\u001b[1;33m.\u001b[0m\u001b[0mMEMBERS\u001b[0m\u001b[1;33m]\u001b[0m\u001b[1;33m:\u001b[0m\u001b[1;33m\u001b[0m\u001b[0m\n\u001b[1;32m--> 659\u001b[1;33m                 \u001b[0mcharacter\u001b[0m \u001b[1;33m=\u001b[0m \u001b[0mCharacter\u001b[0m\u001b[1;33m(\u001b[0m\u001b[0mself\u001b[0m\u001b[1;33m.\u001b[0m\u001b[0mregion\u001b[0m\u001b[1;33m,\u001b[0m \u001b[0mdata\u001b[0m\u001b[1;33m=\u001b[0m\u001b[0mmember\u001b[0m\u001b[1;33m[\u001b[0m\u001b[1;34m'character'\u001b[0m\u001b[1;33m]\u001b[0m\u001b[1;33m,\u001b[0m \u001b[0mconnection\u001b[0m\u001b[1;33m=\u001b[0m\u001b[0mself\u001b[0m\u001b[1;33m.\u001b[0m\u001b[0mconnection\u001b[0m\u001b[1;33m)\u001b[0m\u001b[1;33m\u001b[0m\u001b[0m\n\u001b[0m\u001b[0;32m    660\u001b[0m                 \u001b[0mcharacter\u001b[0m\u001b[1;33m.\u001b[0m\u001b[0m_guild\u001b[0m \u001b[1;33m=\u001b[0m \u001b[0mself\u001b[0m\u001b[1;33m\u001b[0m\u001b[0m\n\u001b[0;32m    661\u001b[0m \u001b[1;33m\u001b[0m\u001b[0m\n",
      "\u001b[1;32m/usr/local/lib/python2.7/dist-packages/battlenet/things.pyc\u001b[0m in \u001b[0;36m__init__\u001b[1;34m(self, region, realm, name, data, fields, connection)\u001b[0m\n\u001b[0;32m    132\u001b[0m             \u001b[0mdata\u001b[0m \u001b[1;33m=\u001b[0m \u001b[0mself\u001b[0m\u001b[1;33m.\u001b[0m\u001b[0mconnection\u001b[0m\u001b[1;33m.\u001b[0m\u001b[0mget_character\u001b[0m\u001b[1;33m(\u001b[0m\u001b[0mregion\u001b[0m\u001b[1;33m,\u001b[0m \u001b[0mrealm\u001b[0m\u001b[1;33m,\u001b[0m \u001b[0mname\u001b[0m\u001b[1;33m,\u001b[0m \u001b[0mraw\u001b[0m\u001b[1;33m=\u001b[0m\u001b[0mTrue\u001b[0m\u001b[1;33m,\u001b[0m \u001b[0mfields\u001b[0m\u001b[1;33m=\u001b[0m\u001b[0mself\u001b[0m\u001b[1;33m.\u001b[0m\u001b[0m_fields\u001b[0m\u001b[1;33m)\u001b[0m\u001b[1;33m\u001b[0m\u001b[0m\n\u001b[0;32m    133\u001b[0m \u001b[1;33m\u001b[0m\u001b[0m\n\u001b[1;32m--> 134\u001b[1;33m         \u001b[0mself\u001b[0m\u001b[1;33m.\u001b[0m\u001b[0m_populate_data\u001b[0m\u001b[1;33m(\u001b[0m\u001b[0mdata\u001b[0m\u001b[1;33m)\u001b[0m\u001b[1;33m\u001b[0m\u001b[0m\n\u001b[0m\u001b[0;32m    135\u001b[0m \u001b[1;33m\u001b[0m\u001b[0m\n\u001b[0;32m    136\u001b[0m     \u001b[1;32mdef\u001b[0m \u001b[0m__str__\u001b[0m\u001b[1;33m(\u001b[0m\u001b[0mself\u001b[0m\u001b[1;33m)\u001b[0m\u001b[1;33m:\u001b[0m\u001b[1;33m\u001b[0m\u001b[0m\n",
      "\u001b[1;32m/usr/local/lib/python2.7/dist-packages/battlenet/things.pyc\u001b[0m in \u001b[0;36m_populate_data\u001b[1;34m(self, data)\u001b[0m\n\u001b[0;32m    158\u001b[0m         \u001b[0mself\u001b[0m\u001b[1;33m.\u001b[0m\u001b[0mgender\u001b[0m \u001b[1;33m=\u001b[0m \u001b[0mdata\u001b[0m\u001b[1;33m[\u001b[0m\u001b[1;34m'gender'\u001b[0m\u001b[1;33m]\u001b[0m\u001b[1;33m\u001b[0m\u001b[0m\n\u001b[0;32m    159\u001b[0m         \u001b[0mself\u001b[0m\u001b[1;33m.\u001b[0m\u001b[0machievement_points\u001b[0m \u001b[1;33m=\u001b[0m \u001b[0mdata\u001b[0m\u001b[1;33m[\u001b[0m\u001b[1;34m'achievementPoints'\u001b[0m\u001b[1;33m]\u001b[0m\u001b[1;33m\u001b[0m\u001b[0m\n\u001b[1;32m--> 160\u001b[1;33m         \u001b[0mself\u001b[0m\u001b[1;33m.\u001b[0m\u001b[0mfaction\u001b[0m \u001b[1;33m=\u001b[0m \u001b[0mRACE_TO_FACTION\u001b[0m\u001b[1;33m[\u001b[0m\u001b[0mself\u001b[0m\u001b[1;33m.\u001b[0m\u001b[0mrace\u001b[0m\u001b[1;33m]\u001b[0m\u001b[1;33m\u001b[0m\u001b[0m\n\u001b[0m\u001b[0;32m    161\u001b[0m \u001b[1;33m\u001b[0m\u001b[0m\n\u001b[0;32m    162\u001b[0m         \u001b[1;32mif\u001b[0m \u001b[0mCharacter\u001b[0m\u001b[1;33m.\u001b[0m\u001b[0mGUILD\u001b[0m \u001b[1;32min\u001b[0m \u001b[0mself\u001b[0m\u001b[1;33m.\u001b[0m\u001b[0m_fields\u001b[0m \u001b[1;32mand\u001b[0m \u001b[0mCharacter\u001b[0m\u001b[1;33m.\u001b[0m\u001b[0mGUILD\u001b[0m \u001b[1;32mnot\u001b[0m \u001b[1;32min\u001b[0m \u001b[0mself\u001b[0m\u001b[1;33m.\u001b[0m\u001b[0m_data\u001b[0m\u001b[1;33m:\u001b[0m\u001b[1;33m\u001b[0m\u001b[0m\n",
      "\u001b[1;31mKeyError\u001b[0m: 26"
     ]
    }
   ],
   "source": [
    "glead()"
   ]
  },
  {
   "cell_type": "code",
   "execution_count": null,
   "metadata": {
    "collapsed": true
   },
   "outputs": [],
   "source": [
    "guild.realm"
   ]
  },
  {
   "cell_type": "code",
   "execution_count": 101,
   "metadata": {
    "collapsed": true
   },
   "outputs": [
    {
     "data": {
      "text/plain": [
       "<unbound method Connection.get_character_races>"
      ]
     },
     "execution_count": 101,
     "metadata": {},
     "output_type": "execute_result"
    }
   ],
   "source": [
    "battlenet.connection.Connection.get_character_races"
   ]
  },
  {
   "cell_type": "code",
   "execution_count": 102,
   "metadata": {
    "collapsed": true
   },
   "outputs": [],
   "source": [
    "item = battlenet.connection.Connection.get_all_realms\n",
    "# TODO"
   ]
  },
  {
   "cell_type": "code",
   "execution_count": 103,
   "metadata": {
    "collapsed": true
   },
   "outputs": [
    {
     "ename": "SyntaxError",
     "evalue": "invalid syntax (<ipython-input-103-0f334316606a>, line 2)",
     "output_type": "error",
     "traceback": [
      "\u001b[1;36m  File \u001b[1;32m\"<ipython-input-103-0f334316606a>\"\u001b[1;36m, line \u001b[1;32m2\u001b[0m\n\u001b[1;33m    realm = battlenet.\u001b[0m\n\u001b[1;37m                      ^\u001b[0m\n\u001b[1;31mSyntaxError\u001b[0m\u001b[1;31m:\u001b[0m invalid syntax\n"
     ]
    }
   ],
   "source": [
    "name = \"Kiljaeden\"\n",
    "realm = battlenet."
   ]
  },
  {
   "cell_type": "code",
   "execution_count": 104,
   "metadata": {
    "collapsed": true
   },
   "outputs": [],
   "source": [
    "portchar = Character(battlenet.UNITED_STATES, \"saurfang\", \"portishead\")"
   ]
  },
  {
   "cell_type": "code",
   "execution_count": 105,
   "metadata": {
    "collapsed": true
   },
   "outputs": [
    {
     "data": {
      "text/plain": [
       "'{\"realm\": \"Saurfang\", \"name\": \"Portishead\", \"level\": 100, \"lastModified\": 1435795373000, \"totalHonorableKills\": 1198, \"thumbnail\": \"internal-record-3695/237/158282221-avatar.jpg\", \"race\": 7, \"calcClass\": \"d\", \"achievementPoints\": 8175, \"gender\": 1, \"battlegroup\": \"AU/NZ Battle Group\", \"class\": 6}'"
      ]
     },
     "execution_count": 105,
     "metadata": {},
     "output_type": "execute_result"
    }
   ],
   "source": [
    "portchar.to_json()"
   ]
  },
  {
   "cell_type": "code",
   "execution_count": 106,
   "metadata": {
    "collapsed": true
   },
   "outputs": [
    {
     "data": {
      "text/plain": [
       "100"
      ]
     },
     "execution_count": 106,
     "metadata": {},
     "output_type": "execute_result"
    }
   ],
   "source": [
    "portchar.level"
   ]
  },
  {
   "cell_type": "code",
   "execution_count": 107,
   "metadata": {
    "collapsed": true
   },
   "outputs": [],
   "source": [
    "portmoded = portchar.last_modified"
   ]
  },
  {
   "cell_type": "code",
   "execution_count": 108,
   "metadata": {
    "collapsed": true
   },
   "outputs": [
    {
     "data": {
      "text/plain": [
       "2015"
      ]
     },
     "execution_count": 108,
     "metadata": {},
     "output_type": "execute_result"
    }
   ],
   "source": [
    "portmoded.year"
   ]
  },
  {
   "cell_type": "code",
   "execution_count": 109,
   "metadata": {
    "collapsed": true
   },
   "outputs": [
    {
     "data": {
      "text/plain": [
       "7"
      ]
     },
     "execution_count": 109,
     "metadata": {},
     "output_type": "execute_result"
    }
   ],
   "source": [
    "portmoded.month"
   ]
  },
  {
   "cell_type": "code",
   "execution_count": 110,
   "metadata": {
    "collapsed": true
   },
   "outputs": [
    {
     "data": {
      "text/plain": [
       "2"
      ]
     },
     "execution_count": 110,
     "metadata": {},
     "output_type": "execute_result"
    }
   ],
   "source": [
    "portmoded.day"
   ]
  },
  {
   "cell_type": "code",
   "execution_count": 111,
   "metadata": {
    "collapsed": true
   },
   "outputs": [],
   "source": [
    "portapc = portchar.appearance"
   ]
  },
  {
   "cell_type": "code",
   "execution_count": 112,
   "metadata": {
    "collapsed": true
   },
   "outputs": [
    {
     "data": {
      "text/plain": [
       "3"
      ]
     },
     "execution_count": 112,
     "metadata": {},
     "output_type": "execute_result"
    }
   ],
   "source": [
    "portapc.face"
   ]
  },
  {
   "cell_type": "code",
   "execution_count": 113,
   "metadata": {
    "collapsed": true
   },
   "outputs": [
    {
     "data": {
      "text/plain": [
       "9"
      ]
     },
     "execution_count": 113,
     "metadata": {},
     "output_type": "execute_result"
    }
   ],
   "source": [
    "portapc.skin_color"
   ]
  },
  {
   "cell_type": "code",
   "execution_count": 114,
   "metadata": {
    "collapsed": true
   },
   "outputs": [
    {
     "data": {
      "text/plain": [
       "4"
      ]
     },
     "execution_count": 114,
     "metadata": {},
     "output_type": "execute_result"
    }
   ],
   "source": [
    "portapc.feature"
   ]
  },
  {
   "cell_type": "code",
   "execution_count": 115,
   "metadata": {
    "collapsed": true
   },
   "outputs": [
    {
     "data": {
      "text/plain": [
       "2"
      ]
     },
     "execution_count": 115,
     "metadata": {},
     "output_type": "execute_result"
    }
   ],
   "source": [
    "portapc.hair"
   ]
  },
  {
   "cell_type": "code",
   "execution_count": 116,
   "metadata": {
    "collapsed": true
   },
   "outputs": [
    {
     "data": {
      "text/plain": [
       "'Death Knight'"
      ]
     },
     "execution_count": 116,
     "metadata": {},
     "output_type": "execute_result"
    }
   ],
   "source": [
    "portchar.get_class_name()"
   ]
  },
  {
   "cell_type": "code",
   "execution_count": 117,
   "metadata": {
    "collapsed": true
   },
   "outputs": [
    {
     "data": {
      "text/plain": [
       "'Gnome'"
      ]
     },
     "execution_count": 117,
     "metadata": {},
     "output_type": "execute_result"
    }
   ],
   "source": [
    "portchar.get_race_name()"
   ]
  },
  {
   "cell_type": "code",
   "execution_count": 118,
   "metadata": {
    "collapsed": true
   },
   "outputs": [],
   "source": [
    "portprof = portchar.professions['primary']"
   ]
  },
  {
   "cell_type": "code",
   "execution_count": 119,
   "metadata": {
    "collapsed": true
   },
   "outputs": [
    {
     "name": "stdout",
     "output_type": "stream",
     "text": [
      "7418\n",
      "7421\n",
      "7428\n",
      "158907\n",
      "158908\n",
      "158909\n",
      "158910\n",
      "158911\n",
      "159236\n",
      "162948\n",
      "169091\n",
      "169092\n",
      "177043\n",
      "2660\n",
      "2663\n",
      "3115\n",
      "12260\n",
      "171690\n",
      "171691\n",
      "171692\n",
      "171693\n",
      "176090\n"
     ]
    }
   ],
   "source": [
    "for ppof in portprof:\n",
    "    #print ppof.recipes\n",
    "    for pprec in ppof.recipes:\n",
    "        print pprec"
   ]
  },
  {
   "cell_type": "code",
   "execution_count": 120,
   "metadata": {
    "collapsed": true
   },
   "outputs": [],
   "source": [
    "portales = portchar.TALENTS"
   ]
  },
  {
   "cell_type": "code",
   "execution_count": 121,
   "metadata": {
    "collapsed": true
   },
   "outputs": [],
   "source": [
    "portreq = portchar.equipment"
   ]
  },
  {
   "cell_type": "code",
   "execution_count": 122,
   "metadata": {
    "collapsed": true
   },
   "outputs": [
    {
     "data": {
      "text/plain": [
       "610"
      ]
     },
     "execution_count": 122,
     "metadata": {},
     "output_type": "execute_result"
    }
   ],
   "source": [
    "portreq.average_item_level"
   ]
  },
  {
   "cell_type": "code",
   "execution_count": 123,
   "metadata": {
    "collapsed": true
   },
   "outputs": [
    {
     "data": {
      "text/plain": [
       "607"
      ]
     },
     "execution_count": 123,
     "metadata": {},
     "output_type": "execute_result"
    }
   ],
   "source": [
    "portreq.average_item_level_equiped"
   ]
  },
  {
   "cell_type": "code",
   "execution_count": 124,
   "metadata": {
    "collapsed": true
   },
   "outputs": [
    {
     "data": {
      "text/plain": [
       "'{\"status\": true, \"wintergrasp\": {\"status\": 0, \"next\": 1435814838442, \"controlling-faction\": 0, \"area\": 1}, \"battlegroup\": \"AU/NZ Battle Group\", \"name\": \"Jubei\\'Thos\", \"tol-barad\": {\"status\": 0, \"next\": 1435813897791, \"controlling-faction\": 1, \"area\": 21}, \"locale\": \"en_US\", \"queue\": false, \"connected_realms\": [\"gundrak\", \"jubeithos\", \"internal-record-3697\"], \"timezone\": \"Australia/Melbourne\", \"type\": \"pvp\", \"slug\": \"jubeithos\", \"population\": \"low\"}'"
      ]
     },
     "execution_count": 124,
     "metadata": {},
     "output_type": "execute_result"
    }
   ],
   "source": [
    "realm.to_json()"
   ]
  },
  {
   "cell_type": "code",
   "execution_count": 125,
   "metadata": {
    "collapsed": true
   },
   "outputs": [],
   "source": [
    "bnetthing = battlenet.things"
   ]
  },
  {
   "cell_type": "code",
   "execution_count": 126,
   "metadata": {
    "collapsed": true
   },
   "outputs": [
    {
     "data": {
      "text/plain": [
       "{1: 'Alliance',\n",
       " 2: 'Horde',\n",
       " 3: 'Alliance',\n",
       " 4: 'Alliance',\n",
       " 5: 'Horde',\n",
       " 6: 'Horde',\n",
       " 7: 'Alliance',\n",
       " 8: 'Horde',\n",
       " 9: 'Horde',\n",
       " 10: 'Horde',\n",
       " 11: 'Alliance',\n",
       " 22: 'Alliance'}"
      ]
     },
     "execution_count": 126,
     "metadata": {},
     "output_type": "execute_result"
    }
   ],
   "source": [
    "battlenet.RACE_TO_FACTION"
   ]
  },
  {
   "cell_type": "code",
   "execution_count": 127,
   "metadata": {
    "collapsed": true
   },
   "outputs": [],
   "source": [
    "alrac = battlenet.RACE"
   ]
  },
  {
   "cell_type": "code",
   "execution_count": 128,
   "metadata": {
    "collapsed": false
   },
   "outputs": [],
   "source": [
    "import random"
   ]
  },
  {
   "cell_type": "code",
   "execution_count": 129,
   "metadata": {
    "collapsed": true
   },
   "outputs": [
    {
     "data": {
      "text/plain": [
       "'Orc'"
      ]
     },
     "execution_count": 129,
     "metadata": {},
     "output_type": "execute_result"
    }
   ],
   "source": [
    "random.choice(alrac.values())"
   ]
  },
  {
   "cell_type": "code",
   "execution_count": 130,
   "metadata": {
    "collapsed": true
   },
   "outputs": [],
   "source": [
    "plaqual = battlenet.QUALITY"
   ]
  },
  {
   "cell_type": "code",
   "execution_count": 131,
   "metadata": {
    "collapsed": true
   },
   "outputs": [
    {
     "data": {
      "text/plain": [
       "'Epic'"
      ]
     },
     "execution_count": 131,
     "metadata": {},
     "output_type": "execute_result"
    }
   ],
   "source": [
    "random.choice(plaqual.values())"
   ]
  },
  {
   "cell_type": "code",
   "execution_count": 132,
   "metadata": {
    "collapsed": true
   },
   "outputs": [
    {
     "data": {
      "text/plain": [
       "battlenet.things.Character"
      ]
     },
     "execution_count": 132,
     "metadata": {},
     "output_type": "execute_result"
    }
   ],
   "source": [
    "battlenet.Character"
   ]
  },
  {
   "cell_type": "code",
   "execution_count": 133,
   "metadata": {
    "collapsed": true
   },
   "outputs": [
    {
     "ename": "TypeError",
     "evalue": "'module' object is not callable",
     "output_type": "error",
     "traceback": [
      "\u001b[1;31m---------------------------------------------------------------------------\u001b[0m",
      "\u001b[1;31mTypeError\u001b[0m                                 Traceback (most recent call last)",
      "\u001b[1;32m<ipython-input-133-816caf443389>\u001b[0m in \u001b[0;36m<module>\u001b[1;34m()\u001b[0m\n\u001b[1;32m----> 1\u001b[1;33m \u001b[0mbattlenet\u001b[0m\u001b[1;33m.\u001b[0m\u001b[0mconnection\u001b[0m\u001b[1;33m(\u001b[0m\u001b[1;33m)\u001b[0m\u001b[1;33m\u001b[0m\u001b[0m\n\u001b[0m",
      "\u001b[1;31mTypeError\u001b[0m: 'module' object is not callable"
     ]
    }
   ],
   "source": [
    "battlenet.connection()"
   ]
  },
  {
   "cell_type": "code",
   "execution_count": 133,
   "metadata": {
    "collapsed": false
   },
   "outputs": [],
   "source": []
  },
  {
   "cell_type": "code",
   "execution_count": 134,
   "metadata": {
    "collapsed": false
   },
   "outputs": [],
   "source": [
    "alclas = battlenet.CLASS"
   ]
  },
  {
   "cell_type": "code",
   "execution_count": 135,
   "metadata": {
    "collapsed": true
   },
   "outputs": [
    {
     "data": {
      "text/plain": [
       "{1: 'Warrior',\n",
       " 2: 'Paladin',\n",
       " 3: 'Hunter',\n",
       " 4: 'Rogue',\n",
       " 5: 'Priest',\n",
       " 6: 'Death Knight',\n",
       " 7: 'Shaman',\n",
       " 8: 'Mage',\n",
       " 9: 'Warlock',\n",
       " 11: 'Druid'}"
      ]
     },
     "execution_count": 135,
     "metadata": {},
     "output_type": "execute_result"
    }
   ],
   "source": [
    "alclas"
   ]
  },
  {
   "cell_type": "code",
   "execution_count": 136,
   "metadata": {
    "collapsed": true
   },
   "outputs": [
    {
     "data": {
      "text/plain": [
       "'Paladin'"
      ]
     },
     "execution_count": 136,
     "metadata": {},
     "output_type": "execute_result"
    }
   ],
   "source": [
    "random.choice(alclas.values())"
   ]
  },
  {
   "cell_type": "code",
   "execution_count": 137,
   "metadata": {
    "collapsed": true
   },
   "outputs": [
    {
     "data": {
      "text/plain": [
       "<module 'battlenet.things' from '/usr/local/lib/python2.7/dist-packages/battlenet/things.pyc'>"
      ]
     },
     "execution_count": 137,
     "metadata": {},
     "output_type": "execute_result"
    }
   ],
   "source": [
    "battlenet.things"
   ]
  },
  {
   "cell_type": "code",
   "execution_count": 137,
   "metadata": {
    "collapsed": false
   },
   "outputs": [],
   "source": []
  },
  {
   "cell_type": "code",
   "execution_count": 138,
   "metadata": {
    "collapsed": true
   },
   "outputs": [
    {
     "data": {
      "text/plain": [
       "'talents'"
      ]
     },
     "execution_count": 138,
     "metadata": {},
     "output_type": "execute_result"
    }
   ],
   "source": [
    "portales"
   ]
  },
  {
   "cell_type": "code",
   "execution_count": 138,
   "metadata": {
    "collapsed": false
   },
   "outputs": [],
   "source": []
  },
  {
   "cell_type": "markdown",
   "metadata": {},
   "source": [
    "Make background red if horde - blue if alliance.\n",
    "\n",
    "Depend on class. "
   ]
  },
  {
   "cell_type": "code",
   "execution_count": 139,
   "metadata": {
    "collapsed": true
   },
   "outputs": [
    {
     "data": {
      "text/plain": [
       "'Alliance'"
      ]
     },
     "execution_count": 139,
     "metadata": {},
     "output_type": "execute_result"
    }
   ],
   "source": [
    "portchar.faction"
   ]
  },
  {
   "cell_type": "code",
   "execution_count": 140,
   "metadata": {
    "collapsed": true
   },
   "outputs": [
    {
     "ename": "SyntaxError",
     "evalue": "invalid syntax (<ipython-input-140-855652df3ce9>, line 1)",
     "output_type": "error",
     "traceback": [
      "\u001b[1;36m  File \u001b[1;32m\"<ipython-input-140-855652df3ce9>\"\u001b[1;36m, line \u001b[1;32m1\u001b[0m\n\u001b[1;33m    portchar.\u001b[0m\n\u001b[1;37m             ^\u001b[0m\n\u001b[1;31mSyntaxError\u001b[0m\u001b[1;31m:\u001b[0m invalid syntax\n"
     ]
    }
   ],
   "source": [
    "portchar."
   ]
  },
  {
   "cell_type": "code",
   "execution_count": 141,
   "metadata": {
    "collapsed": true
   },
   "outputs": [
    {
     "ename": "NameError",
     "evalue": "name 'portchat' is not defined",
     "output_type": "error",
     "traceback": [
      "\u001b[1;31m---------------------------------------------------------------------------\u001b[0m",
      "\u001b[1;31mNameError\u001b[0m                                 Traceback (most recent call last)",
      "\u001b[1;32m<ipython-input-141-176c844bb9da>\u001b[0m in \u001b[0;36m<module>\u001b[1;34m()\u001b[0m\n\u001b[1;32m----> 1\u001b[1;33m \u001b[0mportchat\u001b[0m\u001b[1;33m\u001b[0m\u001b[0m\n\u001b[0m",
      "\u001b[1;31mNameError\u001b[0m: name 'portchat' is not defined"
     ]
    }
   ],
   "source": [
    "portchat"
   ]
  },
  {
   "cell_type": "code",
   "execution_count": 142,
   "metadata": {
    "collapsed": true
   },
   "outputs": [],
   "source": [
    "galfchar = Character(battlenet.UNITED_STATES, \"jubei'thos\", 'galf')"
   ]
  },
  {
   "cell_type": "code",
   "execution_count": 143,
   "metadata": {
    "collapsed": true
   },
   "outputs": [
    {
     "data": {
      "text/plain": [
       "<Character: Galf@Jubei'Thos>"
      ]
     },
     "execution_count": 143,
     "metadata": {},
     "output_type": "execute_result"
    }
   ],
   "source": [
    "galfchar"
   ]
  },
  {
   "cell_type": "code",
   "execution_count": 144,
   "metadata": {
    "collapsed": true
   },
   "outputs": [
    {
     "data": {
      "text/plain": [
       "'{\"realm\": \"Jubei\\'Thos\", \"name\": \"Galf\", \"level\": 100, \"lastModified\": 1435794703000, \"totalHonorableKills\": 20336, \"thumbnail\": \"internal-record-3697/221/155983837-avatar.jpg\", \"race\": 10, \"calcClass\": \"b\", \"achievementPoints\": 8600, \"gender\": 1, \"battlegroup\": \"AU/NZ Battle Group\", \"class\": 2}'"
      ]
     },
     "execution_count": 144,
     "metadata": {},
     "output_type": "execute_result"
    }
   ],
   "source": [
    "galfchar.to_json()"
   ]
  },
  {
   "cell_type": "code",
   "execution_count": 145,
   "metadata": {
    "collapsed": true
   },
   "outputs": [],
   "source": [
    "gquiq = galfchar.equipment"
   ]
  },
  {
   "cell_type": "code",
   "execution_count": 146,
   "metadata": {
    "collapsed": true
   },
   "outputs": [
    {
     "data": {
      "text/plain": [
       "607"
      ]
     },
     "execution_count": 146,
     "metadata": {},
     "output_type": "execute_result"
    }
   ],
   "source": [
    "gquiq.average_item_level"
   ]
  },
  {
   "cell_type": "code",
   "execution_count": 147,
   "metadata": {
    "collapsed": true
   },
   "outputs": [
    {
     "data": {
      "text/plain": [
       "607"
      ]
     },
     "execution_count": 147,
     "metadata": {},
     "output_type": "execute_result"
    }
   ],
   "source": [
    "gquiq.average_item_level_equiped"
   ]
  },
  {
   "cell_type": "code",
   "execution_count": 148,
   "metadata": {
    "collapsed": true
   },
   "outputs": [],
   "source": [
    "gdarz = galfchar.get_spec_name"
   ]
  },
  {
   "cell_type": "code",
   "execution_count": 149,
   "metadata": {
    "collapsed": true
   },
   "outputs": [
    {
     "ename": "KeyError",
     "evalue": "'build'",
     "output_type": "error",
     "traceback": [
      "\u001b[1;31m---------------------------------------------------------------------------\u001b[0m",
      "\u001b[1;31mKeyError\u001b[0m                                  Traceback (most recent call last)",
      "\u001b[1;32m<ipython-input-149-ac998ca8aad0>\u001b[0m in \u001b[0;36m<module>\u001b[1;34m()\u001b[0m\n\u001b[1;32m----> 1\u001b[1;33m \u001b[0mgdarz\u001b[0m\u001b[1;33m(\u001b[0m\u001b[1;33m)\u001b[0m\u001b[1;33m\u001b[0m\u001b[0m\n\u001b[0m",
      "\u001b[1;32m/usr/local/lib/python2.7/dist-packages/battlenet/things.pyc\u001b[0m in \u001b[0;36mget_spec_name\u001b[1;34m(self)\u001b[0m\n\u001b[0;32m    280\u001b[0m \u001b[1;33m\u001b[0m\u001b[0m\n\u001b[0;32m    281\u001b[0m     \u001b[1;32mdef\u001b[0m \u001b[0mget_spec_name\u001b[0m\u001b[1;33m(\u001b[0m\u001b[0mself\u001b[0m\u001b[1;33m)\u001b[0m\u001b[1;33m:\u001b[0m\u001b[1;33m\u001b[0m\u001b[0m\n\u001b[1;32m--> 282\u001b[1;33m         \u001b[1;32mfor\u001b[0m \u001b[0mtalent\u001b[0m \u001b[1;32min\u001b[0m \u001b[0mself\u001b[0m\u001b[1;33m.\u001b[0m\u001b[0mtalents\u001b[0m\u001b[1;33m:\u001b[0m\u001b[1;33m\u001b[0m\u001b[0m\n\u001b[0m\u001b[0;32m    283\u001b[0m             \u001b[1;32mif\u001b[0m \u001b[0mtalent\u001b[0m\u001b[1;33m.\u001b[0m\u001b[0mselected\u001b[0m\u001b[1;33m:\u001b[0m\u001b[1;33m\u001b[0m\u001b[0m\n\u001b[0;32m    284\u001b[0m                 \u001b[1;32mreturn\u001b[0m \u001b[0mtalent\u001b[0m\u001b[1;33m.\u001b[0m\u001b[0mname\u001b[0m\u001b[1;33m\u001b[0m\u001b[0m\n",
      "\u001b[1;32m/usr/local/lib/python2.7/dist-packages/battlenet/things.pyc\u001b[0m in \u001b[0;36mtalents\u001b[1;34m(self)\u001b[0m\n\u001b[0;32m    253\u001b[0m     \u001b[1;32mdef\u001b[0m \u001b[0mtalents\u001b[0m\u001b[1;33m(\u001b[0m\u001b[0mself\u001b[0m\u001b[1;33m)\u001b[0m\u001b[1;33m:\u001b[0m\u001b[1;33m\u001b[0m\u001b[0m\n\u001b[0;32m    254\u001b[0m         \u001b[1;32mif\u001b[0m \u001b[0mself\u001b[0m\u001b[1;33m.\u001b[0m\u001b[0m_refresh_if_not_present\u001b[0m\u001b[1;33m(\u001b[0m\u001b[0mCharacter\u001b[0m\u001b[1;33m.\u001b[0m\u001b[0mTALENTS\u001b[0m\u001b[1;33m)\u001b[0m\u001b[1;33m:\u001b[0m\u001b[1;33m\u001b[0m\u001b[0m\n\u001b[1;32m--> 255\u001b[1;33m             \u001b[0mself\u001b[0m\u001b[1;33m.\u001b[0m\u001b[0m_talents\u001b[0m \u001b[1;33m=\u001b[0m \u001b[1;33m[\u001b[0m\u001b[0mBuild\u001b[0m\u001b[1;33m(\u001b[0m\u001b[0mself\u001b[0m\u001b[1;33m,\u001b[0m \u001b[0mbuild\u001b[0m\u001b[1;33m)\u001b[0m \u001b[1;32mfor\u001b[0m \u001b[0mbuild\u001b[0m \u001b[1;32min\u001b[0m \u001b[0mself\u001b[0m\u001b[1;33m.\u001b[0m\u001b[0m_data\u001b[0m\u001b[1;33m[\u001b[0m\u001b[0mCharacter\u001b[0m\u001b[1;33m.\u001b[0m\u001b[0mTALENTS\u001b[0m\u001b[1;33m]\u001b[0m\u001b[1;33m]\u001b[0m\u001b[1;33m\u001b[0m\u001b[0m\n\u001b[0m\u001b[0;32m    256\u001b[0m \u001b[1;33m\u001b[0m\u001b[0m\n\u001b[0;32m    257\u001b[0m         \u001b[1;32mreturn\u001b[0m \u001b[0mself\u001b[0m\u001b[1;33m.\u001b[0m\u001b[0m_talents\u001b[0m\u001b[1;33m\u001b[0m\u001b[0m\n",
      "\u001b[1;32m/usr/local/lib/python2.7/dist-packages/battlenet/things.pyc\u001b[0m in \u001b[0;36m__init__\u001b[1;34m(self, character, data)\u001b[0m\n\u001b[0;32m    487\u001b[0m         \u001b[0mself\u001b[0m\u001b[1;33m.\u001b[0m\u001b[0m_data\u001b[0m \u001b[1;33m=\u001b[0m \u001b[0mdata\u001b[0m\u001b[1;33m\u001b[0m\u001b[0m\n\u001b[0;32m    488\u001b[0m \u001b[1;33m\u001b[0m\u001b[0m\n\u001b[1;32m--> 489\u001b[1;33m         \u001b[0mself\u001b[0m\u001b[1;33m.\u001b[0m\u001b[0mbuild\u001b[0m \u001b[1;33m=\u001b[0m \u001b[0mdata\u001b[0m\u001b[1;33m[\u001b[0m\u001b[1;34m'build'\u001b[0m\u001b[1;33m]\u001b[0m\u001b[1;33m\u001b[0m\u001b[0m\n\u001b[0m\u001b[0;32m    490\u001b[0m         \u001b[0mself\u001b[0m\u001b[1;33m.\u001b[0m\u001b[0micon\u001b[0m \u001b[1;33m=\u001b[0m \u001b[0mdata\u001b[0m\u001b[1;33m.\u001b[0m\u001b[0mget\u001b[0m\u001b[1;33m(\u001b[0m\u001b[1;34m'icon'\u001b[0m\u001b[1;33m)\u001b[0m\u001b[1;33m\u001b[0m\u001b[0m\n\u001b[0;32m    491\u001b[0m         \u001b[0mself\u001b[0m\u001b[1;33m.\u001b[0m\u001b[0mname\u001b[0m \u001b[1;33m=\u001b[0m \u001b[0mdata\u001b[0m\u001b[1;33m[\u001b[0m\u001b[1;34m'name'\u001b[0m\u001b[1;33m]\u001b[0m\u001b[1;33m\u001b[0m\u001b[0m\n",
      "\u001b[1;31mKeyError\u001b[0m: 'build'"
     ]
    }
   ],
   "source": [
    "gdarz()"
   ]
  },
  {
   "cell_type": "code",
   "execution_count": null,
   "metadata": {
    "collapsed": false
   },
   "outputs": [],
   "source": [
    "import random"
   ]
  },
  {
   "cell_type": "code",
   "execution_count": 150,
   "metadata": {
    "collapsed": true
   },
   "outputs": [],
   "source": [
    "gfinz = galfchar.titles"
   ]
  },
  {
   "cell_type": "code",
   "execution_count": 151,
   "metadata": {
    "collapsed": false
   },
   "outputs": [],
   "source": [
    "diczid = list()"
   ]
  },
  {
   "cell_type": "code",
   "execution_count": 152,
   "metadata": {
    "collapsed": true
   },
   "outputs": [
    {
     "name": "stdout",
     "output_type": "stream",
     "text": [
      "Elder Galf\n",
      "Flame Keeper Galf\n",
      "Galf the Explorer\n",
      "Galf the Hallowed\n",
      "Galf, Champion of the Frozen Wastes\n",
      "Ambassador Galf\n",
      "Brewmaster Galf\n",
      "Merrymaker Galf\n",
      "Galf the Love Fool\n",
      "Matron Galf\n",
      "Galf Jenkins\n",
      "Bloodsail Admiral Galf\n",
      "Galf of Orgrimmar\n",
      "Galf of Sen'jin\n",
      "Galf of Silvermoon\n",
      "Galf of Thunder Bluff\n",
      "Galf of the Undercity\n",
      "Galf the Noble\n",
      "Crusader Galf\n",
      "Galf the Patient\n"
     ]
    }
   ],
   "source": [
    "for gfin in gfinz:\n",
    "    print gfin\n",
    "    diczid.append(gfin)"
   ]
  },
  {
   "cell_type": "code",
   "execution_count": 153,
   "metadata": {
    "collapsed": true
   },
   "outputs": [
    {
     "data": {
      "text/plain": [
       "20"
      ]
     },
     "execution_count": 153,
     "metadata": {},
     "output_type": "execute_result"
    }
   ],
   "source": [
    "len(diczid)"
   ]
  },
  {
   "cell_type": "code",
   "execution_count": 154,
   "metadata": {
    "collapsed": true
   },
   "outputs": [],
   "source": [
    "rantitle = random.choice(diczid)"
   ]
  },
  {
   "cell_type": "code",
   "execution_count": 155,
   "metadata": {
    "collapsed": true
   },
   "outputs": [
    {
     "name": "stdout",
     "output_type": "stream",
     "text": [
      "Crusader Galf\n"
     ]
    }
   ],
   "source": [
    "print rantitle"
   ]
  },
  {
   "cell_type": "code",
   "execution_count": 166,
   "metadata": {
    "collapsed": true
   },
   "outputs": [
    {
     "name": "stdout",
     "output_type": "stream",
     "text": [
      "space!\n"
     ]
    }
   ],
   "source": [
    "if (' ') in str(rantitle):\n",
    "    print ('space!')\n",
    "    str.replace(str(rantitle), ' ', '_')\n",
    "    "
   ]
  },
  {
   "cell_type": "code",
   "execution_count": 172,
   "metadata": {
    "collapsed": true
   },
   "outputs": [],
   "source": [
    "fixstrz = str.replace(str(rantitle), ' ', '_')"
   ]
  },
  {
   "cell_type": "code",
   "execution_count": 171,
   "metadata": {
    "collapsed": true
   },
   "outputs": [
    {
     "data": {
      "text/plain": [
       "'Crusader Galf'"
      ]
     },
     "execution_count": 171,
     "metadata": {},
     "output_type": "execute_result"
    }
   ],
   "source": [
    "str(rantitle)"
   ]
  },
  {
   "cell_type": "code",
   "execution_count": 173,
   "metadata": {
    "collapsed": true
   },
   "outputs": [
    {
     "data": {
      "text/plain": [
       "'Crusader_Galf'"
      ]
     },
     "execution_count": 173,
     "metadata": {},
     "output_type": "execute_result"
    }
   ],
   "source": [
    "fixstrz"
   ]
  },
  {
   "cell_type": "code",
   "execution_count": null,
   "metadata": {
    "collapsed": false
   },
   "outputs": [],
   "source": []
  },
  {
   "cell_type": "code",
   "execution_count": 156,
   "metadata": {
    "collapsed": true
   },
   "outputs": [
    {
     "data": {
      "text/plain": [
       "'Incarnadine Gauntlets'"
      ]
     },
     "execution_count": 156,
     "metadata": {},
     "output_type": "execute_result"
    }
   ],
   "source": [
    "gquiq.hands.name"
   ]
  },
  {
   "cell_type": "code",
   "execution_count": 157,
   "metadata": {
    "collapsed": true
   },
   "outputs": [
    {
     "data": {
      "text/plain": [
       "'{\"shoulder\": {\"stats\": [{\"stat\": 59, \"amount\": 83}, {\"stat\": 32, \"amount\": 55}, {\"stat\": 74, \"amount\": 109}, {\"stat\": 7, \"amount\": 163}], \"name\": \"Gutcrusher Shoulderplates\", \"tooltipParams\": {\"timewalkerLevel\": 100}, \"armor\": 226, \"itemLevel\": 615, \"bonusLists\": [522], \"context\": \"dungeon-normal\", \"quality\": 3, \"id\": 109946, \"icon\": \"inv_shoulder_plate_draenordungeon_c_01\"}, \"averageItemLevelEquipped\": 607, \"averageItemLevel\": 607, \"neck\": {\"stats\": [{\"stat\": 49, \"amount\": 64}, {\"stat\": 4, \"amount\": 103}, {\"stat\": 36, \"amount\": 72}, {\"stat\": 7, \"amount\": 155}], \"name\": \"Glowing Taladite Pendant of the Feverflare\", \"tooltipParams\": {\"enchant\": 5293, \"timewalkerLevel\": 100}, \"armor\": 0, \"itemLevel\": 640, \"bonusLists\": [121, 525, 540], \"context\": \"trade-skill\", \"quality\": 4, \"id\": 115799, \"icon\": \"inv_jewelcrafting_necklace1_red\"}, \"trinket1\": {\"stats\": [{\"stat\": 63, \"amount\": 62}, {\"stat\": 6, \"amount\": 138}], \"name\": \"Munificent Censer of Tranquility\", \"tooltipParams\": {\"timewalkerLevel\": 100}, \"armor\": 0, \"itemLevel\": 615, \"bonusLists\": [40], \"context\": \"dungeon-normal\", \"quality\": 3, \"id\": 114429, \"icon\": \"inv_misc_trinket6oih_lanternb3\"}, \"trinket2\": {\"stats\": [{\"stat\": 5, \"amount\": 117}], \"name\": \"Winged Hourglass\", \"tooltipParams\": {\"timewalkerLevel\": 100}, \"armor\": 0, \"itemLevel\": 640, \"bonusLists\": [525, 530], \"context\": \"trade-skill\", \"quality\": 4, \"id\": 112317, \"icon\": \"inv_inscription_trinket_healer\"}, \"finger2\": {\"stats\": [{\"stat\": 49, \"amount\": 26}, {\"stat\": 4, \"amount\": 36}, {\"stat\": 36, \"amount\": 22}, {\"stat\": 7, \"amount\": 54}], \"name\": \"Botani Tender\\'s Seal\", \"tooltipParams\": {\"timewalkerLevel\": 100}, \"armor\": 0, \"itemLevel\": 528, \"bonusLists\": [], \"context\": \"quest-reward\", \"quality\": 2, \"id\": 112859, \"icon\": \"inv_ringwod_d4_4\"}, \"finger1\": {\"stats\": [{\"stat\": 59, \"amount\": 44}, {\"stat\": 40, \"amount\": 44}, {\"stat\": 4, \"amount\": 66}, {\"stat\": 7, \"amount\": 99}], \"name\": \"Talon Guard Bloodsworn Ring\", \"tooltipParams\": {\"timewalkerLevel\": 100}, \"armor\": 0, \"itemLevel\": 592, \"bonusLists\": [], \"context\": \"quest-reward\", \"quality\": 3, \"id\": 118069, \"icon\": \"inv_ringwod_d3_1\"}, \"head\": {\"stats\": [{\"stat\": 4, \"amount\": 133}, {\"stat\": 32, \"amount\": 177}, {\"stat\": 7, \"amount\": 199}], \"name\": \"Polished Helm of Valor\", \"tooltipParams\": {\"timewalkerLevel\": 100}, \"armor\": 238, \"itemLevel\": 605, \"bonusLists\": [583], \"context\": \"\", \"quality\": 7, \"id\": 122245, \"icon\": \"inv_helmet_02\"}, \"mainHand\": {\"stats\": [{\"stat\": 49, \"amount\": 90}, {\"stat\": 32, \"amount\": 94}, {\"stat\": 4, \"amount\": 139}, {\"stat\": 7, \"amount\": 208}], \"name\": \"Greataxe of Trials\", \"tooltipParams\": {\"timewalkerLevel\": 100}, \"armor\": 0, \"itemLevel\": 610, \"weaponInfo\": {\"dps\": 249.44446, \"damage\": {\"max\": 1079, \"exactMin\": 718.0, \"exactMax\": 1078.0, \"min\": 718}, \"weaponSpeed\": 3.6}, \"bonusLists\": [], \"context\": \"quest-reward\", \"quality\": 3, \"id\": 119458, \"icon\": \"inv_axe_2h_draenordungeon_c_01\"}, \"back\": {\"stats\": [{\"stat\": 32, \"amount\": 50}, {\"stat\": 4, \"amount\": 75}, {\"stat\": 36, \"amount\": 50}, {\"stat\": 7, \"amount\": 112}], \"name\": \"Worn Stoneskin Gargoyle Cape\", \"tooltipParams\": {\"timewalkerLevel\": 100}, \"armor\": 37, \"itemLevel\": 605, \"bonusLists\": [583], \"context\": \"vendor\", \"quality\": 7, \"id\": 122260, \"icon\": \"inv_misc_cape_19\"}, \"feet\": {\"stats\": [{\"stat\": 59, \"amount\": 55}, {\"stat\": 74, \"amount\": 109}, {\"stat\": 36, \"amount\": 83}, {\"stat\": 7, \"amount\": 163}], \"name\": \"Greaves of Grievous Storms of the Deft\", \"tooltipParams\": {\"timewalkerLevel\": 100}, \"armor\": 207, \"itemLevel\": 615, \"bonusLists\": [149], \"context\": \"dungeon-normal\", \"quality\": 3, \"id\": 114382, \"icon\": \"inv_boot_plate_draenordungeon_c_01\"}, \"chest\": {\"stats\": [{\"stat\": 59, \"amount\": 101}, {\"stat\": 74, \"amount\": 145}, {\"stat\": 36, \"amount\": 90}, {\"stat\": 7, \"amount\": 218}], \"name\": \"Breastplate of Grievous Storms of the Deft\", \"tooltipParams\": {\"timewalkerLevel\": 100}, \"armor\": 301, \"itemLevel\": 615, \"bonusLists\": [136], \"context\": \"dungeon-normal\", \"quality\": 3, \"id\": 114377, \"icon\": \"inv_chest_plate_draenordungeon_c_01\"}, \"wrist\": {\"stats\": [{\"stat\": 59, \"amount\": 57}, {\"stat\": 32, \"amount\": 76}, {\"stat\": 74, \"amount\": 103}, {\"stat\": 7, \"amount\": 155}], \"name\": \"Truesteel Armguards of the Savage\", \"tooltipParams\": {\"timewalkerLevel\": 100}, \"armor\": 141, \"itemLevel\": 640, \"bonusLists\": [83, 525, 534], \"context\": \"trade-skill\", \"quality\": 4, \"id\": 114236, \"icon\": \"inv_plate_draenorcrafted_d_01bracer\"}, \"hands\": {\"stats\": [{\"stat\": 32, \"amount\": 48}, {\"stat\": 49, \"amount\": 72}, {\"stat\": 74, \"amount\": 95}, {\"stat\": 7, \"amount\": 142}], \"name\": \"Incarnadine Gauntlets\", \"tooltipParams\": {\"timewalkerLevel\": 100}, \"armor\": 181, \"itemLevel\": 600, \"bonusLists\": [521], \"context\": \"dungeon-level-up-4\", \"quality\": 3, \"id\": 109856, \"icon\": \"inv_glove_plate_draenordungeon_c_01\"}, \"tabard\": {\"stats\": [], \"name\": \"Argent Crusader\\'s Tabard\", \"tooltipParams\": {\"timewalkerLevel\": 100}, \"armor\": 0, \"itemLevel\": 1, \"bonusLists\": [], \"context\": \"\", \"quality\": 3, \"id\": 46874, \"icon\": \"inv_shirt_guildtabard_01\"}, \"legs\": {\"stats\": [{\"stat\": 4, \"amount\": 133}, {\"stat\": 32, \"amount\": 177}, {\"stat\": 7, \"amount\": 199}], \"name\": \"Polished Legplates of Valor\", \"tooltipParams\": {\"timewalkerLevel\": 100}, \"armor\": 256, \"itemLevel\": 605, \"bonusLists\": [583], \"context\": \"vendor\", \"quality\": 7, \"id\": 122251, \"icon\": \"inv_pants_04\"}, \"waist\": {\"stats\": [{\"stat\": 59, \"amount\": 51}, {\"stat\": 32, \"amount\": 55}, {\"stat\": 74, \"amount\": 80}, {\"stat\": 7, \"amount\": 120}], \"name\": \"Cragplate Girdle\", \"tooltipParams\": {\"timewalkerLevel\": 100}, \"armor\": 130, \"itemLevel\": 582, \"bonusLists\": [171], \"context\": \"quest-reward\", \"quality\": 3, \"id\": 114736, \"icon\": \"inv_belt_plate_draenorquest95_b_01\"}}'"
      ]
     },
     "execution_count": 157,
     "metadata": {},
     "output_type": "execute_result"
    }
   ],
   "source": [
    "gquiq.to_json()"
   ]
  },
  {
   "cell_type": "code",
   "execution_count": 160,
   "metadata": {
    "collapsed": true
   },
   "outputs": [
    {
     "name": "stdout",
     "output_type": "stream",
     "text": [
      "<!DOCTYPE html>\n",
      "<html>\n",
      "  <head>\n",
      "    <title>garrisonwowtrack</title>\n",
      "    <link href=\"style.css\" rel=\"stylesheet\"><script src=\"script.js\" type=\"text/javascript\"></script>\n",
      "    <div class=\"header\">\n",
      "      <h1>Crusader Galf</h1>\n",
      "      <p>\n",
      "        <img src=\"/imgs/getsdrawn-bw.png\">\n",
      "      </p>\n",
      "      <p>bonusArmor</p>\n",
      "      <p>109</p>\n",
      "      <p>critRating</p>\n",
      "      <p>855</p>\n",
      "      <p>powerType</p>\n",
      "      <p>runic-power</p>\n",
      "      <p>multistrikeRating</p>\n",
      "      <p>14.121212</p>\n",
      "      <p>mainHandDps</p>\n",
      "      <p>2041.5823</p>\n",
      "      <p>int</p>\n",
      "      <p>572</p>\n",
      "      <p>leechRatingBonus</p>\n",
      "      <p>0.0</p>\n",
      "      <p>spr</p>\n",
      "      <p>640</p>\n",
      "      <p>spellCritRating</p>\n",
      "      <p>855</p>\n",
      "      <p>avoidanceRating</p>\n",
      "      <p>0.0</p>\n",
      "      <p>spellPower</p>\n",
      "      <p>572</p>\n",
      "      <p>rangedDps</p>\n",
      "      <p>-1.0</p>\n",
      "      <p>leechRating</p>\n",
      "      <p>0.0</p>\n",
      "      <p>crit</p>\n",
      "      <p>12.772727</p>\n",
      "      <p>mastery</p>\n",
      "      <p>26.436363</p>\n",
      "      <p>multistrike</p>\n",
      "      <p>14.121212</p>\n",
      "      <p>versatilityDamageDoneBonus</p>\n",
      "      <p>2.184615</p>\n",
      "      <p>armor</p>\n",
      "      <p>2297</p>\n",
      "      <p>avoidanceRatingBonus</p>\n",
      "      <p>0.0</p>\n",
      "      <p>spellCrit</p>\n",
      "      <p>12.772727</p>\n",
      "      <p>mana5Combat</p>\n",
      "      <p>0.0</p>\n",
      "      <p>mana5</p>\n",
      "      <p>0.0</p>\n",
      "      <p>health</p>\n",
      "      <p>238740</p>\n",
      "      <p>rangedDmgMax</p>\n",
      "      <p>-1.0</p>\n",
      "      <p>rangedDmgMin</p>\n",
      "      <p>-1.0</p>\n",
      "      <p>hasteRatingPercent</p>\n",
      "      <p>7.777778</p>\n",
      "      <p>leech</p>\n",
      "      <p>0.0</p>\n",
      "      <p>versatilityDamageTakenBonus</p>\n",
      "      <p>1.092308</p>\n",
      "      <p>dodge</p>\n",
      "      <p>5.0</p>\n",
      "      <p>power</p>\n",
      "      <p>105</p>\n",
      "      <p>spellPen</p>\n",
      "      <p>0</p>\n",
      "      <p>mainHandSpeed</p>\n",
      "      <p>3.006</p>\n",
      "      <p>attackPower</p>\n",
      "      <p>3480</p>\n",
      "      <p>speedRating</p>\n",
      "      <p>0.0</p>\n",
      "      <p>multistrikeRatingBonus</p>\n",
      "      <p>4.121212</p>\n",
      "      <p>hasteRating</p>\n",
      "      <p>700</p>\n",
      "      <p>masteryRating</p>\n",
      "      <p>574</p>\n",
      "      <p>blockRating</p>\n",
      "      <p>0</p>\n",
      "      <p>parry</p>\n",
      "      <p>16.6417</p>\n",
      "      <p>versatility</p>\n",
      "      <p>284</p>\n",
      "      <p>parryRating</p>\n",
      "      <p>855</p>\n",
      "      <p>dodgeRating</p>\n",
      "      <p>0</p>\n",
      "      <p>sta</p>\n",
      "      <p>3979</p>\n",
      "      <p>mainHandDmgMin</p>\n",
      "      <p>5654.0</p>\n",
      "      <p>speedRatingBonus</p>\n",
      "      <p>0.0</p>\n",
      "      <p>mainHandDmgMax</p>\n",
      "      <p>6620.0</p>\n",
      "      <p>agi</p>\n",
      "      <p>1073</p>\n",
      "      <p>offHandDps</p>\n",
      "      <p>699.99756</p>\n",
      "      <p>rangedSpeed</p>\n",
      "      <p>-1.0</p>\n",
      "      <p>versatilityHealingDoneBonus</p>\n",
      "      <p>2.184615</p>\n",
      "      <p>offHandDmgMax</p>\n",
      "      <p>1169.0</p>\n",
      "      <p>haste</p>\n",
      "      <p>19.74112</p>\n",
      "      <p>rangedAttackPower</p>\n",
      "      <p>0</p>\n",
      "      <p>str</p>\n",
      "      <p>2965</p>\n",
      "      <p>offHandDmgMin</p>\n",
      "      <p>1168.0</p>\n",
      "      <p>block</p>\n",
      "      <p>0.0</p>\n",
      "      <p>offHandSpeed</p>\n",
      "      <p>1.67</p>\n",
      "    </div>\n",
      "  </head>\n",
      "  <body></body>\n",
      "</html>\n"
     ]
    }
   ],
   "source": [
    "doc = dominate.document(title='garrisonwowtrack')\n",
    "\n",
    "with doc.head:\n",
    "    link(rel='stylesheet', href='style.css')\n",
    "    script(type ='text/javascript', src='script.js')\n",
    "    #str(str2)\n",
    "    \n",
    "    with div():\n",
    "        attr(cls='header')\n",
    "        h1(str(rantitle))\n",
    "        p(img('/imgs/getsdrawn-bw.png', src='/imgs/getsdrawn-bw.png'))\n",
    "        #p(img('imgs/15/01/02/ReptileLover82-reference.png', src= 'imgs/15/01/02/ReptileLover82-reference.png'))\n",
    "        #h1('Updated ', str(artes.datetime))\n",
    "        #p(panz)\n",
    "        #p(bodycom)\n",
    "        \n",
    "        for bok in bokza:\n",
    "            p(bok)\n",
    "            p(bokjst[bok])\n",
    "    \n",
    "    \n",
    "'''\n",
    "with doc:\n",
    "    with div(id='body').add(ol()):\n",
    "        for flc in fulcom:\n",
    "            if 'http://i.imgur.com' in flc.url:\n",
    "                p(h1(flc.title))\n",
    "                p(img(imlocdir, src= imlocdir))\n",
    "                #p(img(flc.url, src = flc.url))\n",
    "                p(str(flc.author))\n",
    "                #res = requests.get(flc.url, stream=True)\n",
    "                #with open(str(flc.author) + '-' + str(artes.date()) + '-reference.png', 'wb') as outfil:\n",
    "                #    shutil.copyfileobj(res.raw, outfil)\n",
    "                #    del res\n",
    "                \n",
    "                \n",
    "            \n",
    "        for flcz in flc.comments:\n",
    "                p(flcz.body)\n",
    "        \n",
    "        \n",
    "        #for rdz in reliz:\n",
    "            #h1(rdz.title)\n",
    "            #a(rdz.url)\n",
    "            #p(img(rdz, src='%s' % rdz))\n",
    "            #print rdz\n",
    "            #p(img(rdz, src = rdz))\n",
    "            #p(rdz)\n",
    "\n",
    "\n",
    "                \n",
    "            #print rdz.url\n",
    "            #if '.jpg' in rdz.url:\n",
    "            #    img(rdz.urlz)\n",
    "            #else:\n",
    "            #    a(rdz.urlz)\n",
    "            #h1(str(rdz.author))\n",
    "            \n",
    "            #li(img(i.lower(), src='%s' % i))\n",
    "\n",
    "    with div():\n",
    "        attr(cls='body')\n",
    "        p('GotDrawn is open source')\n",
    "        a('https://github.com/getsdrawn/getsdrawndotcom')\n",
    "        a('https://reddit.com/r/redditgetsdrawn')\n",
    "'''\n",
    "print doc"
   ]
  },
  {
   "cell_type": "code",
   "execution_count": 4,
   "metadata": {
    "collapsed": true
   },
   "outputs": [],
   "source": [
    "reqallre = requests.get('http://us.battle.net/api/wow/realm/status')"
   ]
  },
  {
   "cell_type": "code",
   "execution_count": 7,
   "metadata": {
    "collapsed": true
   },
   "outputs": [],
   "source": [
    "reqtxt = reqallre.text"
   ]
  },
  {
   "cell_type": "code",
   "execution_count": 10,
   "metadata": {
    "collapsed": true
   },
   "outputs": [],
   "source": [
    "jsre = json.loads(reqtxt)"
   ]
  },
  {
   "cell_type": "code",
   "execution_count": 15,
   "metadata": {
    "collapsed": false
   },
   "outputs": [],
   "source": [
    "lerez = len(jsre['realms'])"
   ]
  },
  {
   "cell_type": "code",
   "execution_count": 16,
   "metadata": {
    "collapsed": true
   },
   "outputs": [
    {
     "data": {
      "text/plain": [
       "246"
      ]
     },
     "execution_count": 16,
     "metadata": {},
     "output_type": "execute_result"
    }
   ],
   "source": [
    "lerez"
   ]
  },
  {
   "cell_type": "code",
   "execution_count": 33,
   "metadata": {
    "collapsed": false
   },
   "outputs": [
    {
     "name": "stdout",
     "output_type": "stream",
     "text": [
      "Aegwynn\n",
      "Aerie Peak\n",
      "Agamaggan\n",
      "Aggramar\n",
      "Akama\n",
      "Alexstrasza\n",
      "Alleria\n",
      "Altar of Storms\n",
      "Alterac Mountains\n",
      "Aman'Thul\n",
      "Andorhal\n",
      "Anetheron\n",
      "Antonidas\n",
      "Anub'arak\n",
      "Anvilmar\n",
      "Arathor\n",
      "Archimonde\n",
      "Area 52\n",
      "Argent Dawn\n",
      "Arthas\n",
      "Arygos\n",
      "Auchindoun\n",
      "Azgalor\n",
      "Azjol-Nerub\n",
      "Azralon\n",
      "Azshara\n",
      "Azuremyst\n",
      "Baelgun\n",
      "Balnazzar\n",
      "Barthilas\n",
      "Black Dragonflight\n",
      "Blackhand\n",
      "Blackrock\n",
      "Blackwater Raiders\n",
      "Blackwing Lair\n",
      "Blade's Edge\n",
      "Bladefist\n",
      "Bleeding Hollow\n",
      "Blood Furnace\n",
      "Bloodhoof\n",
      "Bloodscalp\n",
      "Bonechewer\n",
      "Borean Tundra\n",
      "Boulderfist\n",
      "Bronzebeard\n",
      "Burning Blade\n",
      "Burning Legion\n",
      "Caelestrasz\n",
      "Cairne\n",
      "Cenarion Circle\n",
      "Cenarius\n",
      "Cho'gall\n",
      "Chromaggus\n",
      "Coilfang\n",
      "Crushridge\n",
      "Daggerspine\n",
      "Dalaran\n",
      "Dalvengyr\n",
      "Dark Iron\n",
      "Darkspear\n",
      "Darrowmere\n",
      "Dath'Remar\n",
      "Dawnbringer\n",
      "Deathwing\n",
      "Demon Soul\n",
      "Dentarg\n",
      "Destromath\n",
      "Dethecus\n",
      "Detheroc\n",
      "Doomhammer\n",
      "Draenor\n",
      "Dragonblight\n",
      "Dragonmaw\n",
      "Drak'Tharon\n",
      "Drak'thul\n",
      "Draka\n",
      "Drakkari\n",
      "Dreadmaul\n",
      "Drenden\n",
      "Dunemaul\n",
      "Durotan\n",
      "Duskwood\n",
      "Earthen Ring\n",
      "Echo Isles\n",
      "Eitrigg\n",
      "Eldre'Thalas\n",
      "Elune\n",
      "Emerald Dream\n",
      "Eonar\n",
      "Eredar\n",
      "Executus\n",
      "Exodar\n",
      "Farstriders\n",
      "Feathermoon\n",
      "Fenris\n",
      "Firetree\n",
      "Fizzcrank\n",
      "Frostmane\n",
      "Frostmourne\n",
      "Frostwolf\n",
      "Galakrond\n",
      "Gallywix\n",
      "Garithos\n",
      "Garona\n",
      "Garrosh\n",
      "Ghostlands\n",
      "Gilneas\n",
      "Gnomeregan\n",
      "Goldrinn\n",
      "Gorefiend\n",
      "Gorgonnash\n",
      "Greymane\n",
      "Grizzly Hills\n",
      "Gul'dan\n",
      "Gundrak\n",
      "Gurubashi\n",
      "Hakkar\n",
      "Haomarush\n",
      "Hellscream\n",
      "Hydraxis\n",
      "Hyjal\n",
      "Icecrown\n",
      "Illidan\n",
      "Jaedenar\n",
      "Jubei'Thos\n",
      "Kael'thas\n",
      "Kalecgos\n",
      "Kargath\n",
      "Kel'Thuzad\n",
      "Khadgar\n",
      "Khaz Modan\n",
      "Khaz'goroth\n",
      "Kil'jaeden\n",
      "Kilrogg\n",
      "Kirin Tor\n",
      "Korgath\n",
      "Korialstrasz\n",
      "Kul Tiras\n",
      "Laughing Skull\n",
      "Lethon\n",
      "Lightbringer\n",
      "Lightning's Blade\n",
      "Lightninghoof\n",
      "Llane\n",
      "Lothar\n",
      "Madoran\n",
      "Maelstrom\n",
      "Magtheridon\n",
      "Maiev\n",
      "Mal'Ganis\n",
      "Malfurion\n",
      "Malorne\n",
      "Malygos\n",
      "Mannoroth\n",
      "Medivh\n",
      "Misha\n",
      "Mok'Nathal\n",
      "Moon Guard\n",
      "Moonrunner\n",
      "Mug'thol\n",
      "Muradin\n",
      "Nagrand\n",
      "Nathrezim\n",
      "Nazgrel\n",
      "Nazjatar\n",
      "Nemesis\n",
      "Ner'zhul\n",
      "Nesingwary\n",
      "Nordrassil\n",
      "Norgannon\n",
      "Onyxia\n",
      "Perenolde\n",
      "Proudmoore\n",
      "Quel'Thalas\n",
      "Quel'dorei\n",
      "Ragnaros\n",
      "Ravencrest\n",
      "Ravenholdt\n",
      "Rexxar\n",
      "Rivendare\n",
      "Runetotem\n",
      "Sargeras\n",
      "Saurfang\n",
      "Scarlet Crusade\n",
      "Scilla\n",
      "Sen'jin\n",
      "Sentinels\n",
      "Shadow Council\n",
      "Shadowmoon\n",
      "Shadowsong\n",
      "Shandris\n",
      "Shattered Halls\n",
      "Shattered Hand\n",
      "Shu'halo\n",
      "Silver Hand\n",
      "Silvermoon\n",
      "Sisters of Elune\n",
      "Skullcrusher\n",
      "Skywall\n",
      "Smolderthorn\n",
      "Spinebreaker\n",
      "Spirestone\n",
      "Staghelm\n",
      "Steamwheedle Cartel\n",
      "Stonemaul\n",
      "Stormrage\n",
      "Stormreaver\n",
      "Stormscale\n",
      "Suramar\n",
      "Tanaris\n",
      "Terenas\n",
      "Terokkar\n",
      "Thaurissan\n",
      "The Forgotten Coast\n",
      "The Scryers\n",
      "The Underbog\n",
      "The Venture Co\n",
      "Thorium Brotherhood\n",
      "Thrall\n",
      "Thunderhorn\n",
      "Thunderlord\n",
      "Tichondrius\n",
      "Tol Barad\n",
      "Tortheldrin\n",
      "Trollbane\n",
      "Turalyon\n",
      "Twisting Nether\n",
      "Uldaman\n",
      "Uldum\n",
      "Undermine\n",
      "Ursin\n",
      "Uther\n",
      "Vashj\n",
      "Vek'nilash\n",
      "Velen\n",
      "Warsong\n",
      "Whisperwind\n",
      "Wildhammer\n",
      "Windrunner\n",
      "Winterhoof\n",
      "Wyrmrest Accord\n",
      "Ysera\n",
      "Ysondre\n",
      "Zangarmarsh\n",
      "Zul'jin\n",
      "Zuluhed\n"
     ]
    }
   ],
   "source": [
    "for jsrez in jsre['realms']:\n",
    "    print jsrez['name']\n",
    "    #realm = Realm(battlenet.UNITED_STATES, jsrez['name'])\n",
    "    \n",
    "    #portchar = Character(battlenet.UNITED_STATES, jsrez['name'], \"portishead\")\n",
    "\n",
    "    "
   ]
  },
  {
   "cell_type": "code",
   "execution_count": null,
   "metadata": {
    "collapsed": true
   },
   "outputs": [],
   "source": [
    "realm = Realm(battlenet.UNITED_STATES, jsrez['name')"
   ]
  },
  {
   "cell_type": "code",
   "execution_count": 19,
   "metadata": {
    "collapsed": false
   },
   "outputs": [],
   "source": [
    "#Return all realms."
   ]
  },
  {
   "cell_type": "code",
   "execution_count": null,
   "metadata": {
    "collapsed": false
   },
   "outputs": [],
   "source": []
  },
  {
   "cell_type": "code",
   "execution_count": null,
   "metadata": {
    "collapsed": false
   },
   "outputs": [],
   "source": []
  }
 ],
 "metadata": {
  "kernelspec": {
   "display_name": "Python 2",
   "name": "python2"
  },
  "language_info": {
   "codemirror_mode": {
    "name": "ipython",
    "version": 2
   },
   "file_extension": ".py",
   "mimetype": "text/x-python",
   "name": "python",
   "nbconvert_exporter": "python",
   "pygments_lexer": "ipython2",
   "version": "2.7.9"
  }
 },
 "nbformat": 4,
 "nbformat_minor": 0
}
