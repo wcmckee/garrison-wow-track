{
 "cells": [
  {
   "cell_type": "markdown",
   "metadata": {},
   "source": [
    "Dear Mickey,\n",
    "\n",
    "I haven't drawn you behind bars in awhile.\n",
    "\n",
    "Mickey behind bar, smoking a cig. Dunhills.\n",
    "\n",
    "How is it being a non-smoker?\n",
    "Do you think you will start smoking after you are released?\n",
    "Luke, Thomas and Chloe all smoke cigs. \n",
    "I never have and have no intension to start.\n",
    "My frieend Peter smokes cigs. He attempted to give up in 2014 - with the help of patches.\n",
    "I guess you would have been given patches as a way to come off the cigs. \n",
    "I think cold turkey is mean.\n",
    "\n",
    "Cheers,\n",
    "William"
   ]
  },
  {
   "cell_type": "markdown",
   "metadata": {},
   "source": [
    "Dear Mickey,\n",
    "\n",
    "I have setup my Raspberry Pi 2b computer with my tablet. It has been over a month since I've done any digital painting and it's always good for me to get back into it. I might draw some portraids from getsdrawn with digital painting. I like to paint in a very traditinal way - I layer - start with a red line later. This layer is important - show major shapes. The next layer is grayscale tonal. This establishs what is light and dark in the image. The final layer is colour tonal. This layer helps seprate objects that may have been blured together in the grayscale layer I have certain colours I like primary - Dark Red, Naples Yellow, Colbolt.\n",
    "Into the mix I add Lime Green. \n",
    "\n",
    "Cheers, William"
   ]
  },
  {
   "cell_type": "code",
   "execution_count": null,
   "metadata": {
    "collapsed": true
   },
   "outputs": [],
   "source": []
  }
 ],
 "metadata": {
  "kernelspec": {
   "display_name": "Python 2",
   "name": "python2"
  },
  "language_info": {
   "codemirror_mode": {
    "name": "ipython",
    "version": 2
   },
   "file_extension": ".py",
   "mimetype": "text/x-python",
   "name": "python",
   "nbconvert_exporter": "python",
   "pygments_lexer": "ipython2",
   "version": "2.7.9"
  }
 },
 "nbformat": 4,
 "nbformat_minor": 0
}
